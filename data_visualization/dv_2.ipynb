{
 "cells": [
  {
   "cell_type": "markdown",
   "metadata": {},
   "source": [
    "### lecture 2"
   ]
  },
  {
   "cell_type": "code",
   "execution_count": 7,
   "metadata": {},
   "outputs": [],
   "source": [
    "import chart_studio.plotly as py\n",
    "import pandas as pd\n",
    "import numpy as np\n",
    "from plotly import __version__\n",
    "import cufflinks as cf\n",
    "from plotly.offline import download_plotlyjs,init_notebook_mode,plot,iplot"
   ]
  },
  {
   "cell_type": "code",
   "execution_count": 6,
   "metadata": {},
   "outputs": [
    {
     "name": "stdout",
     "output_type": "stream",
     "text": [
      "5.22.0\n"
     ]
    }
   ],
   "source": [
    "print(__version__)"
   ]
  },
  {
   "cell_type": "code",
   "execution_count": 9,
   "metadata": {},
   "outputs": [
    {
     "data": {
      "text/html": [
       "        <script type=\"text/javascript\">\n",
       "        window.PlotlyConfig = {MathJaxConfig: 'local'};\n",
       "        if (window.MathJax && window.MathJax.Hub && window.MathJax.Hub.Config) {window.MathJax.Hub.Config({SVG: {font: \"STIX-Web\"}});}\n",
       "        if (typeof require !== 'undefined') {\n",
       "        require.undef(\"plotly\");\n",
       "        requirejs.config({\n",
       "            paths: {\n",
       "                'plotly': ['https://cdn.plot.ly/plotly-2.32.0.min']\n",
       "            }\n",
       "        });\n",
       "        require(['plotly'], function(Plotly) {\n",
       "            window._Plotly = Plotly;\n",
       "        });\n",
       "        }\n",
       "        </script>\n",
       "        "
      ]
     },
     "metadata": {},
     "output_type": "display_data"
    }
   ],
   "source": [
    "init_notebook_mode(connected=True)"
   ]
  },
  {
   "cell_type": "code",
   "execution_count": 11,
   "metadata": {},
   "outputs": [
    {
     "data": {
      "text/html": [
       "        <script type=\"text/javascript\">\n",
       "        window.PlotlyConfig = {MathJaxConfig: 'local'};\n",
       "        if (window.MathJax && window.MathJax.Hub && window.MathJax.Hub.Config) {window.MathJax.Hub.Config({SVG: {font: \"STIX-Web\"}});}\n",
       "        if (typeof require !== 'undefined') {\n",
       "        require.undef(\"plotly\");\n",
       "        requirejs.config({\n",
       "            paths: {\n",
       "                'plotly': ['https://cdn.plot.ly/plotly-2.32.0.min']\n",
       "            }\n",
       "        });\n",
       "        require(['plotly'], function(Plotly) {\n",
       "            window._Plotly = Plotly;\n",
       "        });\n",
       "        }\n",
       "        </script>\n",
       "        "
      ]
     },
     "metadata": {},
     "output_type": "display_data"
    }
   ],
   "source": [
    "cf.go_offline()"
   ]
  },
  {
   "cell_type": "code",
   "execution_count": 18,
   "metadata": {},
   "outputs": [],
   "source": [
    "df = pd.DataFrame(np.random.randn(100,4),columns='A B C D'.split())"
   ]
  },
  {
   "cell_type": "code",
   "execution_count": 20,
   "metadata": {},
   "outputs": [
    {
     "data": {
      "text/html": [
       "<div>\n",
       "<style scoped>\n",
       "    .dataframe tbody tr th:only-of-type {\n",
       "        vertical-align: middle;\n",
       "    }\n",
       "\n",
       "    .dataframe tbody tr th {\n",
       "        vertical-align: top;\n",
       "    }\n",
       "\n",
       "    .dataframe thead th {\n",
       "        text-align: right;\n",
       "    }\n",
       "</style>\n",
       "<table border=\"1\" class=\"dataframe\">\n",
       "  <thead>\n",
       "    <tr style=\"text-align: right;\">\n",
       "      <th></th>\n",
       "      <th>A</th>\n",
       "      <th>B</th>\n",
       "      <th>C</th>\n",
       "      <th>D</th>\n",
       "    </tr>\n",
       "  </thead>\n",
       "  <tbody>\n",
       "    <tr>\n",
       "      <th>0</th>\n",
       "      <td>-0.589325</td>\n",
       "      <td>1.812493</td>\n",
       "      <td>-0.588720</td>\n",
       "      <td>0.313241</td>\n",
       "    </tr>\n",
       "    <tr>\n",
       "      <th>1</th>\n",
       "      <td>0.063578</td>\n",
       "      <td>1.086664</td>\n",
       "      <td>0.701993</td>\n",
       "      <td>0.516417</td>\n",
       "    </tr>\n",
       "    <tr>\n",
       "      <th>2</th>\n",
       "      <td>0.333516</td>\n",
       "      <td>-1.895324</td>\n",
       "      <td>-0.121528</td>\n",
       "      <td>-1.744737</td>\n",
       "    </tr>\n",
       "    <tr>\n",
       "      <th>3</th>\n",
       "      <td>0.324366</td>\n",
       "      <td>-0.392843</td>\n",
       "      <td>-1.270844</td>\n",
       "      <td>-0.528880</td>\n",
       "    </tr>\n",
       "    <tr>\n",
       "      <th>4</th>\n",
       "      <td>0.678708</td>\n",
       "      <td>-0.156717</td>\n",
       "      <td>1.005386</td>\n",
       "      <td>1.033665</td>\n",
       "    </tr>\n",
       "  </tbody>\n",
       "</table>\n",
       "</div>"
      ],
      "text/plain": [
       "          A         B         C         D\n",
       "0 -0.589325  1.812493 -0.588720  0.313241\n",
       "1  0.063578  1.086664  0.701993  0.516417\n",
       "2  0.333516 -1.895324 -0.121528 -1.744737\n",
       "3  0.324366 -0.392843 -1.270844 -0.528880\n",
       "4  0.678708 -0.156717  1.005386  1.033665"
      ]
     },
     "execution_count": 20,
     "metadata": {},
     "output_type": "execute_result"
    }
   ],
   "source": [
    "df.head()"
   ]
  },
  {
   "cell_type": "code",
   "execution_count": 15,
   "metadata": {},
   "outputs": [],
   "source": [
    "df2 = pd.DataFrame({'Category':['A','B','C'], 'Values':[32,43,50]})"
   ]
  },
  {
   "cell_type": "code",
   "execution_count": 21,
   "metadata": {},
   "outputs": [
    {
     "data": {
      "text/html": [
       "<div>\n",
       "<style scoped>\n",
       "    .dataframe tbody tr th:only-of-type {\n",
       "        vertical-align: middle;\n",
       "    }\n",
       "\n",
       "    .dataframe tbody tr th {\n",
       "        vertical-align: top;\n",
       "    }\n",
       "\n",
       "    .dataframe thead th {\n",
       "        text-align: right;\n",
       "    }\n",
       "</style>\n",
       "<table border=\"1\" class=\"dataframe\">\n",
       "  <thead>\n",
       "    <tr style=\"text-align: right;\">\n",
       "      <th></th>\n",
       "      <th>Category</th>\n",
       "      <th>Values</th>\n",
       "    </tr>\n",
       "  </thead>\n",
       "  <tbody>\n",
       "    <tr>\n",
       "      <th>0</th>\n",
       "      <td>A</td>\n",
       "      <td>32</td>\n",
       "    </tr>\n",
       "    <tr>\n",
       "      <th>1</th>\n",
       "      <td>B</td>\n",
       "      <td>43</td>\n",
       "    </tr>\n",
       "    <tr>\n",
       "      <th>2</th>\n",
       "      <td>C</td>\n",
       "      <td>50</td>\n",
       "    </tr>\n",
       "  </tbody>\n",
       "</table>\n",
       "</div>"
      ],
      "text/plain": [
       "  Category  Values\n",
       "0        A      32\n",
       "1        B      43\n",
       "2        C      50"
      ]
     },
     "execution_count": 21,
     "metadata": {},
     "output_type": "execute_result"
    }
   ],
   "source": [
    "df2"
   ]
  },
  {
   "cell_type": "code",
   "execution_count": 23,
   "metadata": {},
   "outputs": [
    {
     "data": {
      "text/plain": [
       "<Axes: >"
      ]
     },
     "execution_count": 23,
     "metadata": {},
     "output_type": "execute_result"
    },
    {
     "data": {
      "image/png": "[encoded data removed]",
      "text/plain": [
       "<Figure size 640x480 with 1 Axes>"
      ]
     },
     "metadata": {},
     "output_type": "display_data"
    }
   ],
   "source": [
    "df.plot()"
   ]
  },
  {
   "cell_type": "markdown",
   "metadata": {},
   "source": [
    "iteractive plot using 'iplot()'"
   ]
  },
  {
   "cell_type": "code",
   "execution_count": 25,
   "metadata": {},
   "outputs": [
    {
     "data": {
      "application/vnd.plotly.v1+json": {
       "config": {
        "linkText": "Export to plot.ly",
        "plotlyServerURL": "https://plot.ly",
        "showLink": true
       },
       "data": [
        {
         "line": {
          "color": "rgba(255, 153, 51, 1.0)",
          "dash": "solid",
          "shape": "linear",
          "width": 1.3
         },
         "mode": "lines",
         "name": "A",
         "text": "",
         "type": "scatter",
         "x": [
          0,
          1,
          2,
          3,
          4,
          5,
          6,
          7,
          8,
          9,
          10,
          11,
          12,
          13,
          14,
          15,
          16,
          17,
          18,
          19,
          20,
          21,
          22,
          23,
          24,
          25,
          26,
          27,
          28,
          29,
          30,
          31,
          32,
          33,
          34,
          35,
          36,
          37,
          38,
          39,
          40,
          41,
          42,
          43,
          44,
          45,
          46,
          47,
          48,
          49,
          50,
          51,
          52,
          53,
          54,
          55,
          56,
          57,
          58,
          59,
          60,
          61,
          62,
          63,
          64,
          65,
          66,
          67,
          68,
          69,
          70,
          71,
          72,
          73,
          74,
          75,
          76,
          77,
          78,
          79,
          80,
          81,
          82,
          83,
          84,
          85,
          86,
          87,
          88,
          89,
          90,
          91,
          92,
          93,
          94,
          95,
          96,
          97,
          98,
          99
         ],
         "y": [
          -0.5893247467893137,
          0.06357799381554469,
          0.3335160921609745,
          0.3243661733043439,
          0.6787084891857187,
          -0.8798125623521266,
          -0.061710317783818004,
          -0.6900260083396907,
          -1.0522257446491912,
          0.2590016072445179,
          1.122478052572237,
          -0.30449682024732316,
          2.267454273919806,
          1.123114298512772,
          -0.6257724174399768,
          1.701367743435107,
          -0.26754379725565747,
          0.3003012512826872,
          -0.3777573284785868,
          -0.49072235963782135,
          0.47438039624374584,
          -0.9607355212592849,
          -0.01448730604106568,
          0.7818381394772317,
          0.47532496228524435,
          -0.8274720991535782,
          -0.9284276067853057,
          -1.488251013296298,
          0.23396954153909585,
          1.869180554136494,
          -0.27883637077933304,
          -0.49624437594324633,
          0.879061425460165,
          0.019113394365269577,
          1.1757641619276693,
          0.5894504709946624,
          1.4571618706876532,
          0.2106774240345165,
          -1.2182225650030216,
          -0.26967153456414256,
          0.8386234979200884,
          -1.1357835340401106,
          0.8926944889147607,
          -0.30968190234772086,
          1.0517072919721753,
          -1.2292761269220487,
          0.1429175250658092,
          -0.20868482281688108,
          0.5809020967712989,
          -1.1356002159648928,
          0.5996902800483412,
          1.7939424342799457,
          0.5131548974217541,
          1.172634706569258,
          -0.5766421668040401,
          0.46792076906214874,
          0.9969095439213087,
          0.21079364926988753,
          -1.306177547922756,
          -0.9305224274786199,
          0.4682250885871653,
          0.9693097901681132,
          -2.422557021111485,
          0.7858934649760749,
          -0.42506148315700365,
          -1.1776687308011278,
          2.2897119366258867,
          -0.7217004741651094,
          -0.9737110269480089,
          0.4190362375628981,
          -0.7391331202884779,
          -0.5555335418005726,
          -0.6785442909794438,
          -0.5230462779813413,
          -0.19618762434273726,
          -1.020057265171055,
          1.381583295856783,
          -1.3195078598361525,
          0.11768444018206939,
          0.07088724711071444,
          -0.41152734532531077,
          -0.2144863229665085,
          0.3000765406875,
          0.6506309442988503,
          0.8406330967821201,
          0.6551793622147913,
          -1.0321856810764007,
          0.5340585373125538,
          -0.062237136294529594,
          0.2250207871795296,
          0.8894595124404172,
          1.3538895386143526,
          0.2817394146169772,
          1.2786671214167356,
          -0.33824826463402663,
          1.1999423130980735,
          0.04203995852535922,
          1.149306256216227,
          1.641525664697918,
          -0.6463223417336121
         ]
        },
        {
         "line": {
          "color": "rgba(55, 128, 191, 1.0)",
          "dash": "solid",
          "shape": "linear",
          "width": 1.3
         },
         "mode": "lines",
         "name": "B",
         "text": "",
         "type": "scatter",
         "x": [
          0,
          1,
          2,
          3,
          4,
          5,
          6,
          7,
          8,
          9,
          10,
          11,
          12,
          13,
          14,
          15,
          16,
          17,
          18,
          19,
          20,
          21,
          22,
          23,
          24,
          25,
          26,
          27,
          28,
          29,
          30,
          31,
          32,
          33,
          34,
          35,
          36,
          37,
          38,
          39,
          40,
          41,
          42,
          43,
          44,
          45,
          46,
          47,
          48,
          49,
          50,
          51,
          52,
          53,
          54,
          55,
          56,
          57,
          58,
          59,
          60,
          61,
          62,
          63,
          64,
          65,
          66,
          67,
          68,
          69,
          70,
          71,
          72,
          73,
          74,
          75,
          76,
          77,
          78,
          79,
          80,
          81,
          82,
          83,
          84,
          85,
          86,
          87,
          88,
          89,
          90,
          91,
          92,
          93,
          94,
          95,
          96,
          97,
          98,
          99
         ],
         "y": [
          1.8124925870160997,
          1.086663682175712,
          -1.8953243258357049,
          -0.392843436166962,
          -0.1567169632575485,
          0.9645413080533394,
          0.17939239711442306,
          -0.5596859964104648,
          0.08895987969414001,
          1.2410834269061197,
          -0.16635960086585302,
          -0.2693807178383773,
          0.8616972888977513,
          -0.32162793172586895,
          -0.7263427607658054,
          0.19433049801394328,
          0.9230331246428911,
          1.6738866616294028,
          2.844028514290566,
          0.08124111784770374,
          1.559763934272282,
          -0.028424724115640336,
          -1.5978583981740588,
          1.3928576720947006,
          2.0229086490252826,
          -1.7694810175837032,
          0.048379614153000024,
          -1.079273422471972,
          1.2672551795759603,
          -0.1387742179814284,
          0.17791343334287685,
          -0.16720070633069986,
          -0.10054709814906158,
          -0.4045908852076268,
          0.12613317418414827,
          -0.5705034300132444,
          0.46209916749023333,
          0.4246966632128942,
          -0.8374278258285641,
          -0.9638366983275459,
          0.976890575946419,
          0.7835331653136482,
          2.033276023577144,
          1.1199398530052502,
          0.41138271732725634,
          1.0078069220383363,
          -1.17204783089823,
          -0.030259256831799808,
          -0.0725649072425263,
          -1.4986111479891409,
          0.6024912562451382,
          -0.34153690368730827,
          -1.015779510613287,
          0.6290209644622186,
          1.063457337554401,
          0.836723127079669,
          0.15820480216977437,
          -1.5203659349823258,
          -0.8072700824714942,
          0.4091445040915564,
          0.11572276858949519,
          -0.7164543939959533,
          -0.07286098502404578,
          0.38153643710956087,
          0.8543380617745421,
          -0.1165213944519551,
          0.6319713589030436,
          -1.724235407313587,
          0.386413105368971,
          -0.2386928216312317,
          0.732732670662475,
          -0.24461445087908382,
          -0.15065292063607347,
          1.5751534559338005,
          -1.5582891131847143,
          -0.18228298191894451,
          -0.41116032632912836,
          -0.17708445099528772,
          0.24337163271237103,
          1.192683688423048,
          0.9782283130777022,
          0.24352349186539524,
          -0.9532991377363603,
          -0.6462511604959087,
          0.7085017132965485,
          -2.1084373382894226,
          -0.5809716735247753,
          0.8850207737297211,
          0.246091165930676,
          -0.503503699045387,
          -2.0346014589949073,
          0.7399600548898199,
          0.867255339032245,
          2.6404520588474565,
          -0.4100752894175069,
          0.8762080237341998,
          0.07387253745176947,
          0.05732143006845413,
          0.4586850385176115,
          0.8508544486089744
         ]
        },
        {
         "line": {
          "color": "rgba(50, 171, 96, 1.0)",
          "dash": "solid",
          "shape": "linear",
          "width": 1.3
         },
         "mode": "lines",
         "name": "C",
         "text": "",
         "type": "scatter",
         "x": [
          0,
          1,
          2,
          3,
          4,
          5,
          6,
          7,
          8,
          9,
          10,
          11,
          12,
          13,
          14,
          15,
          16,
          17,
          18,
          19,
          20,
          21,
          22,
          23,
          24,
          25,
          26,
          27,
          28,
          29,
          30,
          31,
          32,
          33,
          34,
          35,
          36,
          37,
          38,
          39,
          40,
          41,
          42,
          43,
          44,
          45,
          46,
          47,
          48,
          49,
          50,
          51,
          52,
          53,
          54,
          55,
          56,
          57,
          58,
          59,
          60,
          61,
          62,
          63,
          64,
          65,
          66,
          67,
          68,
          69,
          70,
          71,
          72,
          73,
          74,
          75,
          76,
          77,
          78,
          79,
          80,
          81,
          82,
          83,
          84,
          85,
          86,
          87,
          88,
          89,
          90,
          91,
          92,
          93,
          94,
          95,
          96,
          97,
          98,
          99
         ],
         "y": [
          -0.5887201252080634,
          0.7019925031583143,
          -0.12152814849423052,
          -1.2708438572364291,
          1.005385839304346,
          -0.9984428692265944,
          1.4321629049952669,
          -1.0560767907795185,
          -0.6562327117597355,
          -0.3950371209300445,
          -0.6369083886879076,
          0.16740259901346027,
          -1.197787967906911,
          -0.5757438379751361,
          -0.9660314149290065,
          -1.280312500419322,
          0.44919005132260154,
          0.9912354246161327,
          -0.22665091004576998,
          2.00195641786289,
          0.6521292871423648,
          -0.5858611758478834,
          -0.2026706703994717,
          -1.1400881200028743,
          -1.6598845111368843,
          -0.3821632649493528,
          0.40015268984340935,
          -0.24779955580087326,
          -0.22014964502210926,
          1.9826019378014421,
          -2.078964493043121,
          0.8232357228810001,
          -0.3410786708737788,
          0.2326250073562358,
          0.017721847740962565,
          0.06476185482905336,
          1.0856823558781863,
          -1.1863410497481561,
          -0.47395933534119455,
          0.42867872806233165,
          -0.9792302166465338,
          -0.3188004167296261,
          -1.6634411913351508,
          -0.1536391932935441,
          0.37680087031661724,
          -0.1622649507322113,
          -1.0233161895393332,
          -0.6374744254895608,
          -0.38932829571389926,
          0.28352499938728154,
          -0.17052285870812525,
          0.4544231814922744,
          0.6279385675513667,
          -0.29750956972512393,
          -0.9990886330259056,
          -1.432305886084423,
          1.7747315663056045,
          -0.6129901984631514,
          -1.5192985319482608,
          -1.02953724278035,
          0.2749969544641621,
          0.6089404947881051,
          -0.5657258936149782,
          0.1609301397325709,
          -1.1185766191933202,
          0.030218582595458777,
          0.22818071274274482,
          -0.20154169940218186,
          -0.9382400070283291,
          -0.5407653160901239,
          0.03399791994361127,
          -0.1263932664606678,
          -1.9991012100750234,
          -1.3281070200509209,
          -1.266527572614642,
          -0.6590304660948538,
          -0.6038314944169267,
          -0.5209931216875565,
          -1.0875536589229868,
          0.2676600363445982,
          0.28953881801923137,
          -1.0598877555791468,
          0.3971970716706394,
          -0.5126785695240577,
          -0.9797066698706884,
          -1.3088625219990708,
          -1.421869401564566,
          0.48265096872024776,
          0.7482127746603067,
          -2.133104588348111,
          -1.8710169084754382,
          0.11792796320970941,
          -0.6321380743549365,
          0.5961568308307523,
          1.11352599149512,
          -1.3852210078477463,
          -0.23836650898361234,
          0.35990007706698574,
          -2.4756749550769053,
          0.1865725722569815
         ]
        },
        {
         "line": {
          "color": "rgba(128, 0, 128, 1.0)",
          "dash": "solid",
          "shape": "linear",
          "width": 1.3
         },
         "mode": "lines",
         "name": "D",
         "text": "",
         "type": "scatter",
         "x": [
          0,
          1,
          2,
          3,
          4,
          5,
          6,
          7,
          8,
          9,
          10,
          11,
          12,
          13,
          14,
          15,
          16,
          17,
          18,
          19,
          20,
          21,
          22,
          23,
          24,
          25,
          26,
          27,
          28,
          29,
          30,
          31,
          32,
          33,
          34,
          35,
          36,
          37,
          38,
          39,
          40,
          41,
          42,
          43,
          44,
          45,
          46,
          47,
          48,
          49,
          50,
          51,
          52,
          53,
          54,
          55,
          56,
          57,
          58,
          59,
          60,
          61,
          62,
          63,
          64,
          65,
          66,
          67,
          68,
          69,
          70,
          71,
          72,
          73,
          74,
          75,
          76,
          77,
          78,
          79,
          80,
          81,
          82,
          83,
          84,
          85,
          86,
          87,
          88,
          89,
          90,
          91,
          92,
          93,
          94,
          95,
          96,
          97,
          98,
          99
         ],
         "y": [
          0.3132413364996825,
          0.5164174556087842,
          -1.7447372673773398,
          -0.528880172889918,
          1.033665036725101,
          0.873311394994029,
          0.8249908464050247,
          0.9273397491692893,
          -0.8215058131985827,
          -0.8338394535403043,
          0.6593856425722231,
          0.606812543064322,
          1.0366572251911874,
          -0.1838123154502142,
          -0.20255865641686507,
          -0.21478677434427987,
          0.42683648089814025,
          0.8075809913991108,
          3.588713411113252,
          -0.23269749284998376,
          1.1458371773320664,
          0.15350908534039004,
          -0.09355790030975901,
          -2.1551973689769155,
          0.6341354055616454,
          -1.3269834908993567,
          1.357070496588174,
          -0.863944691468353,
          -0.32596706926126623,
          -1.0305917008899146,
          -1.924646040143175,
          1.2923917923983734,
          1.9237844815778715,
          -0.48887692696949653,
          -0.5799400968574776,
          -1.8084695250653529,
          0.34915227891884415,
          0.021587918287322816,
          1.8738783065307074,
          -2.0586680039229046,
          -0.2924245775655203,
          -0.8470645847823713,
          0.45056001836452403,
          0.6348733493561158,
          -0.05420891092805153,
          1.4918185827662416,
          -1.124726844622321,
          -1.160276889128454,
          -1.815885096838446,
          0.15342969039819218,
          1.550598326829556,
          0.2197474501683362,
          -0.8128773277477808,
          0.6372434340238345,
          0.5706402164732105,
          -0.7959502516548398,
          0.7114564128194969,
          -0.381733380041855,
          -0.8762451254574802,
          0.39495110511007064,
          0.0009804939368298273,
          1.0761618317249724,
          0.18466593097894565,
          -1.3431239241579576,
          0.6410572260021555,
          -1.776934017171851,
          -1.8652013021519074,
          -0.11037286401511258,
          0.49461982191473397,
          0.2159836931037541,
          -0.9894954037552692,
          1.0296888720181843,
          0.004919324642563422,
          1.573193852011606,
          -0.014839678786844444,
          -0.950094388676654,
          0.8885889188498369,
          0.2486231614394077,
          2.265740662571898,
          -1.6061175371701175,
          -0.8861363719746421,
          0.053462340071665095,
          0.0556482498375347,
          0.5318168459142504,
          -0.8798981290139644,
          0.5742427858202375,
          -1.3527934392569503,
          1.4531258907979674,
          -0.5192312520648216,
          0.03303622891287528,
          0.757101307601849,
          -0.607351686021069,
          -1.4141927512221015,
          -0.6679557973217564,
          2.6669129852176447,
          -0.29655987552981844,
          -0.6393450954746018,
          -0.3442074457638253,
          -2.5294642240008076,
          1.6447753012195332
         ]
        }
       ],
       "layout": {
        "legend": {
         "bgcolor": "#F5F6F9",
         "font": {
          "color": "#4D5663"
         }
        },
        "paper_bgcolor": "#F5F6F9",
        "plot_bgcolor": "#F5F6F9",
        "template": {
         "data": {
          "bar": [
           {
            "error_x": {
             "color": "#2a3f5f"
            },
            "error_y": {
             "color": "#2a3f5f"
            },
            "marker": {
             "line": {
              "color": "#E5ECF6",
              "width": 0.5
             },
             "pattern": {
              "fillmode": "overlay",
              "size": 10,
              "solidity": 0.2
             }
            },
            "type": "bar"
           }
          ],
          "barpolar": [
           {
            "marker": {
             "line": {
              "color": "#E5ECF6",
              "width": 0.5
             },
             "pattern": {
              "fillmode": "overlay",
              "size": 10,
              "solidity": 0.2
             }
            },
            "type": "barpolar"
           }
          ],
          "carpet": [
           {
            "aaxis": {
             "endlinecolor": "#2a3f5f",
             "gridcolor": "white",
             "linecolor": "white",
             "minorgridcolor": "white",
             "startlinecolor": "#2a3f5f"
            },
            "baxis": {
             "endlinecolor": "#2a3f5f",
             "gridcolor": "white",
             "linecolor": "white",
             "minorgridcolor": "white",
             "startlinecolor": "#2a3f5f"
            },
            "type": "carpet"
           }
          ],
          "choropleth": [
           {
            "colorbar": {
             "outlinewidth": 0,
             "ticks": ""
            },
            "type": "choropleth"
           }
          ],
          "contour": [
           {
            "colorbar": {
             "outlinewidth": 0,
             "ticks": ""
            },
            "colorscale": [
             [
              0,
              "#0d0887"
             ],
             [
              0.1111111111111111,
              "#46039f"
             ],
             [
              0.2222222222222222,
              "#7201a8"
             ],
             [
              0.3333333333333333,
              "#9c179e"
             ],
             [
              0.4444444444444444,
              "#bd3786"
             ],
             [
              0.5555555555555556,
              "#d8576b"
             ],
             [
              0.6666666666666666,
              "#ed7953"
             ],
             [
              0.7777777777777778,
              "#fb9f3a"
             ],
             [
              0.8888888888888888,
              "#fdca26"
             ],
             [
              1,
              "#f0f921"
             ]
            ],
            "type": "contour"
           }
          ],
          "contourcarpet": [
           {
            "colorbar": {
             "outlinewidth": 0,
             "ticks": ""
            },
            "type": "contourcarpet"
           }
          ],
          "heatmap": [
           {
            "colorbar": {
             "outlinewidth": 0,
             "ticks": ""
            },
            "colorscale": [
             [
              0,
              "#0d0887"
             ],
             [
              0.1111111111111111,
              "#46039f"
             ],
             [
              0.2222222222222222,
              "#7201a8"
             ],
             [
              0.3333333333333333,
              "#9c179e"
             ],
             [
              0.4444444444444444,
              "#bd3786"
             ],
             [
              0.5555555555555556,
              "#d8576b"
             ],
             [
              0.6666666666666666,
              "#ed7953"
             ],
             [
              0.7777777777777778,
              "#fb9f3a"
             ],
             [
              0.8888888888888888,
              "#fdca26"
             ],
             [
              1,
              "#f0f921"
             ]
            ],
            "type": "heatmap"
           }
          ],
          "heatmapgl": [
           {
            "colorbar": {
             "outlinewidth": 0,
             "ticks": ""
            },
            "colorscale": [
             [
              0,
              "#0d0887"
             ],
             [
              0.1111111111111111,
              "#46039f"
             ],
             [
              0.2222222222222222,
              "#7201a8"
             ],
             [
              0.3333333333333333,
              "#9c179e"
             ],
             [
              0.4444444444444444,
              "#bd3786"
             ],
             [
              0.5555555555555556,
              "#d8576b"
             ],
             [
              0.6666666666666666,
              "#ed7953"
             ],
             [
              0.7777777777777778,
              "#fb9f3a"
             ],
             [
              0.8888888888888888,
              "#fdca26"
             ],
             [
              1,
              "#f0f921"
             ]
            ],
            "type": "heatmapgl"
           }
          ],
          "histogram": [
           {
            "marker": {
             "pattern": {
              "fillmode": "overlay",
              "size": 10,
              "solidity": 0.2
             }
            },
            "type": "histogram"
           }
          ],
          "histogram2d": [
           {
            "colorbar": {
             "outlinewidth": 0,
             "ticks": ""
            },
            "colorscale": [
             [
              0,
              "#0d0887"
             ],
             [
              0.1111111111111111,
              "#46039f"
             ],
             [
              0.2222222222222222,
              "#7201a8"
             ],
             [
              0.3333333333333333,
              "#9c179e"
             ],
             [
              0.4444444444444444,
              "#bd3786"
             ],
             [
              0.5555555555555556,
              "#d8576b"
             ],
             [
              0.6666666666666666,
              "#ed7953"
             ],
             [
              0.7777777777777778,
              "#fb9f3a"
             ],
             [
              0.8888888888888888,
              "#fdca26"
             ],
             [
              1,
              "#f0f921"
             ]
            ],
            "type": "histogram2d"
           }
          ],
          "histogram2dcontour": [
           {
            "colorbar": {
             "outlinewidth": 0,
             "ticks": ""
            },
            "colorscale": [
             [
              0,
              "#0d0887"
             ],
             [
              0.1111111111111111,
              "#46039f"
             ],
             [
              0.2222222222222222,
              "#7201a8"
             ],
             [
              0.3333333333333333,
              "#9c179e"
             ],
             [
              0.4444444444444444,
              "#bd3786"
             ],
             [
              0.5555555555555556,
              "#d8576b"
             ],
             [
              0.6666666666666666,
              "#ed7953"
             ],
             [
              0.7777777777777778,
              "#fb9f3a"
             ],
             [
              0.8888888888888888,
              "#fdca26"
             ],
             [
              1,
              "#f0f921"
             ]
            ],
            "type": "histogram2dcontour"
           }
          ],
          "mesh3d": [
           {
            "colorbar": {
             "outlinewidth": 0,
             "ticks": ""
            },
            "type": "mesh3d"
           }
          ],
          "parcoords": [
           {
            "line": {
             "colorbar": {
              "outlinewidth": 0,
              "ticks": ""
             }
            },
            "type": "parcoords"
           }
          ],
          "pie": [
           {
            "automargin": true,
            "type": "pie"
           }
          ],
          "scatter": [
           {
            "fillpattern": {
             "fillmode": "overlay",
             "size": 10,
             "solidity": 0.2
            },
            "type": "scatter"
           }
          ],
          "scatter3d": [
           {
            "line": {
             "colorbar": {
              "outlinewidth": 0,
              "ticks": ""
             }
            },
            "marker": {
             "colorbar": {
              "outlinewidth": 0,
              "ticks": ""
             }
            },
            "type": "scatter3d"
           }
          ],
          "scattercarpet": [
           {
            "marker": {
             "colorbar": {
              "outlinewidth": 0,
              "ticks": ""
             }
            },
            "type": "scattercarpet"
           }
          ],
          "scattergeo": [
           {
            "marker": {
             "colorbar": {
              "outlinewidth": 0,
              "ticks": ""
             }
            },
            "type": "scattergeo"
           }
          ],
          "scattergl": [
           {
            "marker": {
             "colorbar": {
              "outlinewidth": 0,
              "ticks": ""
             }
            },
            "type": "scattergl"
           }
          ],
          "scattermapbox": [
           {
            "marker": {
             "colorbar": {
              "outlinewidth": 0,
              "ticks": ""
             }
            },
            "type": "scattermapbox"
           }
          ],
          "scatterpolar": [
           {
            "marker": {
             "colorbar": {
              "outlinewidth": 0,
              "ticks": ""
             }
            },
            "type": "scatterpolar"
           }
          ],
          "scatterpolargl": [
           {
            "marker": {
             "colorbar": {
              "outlinewidth": 0,
              "ticks": ""
             }
            },
            "type": "scatterpolargl"
           }
          ],
          "scatterternary": [
           {
            "marker": {
             "colorbar": {
              "outlinewidth": 0,
              "ticks": ""
             }
            },
            "type": "scatterternary"
           }
          ],
          "surface": [
           {
            "colorbar": {
             "outlinewidth": 0,
             "ticks": ""
            },
            "colorscale": [
             [
              0,
              "#0d0887"
             ],
             [
              0.1111111111111111,
              "#46039f"
             ],
             [
              0.2222222222222222,
              "#7201a8"
             ],
             [
              0.3333333333333333,
              "#9c179e"
             ],
             [
              0.4444444444444444,
              "#bd3786"
             ],
             [
              0.5555555555555556,
              "#d8576b"
             ],
             [
              0.6666666666666666,
              "#ed7953"
             ],
             [
              0.7777777777777778,
              "#fb9f3a"
             ],
             [
              0.8888888888888888,
              "#fdca26"
             ],
             [
              1,
              "#f0f921"
             ]
            ],
            "type": "surface"
           }
          ],
          "table": [
           {
            "cells": {
             "fill": {
              "color": "#EBF0F8"
             },
             "line": {
              "color": "white"
             }
            },
            "header": {
             "fill": {
              "color": "#C8D4E3"
             },
             "line": {
              "color": "white"
             }
            },
            "type": "table"
           }
          ]
         },
         "layout": {
          "annotationdefaults": {
           "arrowcolor": "#2a3f5f",
           "arrowhead": 0,
           "arrowwidth": 1
          },
          "autotypenumbers": "strict",
          "coloraxis": {
           "colorbar": {
            "outlinewidth": 0,
            "ticks": ""
           }
          },
          "colorscale": {
           "diverging": [
            [
             0,
             "#8e0152"
            ],
            [
             0.1,
             "#c51b7d"
            ],
            [
             0.2,
             "#de77ae"
            ],
            [
             0.3,
             "#f1b6da"
            ],
            [
             0.4,
             "#fde0ef"
            ],
            [
             0.5,
             "#f7f7f7"
            ],
            [
             0.6,
             "#e6f5d0"
            ],
            [
             0.7,
             "#b8e186"
            ],
            [
             0.8,
             "#7fbc41"
            ],
            [
             0.9,
             "#4d9221"
            ],
            [
             1,
             "#276419"
            ]
           ],
           "sequential": [
            [
             0,
             "#0d0887"
            ],
            [
             0.1111111111111111,
             "#46039f"
            ],
            [
             0.2222222222222222,
             "#7201a8"
            ],
            [
             0.3333333333333333,
             "#9c179e"
            ],
            [
             0.4444444444444444,
             "#bd3786"
            ],
            [
             0.5555555555555556,
             "#d8576b"
            ],
            [
             0.6666666666666666,
             "#ed7953"
            ],
            [
             0.7777777777777778,
             "#fb9f3a"
            ],
            [
             0.8888888888888888,
             "#fdca26"
            ],
            [
             1,
             "#f0f921"
            ]
           ],
           "sequentialminus": [
            [
             0,
             "#0d0887"
            ],
            [
             0.1111111111111111,
             "#46039f"
            ],
            [
             0.2222222222222222,
             "#7201a8"
            ],
            [
             0.3333333333333333,
             "#9c179e"
            ],
            [
             0.4444444444444444,
             "#bd3786"
            ],
            [
             0.5555555555555556,
             "#d8576b"
            ],
            [
             0.6666666666666666,
             "#ed7953"
            ],
            [
             0.7777777777777778,
             "#fb9f3a"
            ],
            [
             0.8888888888888888,
             "#fdca26"
            ],
            [
             1,
             "#f0f921"
            ]
           ]
          },
          "colorway": [
           "#636efa",
           "#EF553B",
           "#00cc96",
           "#ab63fa",
           "#FFA15A",
           "#19d3f3",
           "#FF6692",
           "#B6E880",
           "#FF97FF",
           "#FECB52"
          ],
          "font": {
           "color": "#2a3f5f"
          },
          "geo": {
           "bgcolor": "white",
           "lakecolor": "white",
           "landcolor": "#E5ECF6",
           "showlakes": true,
           "showland": true,
           "subunitcolor": "white"
          },
          "hoverlabel": {
           "align": "left"
          },
          "hovermode": "closest",
          "mapbox": {
           "style": "light"
          },
          "paper_bgcolor": "white",
          "plot_bgcolor": "#E5ECF6",
          "polar": {
           "angularaxis": {
            "gridcolor": "white",
            "linecolor": "white",
            "ticks": ""
           },
           "bgcolor": "#E5ECF6",
           "radialaxis": {
            "gridcolor": "white",
            "linecolor": "white",
            "ticks": ""
           }
          },
          "scene": {
           "xaxis": {
            "backgroundcolor": "#E5ECF6",
            "gridcolor": "white",
            "gridwidth": 2,
            "linecolor": "white",
            "showbackground": true,
            "ticks": "",
            "zerolinecolor": "white"
           },
           "yaxis": {
            "backgroundcolor": "#E5ECF6",
            "gridcolor": "white",
            "gridwidth": 2,
            "linecolor": "white",
            "showbackground": true,
            "ticks": "",
            "zerolinecolor": "white"
           },
           "zaxis": {
            "backgroundcolor": "#E5ECF6",
            "gridcolor": "white",
            "gridwidth": 2,
            "linecolor": "white",
            "showbackground": true,
            "ticks": "",
            "zerolinecolor": "white"
           }
          },
          "shapedefaults": {
           "line": {
            "color": "#2a3f5f"
           }
          },
          "ternary": {
           "aaxis": {
            "gridcolor": "white",
            "linecolor": "white",
            "ticks": ""
           },
           "baxis": {
            "gridcolor": "white",
            "linecolor": "white",
            "ticks": ""
           },
           "bgcolor": "#E5ECF6",
           "caxis": {
            "gridcolor": "white",
            "linecolor": "white",
            "ticks": ""
           }
          },
          "title": {
           "x": 0.05
          },
          "xaxis": {
           "automargin": true,
           "gridcolor": "white",
           "linecolor": "white",
           "ticks": "",
           "title": {
            "standoff": 15
           },
           "zerolinecolor": "white",
           "zerolinewidth": 2
          },
          "yaxis": {
           "automargin": true,
           "gridcolor": "white",
           "linecolor": "white",
           "ticks": "",
           "title": {
            "standoff": 15
           },
           "zerolinecolor": "white",
           "zerolinewidth": 2
          }
         }
        },
        "title": {
         "font": {
          "color": "#4D5663"
         }
        },
        "xaxis": {
         "gridcolor": "#E1E5ED",
         "showgrid": true,
         "tickfont": {
          "color": "#4D5663"
         },
         "title": {
          "font": {
           "color": "#4D5663"
          },
          "text": ""
         },
         "zerolinecolor": "#E1E5ED"
        },
        "yaxis": {
         "gridcolor": "#E1E5ED",
         "showgrid": true,
         "tickfont": {
          "color": "#4D5663"
         },
         "title": {
          "font": {
           "color": "#4D5663"
          },
          "text": ""
         },
         "zerolinecolor": "#E1E5ED"
        }
       }
      },
      "text/html": [
       "<div>                            <div id=\"6d586dd6-031f-4b82-9189-6a1e019e805e\" class=\"plotly-graph-div\" style=\"height:525px; width:100%;\"></div>            <script type=\"text/javascript\">                require([\"plotly\"], function(Plotly) {                    window.PLOTLYENV=window.PLOTLYENV || {};\n",
       "                    window.PLOTLYENV.BASE_URL='https://plot.ly';                                    if (document.getElementById(\"6d586dd6-031f-4b82-9189-6a1e019e805e\")) {                    Plotly.newPlot(                        \"6d586dd6-031f-4b82-9189-6a1e019e805e\",                        [{\"line\":{\"color\":\"rgba(255, 153, 51, 1.0)\",\"dash\":\"solid\",\"shape\":\"linear\",\"width\":1.3},\"mode\":\"lines\",\"name\":\"A\",\"text\":\"\",\"x\":[0,1,2,3,4,5,6,7,8,9,10,11,12,13,14,15,16,17,18,19,20,21,22,23,24,25,26,27,28,29,30,31,32,33,34,35,36,37,38,39,40,41,42,43,44,45,46,47,48,49,50,51,52,53,54,55,56,57,58,59,60,61,62,63,64,65,66,67,68,69,70,71,72,73,74,75,76,77,78,79,80,81,82,83,84,85,86,87,88,89,90,91,92,93,94,95,96,97,98,99],\"y\":[-0.5893247467893137,0.06357799381554469,0.3335160921609745,0.3243661733043439,0.6787084891857187,-0.8798125623521266,-0.061710317783818004,-0.6900260083396907,-1.0522257446491912,0.2590016072445179,1.122478052572237,-0.30449682024732316,2.267454273919806,1.123114298512772,-0.6257724174399768,1.701367743435107,-0.26754379725565747,0.3003012512826872,-0.3777573284785868,-0.49072235963782135,0.47438039624374584,-0.9607355212592849,-0.01448730604106568,0.7818381394772317,0.47532496228524435,-0.8274720991535782,-0.9284276067853057,-1.488251013296298,0.23396954153909585,1.869180554136494,-0.27883637077933304,-0.49624437594324633,0.879061425460165,0.019113394365269577,1.1757641619276693,0.5894504709946624,1.4571618706876532,0.2106774240345165,-1.2182225650030216,-0.26967153456414256,0.8386234979200884,-1.1357835340401106,0.8926944889147607,-0.30968190234772086,1.0517072919721753,-1.2292761269220487,0.1429175250658092,-0.20868482281688108,0.5809020967712989,-1.1356002159648928,0.5996902800483412,1.7939424342799457,0.5131548974217541,1.172634706569258,-0.5766421668040401,0.46792076906214874,0.9969095439213087,0.21079364926988753,-1.306177547922756,-0.9305224274786199,0.4682250885871653,0.9693097901681132,-2.422557021111485,0.7858934649760749,-0.42506148315700365,-1.1776687308011278,2.2897119366258867,-0.7217004741651094,-0.9737110269480089,0.4190362375628981,-0.7391331202884779,-0.5555335418005726,-0.6785442909794438,-0.5230462779813413,-0.19618762434273726,-1.020057265171055,1.381583295856783,-1.3195078598361525,0.11768444018206939,0.07088724711071444,-0.41152734532531077,-0.2144863229665085,0.3000765406875,0.6506309442988503,0.8406330967821201,0.6551793622147913,-1.0321856810764007,0.5340585373125538,-0.062237136294529594,0.2250207871795296,0.8894595124404172,1.3538895386143526,0.2817394146169772,1.2786671214167356,-0.33824826463402663,1.1999423130980735,0.04203995852535922,1.149306256216227,1.641525664697918,-0.6463223417336121],\"type\":\"scatter\"},{\"line\":{\"color\":\"rgba(55, 128, 191, 1.0)\",\"dash\":\"solid\",\"shape\":\"linear\",\"width\":1.3},\"mode\":\"lines\",\"name\":\"B\",\"text\":\"\",\"x\":[0,1,2,3,4,5,6,7,8,9,10,11,12,13,14,15,16,17,18,19,20,21,22,23,24,25,26,27,28,29,30,31,32,33,34,35,36,37,38,39,40,41,42,43,44,45,46,47,48,49,50,51,52,53,54,55,56,57,58,59,60,61,62,63,64,65,66,67,68,69,70,71,72,73,74,75,76,77,78,79,80,81,82,83,84,85,86,87,88,89,90,91,92,93,94,95,96,97,98,99],\"y\":[1.8124925870160997,1.086663682175712,-1.8953243258357049,-0.392843436166962,-0.1567169632575485,0.9645413080533394,0.17939239711442306,-0.5596859964104648,0.08895987969414001,1.2410834269061197,-0.16635960086585302,-0.2693807178383773,0.8616972888977513,-0.32162793172586895,-0.7263427607658054,0.19433049801394328,0.9230331246428911,1.6738866616294028,2.844028514290566,0.08124111784770374,1.559763934272282,-0.028424724115640336,-1.5978583981740588,1.3928576720947006,2.0229086490252826,-1.7694810175837032,0.048379614153000024,-1.079273422471972,1.2672551795759603,-0.1387742179814284,0.17791343334287685,-0.16720070633069986,-0.10054709814906158,-0.4045908852076268,0.12613317418414827,-0.5705034300132444,0.46209916749023333,0.4246966632128942,-0.8374278258285641,-0.9638366983275459,0.976890575946419,0.7835331653136482,2.033276023577144,1.1199398530052502,0.41138271732725634,1.0078069220383363,-1.17204783089823,-0.030259256831799808,-0.0725649072425263,-1.4986111479891409,0.6024912562451382,-0.34153690368730827,-1.015779510613287,0.6290209644622186,1.063457337554401,0.836723127079669,0.15820480216977437,-1.5203659349823258,-0.8072700824714942,0.4091445040915564,0.11572276858949519,-0.7164543939959533,-0.07286098502404578,0.38153643710956087,0.8543380617745421,-0.1165213944519551,0.6319713589030436,-1.724235407313587,0.386413105368971,-0.2386928216312317,0.732732670662475,-0.24461445087908382,-0.15065292063607347,1.5751534559338005,-1.5582891131847143,-0.18228298191894451,-0.41116032632912836,-0.17708445099528772,0.24337163271237103,1.192683688423048,0.9782283130777022,0.24352349186539524,-0.9532991377363603,-0.6462511604959087,0.7085017132965485,-2.1084373382894226,-0.5809716735247753,0.8850207737297211,0.246091165930676,-0.503503699045387,-2.0346014589949073,0.7399600548898199,0.867255339032245,2.6404520588474565,-0.4100752894175069,0.8762080237341998,0.07387253745176947,0.05732143006845413,0.4586850385176115,0.8508544486089744],\"type\":\"scatter\"},{\"line\":{\"color\":\"rgba(50, 171, 96, 1.0)\",\"dash\":\"solid\",\"shape\":\"linear\",\"width\":1.3},\"mode\":\"lines\",\"name\":\"C\",\"text\":\"\",\"x\":[0,1,2,3,4,5,6,7,8,9,10,11,12,13,14,15,16,17,18,19,20,21,22,23,24,25,26,27,28,29,30,31,32,33,34,35,36,37,38,39,40,41,42,43,44,45,46,47,48,49,50,51,52,53,54,55,56,57,58,59,60,61,62,63,64,65,66,67,68,69,70,71,72,73,74,75,76,77,78,79,80,81,82,83,84,85,86,87,88,89,90,91,92,93,94,95,96,97,98,99],\"y\":[-0.5887201252080634,0.7019925031583143,-0.12152814849423052,-1.2708438572364291,1.005385839304346,-0.9984428692265944,1.4321629049952669,-1.0560767907795185,-0.6562327117597355,-0.3950371209300445,-0.6369083886879076,0.16740259901346027,-1.197787967906911,-0.5757438379751361,-0.9660314149290065,-1.280312500419322,0.44919005132260154,0.9912354246161327,-0.22665091004576998,2.00195641786289,0.6521292871423648,-0.5858611758478834,-0.2026706703994717,-1.1400881200028743,-1.6598845111368843,-0.3821632649493528,0.40015268984340935,-0.24779955580087326,-0.22014964502210926,1.9826019378014421,-2.078964493043121,0.8232357228810001,-0.3410786708737788,0.2326250073562358,0.017721847740962565,0.06476185482905336,1.0856823558781863,-1.1863410497481561,-0.47395933534119455,0.42867872806233165,-0.9792302166465338,-0.3188004167296261,-1.6634411913351508,-0.1536391932935441,0.37680087031661724,-0.1622649507322113,-1.0233161895393332,-0.6374744254895608,-0.38932829571389926,0.28352499938728154,-0.17052285870812525,0.4544231814922744,0.6279385675513667,-0.29750956972512393,-0.9990886330259056,-1.432305886084423,1.7747315663056045,-0.6129901984631514,-1.5192985319482608,-1.02953724278035,0.2749969544641621,0.6089404947881051,-0.5657258936149782,0.1609301397325709,-1.1185766191933202,0.030218582595458777,0.22818071274274482,-0.20154169940218186,-0.9382400070283291,-0.5407653160901239,0.03399791994361127,-0.1263932664606678,-1.9991012100750234,-1.3281070200509209,-1.266527572614642,-0.6590304660948538,-0.6038314944169267,-0.5209931216875565,-1.0875536589229868,0.2676600363445982,0.28953881801923137,-1.0598877555791468,0.3971970716706394,-0.5126785695240577,-0.9797066698706884,-1.3088625219990708,-1.421869401564566,0.48265096872024776,0.7482127746603067,-2.133104588348111,-1.8710169084754382,0.11792796320970941,-0.6321380743549365,0.5961568308307523,1.11352599149512,-1.3852210078477463,-0.23836650898361234,0.35990007706698574,-2.4756749550769053,0.1865725722569815],\"type\":\"scatter\"},{\"line\":{\"color\":\"rgba(128, 0, 128, 1.0)\",\"dash\":\"solid\",\"shape\":\"linear\",\"width\":1.3},\"mode\":\"lines\",\"name\":\"D\",\"text\":\"\",\"x\":[0,1,2,3,4,5,6,7,8,9,10,11,12,13,14,15,16,17,18,19,20,21,22,23,24,25,26,27,28,29,30,31,32,33,34,35,36,37,38,39,40,41,42,43,44,45,46,47,48,49,50,51,52,53,54,55,56,57,58,59,60,61,62,63,64,65,66,67,68,69,70,71,72,73,74,75,76,77,78,79,80,81,82,83,84,85,86,87,88,89,90,91,92,93,94,95,96,97,98,99],\"y\":[0.3132413364996825,0.5164174556087842,-1.7447372673773398,-0.528880172889918,1.033665036725101,0.873311394994029,0.8249908464050247,0.9273397491692893,-0.8215058131985827,-0.8338394535403043,0.6593856425722231,0.606812543064322,1.0366572251911874,-0.1838123154502142,-0.20255865641686507,-0.21478677434427987,0.42683648089814025,0.8075809913991108,3.588713411113252,-0.23269749284998376,1.1458371773320664,0.15350908534039004,-0.09355790030975901,-2.1551973689769155,0.6341354055616454,-1.3269834908993567,1.357070496588174,-0.863944691468353,-0.32596706926126623,-1.0305917008899146,-1.924646040143175,1.2923917923983734,1.9237844815778715,-0.48887692696949653,-0.5799400968574776,-1.8084695250653529,0.34915227891884415,0.021587918287322816,1.8738783065307074,-2.0586680039229046,-0.2924245775655203,-0.8470645847823713,0.45056001836452403,0.6348733493561158,-0.05420891092805153,1.4918185827662416,-1.124726844622321,-1.160276889128454,-1.815885096838446,0.15342969039819218,1.550598326829556,0.2197474501683362,-0.8128773277477808,0.6372434340238345,0.5706402164732105,-0.7959502516548398,0.7114564128194969,-0.381733380041855,-0.8762451254574802,0.39495110511007064,0.0009804939368298273,1.0761618317249724,0.18466593097894565,-1.3431239241579576,0.6410572260021555,-1.776934017171851,-1.8652013021519074,-0.11037286401511258,0.49461982191473397,0.2159836931037541,-0.9894954037552692,1.0296888720181843,0.004919324642563422,1.573193852011606,-0.014839678786844444,-0.950094388676654,0.8885889188498369,0.2486231614394077,2.265740662571898,-1.6061175371701175,-0.8861363719746421,0.053462340071665095,0.0556482498375347,0.5318168459142504,-0.8798981290139644,0.5742427858202375,-1.3527934392569503,1.4531258907979674,-0.5192312520648216,0.03303622891287528,0.757101307601849,-0.607351686021069,-1.4141927512221015,-0.6679557973217564,2.6669129852176447,-0.29655987552981844,-0.6393450954746018,-0.3442074457638253,-2.5294642240008076,1.6447753012195332],\"type\":\"scatter\"}],                        {\"legend\":{\"bgcolor\":\"#F5F6F9\",\"font\":{\"color\":\"#4D5663\"}},\"paper_bgcolor\":\"#F5F6F9\",\"plot_bgcolor\":\"#F5F6F9\",\"template\":{\"data\":{\"barpolar\":[{\"marker\":{\"line\":{\"color\":\"#E5ECF6\",\"width\":0.5},\"pattern\":{\"fillmode\":\"overlay\",\"size\":10,\"solidity\":0.2}},\"type\":\"barpolar\"}],\"bar\":[{\"error_x\":{\"color\":\"#2a3f5f\"},\"error_y\":{\"color\":\"#2a3f5f\"},\"marker\":{\"line\":{\"color\":\"#E5ECF6\",\"width\":0.5},\"pattern\":{\"fillmode\":\"overlay\",\"size\":10,\"solidity\":0.2}},\"type\":\"bar\"}],\"carpet\":[{\"aaxis\":{\"endlinecolor\":\"#2a3f5f\",\"gridcolor\":\"white\",\"linecolor\":\"white\",\"minorgridcolor\":\"white\",\"startlinecolor\":\"#2a3f5f\"},\"baxis\":{\"endlinecolor\":\"#2a3f5f\",\"gridcolor\":\"white\",\"linecolor\":\"white\",\"minorgridcolor\":\"white\",\"startlinecolor\":\"#2a3f5f\"},\"type\":\"carpet\"}],\"choropleth\":[{\"colorbar\":{\"outlinewidth\":0,\"ticks\":\"\"},\"type\":\"choropleth\"}],\"contourcarpet\":[{\"colorbar\":{\"outlinewidth\":0,\"ticks\":\"\"},\"type\":\"contourcarpet\"}],\"contour\":[{\"colorbar\":{\"outlinewidth\":0,\"ticks\":\"\"},\"colorscale\":[[0.0,\"#0d0887\"],[0.1111111111111111,\"#46039f\"],[0.2222222222222222,\"#7201a8\"],[0.3333333333333333,\"#9c179e\"],[0.4444444444444444,\"#bd3786\"],[0.5555555555555556,\"#d8576b\"],[0.6666666666666666,\"#ed7953\"],[0.7777777777777778,\"#fb9f3a\"],[0.8888888888888888,\"#fdca26\"],[1.0,\"#f0f921\"]],\"type\":\"contour\"}],\"heatmapgl\":[{\"colorbar\":{\"outlinewidth\":0,\"ticks\":\"\"},\"colorscale\":[[0.0,\"#0d0887\"],[0.1111111111111111,\"#46039f\"],[0.2222222222222222,\"#7201a8\"],[0.3333333333333333,\"#9c179e\"],[0.4444444444444444,\"#bd3786\"],[0.5555555555555556,\"#d8576b\"],[0.6666666666666666,\"#ed7953\"],[0.7777777777777778,\"#fb9f3a\"],[0.8888888888888888,\"#fdca26\"],[1.0,\"#f0f921\"]],\"type\":\"heatmapgl\"}],\"heatmap\":[{\"colorbar\":{\"outlinewidth\":0,\"ticks\":\"\"},\"colorscale\":[[0.0,\"#0d0887\"],[0.1111111111111111,\"#46039f\"],[0.2222222222222222,\"#7201a8\"],[0.3333333333333333,\"#9c179e\"],[0.4444444444444444,\"#bd3786\"],[0.5555555555555556,\"#d8576b\"],[0.6666666666666666,\"#ed7953\"],[0.7777777777777778,\"#fb9f3a\"],[0.8888888888888888,\"#fdca26\"],[1.0,\"#f0f921\"]],\"type\":\"heatmap\"}],\"histogram2dcontour\":[{\"colorbar\":{\"outlinewidth\":0,\"ticks\":\"\"},\"colorscale\":[[0.0,\"#0d0887\"],[0.1111111111111111,\"#46039f\"],[0.2222222222222222,\"#7201a8\"],[0.3333333333333333,\"#9c179e\"],[0.4444444444444444,\"#bd3786\"],[0.5555555555555556,\"#d8576b\"],[0.6666666666666666,\"#ed7953\"],[0.7777777777777778,\"#fb9f3a\"],[0.8888888888888888,\"#fdca26\"],[1.0,\"#f0f921\"]],\"type\":\"histogram2dcontour\"}],\"histogram2d\":[{\"colorbar\":{\"outlinewidth\":0,\"ticks\":\"\"},\"colorscale\":[[0.0,\"#0d0887\"],[0.1111111111111111,\"#46039f\"],[0.2222222222222222,\"#7201a8\"],[0.3333333333333333,\"#9c179e\"],[0.4444444444444444,\"#bd3786\"],[0.5555555555555556,\"#d8576b\"],[0.6666666666666666,\"#ed7953\"],[0.7777777777777778,\"#fb9f3a\"],[0.8888888888888888,\"#fdca26\"],[1.0,\"#f0f921\"]],\"type\":\"histogram2d\"}],\"histogram\":[{\"marker\":{\"pattern\":{\"fillmode\":\"overlay\",\"size\":10,\"solidity\":0.2}},\"type\":\"histogram\"}],\"mesh3d\":[{\"colorbar\":{\"outlinewidth\":0,\"ticks\":\"\"},\"type\":\"mesh3d\"}],\"parcoords\":[{\"line\":{\"colorbar\":{\"outlinewidth\":0,\"ticks\":\"\"}},\"type\":\"parcoords\"}],\"pie\":[{\"automargin\":true,\"type\":\"pie\"}],\"scatter3d\":[{\"line\":{\"colorbar\":{\"outlinewidth\":0,\"ticks\":\"\"}},\"marker\":{\"colorbar\":{\"outlinewidth\":0,\"ticks\":\"\"}},\"type\":\"scatter3d\"}],\"scattercarpet\":[{\"marker\":{\"colorbar\":{\"outlinewidth\":0,\"ticks\":\"\"}},\"type\":\"scattercarpet\"}],\"scattergeo\":[{\"marker\":{\"colorbar\":{\"outlinewidth\":0,\"ticks\":\"\"}},\"type\":\"scattergeo\"}],\"scattergl\":[{\"marker\":{\"colorbar\":{\"outlinewidth\":0,\"ticks\":\"\"}},\"type\":\"scattergl\"}],\"scattermapbox\":[{\"marker\":{\"colorbar\":{\"outlinewidth\":0,\"ticks\":\"\"}},\"type\":\"scattermapbox\"}],\"scatterpolargl\":[{\"marker\":{\"colorbar\":{\"outlinewidth\":0,\"ticks\":\"\"}},\"type\":\"scatterpolargl\"}],\"scatterpolar\":[{\"marker\":{\"colorbar\":{\"outlinewidth\":0,\"ticks\":\"\"}},\"type\":\"scatterpolar\"}],\"scatter\":[{\"fillpattern\":{\"fillmode\":\"overlay\",\"size\":10,\"solidity\":0.2},\"type\":\"scatter\"}],\"scatterternary\":[{\"marker\":{\"colorbar\":{\"outlinewidth\":0,\"ticks\":\"\"}},\"type\":\"scatterternary\"}],\"surface\":[{\"colorbar\":{\"outlinewidth\":0,\"ticks\":\"\"},\"colorscale\":[[0.0,\"#0d0887\"],[0.1111111111111111,\"#46039f\"],[0.2222222222222222,\"#7201a8\"],[0.3333333333333333,\"#9c179e\"],[0.4444444444444444,\"#bd3786\"],[0.5555555555555556,\"#d8576b\"],[0.6666666666666666,\"#ed7953\"],[0.7777777777777778,\"#fb9f3a\"],[0.8888888888888888,\"#fdca26\"],[1.0,\"#f0f921\"]],\"type\":\"surface\"}],\"table\":[{\"cells\":{\"fill\":{\"color\":\"#EBF0F8\"},\"line\":{\"color\":\"white\"}},\"header\":{\"fill\":{\"color\":\"#C8D4E3\"},\"line\":{\"color\":\"white\"}},\"type\":\"table\"}]},\"layout\":{\"annotationdefaults\":{\"arrowcolor\":\"#2a3f5f\",\"arrowhead\":0,\"arrowwidth\":1},\"autotypenumbers\":\"strict\",\"coloraxis\":{\"colorbar\":{\"outlinewidth\":0,\"ticks\":\"\"}},\"colorscale\":{\"diverging\":[[0,\"#8e0152\"],[0.1,\"#c51b7d\"],[0.2,\"#de77ae\"],[0.3,\"#f1b6da\"],[0.4,\"#fde0ef\"],[0.5,\"#f7f7f7\"],[0.6,\"#e6f5d0\"],[0.7,\"#b8e186\"],[0.8,\"#7fbc41\"],[0.9,\"#4d9221\"],[1,\"#276419\"]],\"sequential\":[[0.0,\"#0d0887\"],[0.1111111111111111,\"#46039f\"],[0.2222222222222222,\"#7201a8\"],[0.3333333333333333,\"#9c179e\"],[0.4444444444444444,\"#bd3786\"],[0.5555555555555556,\"#d8576b\"],[0.6666666666666666,\"#ed7953\"],[0.7777777777777778,\"#fb9f3a\"],[0.8888888888888888,\"#fdca26\"],[1.0,\"#f0f921\"]],\"sequentialminus\":[[0.0,\"#0d0887\"],[0.1111111111111111,\"#46039f\"],[0.2222222222222222,\"#7201a8\"],[0.3333333333333333,\"#9c179e\"],[0.4444444444444444,\"#bd3786\"],[0.5555555555555556,\"#d8576b\"],[0.6666666666666666,\"#ed7953\"],[0.7777777777777778,\"#fb9f3a\"],[0.8888888888888888,\"#fdca26\"],[1.0,\"#f0f921\"]]},\"colorway\":[\"#636efa\",\"#EF553B\",\"#00cc96\",\"#ab63fa\",\"#FFA15A\",\"#19d3f3\",\"#FF6692\",\"#B6E880\",\"#FF97FF\",\"#FECB52\"],\"font\":{\"color\":\"#2a3f5f\"},\"geo\":{\"bgcolor\":\"white\",\"lakecolor\":\"white\",\"landcolor\":\"#E5ECF6\",\"showlakes\":true,\"showland\":true,\"subunitcolor\":\"white\"},\"hoverlabel\":{\"align\":\"left\"},\"hovermode\":\"closest\",\"mapbox\":{\"style\":\"light\"},\"paper_bgcolor\":\"white\",\"plot_bgcolor\":\"#E5ECF6\",\"polar\":{\"angularaxis\":{\"gridcolor\":\"white\",\"linecolor\":\"white\",\"ticks\":\"\"},\"bgcolor\":\"#E5ECF6\",\"radialaxis\":{\"gridcolor\":\"white\",\"linecolor\":\"white\",\"ticks\":\"\"}},\"scene\":{\"xaxis\":{\"backgroundcolor\":\"#E5ECF6\",\"gridcolor\":\"white\",\"gridwidth\":2,\"linecolor\":\"white\",\"showbackground\":true,\"ticks\":\"\",\"zerolinecolor\":\"white\"},\"yaxis\":{\"backgroundcolor\":\"#E5ECF6\",\"gridcolor\":\"white\",\"gridwidth\":2,\"linecolor\":\"white\",\"showbackground\":true,\"ticks\":\"\",\"zerolinecolor\":\"white\"},\"zaxis\":{\"backgroundcolor\":\"#E5ECF6\",\"gridcolor\":\"white\",\"gridwidth\":2,\"linecolor\":\"white\",\"showbackground\":true,\"ticks\":\"\",\"zerolinecolor\":\"white\"}},\"shapedefaults\":{\"line\":{\"color\":\"#2a3f5f\"}},\"ternary\":{\"aaxis\":{\"gridcolor\":\"white\",\"linecolor\":\"white\",\"ticks\":\"\"},\"baxis\":{\"gridcolor\":\"white\",\"linecolor\":\"white\",\"ticks\":\"\"},\"bgcolor\":\"#E5ECF6\",\"caxis\":{\"gridcolor\":\"white\",\"linecolor\":\"white\",\"ticks\":\"\"}},\"title\":{\"x\":0.05},\"xaxis\":{\"automargin\":true,\"gridcolor\":\"white\",\"linecolor\":\"white\",\"ticks\":\"\",\"title\":{\"standoff\":15},\"zerolinecolor\":\"white\",\"zerolinewidth\":2},\"yaxis\":{\"automargin\":true,\"gridcolor\":\"white\",\"linecolor\":\"white\",\"ticks\":\"\",\"title\":{\"standoff\":15},\"zerolinecolor\":\"white\",\"zerolinewidth\":2}}},\"title\":{\"font\":{\"color\":\"#4D5663\"}},\"xaxis\":{\"gridcolor\":\"#E1E5ED\",\"showgrid\":true,\"tickfont\":{\"color\":\"#4D5663\"},\"title\":{\"font\":{\"color\":\"#4D5663\"},\"text\":\"\"},\"zerolinecolor\":\"#E1E5ED\"},\"yaxis\":{\"gridcolor\":\"#E1E5ED\",\"showgrid\":true,\"tickfont\":{\"color\":\"#4D5663\"},\"title\":{\"font\":{\"color\":\"#4D5663\"},\"text\":\"\"},\"zerolinecolor\":\"#E1E5ED\"}},                        {\"showLink\": true, \"linkText\": \"Export to plot.ly\", \"plotlyServerURL\": \"https://plot.ly\", \"responsive\": true}                    ).then(function(){\n",
       "                            \n",
       "var gd = document.getElementById('6d586dd6-031f-4b82-9189-6a1e019e805e');\n",
       "var x = new MutationObserver(function (mutations, observer) {{\n",
       "        var display = window.getComputedStyle(gd).display;\n",
       "        if (!display || display === 'none') {{\n",
       "            console.log([gd, 'removed!']);\n",
       "            Plotly.purge(gd);\n",
       "            observer.disconnect();\n",
       "        }}\n",
       "}});\n",
       "\n",
       "// Listen for the removal of the full notebook cells\n",
       "var notebookContainer = gd.closest('#notebook-container');\n",
       "if (notebookContainer) {{\n",
       "    x.observe(notebookContainer, {childList: true});\n",
       "}}\n",
       "\n",
       "// Listen for the clearing of the current output cell\n",
       "var outputEl = gd.closest('.output');\n",
       "if (outputEl) {{\n",
       "    x.observe(outputEl, {childList: true});\n",
       "}}\n",
       "\n",
       "                        })                };                });            </script>        </div>"
      ]
     },
     "metadata": {},
     "output_type": "display_data"
    }
   ],
   "source": [
    "df.iplot() "
   ]
  },
  {
   "cell_type": "code",
   "execution_count": 34,
   "metadata": {},
   "outputs": [
    {
     "data": {
      "application/vnd.plotly.v1+json": {
       "config": {
        "linkText": "Export to plot.ly",
        "plotlyServerURL": "https://plot.ly",
        "showLink": true
       },
       "data": [
        {
         "line": {
          "color": "rgba(255, 153, 51, 1.0)",
          "dash": "solid",
          "shape": "linear",
          "width": 1.3
         },
         "marker": {
          "size": 10,
          "symbol": "circle"
         },
         "mode": "markers",
         "name": "B",
         "text": "",
         "type": "scatter",
         "x": [
          -0.5893247467893137,
          0.06357799381554469,
          0.3335160921609745,
          0.3243661733043439,
          0.6787084891857187,
          -0.8798125623521266,
          -0.061710317783818004,
          -0.6900260083396907,
          -1.0522257446491912,
          0.2590016072445179,
          1.122478052572237,
          -0.30449682024732316,
          2.267454273919806,
          1.123114298512772,
          -0.6257724174399768,
          1.701367743435107,
          -0.26754379725565747,
          0.3003012512826872,
          -0.3777573284785868,
          -0.49072235963782135,
          0.47438039624374584,
          -0.9607355212592849,
          -0.01448730604106568,
          0.7818381394772317,
          0.47532496228524435,
          -0.8274720991535782,
          -0.9284276067853057,
          -1.488251013296298,
          0.23396954153909585,
          1.869180554136494,
          -0.27883637077933304,
          -0.49624437594324633,
          0.879061425460165,
          0.019113394365269577,
          1.1757641619276693,
          0.5894504709946624,
          1.4571618706876532,
          0.2106774240345165,
          -1.2182225650030216,
          -0.26967153456414256,
          0.8386234979200884,
          -1.1357835340401106,
          0.8926944889147607,
          -0.30968190234772086,
          1.0517072919721753,
          -1.2292761269220487,
          0.1429175250658092,
          -0.20868482281688108,
          0.5809020967712989,
          -1.1356002159648928,
          0.5996902800483412,
          1.7939424342799457,
          0.5131548974217541,
          1.172634706569258,
          -0.5766421668040401,
          0.46792076906214874,
          0.9969095439213087,
          0.21079364926988753,
          -1.306177547922756,
          -0.9305224274786199,
          0.4682250885871653,
          0.9693097901681132,
          -2.422557021111485,
          0.7858934649760749,
          -0.42506148315700365,
          -1.1776687308011278,
          2.2897119366258867,
          -0.7217004741651094,
          -0.9737110269480089,
          0.4190362375628981,
          -0.7391331202884779,
          -0.5555335418005726,
          -0.6785442909794438,
          -0.5230462779813413,
          -0.19618762434273726,
          -1.020057265171055,
          1.381583295856783,
          -1.3195078598361525,
          0.11768444018206939,
          0.07088724711071444,
          -0.41152734532531077,
          -0.2144863229665085,
          0.3000765406875,
          0.6506309442988503,
          0.8406330967821201,
          0.6551793622147913,
          -1.0321856810764007,
          0.5340585373125538,
          -0.062237136294529594,
          0.2250207871795296,
          0.8894595124404172,
          1.3538895386143526,
          0.2817394146169772,
          1.2786671214167356,
          -0.33824826463402663,
          1.1999423130980735,
          0.04203995852535922,
          1.149306256216227,
          1.641525664697918,
          -0.6463223417336121
         ],
         "y": [
          1.8124925870160997,
          1.086663682175712,
          -1.8953243258357049,
          -0.392843436166962,
          -0.1567169632575485,
          0.9645413080533394,
          0.17939239711442306,
          -0.5596859964104648,
          0.08895987969414001,
          1.2410834269061197,
          -0.16635960086585302,
          -0.2693807178383773,
          0.8616972888977513,
          -0.32162793172586895,
          -0.7263427607658054,
          0.19433049801394328,
          0.9230331246428911,
          1.6738866616294028,
          2.844028514290566,
          0.08124111784770374,
          1.559763934272282,
          -0.028424724115640336,
          -1.5978583981740588,
          1.3928576720947006,
          2.0229086490252826,
          -1.7694810175837032,
          0.048379614153000024,
          -1.079273422471972,
          1.2672551795759603,
          -0.1387742179814284,
          0.17791343334287685,
          -0.16720070633069986,
          -0.10054709814906158,
          -0.4045908852076268,
          0.12613317418414827,
          -0.5705034300132444,
          0.46209916749023333,
          0.4246966632128942,
          -0.8374278258285641,
          -0.9638366983275459,
          0.976890575946419,
          0.7835331653136482,
          2.033276023577144,
          1.1199398530052502,
          0.41138271732725634,
          1.0078069220383363,
          -1.17204783089823,
          -0.030259256831799808,
          -0.0725649072425263,
          -1.4986111479891409,
          0.6024912562451382,
          -0.34153690368730827,
          -1.015779510613287,
          0.6290209644622186,
          1.063457337554401,
          0.836723127079669,
          0.15820480216977437,
          -1.5203659349823258,
          -0.8072700824714942,
          0.4091445040915564,
          0.11572276858949519,
          -0.7164543939959533,
          -0.07286098502404578,
          0.38153643710956087,
          0.8543380617745421,
          -0.1165213944519551,
          0.6319713589030436,
          -1.724235407313587,
          0.386413105368971,
          -0.2386928216312317,
          0.732732670662475,
          -0.24461445087908382,
          -0.15065292063607347,
          1.5751534559338005,
          -1.5582891131847143,
          -0.18228298191894451,
          -0.41116032632912836,
          -0.17708445099528772,
          0.24337163271237103,
          1.192683688423048,
          0.9782283130777022,
          0.24352349186539524,
          -0.9532991377363603,
          -0.6462511604959087,
          0.7085017132965485,
          -2.1084373382894226,
          -0.5809716735247753,
          0.8850207737297211,
          0.246091165930676,
          -0.503503699045387,
          -2.0346014589949073,
          0.7399600548898199,
          0.867255339032245,
          2.6404520588474565,
          -0.4100752894175069,
          0.8762080237341998,
          0.07387253745176947,
          0.05732143006845413,
          0.4586850385176115,
          0.8508544486089744
         ]
        }
       ],
       "layout": {
        "legend": {
         "bgcolor": "#F5F6F9",
         "font": {
          "color": "#4D5663"
         }
        },
        "paper_bgcolor": "#F5F6F9",
        "plot_bgcolor": "#F5F6F9",
        "template": {
         "data": {
          "bar": [
           {
            "error_x": {
             "color": "#2a3f5f"
            },
            "error_y": {
             "color": "#2a3f5f"
            },
            "marker": {
             "line": {
              "color": "#E5ECF6",
              "width": 0.5
             },
             "pattern": {
              "fillmode": "overlay",
              "size": 10,
              "solidity": 0.2
             }
            },
            "type": "bar"
           }
          ],
          "barpolar": [
           {
            "marker": {
             "line": {
              "color": "#E5ECF6",
              "width": 0.5
             },
             "pattern": {
              "fillmode": "overlay",
              "size": 10,
              "solidity": 0.2
             }
            },
            "type": "barpolar"
           }
          ],
          "carpet": [
           {
            "aaxis": {
             "endlinecolor": "#2a3f5f",
             "gridcolor": "white",
             "linecolor": "white",
             "minorgridcolor": "white",
             "startlinecolor": "#2a3f5f"
            },
            "baxis": {
             "endlinecolor": "#2a3f5f",
             "gridcolor": "white",
             "linecolor": "white",
             "minorgridcolor": "white",
             "startlinecolor": "#2a3f5f"
            },
            "type": "carpet"
           }
          ],
          "choropleth": [
           {
            "colorbar": {
             "outlinewidth": 0,
             "ticks": ""
            },
            "type": "choropleth"
           }
          ],
          "contour": [
           {
            "colorbar": {
             "outlinewidth": 0,
             "ticks": ""
            },
            "colorscale": [
             [
              0,
              "#0d0887"
             ],
             [
              0.1111111111111111,
              "#46039f"
             ],
             [
              0.2222222222222222,
              "#7201a8"
             ],
             [
              0.3333333333333333,
              "#9c179e"
             ],
             [
              0.4444444444444444,
              "#bd3786"
             ],
             [
              0.5555555555555556,
              "#d8576b"
             ],
             [
              0.6666666666666666,
              "#ed7953"
             ],
             [
              0.7777777777777778,
              "#fb9f3a"
             ],
             [
              0.8888888888888888,
              "#fdca26"
             ],
             [
              1,
              "#f0f921"
             ]
            ],
            "type": "contour"
           }
          ],
          "contourcarpet": [
           {
            "colorbar": {
             "outlinewidth": 0,
             "ticks": ""
            },
            "type": "contourcarpet"
           }
          ],
          "heatmap": [
           {
            "colorbar": {
             "outlinewidth": 0,
             "ticks": ""
            },
            "colorscale": [
             [
              0,
              "#0d0887"
             ],
             [
              0.1111111111111111,
              "#46039f"
             ],
             [
              0.2222222222222222,
              "#7201a8"
             ],
             [
              0.3333333333333333,
              "#9c179e"
             ],
             [
              0.4444444444444444,
              "#bd3786"
             ],
             [
              0.5555555555555556,
              "#d8576b"
             ],
             [
              0.6666666666666666,
              "#ed7953"
             ],
             [
              0.7777777777777778,
              "#fb9f3a"
             ],
             [
              0.8888888888888888,
              "#fdca26"
             ],
             [
              1,
              "#f0f921"
             ]
            ],
            "type": "heatmap"
           }
          ],
          "heatmapgl": [
           {
            "colorbar": {
             "outlinewidth": 0,
             "ticks": ""
            },
            "colorscale": [
             [
              0,
              "#0d0887"
             ],
             [
              0.1111111111111111,
              "#46039f"
             ],
             [
              0.2222222222222222,
              "#7201a8"
             ],
             [
              0.3333333333333333,
              "#9c179e"
             ],
             [
              0.4444444444444444,
              "#bd3786"
             ],
             [
              0.5555555555555556,
              "#d8576b"
             ],
             [
              0.6666666666666666,
              "#ed7953"
             ],
             [
              0.7777777777777778,
              "#fb9f3a"
             ],
             [
              0.8888888888888888,
              "#fdca26"
             ],
             [
              1,
              "#f0f921"
             ]
            ],
            "type": "heatmapgl"
           }
          ],
          "histogram": [
           {
            "marker": {
             "pattern": {
              "fillmode": "overlay",
              "size": 10,
              "solidity": 0.2
             }
            },
            "type": "histogram"
           }
          ],
          "histogram2d": [
           {
            "colorbar": {
             "outlinewidth": 0,
             "ticks": ""
            },
            "colorscale": [
             [
              0,
              "#0d0887"
             ],
             [
              0.1111111111111111,
              "#46039f"
             ],
             [
              0.2222222222222222,
              "#7201a8"
             ],
             [
              0.3333333333333333,
              "#9c179e"
             ],
             [
              0.4444444444444444,
              "#bd3786"
             ],
             [
              0.5555555555555556,
              "#d8576b"
             ],
             [
              0.6666666666666666,
              "#ed7953"
             ],
             [
              0.7777777777777778,
              "#fb9f3a"
             ],
             [
              0.8888888888888888,
              "#fdca26"
             ],
             [
              1,
              "#f0f921"
             ]
            ],
            "type": "histogram2d"
           }
          ],
          "histogram2dcontour": [
           {
            "colorbar": {
             "outlinewidth": 0,
             "ticks": ""
            },
            "colorscale": [
             [
              0,
              "#0d0887"
             ],
             [
              0.1111111111111111,
              "#46039f"
             ],
             [
              0.2222222222222222,
              "#7201a8"
             ],
             [
              0.3333333333333333,
              "#9c179e"
             ],
             [
              0.4444444444444444,
              "#bd3786"
             ],
             [
              0.5555555555555556,
              "#d8576b"
             ],
             [
              0.6666666666666666,
              "#ed7953"
             ],
             [
              0.7777777777777778,
              "#fb9f3a"
             ],
             [
              0.8888888888888888,
              "#fdca26"
             ],
             [
              1,
              "#f0f921"
             ]
            ],
            "type": "histogram2dcontour"
           }
          ],
          "mesh3d": [
           {
            "colorbar": {
             "outlinewidth": 0,
             "ticks": ""
            },
            "type": "mesh3d"
           }
          ],
          "parcoords": [
           {
            "line": {
             "colorbar": {
              "outlinewidth": 0,
              "ticks": ""
             }
            },
            "type": "parcoords"
           }
          ],
          "pie": [
           {
            "automargin": true,
            "type": "pie"
           }
          ],
          "scatter": [
           {
            "fillpattern": {
             "fillmode": "overlay",
             "size": 10,
             "solidity": 0.2
            },
            "type": "scatter"
           }
          ],
          "scatter3d": [
           {
            "line": {
             "colorbar": {
              "outlinewidth": 0,
              "ticks": ""
             }
            },
            "marker": {
             "colorbar": {
              "outlinewidth": 0,
              "ticks": ""
             }
            },
            "type": "scatter3d"
           }
          ],
          "scattercarpet": [
           {
            "marker": {
             "colorbar": {
              "outlinewidth": 0,
              "ticks": ""
             }
            },
            "type": "scattercarpet"
           }
          ],
          "scattergeo": [
           {
            "marker": {
             "colorbar": {
              "outlinewidth": 0,
              "ticks": ""
             }
            },
            "type": "scattergeo"
           }
          ],
          "scattergl": [
           {
            "marker": {
             "colorbar": {
              "outlinewidth": 0,
              "ticks": ""
             }
            },
            "type": "scattergl"
           }
          ],
          "scattermapbox": [
           {
            "marker": {
             "colorbar": {
              "outlinewidth": 0,
              "ticks": ""
             }
            },
            "type": "scattermapbox"
           }
          ],
          "scatterpolar": [
           {
            "marker": {
             "colorbar": {
              "outlinewidth": 0,
              "ticks": ""
             }
            },
            "type": "scatterpolar"
           }
          ],
          "scatterpolargl": [
           {
            "marker": {
             "colorbar": {
              "outlinewidth": 0,
              "ticks": ""
             }
            },
            "type": "scatterpolargl"
           }
          ],
          "scatterternary": [
           {
            "marker": {
             "colorbar": {
              "outlinewidth": 0,
              "ticks": ""
             }
            },
            "type": "scatterternary"
           }
          ],
          "surface": [
           {
            "colorbar": {
             "outlinewidth": 0,
             "ticks": ""
            },
            "colorscale": [
             [
              0,
              "#0d0887"
             ],
             [
              0.1111111111111111,
              "#46039f"
             ],
             [
              0.2222222222222222,
              "#7201a8"
             ],
             [
              0.3333333333333333,
              "#9c179e"
             ],
             [
              0.4444444444444444,
              "#bd3786"
             ],
             [
              0.5555555555555556,
              "#d8576b"
             ],
             [
              0.6666666666666666,
              "#ed7953"
             ],
             [
              0.7777777777777778,
              "#fb9f3a"
             ],
             [
              0.8888888888888888,
              "#fdca26"
             ],
             [
              1,
              "#f0f921"
             ]
            ],
            "type": "surface"
           }
          ],
          "table": [
           {
            "cells": {
             "fill": {
              "color": "#EBF0F8"
             },
             "line": {
              "color": "white"
             }
            },
            "header": {
             "fill": {
              "color": "#C8D4E3"
             },
             "line": {
              "color": "white"
             }
            },
            "type": "table"
           }
          ]
         },
         "layout": {
          "annotationdefaults": {
           "arrowcolor": "#2a3f5f",
           "arrowhead": 0,
           "arrowwidth": 1
          },
          "autotypenumbers": "strict",
          "coloraxis": {
           "colorbar": {
            "outlinewidth": 0,
            "ticks": ""
           }
          },
          "colorscale": {
           "diverging": [
            [
             0,
             "#8e0152"
            ],
            [
             0.1,
             "#c51b7d"
            ],
            [
             0.2,
             "#de77ae"
            ],
            [
             0.3,
             "#f1b6da"
            ],
            [
             0.4,
             "#fde0ef"
            ],
            [
             0.5,
             "#f7f7f7"
            ],
            [
             0.6,
             "#e6f5d0"
            ],
            [
             0.7,
             "#b8e186"
            ],
            [
             0.8,
             "#7fbc41"
            ],
            [
             0.9,
             "#4d9221"
            ],
            [
             1,
             "#276419"
            ]
           ],
           "sequential": [
            [
             0,
             "#0d0887"
            ],
            [
             0.1111111111111111,
             "#46039f"
            ],
            [
             0.2222222222222222,
             "#7201a8"
            ],
            [
             0.3333333333333333,
             "#9c179e"
            ],
            [
             0.4444444444444444,
             "#bd3786"
            ],
            [
             0.5555555555555556,
             "#d8576b"
            ],
            [
             0.6666666666666666,
             "#ed7953"
            ],
            [
             0.7777777777777778,
             "#fb9f3a"
            ],
            [
             0.8888888888888888,
             "#fdca26"
            ],
            [
             1,
             "#f0f921"
            ]
           ],
           "sequentialminus": [
            [
             0,
             "#0d0887"
            ],
            [
             0.1111111111111111,
             "#46039f"
            ],
            [
             0.2222222222222222,
             "#7201a8"
            ],
            [
             0.3333333333333333,
             "#9c179e"
            ],
            [
             0.4444444444444444,
             "#bd3786"
            ],
            [
             0.5555555555555556,
             "#d8576b"
            ],
            [
             0.6666666666666666,
             "#ed7953"
            ],
            [
             0.7777777777777778,
             "#fb9f3a"
            ],
            [
             0.8888888888888888,
             "#fdca26"
            ],
            [
             1,
             "#f0f921"
            ]
           ]
          },
          "colorway": [
           "#636efa",
           "#EF553B",
           "#00cc96",
           "#ab63fa",
           "#FFA15A",
           "#19d3f3",
           "#FF6692",
           "#B6E880",
           "#FF97FF",
           "#FECB52"
          ],
          "font": {
           "color": "#2a3f5f"
          },
          "geo": {
           "bgcolor": "white",
           "lakecolor": "white",
           "landcolor": "#E5ECF6",
           "showlakes": true,
           "showland": true,
           "subunitcolor": "white"
          },
          "hoverlabel": {
           "align": "left"
          },
          "hovermode": "closest",
          "mapbox": {
           "style": "light"
          },
          "paper_bgcolor": "white",
          "plot_bgcolor": "#E5ECF6",
          "polar": {
           "angularaxis": {
            "gridcolor": "white",
            "linecolor": "white",
            "ticks": ""
           },
           "bgcolor": "#E5ECF6",
           "radialaxis": {
            "gridcolor": "white",
            "linecolor": "white",
            "ticks": ""
           }
          },
          "scene": {
           "xaxis": {
            "backgroundcolor": "#E5ECF6",
            "gridcolor": "white",
            "gridwidth": 2,
            "linecolor": "white",
            "showbackground": true,
            "ticks": "",
            "zerolinecolor": "white"
           },
           "yaxis": {
            "backgroundcolor": "#E5ECF6",
            "gridcolor": "white",
            "gridwidth": 2,
            "linecolor": "white",
            "showbackground": true,
            "ticks": "",
            "zerolinecolor": "white"
           },
           "zaxis": {
            "backgroundcolor": "#E5ECF6",
            "gridcolor": "white",
            "gridwidth": 2,
            "linecolor": "white",
            "showbackground": true,
            "ticks": "",
            "zerolinecolor": "white"
           }
          },
          "shapedefaults": {
           "line": {
            "color": "#2a3f5f"
           }
          },
          "ternary": {
           "aaxis": {
            "gridcolor": "white",
            "linecolor": "white",
            "ticks": ""
           },
           "baxis": {
            "gridcolor": "white",
            "linecolor": "white",
            "ticks": ""
           },
           "bgcolor": "#E5ECF6",
           "caxis": {
            "gridcolor": "white",
            "linecolor": "white",
            "ticks": ""
           }
          },
          "title": {
           "x": 0.05
          },
          "xaxis": {
           "automargin": true,
           "gridcolor": "white",
           "linecolor": "white",
           "ticks": "",
           "title": {
            "standoff": 15
           },
           "zerolinecolor": "white",
           "zerolinewidth": 2
          },
          "yaxis": {
           "automargin": true,
           "gridcolor": "white",
           "linecolor": "white",
           "ticks": "",
           "title": {
            "standoff": 15
           },
           "zerolinecolor": "white",
           "zerolinewidth": 2
          }
         }
        },
        "title": {
         "font": {
          "color": "#4D5663"
         }
        },
        "xaxis": {
         "gridcolor": "#E1E5ED",
         "showgrid": true,
         "tickfont": {
          "color": "#4D5663"
         },
         "title": {
          "font": {
           "color": "#4D5663"
          },
          "text": ""
         },
         "zerolinecolor": "#E1E5ED"
        },
        "yaxis": {
         "gridcolor": "#E1E5ED",
         "showgrid": true,
         "tickfont": {
          "color": "#4D5663"
         },
         "title": {
          "font": {
           "color": "#4D5663"
          },
          "text": ""
         },
         "zerolinecolor": "#E1E5ED"
        }
       }
      },
      "text/html": [
       "<div>                            <div id=\"5c3befe5-8b56-4da5-b621-2e297f3f6d7b\" class=\"plotly-graph-div\" style=\"height:525px; width:100%;\"></div>            <script type=\"text/javascript\">                require([\"plotly\"], function(Plotly) {                    window.PLOTLYENV=window.PLOTLYENV || {};\n",
       "                    window.PLOTLYENV.BASE_URL='https://plot.ly';                                    if (document.getElementById(\"5c3befe5-8b56-4da5-b621-2e297f3f6d7b\")) {                    Plotly.newPlot(                        \"5c3befe5-8b56-4da5-b621-2e297f3f6d7b\",                        [{\"line\":{\"color\":\"rgba(255, 153, 51, 1.0)\",\"dash\":\"solid\",\"shape\":\"linear\",\"width\":1.3},\"marker\":{\"size\":10,\"symbol\":\"circle\"},\"mode\":\"markers\",\"name\":\"B\",\"text\":\"\",\"x\":[-0.5893247467893137,0.06357799381554469,0.3335160921609745,0.3243661733043439,0.6787084891857187,-0.8798125623521266,-0.061710317783818004,-0.6900260083396907,-1.0522257446491912,0.2590016072445179,1.122478052572237,-0.30449682024732316,2.267454273919806,1.123114298512772,-0.6257724174399768,1.701367743435107,-0.26754379725565747,0.3003012512826872,-0.3777573284785868,-0.49072235963782135,0.47438039624374584,-0.9607355212592849,-0.01448730604106568,0.7818381394772317,0.47532496228524435,-0.8274720991535782,-0.9284276067853057,-1.488251013296298,0.23396954153909585,1.869180554136494,-0.27883637077933304,-0.49624437594324633,0.879061425460165,0.019113394365269577,1.1757641619276693,0.5894504709946624,1.4571618706876532,0.2106774240345165,-1.2182225650030216,-0.26967153456414256,0.8386234979200884,-1.1357835340401106,0.8926944889147607,-0.30968190234772086,1.0517072919721753,-1.2292761269220487,0.1429175250658092,-0.20868482281688108,0.5809020967712989,-1.1356002159648928,0.5996902800483412,1.7939424342799457,0.5131548974217541,1.172634706569258,-0.5766421668040401,0.46792076906214874,0.9969095439213087,0.21079364926988753,-1.306177547922756,-0.9305224274786199,0.4682250885871653,0.9693097901681132,-2.422557021111485,0.7858934649760749,-0.42506148315700365,-1.1776687308011278,2.2897119366258867,-0.7217004741651094,-0.9737110269480089,0.4190362375628981,-0.7391331202884779,-0.5555335418005726,-0.6785442909794438,-0.5230462779813413,-0.19618762434273726,-1.020057265171055,1.381583295856783,-1.3195078598361525,0.11768444018206939,0.07088724711071444,-0.41152734532531077,-0.2144863229665085,0.3000765406875,0.6506309442988503,0.8406330967821201,0.6551793622147913,-1.0321856810764007,0.5340585373125538,-0.062237136294529594,0.2250207871795296,0.8894595124404172,1.3538895386143526,0.2817394146169772,1.2786671214167356,-0.33824826463402663,1.1999423130980735,0.04203995852535922,1.149306256216227,1.641525664697918,-0.6463223417336121],\"y\":[1.8124925870160997,1.086663682175712,-1.8953243258357049,-0.392843436166962,-0.1567169632575485,0.9645413080533394,0.17939239711442306,-0.5596859964104648,0.08895987969414001,1.2410834269061197,-0.16635960086585302,-0.2693807178383773,0.8616972888977513,-0.32162793172586895,-0.7263427607658054,0.19433049801394328,0.9230331246428911,1.6738866616294028,2.844028514290566,0.08124111784770374,1.559763934272282,-0.028424724115640336,-1.5978583981740588,1.3928576720947006,2.0229086490252826,-1.7694810175837032,0.048379614153000024,-1.079273422471972,1.2672551795759603,-0.1387742179814284,0.17791343334287685,-0.16720070633069986,-0.10054709814906158,-0.4045908852076268,0.12613317418414827,-0.5705034300132444,0.46209916749023333,0.4246966632128942,-0.8374278258285641,-0.9638366983275459,0.976890575946419,0.7835331653136482,2.033276023577144,1.1199398530052502,0.41138271732725634,1.0078069220383363,-1.17204783089823,-0.030259256831799808,-0.0725649072425263,-1.4986111479891409,0.6024912562451382,-0.34153690368730827,-1.015779510613287,0.6290209644622186,1.063457337554401,0.836723127079669,0.15820480216977437,-1.5203659349823258,-0.8072700824714942,0.4091445040915564,0.11572276858949519,-0.7164543939959533,-0.07286098502404578,0.38153643710956087,0.8543380617745421,-0.1165213944519551,0.6319713589030436,-1.724235407313587,0.386413105368971,-0.2386928216312317,0.732732670662475,-0.24461445087908382,-0.15065292063607347,1.5751534559338005,-1.5582891131847143,-0.18228298191894451,-0.41116032632912836,-0.17708445099528772,0.24337163271237103,1.192683688423048,0.9782283130777022,0.24352349186539524,-0.9532991377363603,-0.6462511604959087,0.7085017132965485,-2.1084373382894226,-0.5809716735247753,0.8850207737297211,0.246091165930676,-0.503503699045387,-2.0346014589949073,0.7399600548898199,0.867255339032245,2.6404520588474565,-0.4100752894175069,0.8762080237341998,0.07387253745176947,0.05732143006845413,0.4586850385176115,0.8508544486089744],\"type\":\"scatter\"}],                        {\"legend\":{\"bgcolor\":\"#F5F6F9\",\"font\":{\"color\":\"#4D5663\"}},\"paper_bgcolor\":\"#F5F6F9\",\"plot_bgcolor\":\"#F5F6F9\",\"template\":{\"data\":{\"barpolar\":[{\"marker\":{\"line\":{\"color\":\"#E5ECF6\",\"width\":0.5},\"pattern\":{\"fillmode\":\"overlay\",\"size\":10,\"solidity\":0.2}},\"type\":\"barpolar\"}],\"bar\":[{\"error_x\":{\"color\":\"#2a3f5f\"},\"error_y\":{\"color\":\"#2a3f5f\"},\"marker\":{\"line\":{\"color\":\"#E5ECF6\",\"width\":0.5},\"pattern\":{\"fillmode\":\"overlay\",\"size\":10,\"solidity\":0.2}},\"type\":\"bar\"}],\"carpet\":[{\"aaxis\":{\"endlinecolor\":\"#2a3f5f\",\"gridcolor\":\"white\",\"linecolor\":\"white\",\"minorgridcolor\":\"white\",\"startlinecolor\":\"#2a3f5f\"},\"baxis\":{\"endlinecolor\":\"#2a3f5f\",\"gridcolor\":\"white\",\"linecolor\":\"white\",\"minorgridcolor\":\"white\",\"startlinecolor\":\"#2a3f5f\"},\"type\":\"carpet\"}],\"choropleth\":[{\"colorbar\":{\"outlinewidth\":0,\"ticks\":\"\"},\"type\":\"choropleth\"}],\"contourcarpet\":[{\"colorbar\":{\"outlinewidth\":0,\"ticks\":\"\"},\"type\":\"contourcarpet\"}],\"contour\":[{\"colorbar\":{\"outlinewidth\":0,\"ticks\":\"\"},\"colorscale\":[[0.0,\"#0d0887\"],[0.1111111111111111,\"#46039f\"],[0.2222222222222222,\"#7201a8\"],[0.3333333333333333,\"#9c179e\"],[0.4444444444444444,\"#bd3786\"],[0.5555555555555556,\"#d8576b\"],[0.6666666666666666,\"#ed7953\"],[0.7777777777777778,\"#fb9f3a\"],[0.8888888888888888,\"#fdca26\"],[1.0,\"#f0f921\"]],\"type\":\"contour\"}],\"heatmapgl\":[{\"colorbar\":{\"outlinewidth\":0,\"ticks\":\"\"},\"colorscale\":[[0.0,\"#0d0887\"],[0.1111111111111111,\"#46039f\"],[0.2222222222222222,\"#7201a8\"],[0.3333333333333333,\"#9c179e\"],[0.4444444444444444,\"#bd3786\"],[0.5555555555555556,\"#d8576b\"],[0.6666666666666666,\"#ed7953\"],[0.7777777777777778,\"#fb9f3a\"],[0.8888888888888888,\"#fdca26\"],[1.0,\"#f0f921\"]],\"type\":\"heatmapgl\"}],\"heatmap\":[{\"colorbar\":{\"outlinewidth\":0,\"ticks\":\"\"},\"colorscale\":[[0.0,\"#0d0887\"],[0.1111111111111111,\"#46039f\"],[0.2222222222222222,\"#7201a8\"],[0.3333333333333333,\"#9c179e\"],[0.4444444444444444,\"#bd3786\"],[0.5555555555555556,\"#d8576b\"],[0.6666666666666666,\"#ed7953\"],[0.7777777777777778,\"#fb9f3a\"],[0.8888888888888888,\"#fdca26\"],[1.0,\"#f0f921\"]],\"type\":\"heatmap\"}],\"histogram2dcontour\":[{\"colorbar\":{\"outlinewidth\":0,\"ticks\":\"\"},\"colorscale\":[[0.0,\"#0d0887\"],[0.1111111111111111,\"#46039f\"],[0.2222222222222222,\"#7201a8\"],[0.3333333333333333,\"#9c179e\"],[0.4444444444444444,\"#bd3786\"],[0.5555555555555556,\"#d8576b\"],[0.6666666666666666,\"#ed7953\"],[0.7777777777777778,\"#fb9f3a\"],[0.8888888888888888,\"#fdca26\"],[1.0,\"#f0f921\"]],\"type\":\"histogram2dcontour\"}],\"histogram2d\":[{\"colorbar\":{\"outlinewidth\":0,\"ticks\":\"\"},\"colorscale\":[[0.0,\"#0d0887\"],[0.1111111111111111,\"#46039f\"],[0.2222222222222222,\"#7201a8\"],[0.3333333333333333,\"#9c179e\"],[0.4444444444444444,\"#bd3786\"],[0.5555555555555556,\"#d8576b\"],[0.6666666666666666,\"#ed7953\"],[0.7777777777777778,\"#fb9f3a\"],[0.8888888888888888,\"#fdca26\"],[1.0,\"#f0f921\"]],\"type\":\"histogram2d\"}],\"histogram\":[{\"marker\":{\"pattern\":{\"fillmode\":\"overlay\",\"size\":10,\"solidity\":0.2}},\"type\":\"histogram\"}],\"mesh3d\":[{\"colorbar\":{\"outlinewidth\":0,\"ticks\":\"\"},\"type\":\"mesh3d\"}],\"parcoords\":[{\"line\":{\"colorbar\":{\"outlinewidth\":0,\"ticks\":\"\"}},\"type\":\"parcoords\"}],\"pie\":[{\"automargin\":true,\"type\":\"pie\"}],\"scatter3d\":[{\"line\":{\"colorbar\":{\"outlinewidth\":0,\"ticks\":\"\"}},\"marker\":{\"colorbar\":{\"outlinewidth\":0,\"ticks\":\"\"}},\"type\":\"scatter3d\"}],\"scattercarpet\":[{\"marker\":{\"colorbar\":{\"outlinewidth\":0,\"ticks\":\"\"}},\"type\":\"scattercarpet\"}],\"scattergeo\":[{\"marker\":{\"colorbar\":{\"outlinewidth\":0,\"ticks\":\"\"}},\"type\":\"scattergeo\"}],\"scattergl\":[{\"marker\":{\"colorbar\":{\"outlinewidth\":0,\"ticks\":\"\"}},\"type\":\"scattergl\"}],\"scattermapbox\":[{\"marker\":{\"colorbar\":{\"outlinewidth\":0,\"ticks\":\"\"}},\"type\":\"scattermapbox\"}],\"scatterpolargl\":[{\"marker\":{\"colorbar\":{\"outlinewidth\":0,\"ticks\":\"\"}},\"type\":\"scatterpolargl\"}],\"scatterpolar\":[{\"marker\":{\"colorbar\":{\"outlinewidth\":0,\"ticks\":\"\"}},\"type\":\"scatterpolar\"}],\"scatter\":[{\"fillpattern\":{\"fillmode\":\"overlay\",\"size\":10,\"solidity\":0.2},\"type\":\"scatter\"}],\"scatterternary\":[{\"marker\":{\"colorbar\":{\"outlinewidth\":0,\"ticks\":\"\"}},\"type\":\"scatterternary\"}],\"surface\":[{\"colorbar\":{\"outlinewidth\":0,\"ticks\":\"\"},\"colorscale\":[[0.0,\"#0d0887\"],[0.1111111111111111,\"#46039f\"],[0.2222222222222222,\"#7201a8\"],[0.3333333333333333,\"#9c179e\"],[0.4444444444444444,\"#bd3786\"],[0.5555555555555556,\"#d8576b\"],[0.6666666666666666,\"#ed7953\"],[0.7777777777777778,\"#fb9f3a\"],[0.8888888888888888,\"#fdca26\"],[1.0,\"#f0f921\"]],\"type\":\"surface\"}],\"table\":[{\"cells\":{\"fill\":{\"color\":\"#EBF0F8\"},\"line\":{\"color\":\"white\"}},\"header\":{\"fill\":{\"color\":\"#C8D4E3\"},\"line\":{\"color\":\"white\"}},\"type\":\"table\"}]},\"layout\":{\"annotationdefaults\":{\"arrowcolor\":\"#2a3f5f\",\"arrowhead\":0,\"arrowwidth\":1},\"autotypenumbers\":\"strict\",\"coloraxis\":{\"colorbar\":{\"outlinewidth\":0,\"ticks\":\"\"}},\"colorscale\":{\"diverging\":[[0,\"#8e0152\"],[0.1,\"#c51b7d\"],[0.2,\"#de77ae\"],[0.3,\"#f1b6da\"],[0.4,\"#fde0ef\"],[0.5,\"#f7f7f7\"],[0.6,\"#e6f5d0\"],[0.7,\"#b8e186\"],[0.8,\"#7fbc41\"],[0.9,\"#4d9221\"],[1,\"#276419\"]],\"sequential\":[[0.0,\"#0d0887\"],[0.1111111111111111,\"#46039f\"],[0.2222222222222222,\"#7201a8\"],[0.3333333333333333,\"#9c179e\"],[0.4444444444444444,\"#bd3786\"],[0.5555555555555556,\"#d8576b\"],[0.6666666666666666,\"#ed7953\"],[0.7777777777777778,\"#fb9f3a\"],[0.8888888888888888,\"#fdca26\"],[1.0,\"#f0f921\"]],\"sequentialminus\":[[0.0,\"#0d0887\"],[0.1111111111111111,\"#46039f\"],[0.2222222222222222,\"#7201a8\"],[0.3333333333333333,\"#9c179e\"],[0.4444444444444444,\"#bd3786\"],[0.5555555555555556,\"#d8576b\"],[0.6666666666666666,\"#ed7953\"],[0.7777777777777778,\"#fb9f3a\"],[0.8888888888888888,\"#fdca26\"],[1.0,\"#f0f921\"]]},\"colorway\":[\"#636efa\",\"#EF553B\",\"#00cc96\",\"#ab63fa\",\"#FFA15A\",\"#19d3f3\",\"#FF6692\",\"#B6E880\",\"#FF97FF\",\"#FECB52\"],\"font\":{\"color\":\"#2a3f5f\"},\"geo\":{\"bgcolor\":\"white\",\"lakecolor\":\"white\",\"landcolor\":\"#E5ECF6\",\"showlakes\":true,\"showland\":true,\"subunitcolor\":\"white\"},\"hoverlabel\":{\"align\":\"left\"},\"hovermode\":\"closest\",\"mapbox\":{\"style\":\"light\"},\"paper_bgcolor\":\"white\",\"plot_bgcolor\":\"#E5ECF6\",\"polar\":{\"angularaxis\":{\"gridcolor\":\"white\",\"linecolor\":\"white\",\"ticks\":\"\"},\"bgcolor\":\"#E5ECF6\",\"radialaxis\":{\"gridcolor\":\"white\",\"linecolor\":\"white\",\"ticks\":\"\"}},\"scene\":{\"xaxis\":{\"backgroundcolor\":\"#E5ECF6\",\"gridcolor\":\"white\",\"gridwidth\":2,\"linecolor\":\"white\",\"showbackground\":true,\"ticks\":\"\",\"zerolinecolor\":\"white\"},\"yaxis\":{\"backgroundcolor\":\"#E5ECF6\",\"gridcolor\":\"white\",\"gridwidth\":2,\"linecolor\":\"white\",\"showbackground\":true,\"ticks\":\"\",\"zerolinecolor\":\"white\"},\"zaxis\":{\"backgroundcolor\":\"#E5ECF6\",\"gridcolor\":\"white\",\"gridwidth\":2,\"linecolor\":\"white\",\"showbackground\":true,\"ticks\":\"\",\"zerolinecolor\":\"white\"}},\"shapedefaults\":{\"line\":{\"color\":\"#2a3f5f\"}},\"ternary\":{\"aaxis\":{\"gridcolor\":\"white\",\"linecolor\":\"white\",\"ticks\":\"\"},\"baxis\":{\"gridcolor\":\"white\",\"linecolor\":\"white\",\"ticks\":\"\"},\"bgcolor\":\"#E5ECF6\",\"caxis\":{\"gridcolor\":\"white\",\"linecolor\":\"white\",\"ticks\":\"\"}},\"title\":{\"x\":0.05},\"xaxis\":{\"automargin\":true,\"gridcolor\":\"white\",\"linecolor\":\"white\",\"ticks\":\"\",\"title\":{\"standoff\":15},\"zerolinecolor\":\"white\",\"zerolinewidth\":2},\"yaxis\":{\"automargin\":true,\"gridcolor\":\"white\",\"linecolor\":\"white\",\"ticks\":\"\",\"title\":{\"standoff\":15},\"zerolinecolor\":\"white\",\"zerolinewidth\":2}}},\"title\":{\"font\":{\"color\":\"#4D5663\"}},\"xaxis\":{\"gridcolor\":\"#E1E5ED\",\"showgrid\":true,\"tickfont\":{\"color\":\"#4D5663\"},\"title\":{\"font\":{\"color\":\"#4D5663\"},\"text\":\"\"},\"zerolinecolor\":\"#E1E5ED\"},\"yaxis\":{\"gridcolor\":\"#E1E5ED\",\"showgrid\":true,\"tickfont\":{\"color\":\"#4D5663\"},\"title\":{\"font\":{\"color\":\"#4D5663\"},\"text\":\"\"},\"zerolinecolor\":\"#E1E5ED\"}},                        {\"showLink\": true, \"linkText\": \"Export to plot.ly\", \"plotlyServerURL\": \"https://plot.ly\", \"responsive\": true}                    ).then(function(){\n",
       "                            \n",
       "var gd = document.getElementById('5c3befe5-8b56-4da5-b621-2e297f3f6d7b');\n",
       "var x = new MutationObserver(function (mutations, observer) {{\n",
       "        var display = window.getComputedStyle(gd).display;\n",
       "        if (!display || display === 'none') {{\n",
       "            console.log([gd, 'removed!']);\n",
       "            Plotly.purge(gd);\n",
       "            observer.disconnect();\n",
       "        }}\n",
       "}});\n",
       "\n",
       "// Listen for the removal of the full notebook cells\n",
       "var notebookContainer = gd.closest('#notebook-container');\n",
       "if (notebookContainer) {{\n",
       "    x.observe(notebookContainer, {childList: true});\n",
       "}}\n",
       "\n",
       "// Listen for the clearing of the current output cell\n",
       "var outputEl = gd.closest('.output');\n",
       "if (outputEl) {{\n",
       "    x.observe(outputEl, {childList: true});\n",
       "}}\n",
       "\n",
       "                        })                };                });            </script>        </div>"
      ]
     },
     "metadata": {},
     "output_type": "display_data"
    }
   ],
   "source": [
    "df.iplot(kind='scatter',x='A',y='B',mode='markers',size=10)"
   ]
  },
  {
   "cell_type": "code",
   "execution_count": 35,
   "metadata": {},
   "outputs": [
    {
     "data": {
      "application/vnd.plotly.v1+json": {
       "config": {
        "linkText": "Export to plot.ly",
        "plotlyServerURL": "https://plot.ly",
        "showLink": true
       },
       "data": [
        {
         "marker": {
          "color": "rgba(255, 153, 51, 0.6)",
          "line": {
           "color": "rgba(255, 153, 51, 1.0)",
           "width": 1
          }
         },
         "name": "Values",
         "orientation": "v",
         "text": "",
         "type": "bar",
         "x": [
          "A",
          "B",
          "C"
         ],
         "y": [
          32,
          43,
          50
         ]
        }
       ],
       "layout": {
        "legend": {
         "bgcolor": "#F5F6F9",
         "font": {
          "color": "#4D5663"
         }
        },
        "paper_bgcolor": "#F5F6F9",
        "plot_bgcolor": "#F5F6F9",
        "template": {
         "data": {
          "bar": [
           {
            "error_x": {
             "color": "#2a3f5f"
            },
            "error_y": {
             "color": "#2a3f5f"
            },
            "marker": {
             "line": {
              "color": "#E5ECF6",
              "width": 0.5
             },
             "pattern": {
              "fillmode": "overlay",
              "size": 10,
              "solidity": 0.2
             }
            },
            "type": "bar"
           }
          ],
          "barpolar": [
           {
            "marker": {
             "line": {
              "color": "#E5ECF6",
              "width": 0.5
             },
             "pattern": {
              "fillmode": "overlay",
              "size": 10,
              "solidity": 0.2
             }
            },
            "type": "barpolar"
           }
          ],
          "carpet": [
           {
            "aaxis": {
             "endlinecolor": "#2a3f5f",
             "gridcolor": "white",
             "linecolor": "white",
             "minorgridcolor": "white",
             "startlinecolor": "#2a3f5f"
            },
            "baxis": {
             "endlinecolor": "#2a3f5f",
             "gridcolor": "white",
             "linecolor": "white",
             "minorgridcolor": "white",
             "startlinecolor": "#2a3f5f"
            },
            "type": "carpet"
           }
          ],
          "choropleth": [
           {
            "colorbar": {
             "outlinewidth": 0,
             "ticks": ""
            },
            "type": "choropleth"
           }
          ],
          "contour": [
           {
            "colorbar": {
             "outlinewidth": 0,
             "ticks": ""
            },
            "colorscale": [
             [
              0,
              "#0d0887"
             ],
             [
              0.1111111111111111,
              "#46039f"
             ],
             [
              0.2222222222222222,
              "#7201a8"
             ],
             [
              0.3333333333333333,
              "#9c179e"
             ],
             [
              0.4444444444444444,
              "#bd3786"
             ],
             [
              0.5555555555555556,
              "#d8576b"
             ],
             [
              0.6666666666666666,
              "#ed7953"
             ],
             [
              0.7777777777777778,
              "#fb9f3a"
             ],
             [
              0.8888888888888888,
              "#fdca26"
             ],
             [
              1,
              "#f0f921"
             ]
            ],
            "type": "contour"
           }
          ],
          "contourcarpet": [
           {
            "colorbar": {
             "outlinewidth": 0,
             "ticks": ""
            },
            "type": "contourcarpet"
           }
          ],
          "heatmap": [
           {
            "colorbar": {
             "outlinewidth": 0,
             "ticks": ""
            },
            "colorscale": [
             [
              0,
              "#0d0887"
             ],
             [
              0.1111111111111111,
              "#46039f"
             ],
             [
              0.2222222222222222,
              "#7201a8"
             ],
             [
              0.3333333333333333,
              "#9c179e"
             ],
             [
              0.4444444444444444,
              "#bd3786"
             ],
             [
              0.5555555555555556,
              "#d8576b"
             ],
             [
              0.6666666666666666,
              "#ed7953"
             ],
             [
              0.7777777777777778,
              "#fb9f3a"
             ],
             [
              0.8888888888888888,
              "#fdca26"
             ],
             [
              1,
              "#f0f921"
             ]
            ],
            "type": "heatmap"
           }
          ],
          "heatmapgl": [
           {
            "colorbar": {
             "outlinewidth": 0,
             "ticks": ""
            },
            "colorscale": [
             [
              0,
              "#0d0887"
             ],
             [
              0.1111111111111111,
              "#46039f"
             ],
             [
              0.2222222222222222,
              "#7201a8"
             ],
             [
              0.3333333333333333,
              "#9c179e"
             ],
             [
              0.4444444444444444,
              "#bd3786"
             ],
             [
              0.5555555555555556,
              "#d8576b"
             ],
             [
              0.6666666666666666,
              "#ed7953"
             ],
             [
              0.7777777777777778,
              "#fb9f3a"
             ],
             [
              0.8888888888888888,
              "#fdca26"
             ],
             [
              1,
              "#f0f921"
             ]
            ],
            "type": "heatmapgl"
           }
          ],
          "histogram": [
           {
            "marker": {
             "pattern": {
              "fillmode": "overlay",
              "size": 10,
              "solidity": 0.2
             }
            },
            "type": "histogram"
           }
          ],
          "histogram2d": [
           {
            "colorbar": {
             "outlinewidth": 0,
             "ticks": ""
            },
            "colorscale": [
             [
              0,
              "#0d0887"
             ],
             [
              0.1111111111111111,
              "#46039f"
             ],
             [
              0.2222222222222222,
              "#7201a8"
             ],
             [
              0.3333333333333333,
              "#9c179e"
             ],
             [
              0.4444444444444444,
              "#bd3786"
             ],
             [
              0.5555555555555556,
              "#d8576b"
             ],
             [
              0.6666666666666666,
              "#ed7953"
             ],
             [
              0.7777777777777778,
              "#fb9f3a"
             ],
             [
              0.8888888888888888,
              "#fdca26"
             ],
             [
              1,
              "#f0f921"
             ]
            ],
            "type": "histogram2d"
           }
          ],
          "histogram2dcontour": [
           {
            "colorbar": {
             "outlinewidth": 0,
             "ticks": ""
            },
            "colorscale": [
             [
              0,
              "#0d0887"
             ],
             [
              0.1111111111111111,
              "#46039f"
             ],
             [
              0.2222222222222222,
              "#7201a8"
             ],
             [
              0.3333333333333333,
              "#9c179e"
             ],
             [
              0.4444444444444444,
              "#bd3786"
             ],
             [
              0.5555555555555556,
              "#d8576b"
             ],
             [
              0.6666666666666666,
              "#ed7953"
             ],
             [
              0.7777777777777778,
              "#fb9f3a"
             ],
             [
              0.8888888888888888,
              "#fdca26"
             ],
             [
              1,
              "#f0f921"
             ]
            ],
            "type": "histogram2dcontour"
           }
          ],
          "mesh3d": [
           {
            "colorbar": {
             "outlinewidth": 0,
             "ticks": ""
            },
            "type": "mesh3d"
           }
          ],
          "parcoords": [
           {
            "line": {
             "colorbar": {
              "outlinewidth": 0,
              "ticks": ""
             }
            },
            "type": "parcoords"
           }
          ],
          "pie": [
           {
            "automargin": true,
            "type": "pie"
           }
          ],
          "scatter": [
           {
            "fillpattern": {
             "fillmode": "overlay",
             "size": 10,
             "solidity": 0.2
            },
            "type": "scatter"
           }
          ],
          "scatter3d": [
           {
            "line": {
             "colorbar": {
              "outlinewidth": 0,
              "ticks": ""
             }
            },
            "marker": {
             "colorbar": {
              "outlinewidth": 0,
              "ticks": ""
             }
            },
            "type": "scatter3d"
           }
          ],
          "scattercarpet": [
           {
            "marker": {
             "colorbar": {
              "outlinewidth": 0,
              "ticks": ""
             }
            },
            "type": "scattercarpet"
           }
          ],
          "scattergeo": [
           {
            "marker": {
             "colorbar": {
              "outlinewidth": 0,
              "ticks": ""
             }
            },
            "type": "scattergeo"
           }
          ],
          "scattergl": [
           {
            "marker": {
             "colorbar": {
              "outlinewidth": 0,
              "ticks": ""
             }
            },
            "type": "scattergl"
           }
          ],
          "scattermapbox": [
           {
            "marker": {
             "colorbar": {
              "outlinewidth": 0,
              "ticks": ""
             }
            },
            "type": "scattermapbox"
           }
          ],
          "scatterpolar": [
           {
            "marker": {
             "colorbar": {
              "outlinewidth": 0,
              "ticks": ""
             }
            },
            "type": "scatterpolar"
           }
          ],
          "scatterpolargl": [
           {
            "marker": {
             "colorbar": {
              "outlinewidth": 0,
              "ticks": ""
             }
            },
            "type": "scatterpolargl"
           }
          ],
          "scatterternary": [
           {
            "marker": {
             "colorbar": {
              "outlinewidth": 0,
              "ticks": ""
             }
            },
            "type": "scatterternary"
           }
          ],
          "surface": [
           {
            "colorbar": {
             "outlinewidth": 0,
             "ticks": ""
            },
            "colorscale": [
             [
              0,
              "#0d0887"
             ],
             [
              0.1111111111111111,
              "#46039f"
             ],
             [
              0.2222222222222222,
              "#7201a8"
             ],
             [
              0.3333333333333333,
              "#9c179e"
             ],
             [
              0.4444444444444444,
              "#bd3786"
             ],
             [
              0.5555555555555556,
              "#d8576b"
             ],
             [
              0.6666666666666666,
              "#ed7953"
             ],
             [
              0.7777777777777778,
              "#fb9f3a"
             ],
             [
              0.8888888888888888,
              "#fdca26"
             ],
             [
              1,
              "#f0f921"
             ]
            ],
            "type": "surface"
           }
          ],
          "table": [
           {
            "cells": {
             "fill": {
              "color": "#EBF0F8"
             },
             "line": {
              "color": "white"
             }
            },
            "header": {
             "fill": {
              "color": "#C8D4E3"
             },
             "line": {
              "color": "white"
             }
            },
            "type": "table"
           }
          ]
         },
         "layout": {
          "annotationdefaults": {
           "arrowcolor": "#2a3f5f",
           "arrowhead": 0,
           "arrowwidth": 1
          },
          "autotypenumbers": "strict",
          "coloraxis": {
           "colorbar": {
            "outlinewidth": 0,
            "ticks": ""
           }
          },
          "colorscale": {
           "diverging": [
            [
             0,
             "#8e0152"
            ],
            [
             0.1,
             "#c51b7d"
            ],
            [
             0.2,
             "#de77ae"
            ],
            [
             0.3,
             "#f1b6da"
            ],
            [
             0.4,
             "#fde0ef"
            ],
            [
             0.5,
             "#f7f7f7"
            ],
            [
             0.6,
             "#e6f5d0"
            ],
            [
             0.7,
             "#b8e186"
            ],
            [
             0.8,
             "#7fbc41"
            ],
            [
             0.9,
             "#4d9221"
            ],
            [
             1,
             "#276419"
            ]
           ],
           "sequential": [
            [
             0,
             "#0d0887"
            ],
            [
             0.1111111111111111,
             "#46039f"
            ],
            [
             0.2222222222222222,
             "#7201a8"
            ],
            [
             0.3333333333333333,
             "#9c179e"
            ],
            [
             0.4444444444444444,
             "#bd3786"
            ],
            [
             0.5555555555555556,
             "#d8576b"
            ],
            [
             0.6666666666666666,
             "#ed7953"
            ],
            [
             0.7777777777777778,
             "#fb9f3a"
            ],
            [
             0.8888888888888888,
             "#fdca26"
            ],
            [
             1,
             "#f0f921"
            ]
           ],
           "sequentialminus": [
            [
             0,
             "#0d0887"
            ],
            [
             0.1111111111111111,
             "#46039f"
            ],
            [
             0.2222222222222222,
             "#7201a8"
            ],
            [
             0.3333333333333333,
             "#9c179e"
            ],
            [
             0.4444444444444444,
             "#bd3786"
            ],
            [
             0.5555555555555556,
             "#d8576b"
            ],
            [
             0.6666666666666666,
             "#ed7953"
            ],
            [
             0.7777777777777778,
             "#fb9f3a"
            ],
            [
             0.8888888888888888,
             "#fdca26"
            ],
            [
             1,
             "#f0f921"
            ]
           ]
          },
          "colorway": [
           "#636efa",
           "#EF553B",
           "#00cc96",
           "#ab63fa",
           "#FFA15A",
           "#19d3f3",
           "#FF6692",
           "#B6E880",
           "#FF97FF",
           "#FECB52"
          ],
          "font": {
           "color": "#2a3f5f"
          },
          "geo": {
           "bgcolor": "white",
           "lakecolor": "white",
           "landcolor": "#E5ECF6",
           "showlakes": true,
           "showland": true,
           "subunitcolor": "white"
          },
          "hoverlabel": {
           "align": "left"
          },
          "hovermode": "closest",
          "mapbox": {
           "style": "light"
          },
          "paper_bgcolor": "white",
          "plot_bgcolor": "#E5ECF6",
          "polar": {
           "angularaxis": {
            "gridcolor": "white",
            "linecolor": "white",
            "ticks": ""
           },
           "bgcolor": "#E5ECF6",
           "radialaxis": {
            "gridcolor": "white",
            "linecolor": "white",
            "ticks": ""
           }
          },
          "scene": {
           "xaxis": {
            "backgroundcolor": "#E5ECF6",
            "gridcolor": "white",
            "gridwidth": 2,
            "linecolor": "white",
            "showbackground": true,
            "ticks": "",
            "zerolinecolor": "white"
           },
           "yaxis": {
            "backgroundcolor": "#E5ECF6",
            "gridcolor": "white",
            "gridwidth": 2,
            "linecolor": "white",
            "showbackground": true,
            "ticks": "",
            "zerolinecolor": "white"
           },
           "zaxis": {
            "backgroundcolor": "#E5ECF6",
            "gridcolor": "white",
            "gridwidth": 2,
            "linecolor": "white",
            "showbackground": true,
            "ticks": "",
            "zerolinecolor": "white"
           }
          },
          "shapedefaults": {
           "line": {
            "color": "#2a3f5f"
           }
          },
          "ternary": {
           "aaxis": {
            "gridcolor": "white",
            "linecolor": "white",
            "ticks": ""
           },
           "baxis": {
            "gridcolor": "white",
            "linecolor": "white",
            "ticks": ""
           },
           "bgcolor": "#E5ECF6",
           "caxis": {
            "gridcolor": "white",
            "linecolor": "white",
            "ticks": ""
           }
          },
          "title": {
           "x": 0.05
          },
          "xaxis": {
           "automargin": true,
           "gridcolor": "white",
           "linecolor": "white",
           "ticks": "",
           "title": {
            "standoff": 15
           },
           "zerolinecolor": "white",
           "zerolinewidth": 2
          },
          "yaxis": {
           "automargin": true,
           "gridcolor": "white",
           "linecolor": "white",
           "ticks": "",
           "title": {
            "standoff": 15
           },
           "zerolinecolor": "white",
           "zerolinewidth": 2
          }
         }
        },
        "title": {
         "font": {
          "color": "#4D5663"
         }
        },
        "xaxis": {
         "gridcolor": "#E1E5ED",
         "showgrid": true,
         "tickfont": {
          "color": "#4D5663"
         },
         "title": {
          "font": {
           "color": "#4D5663"
          },
          "text": ""
         },
         "zerolinecolor": "#E1E5ED"
        },
        "yaxis": {
         "gridcolor": "#E1E5ED",
         "showgrid": true,
         "tickfont": {
          "color": "#4D5663"
         },
         "title": {
          "font": {
           "color": "#4D5663"
          },
          "text": ""
         },
         "zerolinecolor": "#E1E5ED"
        }
       }
      },
      "text/html": [
       "<div>                            <div id=\"89f9acce-d8b0-4cb2-86ab-2b842f903a42\" class=\"plotly-graph-div\" style=\"height:525px; width:100%;\"></div>            <script type=\"text/javascript\">                require([\"plotly\"], function(Plotly) {                    window.PLOTLYENV=window.PLOTLYENV || {};\n",
       "                    window.PLOTLYENV.BASE_URL='https://plot.ly';                                    if (document.getElementById(\"89f9acce-d8b0-4cb2-86ab-2b842f903a42\")) {                    Plotly.newPlot(                        \"89f9acce-d8b0-4cb2-86ab-2b842f903a42\",                        [{\"marker\":{\"color\":\"rgba(255, 153, 51, 0.6)\",\"line\":{\"color\":\"rgba(255, 153, 51, 1.0)\",\"width\":1}},\"name\":\"Values\",\"orientation\":\"v\",\"text\":\"\",\"x\":[\"A\",\"B\",\"C\"],\"y\":[32,43,50],\"type\":\"bar\"}],                        {\"legend\":{\"bgcolor\":\"#F5F6F9\",\"font\":{\"color\":\"#4D5663\"}},\"paper_bgcolor\":\"#F5F6F9\",\"plot_bgcolor\":\"#F5F6F9\",\"template\":{\"data\":{\"barpolar\":[{\"marker\":{\"line\":{\"color\":\"#E5ECF6\",\"width\":0.5},\"pattern\":{\"fillmode\":\"overlay\",\"size\":10,\"solidity\":0.2}},\"type\":\"barpolar\"}],\"bar\":[{\"error_x\":{\"color\":\"#2a3f5f\"},\"error_y\":{\"color\":\"#2a3f5f\"},\"marker\":{\"line\":{\"color\":\"#E5ECF6\",\"width\":0.5},\"pattern\":{\"fillmode\":\"overlay\",\"size\":10,\"solidity\":0.2}},\"type\":\"bar\"}],\"carpet\":[{\"aaxis\":{\"endlinecolor\":\"#2a3f5f\",\"gridcolor\":\"white\",\"linecolor\":\"white\",\"minorgridcolor\":\"white\",\"startlinecolor\":\"#2a3f5f\"},\"baxis\":{\"endlinecolor\":\"#2a3f5f\",\"gridcolor\":\"white\",\"linecolor\":\"white\",\"minorgridcolor\":\"white\",\"startlinecolor\":\"#2a3f5f\"},\"type\":\"carpet\"}],\"choropleth\":[{\"colorbar\":{\"outlinewidth\":0,\"ticks\":\"\"},\"type\":\"choropleth\"}],\"contourcarpet\":[{\"colorbar\":{\"outlinewidth\":0,\"ticks\":\"\"},\"type\":\"contourcarpet\"}],\"contour\":[{\"colorbar\":{\"outlinewidth\":0,\"ticks\":\"\"},\"colorscale\":[[0.0,\"#0d0887\"],[0.1111111111111111,\"#46039f\"],[0.2222222222222222,\"#7201a8\"],[0.3333333333333333,\"#9c179e\"],[0.4444444444444444,\"#bd3786\"],[0.5555555555555556,\"#d8576b\"],[0.6666666666666666,\"#ed7953\"],[0.7777777777777778,\"#fb9f3a\"],[0.8888888888888888,\"#fdca26\"],[1.0,\"#f0f921\"]],\"type\":\"contour\"}],\"heatmapgl\":[{\"colorbar\":{\"outlinewidth\":0,\"ticks\":\"\"},\"colorscale\":[[0.0,\"#0d0887\"],[0.1111111111111111,\"#46039f\"],[0.2222222222222222,\"#7201a8\"],[0.3333333333333333,\"#9c179e\"],[0.4444444444444444,\"#bd3786\"],[0.5555555555555556,\"#d8576b\"],[0.6666666666666666,\"#ed7953\"],[0.7777777777777778,\"#fb9f3a\"],[0.8888888888888888,\"#fdca26\"],[1.0,\"#f0f921\"]],\"type\":\"heatmapgl\"}],\"heatmap\":[{\"colorbar\":{\"outlinewidth\":0,\"ticks\":\"\"},\"colorscale\":[[0.0,\"#0d0887\"],[0.1111111111111111,\"#46039f\"],[0.2222222222222222,\"#7201a8\"],[0.3333333333333333,\"#9c179e\"],[0.4444444444444444,\"#bd3786\"],[0.5555555555555556,\"#d8576b\"],[0.6666666666666666,\"#ed7953\"],[0.7777777777777778,\"#fb9f3a\"],[0.8888888888888888,\"#fdca26\"],[1.0,\"#f0f921\"]],\"type\":\"heatmap\"}],\"histogram2dcontour\":[{\"colorbar\":{\"outlinewidth\":0,\"ticks\":\"\"},\"colorscale\":[[0.0,\"#0d0887\"],[0.1111111111111111,\"#46039f\"],[0.2222222222222222,\"#7201a8\"],[0.3333333333333333,\"#9c179e\"],[0.4444444444444444,\"#bd3786\"],[0.5555555555555556,\"#d8576b\"],[0.6666666666666666,\"#ed7953\"],[0.7777777777777778,\"#fb9f3a\"],[0.8888888888888888,\"#fdca26\"],[1.0,\"#f0f921\"]],\"type\":\"histogram2dcontour\"}],\"histogram2d\":[{\"colorbar\":{\"outlinewidth\":0,\"ticks\":\"\"},\"colorscale\":[[0.0,\"#0d0887\"],[0.1111111111111111,\"#46039f\"],[0.2222222222222222,\"#7201a8\"],[0.3333333333333333,\"#9c179e\"],[0.4444444444444444,\"#bd3786\"],[0.5555555555555556,\"#d8576b\"],[0.6666666666666666,\"#ed7953\"],[0.7777777777777778,\"#fb9f3a\"],[0.8888888888888888,\"#fdca26\"],[1.0,\"#f0f921\"]],\"type\":\"histogram2d\"}],\"histogram\":[{\"marker\":{\"pattern\":{\"fillmode\":\"overlay\",\"size\":10,\"solidity\":0.2}},\"type\":\"histogram\"}],\"mesh3d\":[{\"colorbar\":{\"outlinewidth\":0,\"ticks\":\"\"},\"type\":\"mesh3d\"}],\"parcoords\":[{\"line\":{\"colorbar\":{\"outlinewidth\":0,\"ticks\":\"\"}},\"type\":\"parcoords\"}],\"pie\":[{\"automargin\":true,\"type\":\"pie\"}],\"scatter3d\":[{\"line\":{\"colorbar\":{\"outlinewidth\":0,\"ticks\":\"\"}},\"marker\":{\"colorbar\":{\"outlinewidth\":0,\"ticks\":\"\"}},\"type\":\"scatter3d\"}],\"scattercarpet\":[{\"marker\":{\"colorbar\":{\"outlinewidth\":0,\"ticks\":\"\"}},\"type\":\"scattercarpet\"}],\"scattergeo\":[{\"marker\":{\"colorbar\":{\"outlinewidth\":0,\"ticks\":\"\"}},\"type\":\"scattergeo\"}],\"scattergl\":[{\"marker\":{\"colorbar\":{\"outlinewidth\":0,\"ticks\":\"\"}},\"type\":\"scattergl\"}],\"scattermapbox\":[{\"marker\":{\"colorbar\":{\"outlinewidth\":0,\"ticks\":\"\"}},\"type\":\"scattermapbox\"}],\"scatterpolargl\":[{\"marker\":{\"colorbar\":{\"outlinewidth\":0,\"ticks\":\"\"}},\"type\":\"scatterpolargl\"}],\"scatterpolar\":[{\"marker\":{\"colorbar\":{\"outlinewidth\":0,\"ticks\":\"\"}},\"type\":\"scatterpolar\"}],\"scatter\":[{\"fillpattern\":{\"fillmode\":\"overlay\",\"size\":10,\"solidity\":0.2},\"type\":\"scatter\"}],\"scatterternary\":[{\"marker\":{\"colorbar\":{\"outlinewidth\":0,\"ticks\":\"\"}},\"type\":\"scatterternary\"}],\"surface\":[{\"colorbar\":{\"outlinewidth\":0,\"ticks\":\"\"},\"colorscale\":[[0.0,\"#0d0887\"],[0.1111111111111111,\"#46039f\"],[0.2222222222222222,\"#7201a8\"],[0.3333333333333333,\"#9c179e\"],[0.4444444444444444,\"#bd3786\"],[0.5555555555555556,\"#d8576b\"],[0.6666666666666666,\"#ed7953\"],[0.7777777777777778,\"#fb9f3a\"],[0.8888888888888888,\"#fdca26\"],[1.0,\"#f0f921\"]],\"type\":\"surface\"}],\"table\":[{\"cells\":{\"fill\":{\"color\":\"#EBF0F8\"},\"line\":{\"color\":\"white\"}},\"header\":{\"fill\":{\"color\":\"#C8D4E3\"},\"line\":{\"color\":\"white\"}},\"type\":\"table\"}]},\"layout\":{\"annotationdefaults\":{\"arrowcolor\":\"#2a3f5f\",\"arrowhead\":0,\"arrowwidth\":1},\"autotypenumbers\":\"strict\",\"coloraxis\":{\"colorbar\":{\"outlinewidth\":0,\"ticks\":\"\"}},\"colorscale\":{\"diverging\":[[0,\"#8e0152\"],[0.1,\"#c51b7d\"],[0.2,\"#de77ae\"],[0.3,\"#f1b6da\"],[0.4,\"#fde0ef\"],[0.5,\"#f7f7f7\"],[0.6,\"#e6f5d0\"],[0.7,\"#b8e186\"],[0.8,\"#7fbc41\"],[0.9,\"#4d9221\"],[1,\"#276419\"]],\"sequential\":[[0.0,\"#0d0887\"],[0.1111111111111111,\"#46039f\"],[0.2222222222222222,\"#7201a8\"],[0.3333333333333333,\"#9c179e\"],[0.4444444444444444,\"#bd3786\"],[0.5555555555555556,\"#d8576b\"],[0.6666666666666666,\"#ed7953\"],[0.7777777777777778,\"#fb9f3a\"],[0.8888888888888888,\"#fdca26\"],[1.0,\"#f0f921\"]],\"sequentialminus\":[[0.0,\"#0d0887\"],[0.1111111111111111,\"#46039f\"],[0.2222222222222222,\"#7201a8\"],[0.3333333333333333,\"#9c179e\"],[0.4444444444444444,\"#bd3786\"],[0.5555555555555556,\"#d8576b\"],[0.6666666666666666,\"#ed7953\"],[0.7777777777777778,\"#fb9f3a\"],[0.8888888888888888,\"#fdca26\"],[1.0,\"#f0f921\"]]},\"colorway\":[\"#636efa\",\"#EF553B\",\"#00cc96\",\"#ab63fa\",\"#FFA15A\",\"#19d3f3\",\"#FF6692\",\"#B6E880\",\"#FF97FF\",\"#FECB52\"],\"font\":{\"color\":\"#2a3f5f\"},\"geo\":{\"bgcolor\":\"white\",\"lakecolor\":\"white\",\"landcolor\":\"#E5ECF6\",\"showlakes\":true,\"showland\":true,\"subunitcolor\":\"white\"},\"hoverlabel\":{\"align\":\"left\"},\"hovermode\":\"closest\",\"mapbox\":{\"style\":\"light\"},\"paper_bgcolor\":\"white\",\"plot_bgcolor\":\"#E5ECF6\",\"polar\":{\"angularaxis\":{\"gridcolor\":\"white\",\"linecolor\":\"white\",\"ticks\":\"\"},\"bgcolor\":\"#E5ECF6\",\"radialaxis\":{\"gridcolor\":\"white\",\"linecolor\":\"white\",\"ticks\":\"\"}},\"scene\":{\"xaxis\":{\"backgroundcolor\":\"#E5ECF6\",\"gridcolor\":\"white\",\"gridwidth\":2,\"linecolor\":\"white\",\"showbackground\":true,\"ticks\":\"\",\"zerolinecolor\":\"white\"},\"yaxis\":{\"backgroundcolor\":\"#E5ECF6\",\"gridcolor\":\"white\",\"gridwidth\":2,\"linecolor\":\"white\",\"showbackground\":true,\"ticks\":\"\",\"zerolinecolor\":\"white\"},\"zaxis\":{\"backgroundcolor\":\"#E5ECF6\",\"gridcolor\":\"white\",\"gridwidth\":2,\"linecolor\":\"white\",\"showbackground\":true,\"ticks\":\"\",\"zerolinecolor\":\"white\"}},\"shapedefaults\":{\"line\":{\"color\":\"#2a3f5f\"}},\"ternary\":{\"aaxis\":{\"gridcolor\":\"white\",\"linecolor\":\"white\",\"ticks\":\"\"},\"baxis\":{\"gridcolor\":\"white\",\"linecolor\":\"white\",\"ticks\":\"\"},\"bgcolor\":\"#E5ECF6\",\"caxis\":{\"gridcolor\":\"white\",\"linecolor\":\"white\",\"ticks\":\"\"}},\"title\":{\"x\":0.05},\"xaxis\":{\"automargin\":true,\"gridcolor\":\"white\",\"linecolor\":\"white\",\"ticks\":\"\",\"title\":{\"standoff\":15},\"zerolinecolor\":\"white\",\"zerolinewidth\":2},\"yaxis\":{\"automargin\":true,\"gridcolor\":\"white\",\"linecolor\":\"white\",\"ticks\":\"\",\"title\":{\"standoff\":15},\"zerolinecolor\":\"white\",\"zerolinewidth\":2}}},\"title\":{\"font\":{\"color\":\"#4D5663\"}},\"xaxis\":{\"gridcolor\":\"#E1E5ED\",\"showgrid\":true,\"tickfont\":{\"color\":\"#4D5663\"},\"title\":{\"font\":{\"color\":\"#4D5663\"},\"text\":\"\"},\"zerolinecolor\":\"#E1E5ED\"},\"yaxis\":{\"gridcolor\":\"#E1E5ED\",\"showgrid\":true,\"tickfont\":{\"color\":\"#4D5663\"},\"title\":{\"font\":{\"color\":\"#4D5663\"},\"text\":\"\"},\"zerolinecolor\":\"#E1E5ED\"}},                        {\"showLink\": true, \"linkText\": \"Export to plot.ly\", \"plotlyServerURL\": \"https://plot.ly\", \"responsive\": true}                    ).then(function(){\n",
       "                            \n",
       "var gd = document.getElementById('89f9acce-d8b0-4cb2-86ab-2b842f903a42');\n",
       "var x = new MutationObserver(function (mutations, observer) {{\n",
       "        var display = window.getComputedStyle(gd).display;\n",
       "        if (!display || display === 'none') {{\n",
       "            console.log([gd, 'removed!']);\n",
       "            Plotly.purge(gd);\n",
       "            observer.disconnect();\n",
       "        }}\n",
       "}});\n",
       "\n",
       "// Listen for the removal of the full notebook cells\n",
       "var notebookContainer = gd.closest('#notebook-container');\n",
       "if (notebookContainer) {{\n",
       "    x.observe(notebookContainer, {childList: true});\n",
       "}}\n",
       "\n",
       "// Listen for the clearing of the current output cell\n",
       "var outputEl = gd.closest('.output');\n",
       "if (outputEl) {{\n",
       "    x.observe(outputEl, {childList: true});\n",
       "}}\n",
       "\n",
       "                        })                };                });            </script>        </div>"
      ]
     },
     "metadata": {},
     "output_type": "display_data"
    }
   ],
   "source": [
    "df2.iplot(kind='bar',x='Category',y='Values')"
   ]
  },
  {
   "cell_type": "code",
   "execution_count": 37,
   "metadata": {},
   "outputs": [
    {
     "data": {
      "text/html": [
       "<div>\n",
       "<style scoped>\n",
       "    .dataframe tbody tr th:only-of-type {\n",
       "        vertical-align: middle;\n",
       "    }\n",
       "\n",
       "    .dataframe tbody tr th {\n",
       "        vertical-align: top;\n",
       "    }\n",
       "\n",
       "    .dataframe thead th {\n",
       "        text-align: right;\n",
       "    }\n",
       "</style>\n",
       "<table border=\"1\" class=\"dataframe\">\n",
       "  <thead>\n",
       "    <tr style=\"text-align: right;\">\n",
       "      <th></th>\n",
       "      <th>A</th>\n",
       "      <th>B</th>\n",
       "      <th>C</th>\n",
       "      <th>D</th>\n",
       "    </tr>\n",
       "  </thead>\n",
       "  <tbody>\n",
       "    <tr>\n",
       "      <th>0</th>\n",
       "      <td>-0.589325</td>\n",
       "      <td>1.812493</td>\n",
       "      <td>-0.588720</td>\n",
       "      <td>0.313241</td>\n",
       "    </tr>\n",
       "    <tr>\n",
       "      <th>1</th>\n",
       "      <td>0.063578</td>\n",
       "      <td>1.086664</td>\n",
       "      <td>0.701993</td>\n",
       "      <td>0.516417</td>\n",
       "    </tr>\n",
       "    <tr>\n",
       "      <th>2</th>\n",
       "      <td>0.333516</td>\n",
       "      <td>-1.895324</td>\n",
       "      <td>-0.121528</td>\n",
       "      <td>-1.744737</td>\n",
       "    </tr>\n",
       "    <tr>\n",
       "      <th>3</th>\n",
       "      <td>0.324366</td>\n",
       "      <td>-0.392843</td>\n",
       "      <td>-1.270844</td>\n",
       "      <td>-0.528880</td>\n",
       "    </tr>\n",
       "    <tr>\n",
       "      <th>4</th>\n",
       "      <td>0.678708</td>\n",
       "      <td>-0.156717</td>\n",
       "      <td>1.005386</td>\n",
       "      <td>1.033665</td>\n",
       "    </tr>\n",
       "    <tr>\n",
       "      <th>...</th>\n",
       "      <td>...</td>\n",
       "      <td>...</td>\n",
       "      <td>...</td>\n",
       "      <td>...</td>\n",
       "    </tr>\n",
       "    <tr>\n",
       "      <th>95</th>\n",
       "      <td>1.199942</td>\n",
       "      <td>0.876208</td>\n",
       "      <td>-1.385221</td>\n",
       "      <td>-0.296560</td>\n",
       "    </tr>\n",
       "    <tr>\n",
       "      <th>96</th>\n",
       "      <td>0.042040</td>\n",
       "      <td>0.073873</td>\n",
       "      <td>-0.238367</td>\n",
       "      <td>-0.639345</td>\n",
       "    </tr>\n",
       "    <tr>\n",
       "      <th>97</th>\n",
       "      <td>1.149306</td>\n",
       "      <td>0.057321</td>\n",
       "      <td>0.359900</td>\n",
       "      <td>-0.344207</td>\n",
       "    </tr>\n",
       "    <tr>\n",
       "      <th>98</th>\n",
       "      <td>1.641526</td>\n",
       "      <td>0.458685</td>\n",
       "      <td>-2.475675</td>\n",
       "      <td>-2.529464</td>\n",
       "    </tr>\n",
       "    <tr>\n",
       "      <th>99</th>\n",
       "      <td>-0.646322</td>\n",
       "      <td>0.850854</td>\n",
       "      <td>0.186573</td>\n",
       "      <td>1.644775</td>\n",
       "    </tr>\n",
       "  </tbody>\n",
       "</table>\n",
       "<p>100 rows × 4 columns</p>\n",
       "</div>"
      ],
      "text/plain": [
       "           A         B         C         D\n",
       "0  -0.589325  1.812493 -0.588720  0.313241\n",
       "1   0.063578  1.086664  0.701993  0.516417\n",
       "2   0.333516 -1.895324 -0.121528 -1.744737\n",
       "3   0.324366 -0.392843 -1.270844 -0.528880\n",
       "4   0.678708 -0.156717  1.005386  1.033665\n",
       "..       ...       ...       ...       ...\n",
       "95  1.199942  0.876208 -1.385221 -0.296560\n",
       "96  0.042040  0.073873 -0.238367 -0.639345\n",
       "97  1.149306  0.057321  0.359900 -0.344207\n",
       "98  1.641526  0.458685 -2.475675 -2.529464\n",
       "99 -0.646322  0.850854  0.186573  1.644775\n",
       "\n",
       "[100 rows x 4 columns]"
      ]
     },
     "execution_count": 37,
     "metadata": {},
     "output_type": "execute_result"
    }
   ],
   "source": [
    "df"
   ]
  },
  {
   "cell_type": "code",
   "execution_count": 39,
   "metadata": {},
   "outputs": [
    {
     "data": {
      "application/vnd.plotly.v1+json": {
       "config": {
        "linkText": "Export to plot.ly",
        "plotlyServerURL": "https://plot.ly",
        "showLink": true
       },
       "data": [
        {
         "marker": {
          "color": "rgba(255, 153, 51, 0.6)",
          "line": {
           "color": "rgba(255, 153, 51, 1.0)",
           "width": 1
          }
         },
         "name": "None",
         "orientation": "v",
         "text": "",
         "type": "bar",
         "x": [
          "A",
          "B",
          "C",
          "D"
         ],
         "y": [
          100,
          100,
          100,
          100
         ]
        }
       ],
       "layout": {
        "legend": {
         "bgcolor": "#F5F6F9",
         "font": {
          "color": "#4D5663"
         }
        },
        "paper_bgcolor": "#F5F6F9",
        "plot_bgcolor": "#F5F6F9",
        "template": {
         "data": {
          "bar": [
           {
            "error_x": {
             "color": "#2a3f5f"
            },
            "error_y": {
             "color": "#2a3f5f"
            },
            "marker": {
             "line": {
              "color": "#E5ECF6",
              "width": 0.5
             },
             "pattern": {
              "fillmode": "overlay",
              "size": 10,
              "solidity": 0.2
             }
            },
            "type": "bar"
           }
          ],
          "barpolar": [
           {
            "marker": {
             "line": {
              "color": "#E5ECF6",
              "width": 0.5
             },
             "pattern": {
              "fillmode": "overlay",
              "size": 10,
              "solidity": 0.2
             }
            },
            "type": "barpolar"
           }
          ],
          "carpet": [
           {
            "aaxis": {
             "endlinecolor": "#2a3f5f",
             "gridcolor": "white",
             "linecolor": "white",
             "minorgridcolor": "white",
             "startlinecolor": "#2a3f5f"
            },
            "baxis": {
             "endlinecolor": "#2a3f5f",
             "gridcolor": "white",
             "linecolor": "white",
             "minorgridcolor": "white",
             "startlinecolor": "#2a3f5f"
            },
            "type": "carpet"
           }
          ],
          "choropleth": [
           {
            "colorbar": {
             "outlinewidth": 0,
             "ticks": ""
            },
            "type": "choropleth"
           }
          ],
          "contour": [
           {
            "colorbar": {
             "outlinewidth": 0,
             "ticks": ""
            },
            "colorscale": [
             [
              0,
              "#0d0887"
             ],
             [
              0.1111111111111111,
              "#46039f"
             ],
             [
              0.2222222222222222,
              "#7201a8"
             ],
             [
              0.3333333333333333,
              "#9c179e"
             ],
             [
              0.4444444444444444,
              "#bd3786"
             ],
             [
              0.5555555555555556,
              "#d8576b"
             ],
             [
              0.6666666666666666,
              "#ed7953"
             ],
             [
              0.7777777777777778,
              "#fb9f3a"
             ],
             [
              0.8888888888888888,
              "#fdca26"
             ],
             [
              1,
              "#f0f921"
             ]
            ],
            "type": "contour"
           }
          ],
          "contourcarpet": [
           {
            "colorbar": {
             "outlinewidth": 0,
             "ticks": ""
            },
            "type": "contourcarpet"
           }
          ],
          "heatmap": [
           {
            "colorbar": {
             "outlinewidth": 0,
             "ticks": ""
            },
            "colorscale": [
             [
              0,
              "#0d0887"
             ],
             [
              0.1111111111111111,
              "#46039f"
             ],
             [
              0.2222222222222222,
              "#7201a8"
             ],
             [
              0.3333333333333333,
              "#9c179e"
             ],
             [
              0.4444444444444444,
              "#bd3786"
             ],
             [
              0.5555555555555556,
              "#d8576b"
             ],
             [
              0.6666666666666666,
              "#ed7953"
             ],
             [
              0.7777777777777778,
              "#fb9f3a"
             ],
             [
              0.8888888888888888,
              "#fdca26"
             ],
             [
              1,
              "#f0f921"
             ]
            ],
            "type": "heatmap"
           }
          ],
          "heatmapgl": [
           {
            "colorbar": {
             "outlinewidth": 0,
             "ticks": ""
            },
            "colorscale": [
             [
              0,
              "#0d0887"
             ],
             [
              0.1111111111111111,
              "#46039f"
             ],
             [
              0.2222222222222222,
              "#7201a8"
             ],
             [
              0.3333333333333333,
              "#9c179e"
             ],
             [
              0.4444444444444444,
              "#bd3786"
             ],
             [
              0.5555555555555556,
              "#d8576b"
             ],
             [
              0.6666666666666666,
              "#ed7953"
             ],
             [
              0.7777777777777778,
              "#fb9f3a"
             ],
             [
              0.8888888888888888,
              "#fdca26"
             ],
             [
              1,
              "#f0f921"
             ]
            ],
            "type": "heatmapgl"
           }
          ],
          "histogram": [
           {
            "marker": {
             "pattern": {
              "fillmode": "overlay",
              "size": 10,
              "solidity": 0.2
             }
            },
            "type": "histogram"
           }
          ],
          "histogram2d": [
           {
            "colorbar": {
             "outlinewidth": 0,
             "ticks": ""
            },
            "colorscale": [
             [
              0,
              "#0d0887"
             ],
             [
              0.1111111111111111,
              "#46039f"
             ],
             [
              0.2222222222222222,
              "#7201a8"
             ],
             [
              0.3333333333333333,
              "#9c179e"
             ],
             [
              0.4444444444444444,
              "#bd3786"
             ],
             [
              0.5555555555555556,
              "#d8576b"
             ],
             [
              0.6666666666666666,
              "#ed7953"
             ],
             [
              0.7777777777777778,
              "#fb9f3a"
             ],
             [
              0.8888888888888888,
              "#fdca26"
             ],
             [
              1,
              "#f0f921"
             ]
            ],
            "type": "histogram2d"
           }
          ],
          "histogram2dcontour": [
           {
            "colorbar": {
             "outlinewidth": 0,
             "ticks": ""
            },
            "colorscale": [
             [
              0,
              "#0d0887"
             ],
             [
              0.1111111111111111,
              "#46039f"
             ],
             [
              0.2222222222222222,
              "#7201a8"
             ],
             [
              0.3333333333333333,
              "#9c179e"
             ],
             [
              0.4444444444444444,
              "#bd3786"
             ],
             [
              0.5555555555555556,
              "#d8576b"
             ],
             [
              0.6666666666666666,
              "#ed7953"
             ],
             [
              0.7777777777777778,
              "#fb9f3a"
             ],
             [
              0.8888888888888888,
              "#fdca26"
             ],
             [
              1,
              "#f0f921"
             ]
            ],
            "type": "histogram2dcontour"
           }
          ],
          "mesh3d": [
           {
            "colorbar": {
             "outlinewidth": 0,
             "ticks": ""
            },
            "type": "mesh3d"
           }
          ],
          "parcoords": [
           {
            "line": {
             "colorbar": {
              "outlinewidth": 0,
              "ticks": ""
             }
            },
            "type": "parcoords"
           }
          ],
          "pie": [
           {
            "automargin": true,
            "type": "pie"
           }
          ],
          "scatter": [
           {
            "fillpattern": {
             "fillmode": "overlay",
             "size": 10,
             "solidity": 0.2
            },
            "type": "scatter"
           }
          ],
          "scatter3d": [
           {
            "line": {
             "colorbar": {
              "outlinewidth": 0,
              "ticks": ""
             }
            },
            "marker": {
             "colorbar": {
              "outlinewidth": 0,
              "ticks": ""
             }
            },
            "type": "scatter3d"
           }
          ],
          "scattercarpet": [
           {
            "marker": {
             "colorbar": {
              "outlinewidth": 0,
              "ticks": ""
             }
            },
            "type": "scattercarpet"
           }
          ],
          "scattergeo": [
           {
            "marker": {
             "colorbar": {
              "outlinewidth": 0,
              "ticks": ""
             }
            },
            "type": "scattergeo"
           }
          ],
          "scattergl": [
           {
            "marker": {
             "colorbar": {
              "outlinewidth": 0,
              "ticks": ""
             }
            },
            "type": "scattergl"
           }
          ],
          "scattermapbox": [
           {
            "marker": {
             "colorbar": {
              "outlinewidth": 0,
              "ticks": ""
             }
            },
            "type": "scattermapbox"
           }
          ],
          "scatterpolar": [
           {
            "marker": {
             "colorbar": {
              "outlinewidth": 0,
              "ticks": ""
             }
            },
            "type": "scatterpolar"
           }
          ],
          "scatterpolargl": [
           {
            "marker": {
             "colorbar": {
              "outlinewidth": 0,
              "ticks": ""
             }
            },
            "type": "scatterpolargl"
           }
          ],
          "scatterternary": [
           {
            "marker": {
             "colorbar": {
              "outlinewidth": 0,
              "ticks": ""
             }
            },
            "type": "scatterternary"
           }
          ],
          "surface": [
           {
            "colorbar": {
             "outlinewidth": 0,
             "ticks": ""
            },
            "colorscale": [
             [
              0,
              "#0d0887"
             ],
             [
              0.1111111111111111,
              "#46039f"
             ],
             [
              0.2222222222222222,
              "#7201a8"
             ],
             [
              0.3333333333333333,
              "#9c179e"
             ],
             [
              0.4444444444444444,
              "#bd3786"
             ],
             [
              0.5555555555555556,
              "#d8576b"
             ],
             [
              0.6666666666666666,
              "#ed7953"
             ],
             [
              0.7777777777777778,
              "#fb9f3a"
             ],
             [
              0.8888888888888888,
              "#fdca26"
             ],
             [
              1,
              "#f0f921"
             ]
            ],
            "type": "surface"
           }
          ],
          "table": [
           {
            "cells": {
             "fill": {
              "color": "#EBF0F8"
             },
             "line": {
              "color": "white"
             }
            },
            "header": {
             "fill": {
              "color": "#C8D4E3"
             },
             "line": {
              "color": "white"
             }
            },
            "type": "table"
           }
          ]
         },
         "layout": {
          "annotationdefaults": {
           "arrowcolor": "#2a3f5f",
           "arrowhead": 0,
           "arrowwidth": 1
          },
          "autotypenumbers": "strict",
          "coloraxis": {
           "colorbar": {
            "outlinewidth": 0,
            "ticks": ""
           }
          },
          "colorscale": {
           "diverging": [
            [
             0,
             "#8e0152"
            ],
            [
             0.1,
             "#c51b7d"
            ],
            [
             0.2,
             "#de77ae"
            ],
            [
             0.3,
             "#f1b6da"
            ],
            [
             0.4,
             "#fde0ef"
            ],
            [
             0.5,
             "#f7f7f7"
            ],
            [
             0.6,
             "#e6f5d0"
            ],
            [
             0.7,
             "#b8e186"
            ],
            [
             0.8,
             "#7fbc41"
            ],
            [
             0.9,
             "#4d9221"
            ],
            [
             1,
             "#276419"
            ]
           ],
           "sequential": [
            [
             0,
             "#0d0887"
            ],
            [
             0.1111111111111111,
             "#46039f"
            ],
            [
             0.2222222222222222,
             "#7201a8"
            ],
            [
             0.3333333333333333,
             "#9c179e"
            ],
            [
             0.4444444444444444,
             "#bd3786"
            ],
            [
             0.5555555555555556,
             "#d8576b"
            ],
            [
             0.6666666666666666,
             "#ed7953"
            ],
            [
             0.7777777777777778,
             "#fb9f3a"
            ],
            [
             0.8888888888888888,
             "#fdca26"
            ],
            [
             1,
             "#f0f921"
            ]
           ],
           "sequentialminus": [
            [
             0,
             "#0d0887"
            ],
            [
             0.1111111111111111,
             "#46039f"
            ],
            [
             0.2222222222222222,
             "#7201a8"
            ],
            [
             0.3333333333333333,
             "#9c179e"
            ],
            [
             0.4444444444444444,
             "#bd3786"
            ],
            [
             0.5555555555555556,
             "#d8576b"
            ],
            [
             0.6666666666666666,
             "#ed7953"
            ],
            [
             0.7777777777777778,
             "#fb9f3a"
            ],
            [
             0.8888888888888888,
             "#fdca26"
            ],
            [
             1,
             "#f0f921"
            ]
           ]
          },
          "colorway": [
           "#636efa",
           "#EF553B",
           "#00cc96",
           "#ab63fa",
           "#FFA15A",
           "#19d3f3",
           "#FF6692",
           "#B6E880",
           "#FF97FF",
           "#FECB52"
          ],
          "font": {
           "color": "#2a3f5f"
          },
          "geo": {
           "bgcolor": "white",
           "lakecolor": "white",
           "landcolor": "#E5ECF6",
           "showlakes": true,
           "showland": true,
           "subunitcolor": "white"
          },
          "hoverlabel": {
           "align": "left"
          },
          "hovermode": "closest",
          "mapbox": {
           "style": "light"
          },
          "paper_bgcolor": "white",
          "plot_bgcolor": "#E5ECF6",
          "polar": {
           "angularaxis": {
            "gridcolor": "white",
            "linecolor": "white",
            "ticks": ""
           },
           "bgcolor": "#E5ECF6",
           "radialaxis": {
            "gridcolor": "white",
            "linecolor": "white",
            "ticks": ""
           }
          },
          "scene": {
           "xaxis": {
            "backgroundcolor": "#E5ECF6",
            "gridcolor": "white",
            "gridwidth": 2,
            "linecolor": "white",
            "showbackground": true,
            "ticks": "",
            "zerolinecolor": "white"
           },
           "yaxis": {
            "backgroundcolor": "#E5ECF6",
            "gridcolor": "white",
            "gridwidth": 2,
            "linecolor": "white",
            "showbackground": true,
            "ticks": "",
            "zerolinecolor": "white"
           },
           "zaxis": {
            "backgroundcolor": "#E5ECF6",
            "gridcolor": "white",
            "gridwidth": 2,
            "linecolor": "white",
            "showbackground": true,
            "ticks": "",
            "zerolinecolor": "white"
           }
          },
          "shapedefaults": {
           "line": {
            "color": "#2a3f5f"
           }
          },
          "ternary": {
           "aaxis": {
            "gridcolor": "white",
            "linecolor": "white",
            "ticks": ""
           },
           "baxis": {
            "gridcolor": "white",
            "linecolor": "white",
            "ticks": ""
           },
           "bgcolor": "#E5ECF6",
           "caxis": {
            "gridcolor": "white",
            "linecolor": "white",
            "ticks": ""
           }
          },
          "title": {
           "x": 0.05
          },
          "xaxis": {
           "automargin": true,
           "gridcolor": "white",
           "linecolor": "white",
           "ticks": "",
           "title": {
            "standoff": 15
           },
           "zerolinecolor": "white",
           "zerolinewidth": 2
          },
          "yaxis": {
           "automargin": true,
           "gridcolor": "white",
           "linecolor": "white",
           "ticks": "",
           "title": {
            "standoff": 15
           },
           "zerolinecolor": "white",
           "zerolinewidth": 2
          }
         }
        },
        "title": {
         "font": {
          "color": "#4D5663"
         }
        },
        "xaxis": {
         "gridcolor": "#E1E5ED",
         "showgrid": true,
         "tickfont": {
          "color": "#4D5663"
         },
         "title": {
          "font": {
           "color": "#4D5663"
          },
          "text": ""
         },
         "zerolinecolor": "#E1E5ED"
        },
        "yaxis": {
         "gridcolor": "#E1E5ED",
         "showgrid": true,
         "tickfont": {
          "color": "#4D5663"
         },
         "title": {
          "font": {
           "color": "#4D5663"
          },
          "text": ""
         },
         "zerolinecolor": "#E1E5ED"
        }
       }
      },
      "text/html": [
       "<div>                            <div id=\"3807964b-1875-4314-8bd5-b758364d7357\" class=\"plotly-graph-div\" style=\"height:525px; width:100%;\"></div>            <script type=\"text/javascript\">                require([\"plotly\"], function(Plotly) {                    window.PLOTLYENV=window.PLOTLYENV || {};\n",
       "                    window.PLOTLYENV.BASE_URL='https://plot.ly';                                    if (document.getElementById(\"3807964b-1875-4314-8bd5-b758364d7357\")) {                    Plotly.newPlot(                        \"3807964b-1875-4314-8bd5-b758364d7357\",                        [{\"marker\":{\"color\":\"rgba(255, 153, 51, 0.6)\",\"line\":{\"color\":\"rgba(255, 153, 51, 1.0)\",\"width\":1}},\"name\":\"None\",\"orientation\":\"v\",\"text\":\"\",\"x\":[\"A\",\"B\",\"C\",\"D\"],\"y\":[100,100,100,100],\"type\":\"bar\"}],                        {\"legend\":{\"bgcolor\":\"#F5F6F9\",\"font\":{\"color\":\"#4D5663\"}},\"paper_bgcolor\":\"#F5F6F9\",\"plot_bgcolor\":\"#F5F6F9\",\"template\":{\"data\":{\"barpolar\":[{\"marker\":{\"line\":{\"color\":\"#E5ECF6\",\"width\":0.5},\"pattern\":{\"fillmode\":\"overlay\",\"size\":10,\"solidity\":0.2}},\"type\":\"barpolar\"}],\"bar\":[{\"error_x\":{\"color\":\"#2a3f5f\"},\"error_y\":{\"color\":\"#2a3f5f\"},\"marker\":{\"line\":{\"color\":\"#E5ECF6\",\"width\":0.5},\"pattern\":{\"fillmode\":\"overlay\",\"size\":10,\"solidity\":0.2}},\"type\":\"bar\"}],\"carpet\":[{\"aaxis\":{\"endlinecolor\":\"#2a3f5f\",\"gridcolor\":\"white\",\"linecolor\":\"white\",\"minorgridcolor\":\"white\",\"startlinecolor\":\"#2a3f5f\"},\"baxis\":{\"endlinecolor\":\"#2a3f5f\",\"gridcolor\":\"white\",\"linecolor\":\"white\",\"minorgridcolor\":\"white\",\"startlinecolor\":\"#2a3f5f\"},\"type\":\"carpet\"}],\"choropleth\":[{\"colorbar\":{\"outlinewidth\":0,\"ticks\":\"\"},\"type\":\"choropleth\"}],\"contourcarpet\":[{\"colorbar\":{\"outlinewidth\":0,\"ticks\":\"\"},\"type\":\"contourcarpet\"}],\"contour\":[{\"colorbar\":{\"outlinewidth\":0,\"ticks\":\"\"},\"colorscale\":[[0.0,\"#0d0887\"],[0.1111111111111111,\"#46039f\"],[0.2222222222222222,\"#7201a8\"],[0.3333333333333333,\"#9c179e\"],[0.4444444444444444,\"#bd3786\"],[0.5555555555555556,\"#d8576b\"],[0.6666666666666666,\"#ed7953\"],[0.7777777777777778,\"#fb9f3a\"],[0.8888888888888888,\"#fdca26\"],[1.0,\"#f0f921\"]],\"type\":\"contour\"}],\"heatmapgl\":[{\"colorbar\":{\"outlinewidth\":0,\"ticks\":\"\"},\"colorscale\":[[0.0,\"#0d0887\"],[0.1111111111111111,\"#46039f\"],[0.2222222222222222,\"#7201a8\"],[0.3333333333333333,\"#9c179e\"],[0.4444444444444444,\"#bd3786\"],[0.5555555555555556,\"#d8576b\"],[0.6666666666666666,\"#ed7953\"],[0.7777777777777778,\"#fb9f3a\"],[0.8888888888888888,\"#fdca26\"],[1.0,\"#f0f921\"]],\"type\":\"heatmapgl\"}],\"heatmap\":[{\"colorbar\":{\"outlinewidth\":0,\"ticks\":\"\"},\"colorscale\":[[0.0,\"#0d0887\"],[0.1111111111111111,\"#46039f\"],[0.2222222222222222,\"#7201a8\"],[0.3333333333333333,\"#9c179e\"],[0.4444444444444444,\"#bd3786\"],[0.5555555555555556,\"#d8576b\"],[0.6666666666666666,\"#ed7953\"],[0.7777777777777778,\"#fb9f3a\"],[0.8888888888888888,\"#fdca26\"],[1.0,\"#f0f921\"]],\"type\":\"heatmap\"}],\"histogram2dcontour\":[{\"colorbar\":{\"outlinewidth\":0,\"ticks\":\"\"},\"colorscale\":[[0.0,\"#0d0887\"],[0.1111111111111111,\"#46039f\"],[0.2222222222222222,\"#7201a8\"],[0.3333333333333333,\"#9c179e\"],[0.4444444444444444,\"#bd3786\"],[0.5555555555555556,\"#d8576b\"],[0.6666666666666666,\"#ed7953\"],[0.7777777777777778,\"#fb9f3a\"],[0.8888888888888888,\"#fdca26\"],[1.0,\"#f0f921\"]],\"type\":\"histogram2dcontour\"}],\"histogram2d\":[{\"colorbar\":{\"outlinewidth\":0,\"ticks\":\"\"},\"colorscale\":[[0.0,\"#0d0887\"],[0.1111111111111111,\"#46039f\"],[0.2222222222222222,\"#7201a8\"],[0.3333333333333333,\"#9c179e\"],[0.4444444444444444,\"#bd3786\"],[0.5555555555555556,\"#d8576b\"],[0.6666666666666666,\"#ed7953\"],[0.7777777777777778,\"#fb9f3a\"],[0.8888888888888888,\"#fdca26\"],[1.0,\"#f0f921\"]],\"type\":\"histogram2d\"}],\"histogram\":[{\"marker\":{\"pattern\":{\"fillmode\":\"overlay\",\"size\":10,\"solidity\":0.2}},\"type\":\"histogram\"}],\"mesh3d\":[{\"colorbar\":{\"outlinewidth\":0,\"ticks\":\"\"},\"type\":\"mesh3d\"}],\"parcoords\":[{\"line\":{\"colorbar\":{\"outlinewidth\":0,\"ticks\":\"\"}},\"type\":\"parcoords\"}],\"pie\":[{\"automargin\":true,\"type\":\"pie\"}],\"scatter3d\":[{\"line\":{\"colorbar\":{\"outlinewidth\":0,\"ticks\":\"\"}},\"marker\":{\"colorbar\":{\"outlinewidth\":0,\"ticks\":\"\"}},\"type\":\"scatter3d\"}],\"scattercarpet\":[{\"marker\":{\"colorbar\":{\"outlinewidth\":0,\"ticks\":\"\"}},\"type\":\"scattercarpet\"}],\"scattergeo\":[{\"marker\":{\"colorbar\":{\"outlinewidth\":0,\"ticks\":\"\"}},\"type\":\"scattergeo\"}],\"scattergl\":[{\"marker\":{\"colorbar\":{\"outlinewidth\":0,\"ticks\":\"\"}},\"type\":\"scattergl\"}],\"scattermapbox\":[{\"marker\":{\"colorbar\":{\"outlinewidth\":0,\"ticks\":\"\"}},\"type\":\"scattermapbox\"}],\"scatterpolargl\":[{\"marker\":{\"colorbar\":{\"outlinewidth\":0,\"ticks\":\"\"}},\"type\":\"scatterpolargl\"}],\"scatterpolar\":[{\"marker\":{\"colorbar\":{\"outlinewidth\":0,\"ticks\":\"\"}},\"type\":\"scatterpolar\"}],\"scatter\":[{\"fillpattern\":{\"fillmode\":\"overlay\",\"size\":10,\"solidity\":0.2},\"type\":\"scatter\"}],\"scatterternary\":[{\"marker\":{\"colorbar\":{\"outlinewidth\":0,\"ticks\":\"\"}},\"type\":\"scatterternary\"}],\"surface\":[{\"colorbar\":{\"outlinewidth\":0,\"ticks\":\"\"},\"colorscale\":[[0.0,\"#0d0887\"],[0.1111111111111111,\"#46039f\"],[0.2222222222222222,\"#7201a8\"],[0.3333333333333333,\"#9c179e\"],[0.4444444444444444,\"#bd3786\"],[0.5555555555555556,\"#d8576b\"],[0.6666666666666666,\"#ed7953\"],[0.7777777777777778,\"#fb9f3a\"],[0.8888888888888888,\"#fdca26\"],[1.0,\"#f0f921\"]],\"type\":\"surface\"}],\"table\":[{\"cells\":{\"fill\":{\"color\":\"#EBF0F8\"},\"line\":{\"color\":\"white\"}},\"header\":{\"fill\":{\"color\":\"#C8D4E3\"},\"line\":{\"color\":\"white\"}},\"type\":\"table\"}]},\"layout\":{\"annotationdefaults\":{\"arrowcolor\":\"#2a3f5f\",\"arrowhead\":0,\"arrowwidth\":1},\"autotypenumbers\":\"strict\",\"coloraxis\":{\"colorbar\":{\"outlinewidth\":0,\"ticks\":\"\"}},\"colorscale\":{\"diverging\":[[0,\"#8e0152\"],[0.1,\"#c51b7d\"],[0.2,\"#de77ae\"],[0.3,\"#f1b6da\"],[0.4,\"#fde0ef\"],[0.5,\"#f7f7f7\"],[0.6,\"#e6f5d0\"],[0.7,\"#b8e186\"],[0.8,\"#7fbc41\"],[0.9,\"#4d9221\"],[1,\"#276419\"]],\"sequential\":[[0.0,\"#0d0887\"],[0.1111111111111111,\"#46039f\"],[0.2222222222222222,\"#7201a8\"],[0.3333333333333333,\"#9c179e\"],[0.4444444444444444,\"#bd3786\"],[0.5555555555555556,\"#d8576b\"],[0.6666666666666666,\"#ed7953\"],[0.7777777777777778,\"#fb9f3a\"],[0.8888888888888888,\"#fdca26\"],[1.0,\"#f0f921\"]],\"sequentialminus\":[[0.0,\"#0d0887\"],[0.1111111111111111,\"#46039f\"],[0.2222222222222222,\"#7201a8\"],[0.3333333333333333,\"#9c179e\"],[0.4444444444444444,\"#bd3786\"],[0.5555555555555556,\"#d8576b\"],[0.6666666666666666,\"#ed7953\"],[0.7777777777777778,\"#fb9f3a\"],[0.8888888888888888,\"#fdca26\"],[1.0,\"#f0f921\"]]},\"colorway\":[\"#636efa\",\"#EF553B\",\"#00cc96\",\"#ab63fa\",\"#FFA15A\",\"#19d3f3\",\"#FF6692\",\"#B6E880\",\"#FF97FF\",\"#FECB52\"],\"font\":{\"color\":\"#2a3f5f\"},\"geo\":{\"bgcolor\":\"white\",\"lakecolor\":\"white\",\"landcolor\":\"#E5ECF6\",\"showlakes\":true,\"showland\":true,\"subunitcolor\":\"white\"},\"hoverlabel\":{\"align\":\"left\"},\"hovermode\":\"closest\",\"mapbox\":{\"style\":\"light\"},\"paper_bgcolor\":\"white\",\"plot_bgcolor\":\"#E5ECF6\",\"polar\":{\"angularaxis\":{\"gridcolor\":\"white\",\"linecolor\":\"white\",\"ticks\":\"\"},\"bgcolor\":\"#E5ECF6\",\"radialaxis\":{\"gridcolor\":\"white\",\"linecolor\":\"white\",\"ticks\":\"\"}},\"scene\":{\"xaxis\":{\"backgroundcolor\":\"#E5ECF6\",\"gridcolor\":\"white\",\"gridwidth\":2,\"linecolor\":\"white\",\"showbackground\":true,\"ticks\":\"\",\"zerolinecolor\":\"white\"},\"yaxis\":{\"backgroundcolor\":\"#E5ECF6\",\"gridcolor\":\"white\",\"gridwidth\":2,\"linecolor\":\"white\",\"showbackground\":true,\"ticks\":\"\",\"zerolinecolor\":\"white\"},\"zaxis\":{\"backgroundcolor\":\"#E5ECF6\",\"gridcolor\":\"white\",\"gridwidth\":2,\"linecolor\":\"white\",\"showbackground\":true,\"ticks\":\"\",\"zerolinecolor\":\"white\"}},\"shapedefaults\":{\"line\":{\"color\":\"#2a3f5f\"}},\"ternary\":{\"aaxis\":{\"gridcolor\":\"white\",\"linecolor\":\"white\",\"ticks\":\"\"},\"baxis\":{\"gridcolor\":\"white\",\"linecolor\":\"white\",\"ticks\":\"\"},\"bgcolor\":\"#E5ECF6\",\"caxis\":{\"gridcolor\":\"white\",\"linecolor\":\"white\",\"ticks\":\"\"}},\"title\":{\"x\":0.05},\"xaxis\":{\"automargin\":true,\"gridcolor\":\"white\",\"linecolor\":\"white\",\"ticks\":\"\",\"title\":{\"standoff\":15},\"zerolinecolor\":\"white\",\"zerolinewidth\":2},\"yaxis\":{\"automargin\":true,\"gridcolor\":\"white\",\"linecolor\":\"white\",\"ticks\":\"\",\"title\":{\"standoff\":15},\"zerolinecolor\":\"white\",\"zerolinewidth\":2}}},\"title\":{\"font\":{\"color\":\"#4D5663\"}},\"xaxis\":{\"gridcolor\":\"#E1E5ED\",\"showgrid\":true,\"tickfont\":{\"color\":\"#4D5663\"},\"title\":{\"font\":{\"color\":\"#4D5663\"},\"text\":\"\"},\"zerolinecolor\":\"#E1E5ED\"},\"yaxis\":{\"gridcolor\":\"#E1E5ED\",\"showgrid\":true,\"tickfont\":{\"color\":\"#4D5663\"},\"title\":{\"font\":{\"color\":\"#4D5663\"},\"text\":\"\"},\"zerolinecolor\":\"#E1E5ED\"}},                        {\"showLink\": true, \"linkText\": \"Export to plot.ly\", \"plotlyServerURL\": \"https://plot.ly\", \"responsive\": true}                    ).then(function(){\n",
       "                            \n",
       "var gd = document.getElementById('3807964b-1875-4314-8bd5-b758364d7357');\n",
       "var x = new MutationObserver(function (mutations, observer) {{\n",
       "        var display = window.getComputedStyle(gd).display;\n",
       "        if (!display || display === 'none') {{\n",
       "            console.log([gd, 'removed!']);\n",
       "            Plotly.purge(gd);\n",
       "            observer.disconnect();\n",
       "        }}\n",
       "}});\n",
       "\n",
       "// Listen for the removal of the full notebook cells\n",
       "var notebookContainer = gd.closest('#notebook-container');\n",
       "if (notebookContainer) {{\n",
       "    x.observe(notebookContainer, {childList: true});\n",
       "}}\n",
       "\n",
       "// Listen for the clearing of the current output cell\n",
       "var outputEl = gd.closest('.output');\n",
       "if (outputEl) {{\n",
       "    x.observe(outputEl, {childList: true});\n",
       "}}\n",
       "\n",
       "                        })                };                });            </script>        </div>"
      ]
     },
     "metadata": {},
     "output_type": "display_data"
    }
   ],
   "source": [
    "df.count().iplot(kind='bar')"
   ]
  },
  {
   "cell_type": "code",
   "execution_count": 41,
   "metadata": {},
   "outputs": [
    {
     "data": {
      "application/vnd.plotly.v1+json": {
       "config": {
        "linkText": "Export to plot.ly",
        "plotlyServerURL": "https://plot.ly",
        "showLink": true
       },
       "data": [
        {
         "marker": {
          "color": "rgba(255, 153, 51, 0.6)",
          "line": {
           "color": "rgba(255, 153, 51, 1.0)",
           "width": 1
          }
         },
         "name": "None",
         "orientation": "v",
         "text": "",
         "type": "bar",
         "x": [
          "A",
          "B",
          "C",
          "D"
         ],
         "y": [
          11.03437499826459,
          13.770502055341646,
          -33.001996977854,
          -0.7984055660550882
         ]
        }
       ],
       "layout": {
        "legend": {
         "bgcolor": "#F5F6F9",
         "font": {
          "color": "#4D5663"
         }
        },
        "paper_bgcolor": "#F5F6F9",
        "plot_bgcolor": "#F5F6F9",
        "template": {
         "data": {
          "bar": [
           {
            "error_x": {
             "color": "#2a3f5f"
            },
            "error_y": {
             "color": "#2a3f5f"
            },
            "marker": {
             "line": {
              "color": "#E5ECF6",
              "width": 0.5
             },
             "pattern": {
              "fillmode": "overlay",
              "size": 10,
              "solidity": 0.2
             }
            },
            "type": "bar"
           }
          ],
          "barpolar": [
           {
            "marker": {
             "line": {
              "color": "#E5ECF6",
              "width": 0.5
             },
             "pattern": {
              "fillmode": "overlay",
              "size": 10,
              "solidity": 0.2
             }
            },
            "type": "barpolar"
           }
          ],
          "carpet": [
           {
            "aaxis": {
             "endlinecolor": "#2a3f5f",
             "gridcolor": "white",
             "linecolor": "white",
             "minorgridcolor": "white",
             "startlinecolor": "#2a3f5f"
            },
            "baxis": {
             "endlinecolor": "#2a3f5f",
             "gridcolor": "white",
             "linecolor": "white",
             "minorgridcolor": "white",
             "startlinecolor": "#2a3f5f"
            },
            "type": "carpet"
           }
          ],
          "choropleth": [
           {
            "colorbar": {
             "outlinewidth": 0,
             "ticks": ""
            },
            "type": "choropleth"
           }
          ],
          "contour": [
           {
            "colorbar": {
             "outlinewidth": 0,
             "ticks": ""
            },
            "colorscale": [
             [
              0,
              "#0d0887"
             ],
             [
              0.1111111111111111,
              "#46039f"
             ],
             [
              0.2222222222222222,
              "#7201a8"
             ],
             [
              0.3333333333333333,
              "#9c179e"
             ],
             [
              0.4444444444444444,
              "#bd3786"
             ],
             [
              0.5555555555555556,
              "#d8576b"
             ],
             [
              0.6666666666666666,
              "#ed7953"
             ],
             [
              0.7777777777777778,
              "#fb9f3a"
             ],
             [
              0.8888888888888888,
              "#fdca26"
             ],
             [
              1,
              "#f0f921"
             ]
            ],
            "type": "contour"
           }
          ],
          "contourcarpet": [
           {
            "colorbar": {
             "outlinewidth": 0,
             "ticks": ""
            },
            "type": "contourcarpet"
           }
          ],
          "heatmap": [
           {
            "colorbar": {
             "outlinewidth": 0,
             "ticks": ""
            },
            "colorscale": [
             [
              0,
              "#0d0887"
             ],
             [
              0.1111111111111111,
              "#46039f"
             ],
             [
              0.2222222222222222,
              "#7201a8"
             ],
             [
              0.3333333333333333,
              "#9c179e"
             ],
             [
              0.4444444444444444,
              "#bd3786"
             ],
             [
              0.5555555555555556,
              "#d8576b"
             ],
             [
              0.6666666666666666,
              "#ed7953"
             ],
             [
              0.7777777777777778,
              "#fb9f3a"
             ],
             [
              0.8888888888888888,
              "#fdca26"
             ],
             [
              1,
              "#f0f921"
             ]
            ],
            "type": "heatmap"
           }
          ],
          "heatmapgl": [
           {
            "colorbar": {
             "outlinewidth": 0,
             "ticks": ""
            },
            "colorscale": [
             [
              0,
              "#0d0887"
             ],
             [
              0.1111111111111111,
              "#46039f"
             ],
             [
              0.2222222222222222,
              "#7201a8"
             ],
             [
              0.3333333333333333,
              "#9c179e"
             ],
             [
              0.4444444444444444,
              "#bd3786"
             ],
             [
              0.5555555555555556,
              "#d8576b"
             ],
             [
              0.6666666666666666,
              "#ed7953"
             ],
             [
              0.7777777777777778,
              "#fb9f3a"
             ],
             [
              0.8888888888888888,
              "#fdca26"
             ],
             [
              1,
              "#f0f921"
             ]
            ],
            "type": "heatmapgl"
           }
          ],
          "histogram": [
           {
            "marker": {
             "pattern": {
              "fillmode": "overlay",
              "size": 10,
              "solidity": 0.2
             }
            },
            "type": "histogram"
           }
          ],
          "histogram2d": [
           {
            "colorbar": {
             "outlinewidth": 0,
             "ticks": ""
            },
            "colorscale": [
             [
              0,
              "#0d0887"
             ],
             [
              0.1111111111111111,
              "#46039f"
             ],
             [
              0.2222222222222222,
              "#7201a8"
             ],
             [
              0.3333333333333333,
              "#9c179e"
             ],
             [
              0.4444444444444444,
              "#bd3786"
             ],
             [
              0.5555555555555556,
              "#d8576b"
             ],
             [
              0.6666666666666666,
              "#ed7953"
             ],
             [
              0.7777777777777778,
              "#fb9f3a"
             ],
             [
              0.8888888888888888,
              "#fdca26"
             ],
             [
              1,
              "#f0f921"
             ]
            ],
            "type": "histogram2d"
           }
          ],
          "histogram2dcontour": [
           {
            "colorbar": {
             "outlinewidth": 0,
             "ticks": ""
            },
            "colorscale": [
             [
              0,
              "#0d0887"
             ],
             [
              0.1111111111111111,
              "#46039f"
             ],
             [
              0.2222222222222222,
              "#7201a8"
             ],
             [
              0.3333333333333333,
              "#9c179e"
             ],
             [
              0.4444444444444444,
              "#bd3786"
             ],
             [
              0.5555555555555556,
              "#d8576b"
             ],
             [
              0.6666666666666666,
              "#ed7953"
             ],
             [
              0.7777777777777778,
              "#fb9f3a"
             ],
             [
              0.8888888888888888,
              "#fdca26"
             ],
             [
              1,
              "#f0f921"
             ]
            ],
            "type": "histogram2dcontour"
           }
          ],
          "mesh3d": [
           {
            "colorbar": {
             "outlinewidth": 0,
             "ticks": ""
            },
            "type": "mesh3d"
           }
          ],
          "parcoords": [
           {
            "line": {
             "colorbar": {
              "outlinewidth": 0,
              "ticks": ""
             }
            },
            "type": "parcoords"
           }
          ],
          "pie": [
           {
            "automargin": true,
            "type": "pie"
           }
          ],
          "scatter": [
           {
            "fillpattern": {
             "fillmode": "overlay",
             "size": 10,
             "solidity": 0.2
            },
            "type": "scatter"
           }
          ],
          "scatter3d": [
           {
            "line": {
             "colorbar": {
              "outlinewidth": 0,
              "ticks": ""
             }
            },
            "marker": {
             "colorbar": {
              "outlinewidth": 0,
              "ticks": ""
             }
            },
            "type": "scatter3d"
           }
          ],
          "scattercarpet": [
           {
            "marker": {
             "colorbar": {
              "outlinewidth": 0,
              "ticks": ""
             }
            },
            "type": "scattercarpet"
           }
          ],
          "scattergeo": [
           {
            "marker": {
             "colorbar": {
              "outlinewidth": 0,
              "ticks": ""
             }
            },
            "type": "scattergeo"
           }
          ],
          "scattergl": [
           {
            "marker": {
             "colorbar": {
              "outlinewidth": 0,
              "ticks": ""
             }
            },
            "type": "scattergl"
           }
          ],
          "scattermapbox": [
           {
            "marker": {
             "colorbar": {
              "outlinewidth": 0,
              "ticks": ""
             }
            },
            "type": "scattermapbox"
           }
          ],
          "scatterpolar": [
           {
            "marker": {
             "colorbar": {
              "outlinewidth": 0,
              "ticks": ""
             }
            },
            "type": "scatterpolar"
           }
          ],
          "scatterpolargl": [
           {
            "marker": {
             "colorbar": {
              "outlinewidth": 0,
              "ticks": ""
             }
            },
            "type": "scatterpolargl"
           }
          ],
          "scatterternary": [
           {
            "marker": {
             "colorbar": {
              "outlinewidth": 0,
              "ticks": ""
             }
            },
            "type": "scatterternary"
           }
          ],
          "surface": [
           {
            "colorbar": {
             "outlinewidth": 0,
             "ticks": ""
            },
            "colorscale": [
             [
              0,
              "#0d0887"
             ],
             [
              0.1111111111111111,
              "#46039f"
             ],
             [
              0.2222222222222222,
              "#7201a8"
             ],
             [
              0.3333333333333333,
              "#9c179e"
             ],
             [
              0.4444444444444444,
              "#bd3786"
             ],
             [
              0.5555555555555556,
              "#d8576b"
             ],
             [
              0.6666666666666666,
              "#ed7953"
             ],
             [
              0.7777777777777778,
              "#fb9f3a"
             ],
             [
              0.8888888888888888,
              "#fdca26"
             ],
             [
              1,
              "#f0f921"
             ]
            ],
            "type": "surface"
           }
          ],
          "table": [
           {
            "cells": {
             "fill": {
              "color": "#EBF0F8"
             },
             "line": {
              "color": "white"
             }
            },
            "header": {
             "fill": {
              "color": "#C8D4E3"
             },
             "line": {
              "color": "white"
             }
            },
            "type": "table"
           }
          ]
         },
         "layout": {
          "annotationdefaults": {
           "arrowcolor": "#2a3f5f",
           "arrowhead": 0,
           "arrowwidth": 1
          },
          "autotypenumbers": "strict",
          "coloraxis": {
           "colorbar": {
            "outlinewidth": 0,
            "ticks": ""
           }
          },
          "colorscale": {
           "diverging": [
            [
             0,
             "#8e0152"
            ],
            [
             0.1,
             "#c51b7d"
            ],
            [
             0.2,
             "#de77ae"
            ],
            [
             0.3,
             "#f1b6da"
            ],
            [
             0.4,
             "#fde0ef"
            ],
            [
             0.5,
             "#f7f7f7"
            ],
            [
             0.6,
             "#e6f5d0"
            ],
            [
             0.7,
             "#b8e186"
            ],
            [
             0.8,
             "#7fbc41"
            ],
            [
             0.9,
             "#4d9221"
            ],
            [
             1,
             "#276419"
            ]
           ],
           "sequential": [
            [
             0,
             "#0d0887"
            ],
            [
             0.1111111111111111,
             "#46039f"
            ],
            [
             0.2222222222222222,
             "#7201a8"
            ],
            [
             0.3333333333333333,
             "#9c179e"
            ],
            [
             0.4444444444444444,
             "#bd3786"
            ],
            [
             0.5555555555555556,
             "#d8576b"
            ],
            [
             0.6666666666666666,
             "#ed7953"
            ],
            [
             0.7777777777777778,
             "#fb9f3a"
            ],
            [
             0.8888888888888888,
             "#fdca26"
            ],
            [
             1,
             "#f0f921"
            ]
           ],
           "sequentialminus": [
            [
             0,
             "#0d0887"
            ],
            [
             0.1111111111111111,
             "#46039f"
            ],
            [
             0.2222222222222222,
             "#7201a8"
            ],
            [
             0.3333333333333333,
             "#9c179e"
            ],
            [
             0.4444444444444444,
             "#bd3786"
            ],
            [
             0.5555555555555556,
             "#d8576b"
            ],
            [
             0.6666666666666666,
             "#ed7953"
            ],
            [
             0.7777777777777778,
             "#fb9f3a"
            ],
            [
             0.8888888888888888,
             "#fdca26"
            ],
            [
             1,
             "#f0f921"
            ]
           ]
          },
          "colorway": [
           "#636efa",
           "#EF553B",
           "#00cc96",
           "#ab63fa",
           "#FFA15A",
           "#19d3f3",
           "#FF6692",
           "#B6E880",
           "#FF97FF",
           "#FECB52"
          ],
          "font": {
           "color": "#2a3f5f"
          },
          "geo": {
           "bgcolor": "white",
           "lakecolor": "white",
           "landcolor": "#E5ECF6",
           "showlakes": true,
           "showland": true,
           "subunitcolor": "white"
          },
          "hoverlabel": {
           "align": "left"
          },
          "hovermode": "closest",
          "mapbox": {
           "style": "light"
          },
          "paper_bgcolor": "white",
          "plot_bgcolor": "#E5ECF6",
          "polar": {
           "angularaxis": {
            "gridcolor": "white",
            "linecolor": "white",
            "ticks": ""
           },
           "bgcolor": "#E5ECF6",
           "radialaxis": {
            "gridcolor": "white",
            "linecolor": "white",
            "ticks": ""
           }
          },
          "scene": {
           "xaxis": {
            "backgroundcolor": "#E5ECF6",
            "gridcolor": "white",
            "gridwidth": 2,
            "linecolor": "white",
            "showbackground": true,
            "ticks": "",
            "zerolinecolor": "white"
           },
           "yaxis": {
            "backgroundcolor": "#E5ECF6",
            "gridcolor": "white",
            "gridwidth": 2,
            "linecolor": "white",
            "showbackground": true,
            "ticks": "",
            "zerolinecolor": "white"
           },
           "zaxis": {
            "backgroundcolor": "#E5ECF6",
            "gridcolor": "white",
            "gridwidth": 2,
            "linecolor": "white",
            "showbackground": true,
            "ticks": "",
            "zerolinecolor": "white"
           }
          },
          "shapedefaults": {
           "line": {
            "color": "#2a3f5f"
           }
          },
          "ternary": {
           "aaxis": {
            "gridcolor": "white",
            "linecolor": "white",
            "ticks": ""
           },
           "baxis": {
            "gridcolor": "white",
            "linecolor": "white",
            "ticks": ""
           },
           "bgcolor": "#E5ECF6",
           "caxis": {
            "gridcolor": "white",
            "linecolor": "white",
            "ticks": ""
           }
          },
          "title": {
           "x": 0.05
          },
          "xaxis": {
           "automargin": true,
           "gridcolor": "white",
           "linecolor": "white",
           "ticks": "",
           "title": {
            "standoff": 15
           },
           "zerolinecolor": "white",
           "zerolinewidth": 2
          },
          "yaxis": {
           "automargin": true,
           "gridcolor": "white",
           "linecolor": "white",
           "ticks": "",
           "title": {
            "standoff": 15
           },
           "zerolinecolor": "white",
           "zerolinewidth": 2
          }
         }
        },
        "title": {
         "font": {
          "color": "#4D5663"
         }
        },
        "xaxis": {
         "gridcolor": "#E1E5ED",
         "showgrid": true,
         "tickfont": {
          "color": "#4D5663"
         },
         "title": {
          "font": {
           "color": "#4D5663"
          },
          "text": ""
         },
         "zerolinecolor": "#E1E5ED"
        },
        "yaxis": {
         "gridcolor": "#E1E5ED",
         "showgrid": true,
         "tickfont": {
          "color": "#4D5663"
         },
         "title": {
          "font": {
           "color": "#4D5663"
          },
          "text": ""
         },
         "zerolinecolor": "#E1E5ED"
        }
       }
      },
      "text/html": [
       "<div>                            <div id=\"5833541c-dab2-4fd6-a168-715805fab19f\" class=\"plotly-graph-div\" style=\"height:525px; width:100%;\"></div>            <script type=\"text/javascript\">                require([\"plotly\"], function(Plotly) {                    window.PLOTLYENV=window.PLOTLYENV || {};\n",
       "                    window.PLOTLYENV.BASE_URL='https://plot.ly';                                    if (document.getElementById(\"5833541c-dab2-4fd6-a168-715805fab19f\")) {                    Plotly.newPlot(                        \"5833541c-dab2-4fd6-a168-715805fab19f\",                        [{\"marker\":{\"color\":\"rgba(255, 153, 51, 0.6)\",\"line\":{\"color\":\"rgba(255, 153, 51, 1.0)\",\"width\":1}},\"name\":\"None\",\"orientation\":\"v\",\"text\":\"\",\"x\":[\"A\",\"B\",\"C\",\"D\"],\"y\":[11.03437499826459,13.770502055341646,-33.001996977854,-0.7984055660550882],\"type\":\"bar\"}],                        {\"legend\":{\"bgcolor\":\"#F5F6F9\",\"font\":{\"color\":\"#4D5663\"}},\"paper_bgcolor\":\"#F5F6F9\",\"plot_bgcolor\":\"#F5F6F9\",\"template\":{\"data\":{\"barpolar\":[{\"marker\":{\"line\":{\"color\":\"#E5ECF6\",\"width\":0.5},\"pattern\":{\"fillmode\":\"overlay\",\"size\":10,\"solidity\":0.2}},\"type\":\"barpolar\"}],\"bar\":[{\"error_x\":{\"color\":\"#2a3f5f\"},\"error_y\":{\"color\":\"#2a3f5f\"},\"marker\":{\"line\":{\"color\":\"#E5ECF6\",\"width\":0.5},\"pattern\":{\"fillmode\":\"overlay\",\"size\":10,\"solidity\":0.2}},\"type\":\"bar\"}],\"carpet\":[{\"aaxis\":{\"endlinecolor\":\"#2a3f5f\",\"gridcolor\":\"white\",\"linecolor\":\"white\",\"minorgridcolor\":\"white\",\"startlinecolor\":\"#2a3f5f\"},\"baxis\":{\"endlinecolor\":\"#2a3f5f\",\"gridcolor\":\"white\",\"linecolor\":\"white\",\"minorgridcolor\":\"white\",\"startlinecolor\":\"#2a3f5f\"},\"type\":\"carpet\"}],\"choropleth\":[{\"colorbar\":{\"outlinewidth\":0,\"ticks\":\"\"},\"type\":\"choropleth\"}],\"contourcarpet\":[{\"colorbar\":{\"outlinewidth\":0,\"ticks\":\"\"},\"type\":\"contourcarpet\"}],\"contour\":[{\"colorbar\":{\"outlinewidth\":0,\"ticks\":\"\"},\"colorscale\":[[0.0,\"#0d0887\"],[0.1111111111111111,\"#46039f\"],[0.2222222222222222,\"#7201a8\"],[0.3333333333333333,\"#9c179e\"],[0.4444444444444444,\"#bd3786\"],[0.5555555555555556,\"#d8576b\"],[0.6666666666666666,\"#ed7953\"],[0.7777777777777778,\"#fb9f3a\"],[0.8888888888888888,\"#fdca26\"],[1.0,\"#f0f921\"]],\"type\":\"contour\"}],\"heatmapgl\":[{\"colorbar\":{\"outlinewidth\":0,\"ticks\":\"\"},\"colorscale\":[[0.0,\"#0d0887\"],[0.1111111111111111,\"#46039f\"],[0.2222222222222222,\"#7201a8\"],[0.3333333333333333,\"#9c179e\"],[0.4444444444444444,\"#bd3786\"],[0.5555555555555556,\"#d8576b\"],[0.6666666666666666,\"#ed7953\"],[0.7777777777777778,\"#fb9f3a\"],[0.8888888888888888,\"#fdca26\"],[1.0,\"#f0f921\"]],\"type\":\"heatmapgl\"}],\"heatmap\":[{\"colorbar\":{\"outlinewidth\":0,\"ticks\":\"\"},\"colorscale\":[[0.0,\"#0d0887\"],[0.1111111111111111,\"#46039f\"],[0.2222222222222222,\"#7201a8\"],[0.3333333333333333,\"#9c179e\"],[0.4444444444444444,\"#bd3786\"],[0.5555555555555556,\"#d8576b\"],[0.6666666666666666,\"#ed7953\"],[0.7777777777777778,\"#fb9f3a\"],[0.8888888888888888,\"#fdca26\"],[1.0,\"#f0f921\"]],\"type\":\"heatmap\"}],\"histogram2dcontour\":[{\"colorbar\":{\"outlinewidth\":0,\"ticks\":\"\"},\"colorscale\":[[0.0,\"#0d0887\"],[0.1111111111111111,\"#46039f\"],[0.2222222222222222,\"#7201a8\"],[0.3333333333333333,\"#9c179e\"],[0.4444444444444444,\"#bd3786\"],[0.5555555555555556,\"#d8576b\"],[0.6666666666666666,\"#ed7953\"],[0.7777777777777778,\"#fb9f3a\"],[0.8888888888888888,\"#fdca26\"],[1.0,\"#f0f921\"]],\"type\":\"histogram2dcontour\"}],\"histogram2d\":[{\"colorbar\":{\"outlinewidth\":0,\"ticks\":\"\"},\"colorscale\":[[0.0,\"#0d0887\"],[0.1111111111111111,\"#46039f\"],[0.2222222222222222,\"#7201a8\"],[0.3333333333333333,\"#9c179e\"],[0.4444444444444444,\"#bd3786\"],[0.5555555555555556,\"#d8576b\"],[0.6666666666666666,\"#ed7953\"],[0.7777777777777778,\"#fb9f3a\"],[0.8888888888888888,\"#fdca26\"],[1.0,\"#f0f921\"]],\"type\":\"histogram2d\"}],\"histogram\":[{\"marker\":{\"pattern\":{\"fillmode\":\"overlay\",\"size\":10,\"solidity\":0.2}},\"type\":\"histogram\"}],\"mesh3d\":[{\"colorbar\":{\"outlinewidth\":0,\"ticks\":\"\"},\"type\":\"mesh3d\"}],\"parcoords\":[{\"line\":{\"colorbar\":{\"outlinewidth\":0,\"ticks\":\"\"}},\"type\":\"parcoords\"}],\"pie\":[{\"automargin\":true,\"type\":\"pie\"}],\"scatter3d\":[{\"line\":{\"colorbar\":{\"outlinewidth\":0,\"ticks\":\"\"}},\"marker\":{\"colorbar\":{\"outlinewidth\":0,\"ticks\":\"\"}},\"type\":\"scatter3d\"}],\"scattercarpet\":[{\"marker\":{\"colorbar\":{\"outlinewidth\":0,\"ticks\":\"\"}},\"type\":\"scattercarpet\"}],\"scattergeo\":[{\"marker\":{\"colorbar\":{\"outlinewidth\":0,\"ticks\":\"\"}},\"type\":\"scattergeo\"}],\"scattergl\":[{\"marker\":{\"colorbar\":{\"outlinewidth\":0,\"ticks\":\"\"}},\"type\":\"scattergl\"}],\"scattermapbox\":[{\"marker\":{\"colorbar\":{\"outlinewidth\":0,\"ticks\":\"\"}},\"type\":\"scattermapbox\"}],\"scatterpolargl\":[{\"marker\":{\"colorbar\":{\"outlinewidth\":0,\"ticks\":\"\"}},\"type\":\"scatterpolargl\"}],\"scatterpolar\":[{\"marker\":{\"colorbar\":{\"outlinewidth\":0,\"ticks\":\"\"}},\"type\":\"scatterpolar\"}],\"scatter\":[{\"fillpattern\":{\"fillmode\":\"overlay\",\"size\":10,\"solidity\":0.2},\"type\":\"scatter\"}],\"scatterternary\":[{\"marker\":{\"colorbar\":{\"outlinewidth\":0,\"ticks\":\"\"}},\"type\":\"scatterternary\"}],\"surface\":[{\"colorbar\":{\"outlinewidth\":0,\"ticks\":\"\"},\"colorscale\":[[0.0,\"#0d0887\"],[0.1111111111111111,\"#46039f\"],[0.2222222222222222,\"#7201a8\"],[0.3333333333333333,\"#9c179e\"],[0.4444444444444444,\"#bd3786\"],[0.5555555555555556,\"#d8576b\"],[0.6666666666666666,\"#ed7953\"],[0.7777777777777778,\"#fb9f3a\"],[0.8888888888888888,\"#fdca26\"],[1.0,\"#f0f921\"]],\"type\":\"surface\"}],\"table\":[{\"cells\":{\"fill\":{\"color\":\"#EBF0F8\"},\"line\":{\"color\":\"white\"}},\"header\":{\"fill\":{\"color\":\"#C8D4E3\"},\"line\":{\"color\":\"white\"}},\"type\":\"table\"}]},\"layout\":{\"annotationdefaults\":{\"arrowcolor\":\"#2a3f5f\",\"arrowhead\":0,\"arrowwidth\":1},\"autotypenumbers\":\"strict\",\"coloraxis\":{\"colorbar\":{\"outlinewidth\":0,\"ticks\":\"\"}},\"colorscale\":{\"diverging\":[[0,\"#8e0152\"],[0.1,\"#c51b7d\"],[0.2,\"#de77ae\"],[0.3,\"#f1b6da\"],[0.4,\"#fde0ef\"],[0.5,\"#f7f7f7\"],[0.6,\"#e6f5d0\"],[0.7,\"#b8e186\"],[0.8,\"#7fbc41\"],[0.9,\"#4d9221\"],[1,\"#276419\"]],\"sequential\":[[0.0,\"#0d0887\"],[0.1111111111111111,\"#46039f\"],[0.2222222222222222,\"#7201a8\"],[0.3333333333333333,\"#9c179e\"],[0.4444444444444444,\"#bd3786\"],[0.5555555555555556,\"#d8576b\"],[0.6666666666666666,\"#ed7953\"],[0.7777777777777778,\"#fb9f3a\"],[0.8888888888888888,\"#fdca26\"],[1.0,\"#f0f921\"]],\"sequentialminus\":[[0.0,\"#0d0887\"],[0.1111111111111111,\"#46039f\"],[0.2222222222222222,\"#7201a8\"],[0.3333333333333333,\"#9c179e\"],[0.4444444444444444,\"#bd3786\"],[0.5555555555555556,\"#d8576b\"],[0.6666666666666666,\"#ed7953\"],[0.7777777777777778,\"#fb9f3a\"],[0.8888888888888888,\"#fdca26\"],[1.0,\"#f0f921\"]]},\"colorway\":[\"#636efa\",\"#EF553B\",\"#00cc96\",\"#ab63fa\",\"#FFA15A\",\"#19d3f3\",\"#FF6692\",\"#B6E880\",\"#FF97FF\",\"#FECB52\"],\"font\":{\"color\":\"#2a3f5f\"},\"geo\":{\"bgcolor\":\"white\",\"lakecolor\":\"white\",\"landcolor\":\"#E5ECF6\",\"showlakes\":true,\"showland\":true,\"subunitcolor\":\"white\"},\"hoverlabel\":{\"align\":\"left\"},\"hovermode\":\"closest\",\"mapbox\":{\"style\":\"light\"},\"paper_bgcolor\":\"white\",\"plot_bgcolor\":\"#E5ECF6\",\"polar\":{\"angularaxis\":{\"gridcolor\":\"white\",\"linecolor\":\"white\",\"ticks\":\"\"},\"bgcolor\":\"#E5ECF6\",\"radialaxis\":{\"gridcolor\":\"white\",\"linecolor\":\"white\",\"ticks\":\"\"}},\"scene\":{\"xaxis\":{\"backgroundcolor\":\"#E5ECF6\",\"gridcolor\":\"white\",\"gridwidth\":2,\"linecolor\":\"white\",\"showbackground\":true,\"ticks\":\"\",\"zerolinecolor\":\"white\"},\"yaxis\":{\"backgroundcolor\":\"#E5ECF6\",\"gridcolor\":\"white\",\"gridwidth\":2,\"linecolor\":\"white\",\"showbackground\":true,\"ticks\":\"\",\"zerolinecolor\":\"white\"},\"zaxis\":{\"backgroundcolor\":\"#E5ECF6\",\"gridcolor\":\"white\",\"gridwidth\":2,\"linecolor\":\"white\",\"showbackground\":true,\"ticks\":\"\",\"zerolinecolor\":\"white\"}},\"shapedefaults\":{\"line\":{\"color\":\"#2a3f5f\"}},\"ternary\":{\"aaxis\":{\"gridcolor\":\"white\",\"linecolor\":\"white\",\"ticks\":\"\"},\"baxis\":{\"gridcolor\":\"white\",\"linecolor\":\"white\",\"ticks\":\"\"},\"bgcolor\":\"#E5ECF6\",\"caxis\":{\"gridcolor\":\"white\",\"linecolor\":\"white\",\"ticks\":\"\"}},\"title\":{\"x\":0.05},\"xaxis\":{\"automargin\":true,\"gridcolor\":\"white\",\"linecolor\":\"white\",\"ticks\":\"\",\"title\":{\"standoff\":15},\"zerolinecolor\":\"white\",\"zerolinewidth\":2},\"yaxis\":{\"automargin\":true,\"gridcolor\":\"white\",\"linecolor\":\"white\",\"ticks\":\"\",\"title\":{\"standoff\":15},\"zerolinecolor\":\"white\",\"zerolinewidth\":2}}},\"title\":{\"font\":{\"color\":\"#4D5663\"}},\"xaxis\":{\"gridcolor\":\"#E1E5ED\",\"showgrid\":true,\"tickfont\":{\"color\":\"#4D5663\"},\"title\":{\"font\":{\"color\":\"#4D5663\"},\"text\":\"\"},\"zerolinecolor\":\"#E1E5ED\"},\"yaxis\":{\"gridcolor\":\"#E1E5ED\",\"showgrid\":true,\"tickfont\":{\"color\":\"#4D5663\"},\"title\":{\"font\":{\"color\":\"#4D5663\"},\"text\":\"\"},\"zerolinecolor\":\"#E1E5ED\"}},                        {\"showLink\": true, \"linkText\": \"Export to plot.ly\", \"plotlyServerURL\": \"https://plot.ly\", \"responsive\": true}                    ).then(function(){\n",
       "                            \n",
       "var gd = document.getElementById('5833541c-dab2-4fd6-a168-715805fab19f');\n",
       "var x = new MutationObserver(function (mutations, observer) {{\n",
       "        var display = window.getComputedStyle(gd).display;\n",
       "        if (!display || display === 'none') {{\n",
       "            console.log([gd, 'removed!']);\n",
       "            Plotly.purge(gd);\n",
       "            observer.disconnect();\n",
       "        }}\n",
       "}});\n",
       "\n",
       "// Listen for the removal of the full notebook cells\n",
       "var notebookContainer = gd.closest('#notebook-container');\n",
       "if (notebookContainer) {{\n",
       "    x.observe(notebookContainer, {childList: true});\n",
       "}}\n",
       "\n",
       "// Listen for the clearing of the current output cell\n",
       "var outputEl = gd.closest('.output');\n",
       "if (outputEl) {{\n",
       "    x.observe(outputEl, {childList: true});\n",
       "}}\n",
       "\n",
       "                        })                };                });            </script>        </div>"
      ]
     },
     "metadata": {},
     "output_type": "display_data"
    }
   ],
   "source": [
    "df.sum().iplot(kind='bar')"
   ]
  },
  {
   "cell_type": "code",
   "execution_count": 43,
   "metadata": {},
   "outputs": [
    {
     "data": {
      "application/vnd.plotly.v1+json": {
       "config": {
        "linkText": "Export to plot.ly",
        "plotlyServerURL": "https://plot.ly",
        "showLink": true
       },
       "data": [
        {
         "boxpoints": false,
         "line": {
          "width": 1.3
         },
         "marker": {
          "color": "rgba(255, 153, 51, 1.0)"
         },
         "name": "A",
         "orientation": "v",
         "type": "box",
         "y": [
          -0.5893247467893137,
          0.06357799381554469,
          0.3335160921609745,
          0.3243661733043439,
          0.6787084891857187,
          -0.8798125623521266,
          -0.061710317783818004,
          -0.6900260083396907,
          -1.0522257446491912,
          0.2590016072445179,
          1.122478052572237,
          -0.30449682024732316,
          2.267454273919806,
          1.123114298512772,
          -0.6257724174399768,
          1.701367743435107,
          -0.26754379725565747,
          0.3003012512826872,
          -0.3777573284785868,
          -0.49072235963782135,
          0.47438039624374584,
          -0.9607355212592849,
          -0.01448730604106568,
          0.7818381394772317,
          0.47532496228524435,
          -0.8274720991535782,
          -0.9284276067853057,
          -1.488251013296298,
          0.23396954153909585,
          1.869180554136494,
          -0.27883637077933304,
          -0.49624437594324633,
          0.879061425460165,
          0.019113394365269577,
          1.1757641619276693,
          0.5894504709946624,
          1.4571618706876532,
          0.2106774240345165,
          -1.2182225650030216,
          -0.26967153456414256,
          0.8386234979200884,
          -1.1357835340401106,
          0.8926944889147607,
          -0.30968190234772086,
          1.0517072919721753,
          -1.2292761269220487,
          0.1429175250658092,
          -0.20868482281688108,
          0.5809020967712989,
          -1.1356002159648928,
          0.5996902800483412,
          1.7939424342799457,
          0.5131548974217541,
          1.172634706569258,
          -0.5766421668040401,
          0.46792076906214874,
          0.9969095439213087,
          0.21079364926988753,
          -1.306177547922756,
          -0.9305224274786199,
          0.4682250885871653,
          0.9693097901681132,
          -2.422557021111485,
          0.7858934649760749,
          -0.42506148315700365,
          -1.1776687308011278,
          2.2897119366258867,
          -0.7217004741651094,
          -0.9737110269480089,
          0.4190362375628981,
          -0.7391331202884779,
          -0.5555335418005726,
          -0.6785442909794438,
          -0.5230462779813413,
          -0.19618762434273726,
          -1.020057265171055,
          1.381583295856783,
          -1.3195078598361525,
          0.11768444018206939,
          0.07088724711071444,
          -0.41152734532531077,
          -0.2144863229665085,
          0.3000765406875,
          0.6506309442988503,
          0.8406330967821201,
          0.6551793622147913,
          -1.0321856810764007,
          0.5340585373125538,
          -0.062237136294529594,
          0.2250207871795296,
          0.8894595124404172,
          1.3538895386143526,
          0.2817394146169772,
          1.2786671214167356,
          -0.33824826463402663,
          1.1999423130980735,
          0.04203995852535922,
          1.149306256216227,
          1.641525664697918,
          -0.6463223417336121
         ]
        },
        {
         "boxpoints": false,
         "line": {
          "width": 1.3
         },
         "marker": {
          "color": "rgba(55, 128, 191, 1.0)"
         },
         "name": "B",
         "orientation": "v",
         "type": "box",
         "y": [
          1.8124925870160997,
          1.086663682175712,
          -1.8953243258357049,
          -0.392843436166962,
          -0.1567169632575485,
          0.9645413080533394,
          0.17939239711442306,
          -0.5596859964104648,
          0.08895987969414001,
          1.2410834269061197,
          -0.16635960086585302,
          -0.2693807178383773,
          0.8616972888977513,
          -0.32162793172586895,
          -0.7263427607658054,
          0.19433049801394328,
          0.9230331246428911,
          1.6738866616294028,
          2.844028514290566,
          0.08124111784770374,
          1.559763934272282,
          -0.028424724115640336,
          -1.5978583981740588,
          1.3928576720947006,
          2.0229086490252826,
          -1.7694810175837032,
          0.048379614153000024,
          -1.079273422471972,
          1.2672551795759603,
          -0.1387742179814284,
          0.17791343334287685,
          -0.16720070633069986,
          -0.10054709814906158,
          -0.4045908852076268,
          0.12613317418414827,
          -0.5705034300132444,
          0.46209916749023333,
          0.4246966632128942,
          -0.8374278258285641,
          -0.9638366983275459,
          0.976890575946419,
          0.7835331653136482,
          2.033276023577144,
          1.1199398530052502,
          0.41138271732725634,
          1.0078069220383363,
          -1.17204783089823,
          -0.030259256831799808,
          -0.0725649072425263,
          -1.4986111479891409,
          0.6024912562451382,
          -0.34153690368730827,
          -1.015779510613287,
          0.6290209644622186,
          1.063457337554401,
          0.836723127079669,
          0.15820480216977437,
          -1.5203659349823258,
          -0.8072700824714942,
          0.4091445040915564,
          0.11572276858949519,
          -0.7164543939959533,
          -0.07286098502404578,
          0.38153643710956087,
          0.8543380617745421,
          -0.1165213944519551,
          0.6319713589030436,
          -1.724235407313587,
          0.386413105368971,
          -0.2386928216312317,
          0.732732670662475,
          -0.24461445087908382,
          -0.15065292063607347,
          1.5751534559338005,
          -1.5582891131847143,
          -0.18228298191894451,
          -0.41116032632912836,
          -0.17708445099528772,
          0.24337163271237103,
          1.192683688423048,
          0.9782283130777022,
          0.24352349186539524,
          -0.9532991377363603,
          -0.6462511604959087,
          0.7085017132965485,
          -2.1084373382894226,
          -0.5809716735247753,
          0.8850207737297211,
          0.246091165930676,
          -0.503503699045387,
          -2.0346014589949073,
          0.7399600548898199,
          0.867255339032245,
          2.6404520588474565,
          -0.4100752894175069,
          0.8762080237341998,
          0.07387253745176947,
          0.05732143006845413,
          0.4586850385176115,
          0.8508544486089744
         ]
        },
        {
         "boxpoints": false,
         "line": {
          "width": 1.3
         },
         "marker": {
          "color": "rgba(50, 171, 96, 1.0)"
         },
         "name": "C",
         "orientation": "v",
         "type": "box",
         "y": [
          -0.5887201252080634,
          0.7019925031583143,
          -0.12152814849423052,
          -1.2708438572364291,
          1.005385839304346,
          -0.9984428692265944,
          1.4321629049952669,
          -1.0560767907795185,
          -0.6562327117597355,
          -0.3950371209300445,
          -0.6369083886879076,
          0.16740259901346027,
          -1.197787967906911,
          -0.5757438379751361,
          -0.9660314149290065,
          -1.280312500419322,
          0.44919005132260154,
          0.9912354246161327,
          -0.22665091004576998,
          2.00195641786289,
          0.6521292871423648,
          -0.5858611758478834,
          -0.2026706703994717,
          -1.1400881200028743,
          -1.6598845111368843,
          -0.3821632649493528,
          0.40015268984340935,
          -0.24779955580087326,
          -0.22014964502210926,
          1.9826019378014421,
          -2.078964493043121,
          0.8232357228810001,
          -0.3410786708737788,
          0.2326250073562358,
          0.017721847740962565,
          0.06476185482905336,
          1.0856823558781863,
          -1.1863410497481561,
          -0.47395933534119455,
          0.42867872806233165,
          -0.9792302166465338,
          -0.3188004167296261,
          -1.6634411913351508,
          -0.1536391932935441,
          0.37680087031661724,
          -0.1622649507322113,
          -1.0233161895393332,
          -0.6374744254895608,
          -0.38932829571389926,
          0.28352499938728154,
          -0.17052285870812525,
          0.4544231814922744,
          0.6279385675513667,
          -0.29750956972512393,
          -0.9990886330259056,
          -1.432305886084423,
          1.7747315663056045,
          -0.6129901984631514,
          -1.5192985319482608,
          -1.02953724278035,
          0.2749969544641621,
          0.6089404947881051,
          -0.5657258936149782,
          0.1609301397325709,
          -1.1185766191933202,
          0.030218582595458777,
          0.22818071274274482,
          -0.20154169940218186,
          -0.9382400070283291,
          -0.5407653160901239,
          0.03399791994361127,
          -0.1263932664606678,
          -1.9991012100750234,
          -1.3281070200509209,
          -1.266527572614642,
          -0.6590304660948538,
          -0.6038314944169267,
          -0.5209931216875565,
          -1.0875536589229868,
          0.2676600363445982,
          0.28953881801923137,
          -1.0598877555791468,
          0.3971970716706394,
          -0.5126785695240577,
          -0.9797066698706884,
          -1.3088625219990708,
          -1.421869401564566,
          0.48265096872024776,
          0.7482127746603067,
          -2.133104588348111,
          -1.8710169084754382,
          0.11792796320970941,
          -0.6321380743549365,
          0.5961568308307523,
          1.11352599149512,
          -1.3852210078477463,
          -0.23836650898361234,
          0.35990007706698574,
          -2.4756749550769053,
          0.1865725722569815
         ]
        },
        {
         "boxpoints": false,
         "line": {
          "width": 1.3
         },
         "marker": {
          "color": "rgba(128, 0, 128, 1.0)"
         },
         "name": "D",
         "orientation": "v",
         "type": "box",
         "y": [
          0.3132413364996825,
          0.5164174556087842,
          -1.7447372673773398,
          -0.528880172889918,
          1.033665036725101,
          0.873311394994029,
          0.8249908464050247,
          0.9273397491692893,
          -0.8215058131985827,
          -0.8338394535403043,
          0.6593856425722231,
          0.606812543064322,
          1.0366572251911874,
          -0.1838123154502142,
          -0.20255865641686507,
          -0.21478677434427987,
          0.42683648089814025,
          0.8075809913991108,
          3.588713411113252,
          -0.23269749284998376,
          1.1458371773320664,
          0.15350908534039004,
          -0.09355790030975901,
          -2.1551973689769155,
          0.6341354055616454,
          -1.3269834908993567,
          1.357070496588174,
          -0.863944691468353,
          -0.32596706926126623,
          -1.0305917008899146,
          -1.924646040143175,
          1.2923917923983734,
          1.9237844815778715,
          -0.48887692696949653,
          -0.5799400968574776,
          -1.8084695250653529,
          0.34915227891884415,
          0.021587918287322816,
          1.8738783065307074,
          -2.0586680039229046,
          -0.2924245775655203,
          -0.8470645847823713,
          0.45056001836452403,
          0.6348733493561158,
          -0.05420891092805153,
          1.4918185827662416,
          -1.124726844622321,
          -1.160276889128454,
          -1.815885096838446,
          0.15342969039819218,
          1.550598326829556,
          0.2197474501683362,
          -0.8128773277477808,
          0.6372434340238345,
          0.5706402164732105,
          -0.7959502516548398,
          0.7114564128194969,
          -0.381733380041855,
          -0.8762451254574802,
          0.39495110511007064,
          0.0009804939368298273,
          1.0761618317249724,
          0.18466593097894565,
          -1.3431239241579576,
          0.6410572260021555,
          -1.776934017171851,
          -1.8652013021519074,
          -0.11037286401511258,
          0.49461982191473397,
          0.2159836931037541,
          -0.9894954037552692,
          1.0296888720181843,
          0.004919324642563422,
          1.573193852011606,
          -0.014839678786844444,
          -0.950094388676654,
          0.8885889188498369,
          0.2486231614394077,
          2.265740662571898,
          -1.6061175371701175,
          -0.8861363719746421,
          0.053462340071665095,
          0.0556482498375347,
          0.5318168459142504,
          -0.8798981290139644,
          0.5742427858202375,
          -1.3527934392569503,
          1.4531258907979674,
          -0.5192312520648216,
          0.03303622891287528,
          0.757101307601849,
          -0.607351686021069,
          -1.4141927512221015,
          -0.6679557973217564,
          2.6669129852176447,
          -0.29655987552981844,
          -0.6393450954746018,
          -0.3442074457638253,
          -2.5294642240008076,
          1.6447753012195332
         ]
        }
       ],
       "layout": {
        "legend": {
         "bgcolor": "#F5F6F9",
         "font": {
          "color": "#4D5663"
         }
        },
        "paper_bgcolor": "#F5F6F9",
        "plot_bgcolor": "#F5F6F9",
        "template": {
         "data": {
          "bar": [
           {
            "error_x": {
             "color": "#2a3f5f"
            },
            "error_y": {
             "color": "#2a3f5f"
            },
            "marker": {
             "line": {
              "color": "#E5ECF6",
              "width": 0.5
             },
             "pattern": {
              "fillmode": "overlay",
              "size": 10,
              "solidity": 0.2
             }
            },
            "type": "bar"
           }
          ],
          "barpolar": [
           {
            "marker": {
             "line": {
              "color": "#E5ECF6",
              "width": 0.5
             },
             "pattern": {
              "fillmode": "overlay",
              "size": 10,
              "solidity": 0.2
             }
            },
            "type": "barpolar"
           }
          ],
          "carpet": [
           {
            "aaxis": {
             "endlinecolor": "#2a3f5f",
             "gridcolor": "white",
             "linecolor": "white",
             "minorgridcolor": "white",
             "startlinecolor": "#2a3f5f"
            },
            "baxis": {
             "endlinecolor": "#2a3f5f",
             "gridcolor": "white",
             "linecolor": "white",
             "minorgridcolor": "white",
             "startlinecolor": "#2a3f5f"
            },
            "type": "carpet"
           }
          ],
          "choropleth": [
           {
            "colorbar": {
             "outlinewidth": 0,
             "ticks": ""
            },
            "type": "choropleth"
           }
          ],
          "contour": [
           {
            "colorbar": {
             "outlinewidth": 0,
             "ticks": ""
            },
            "colorscale": [
             [
              0,
              "#0d0887"
             ],
             [
              0.1111111111111111,
              "#46039f"
             ],
             [
              0.2222222222222222,
              "#7201a8"
             ],
             [
              0.3333333333333333,
              "#9c179e"
             ],
             [
              0.4444444444444444,
              "#bd3786"
             ],
             [
              0.5555555555555556,
              "#d8576b"
             ],
             [
              0.6666666666666666,
              "#ed7953"
             ],
             [
              0.7777777777777778,
              "#fb9f3a"
             ],
             [
              0.8888888888888888,
              "#fdca26"
             ],
             [
              1,
              "#f0f921"
             ]
            ],
            "type": "contour"
           }
          ],
          "contourcarpet": [
           {
            "colorbar": {
             "outlinewidth": 0,
             "ticks": ""
            },
            "type": "contourcarpet"
           }
          ],
          "heatmap": [
           {
            "colorbar": {
             "outlinewidth": 0,
             "ticks": ""
            },
            "colorscale": [
             [
              0,
              "#0d0887"
             ],
             [
              0.1111111111111111,
              "#46039f"
             ],
             [
              0.2222222222222222,
              "#7201a8"
             ],
             [
              0.3333333333333333,
              "#9c179e"
             ],
             [
              0.4444444444444444,
              "#bd3786"
             ],
             [
              0.5555555555555556,
              "#d8576b"
             ],
             [
              0.6666666666666666,
              "#ed7953"
             ],
             [
              0.7777777777777778,
              "#fb9f3a"
             ],
             [
              0.8888888888888888,
              "#fdca26"
             ],
             [
              1,
              "#f0f921"
             ]
            ],
            "type": "heatmap"
           }
          ],
          "heatmapgl": [
           {
            "colorbar": {
             "outlinewidth": 0,
             "ticks": ""
            },
            "colorscale": [
             [
              0,
              "#0d0887"
             ],
             [
              0.1111111111111111,
              "#46039f"
             ],
             [
              0.2222222222222222,
              "#7201a8"
             ],
             [
              0.3333333333333333,
              "#9c179e"
             ],
             [
              0.4444444444444444,
              "#bd3786"
             ],
             [
              0.5555555555555556,
              "#d8576b"
             ],
             [
              0.6666666666666666,
              "#ed7953"
             ],
             [
              0.7777777777777778,
              "#fb9f3a"
             ],
             [
              0.8888888888888888,
              "#fdca26"
             ],
             [
              1,
              "#f0f921"
             ]
            ],
            "type": "heatmapgl"
           }
          ],
          "histogram": [
           {
            "marker": {
             "pattern": {
              "fillmode": "overlay",
              "size": 10,
              "solidity": 0.2
             }
            },
            "type": "histogram"
           }
          ],
          "histogram2d": [
           {
            "colorbar": {
             "outlinewidth": 0,
             "ticks": ""
            },
            "colorscale": [
             [
              0,
              "#0d0887"
             ],
             [
              0.1111111111111111,
              "#46039f"
             ],
             [
              0.2222222222222222,
              "#7201a8"
             ],
             [
              0.3333333333333333,
              "#9c179e"
             ],
             [
              0.4444444444444444,
              "#bd3786"
             ],
             [
              0.5555555555555556,
              "#d8576b"
             ],
             [
              0.6666666666666666,
              "#ed7953"
             ],
             [
              0.7777777777777778,
              "#fb9f3a"
             ],
             [
              0.8888888888888888,
              "#fdca26"
             ],
             [
              1,
              "#f0f921"
             ]
            ],
            "type": "histogram2d"
           }
          ],
          "histogram2dcontour": [
           {
            "colorbar": {
             "outlinewidth": 0,
             "ticks": ""
            },
            "colorscale": [
             [
              0,
              "#0d0887"
             ],
             [
              0.1111111111111111,
              "#46039f"
             ],
             [
              0.2222222222222222,
              "#7201a8"
             ],
             [
              0.3333333333333333,
              "#9c179e"
             ],
             [
              0.4444444444444444,
              "#bd3786"
             ],
             [
              0.5555555555555556,
              "#d8576b"
             ],
             [
              0.6666666666666666,
              "#ed7953"
             ],
             [
              0.7777777777777778,
              "#fb9f3a"
             ],
             [
              0.8888888888888888,
              "#fdca26"
             ],
             [
              1,
              "#f0f921"
             ]
            ],
            "type": "histogram2dcontour"
           }
          ],
          "mesh3d": [
           {
            "colorbar": {
             "outlinewidth": 0,
             "ticks": ""
            },
            "type": "mesh3d"
           }
          ],
          "parcoords": [
           {
            "line": {
             "colorbar": {
              "outlinewidth": 0,
              "ticks": ""
             }
            },
            "type": "parcoords"
           }
          ],
          "pie": [
           {
            "automargin": true,
            "type": "pie"
           }
          ],
          "scatter": [
           {
            "fillpattern": {
             "fillmode": "overlay",
             "size": 10,
             "solidity": 0.2
            },
            "type": "scatter"
           }
          ],
          "scatter3d": [
           {
            "line": {
             "colorbar": {
              "outlinewidth": 0,
              "ticks": ""
             }
            },
            "marker": {
             "colorbar": {
              "outlinewidth": 0,
              "ticks": ""
             }
            },
            "type": "scatter3d"
           }
          ],
          "scattercarpet": [
           {
            "marker": {
             "colorbar": {
              "outlinewidth": 0,
              "ticks": ""
             }
            },
            "type": "scattercarpet"
           }
          ],
          "scattergeo": [
           {
            "marker": {
             "colorbar": {
              "outlinewidth": 0,
              "ticks": ""
             }
            },
            "type": "scattergeo"
           }
          ],
          "scattergl": [
           {
            "marker": {
             "colorbar": {
              "outlinewidth": 0,
              "ticks": ""
             }
            },
            "type": "scattergl"
           }
          ],
          "scattermapbox": [
           {
            "marker": {
             "colorbar": {
              "outlinewidth": 0,
              "ticks": ""
             }
            },
            "type": "scattermapbox"
           }
          ],
          "scatterpolar": [
           {
            "marker": {
             "colorbar": {
              "outlinewidth": 0,
              "ticks": ""
             }
            },
            "type": "scatterpolar"
           }
          ],
          "scatterpolargl": [
           {
            "marker": {
             "colorbar": {
              "outlinewidth": 0,
              "ticks": ""
             }
            },
            "type": "scatterpolargl"
           }
          ],
          "scatterternary": [
           {
            "marker": {
             "colorbar": {
              "outlinewidth": 0,
              "ticks": ""
             }
            },
            "type": "scatterternary"
           }
          ],
          "surface": [
           {
            "colorbar": {
             "outlinewidth": 0,
             "ticks": ""
            },
            "colorscale": [
             [
              0,
              "#0d0887"
             ],
             [
              0.1111111111111111,
              "#46039f"
             ],
             [
              0.2222222222222222,
              "#7201a8"
             ],
             [
              0.3333333333333333,
              "#9c179e"
             ],
             [
              0.4444444444444444,
              "#bd3786"
             ],
             [
              0.5555555555555556,
              "#d8576b"
             ],
             [
              0.6666666666666666,
              "#ed7953"
             ],
             [
              0.7777777777777778,
              "#fb9f3a"
             ],
             [
              0.8888888888888888,
              "#fdca26"
             ],
             [
              1,
              "#f0f921"
             ]
            ],
            "type": "surface"
           }
          ],
          "table": [
           {
            "cells": {
             "fill": {
              "color": "#EBF0F8"
             },
             "line": {
              "color": "white"
             }
            },
            "header": {
             "fill": {
              "color": "#C8D4E3"
             },
             "line": {
              "color": "white"
             }
            },
            "type": "table"
           }
          ]
         },
         "layout": {
          "annotationdefaults": {
           "arrowcolor": "#2a3f5f",
           "arrowhead": 0,
           "arrowwidth": 1
          },
          "autotypenumbers": "strict",
          "coloraxis": {
           "colorbar": {
            "outlinewidth": 0,
            "ticks": ""
           }
          },
          "colorscale": {
           "diverging": [
            [
             0,
             "#8e0152"
            ],
            [
             0.1,
             "#c51b7d"
            ],
            [
             0.2,
             "#de77ae"
            ],
            [
             0.3,
             "#f1b6da"
            ],
            [
             0.4,
             "#fde0ef"
            ],
            [
             0.5,
             "#f7f7f7"
            ],
            [
             0.6,
             "#e6f5d0"
            ],
            [
             0.7,
             "#b8e186"
            ],
            [
             0.8,
             "#7fbc41"
            ],
            [
             0.9,
             "#4d9221"
            ],
            [
             1,
             "#276419"
            ]
           ],
           "sequential": [
            [
             0,
             "#0d0887"
            ],
            [
             0.1111111111111111,
             "#46039f"
            ],
            [
             0.2222222222222222,
             "#7201a8"
            ],
            [
             0.3333333333333333,
             "#9c179e"
            ],
            [
             0.4444444444444444,
             "#bd3786"
            ],
            [
             0.5555555555555556,
             "#d8576b"
            ],
            [
             0.6666666666666666,
             "#ed7953"
            ],
            [
             0.7777777777777778,
             "#fb9f3a"
            ],
            [
             0.8888888888888888,
             "#fdca26"
            ],
            [
             1,
             "#f0f921"
            ]
           ],
           "sequentialminus": [
            [
             0,
             "#0d0887"
            ],
            [
             0.1111111111111111,
             "#46039f"
            ],
            [
             0.2222222222222222,
             "#7201a8"
            ],
            [
             0.3333333333333333,
             "#9c179e"
            ],
            [
             0.4444444444444444,
             "#bd3786"
            ],
            [
             0.5555555555555556,
             "#d8576b"
            ],
            [
             0.6666666666666666,
             "#ed7953"
            ],
            [
             0.7777777777777778,
             "#fb9f3a"
            ],
            [
             0.8888888888888888,
             "#fdca26"
            ],
            [
             1,
             "#f0f921"
            ]
           ]
          },
          "colorway": [
           "#636efa",
           "#EF553B",
           "#00cc96",
           "#ab63fa",
           "#FFA15A",
           "#19d3f3",
           "#FF6692",
           "#B6E880",
           "#FF97FF",
           "#FECB52"
          ],
          "font": {
           "color": "#2a3f5f"
          },
          "geo": {
           "bgcolor": "white",
           "lakecolor": "white",
           "landcolor": "#E5ECF6",
           "showlakes": true,
           "showland": true,
           "subunitcolor": "white"
          },
          "hoverlabel": {
           "align": "left"
          },
          "hovermode": "closest",
          "mapbox": {
           "style": "light"
          },
          "paper_bgcolor": "white",
          "plot_bgcolor": "#E5ECF6",
          "polar": {
           "angularaxis": {
            "gridcolor": "white",
            "linecolor": "white",
            "ticks": ""
           },
           "bgcolor": "#E5ECF6",
           "radialaxis": {
            "gridcolor": "white",
            "linecolor": "white",
            "ticks": ""
           }
          },
          "scene": {
           "xaxis": {
            "backgroundcolor": "#E5ECF6",
            "gridcolor": "white",
            "gridwidth": 2,
            "linecolor": "white",
            "showbackground": true,
            "ticks": "",
            "zerolinecolor": "white"
           },
           "yaxis": {
            "backgroundcolor": "#E5ECF6",
            "gridcolor": "white",
            "gridwidth": 2,
            "linecolor": "white",
            "showbackground": true,
            "ticks": "",
            "zerolinecolor": "white"
           },
           "zaxis": {
            "backgroundcolor": "#E5ECF6",
            "gridcolor": "white",
            "gridwidth": 2,
            "linecolor": "white",
            "showbackground": true,
            "ticks": "",
            "zerolinecolor": "white"
           }
          },
          "shapedefaults": {
           "line": {
            "color": "#2a3f5f"
           }
          },
          "ternary": {
           "aaxis": {
            "gridcolor": "white",
            "linecolor": "white",
            "ticks": ""
           },
           "baxis": {
            "gridcolor": "white",
            "linecolor": "white",
            "ticks": ""
           },
           "bgcolor": "#E5ECF6",
           "caxis": {
            "gridcolor": "white",
            "linecolor": "white",
            "ticks": ""
           }
          },
          "title": {
           "x": 0.05
          },
          "xaxis": {
           "automargin": true,
           "gridcolor": "white",
           "linecolor": "white",
           "ticks": "",
           "title": {
            "standoff": 15
           },
           "zerolinecolor": "white",
           "zerolinewidth": 2
          },
          "yaxis": {
           "automargin": true,
           "gridcolor": "white",
           "linecolor": "white",
           "ticks": "",
           "title": {
            "standoff": 15
           },
           "zerolinecolor": "white",
           "zerolinewidth": 2
          }
         }
        },
        "title": {
         "font": {
          "color": "#4D5663"
         }
        },
        "xaxis": {
         "gridcolor": "#E1E5ED",
         "showgrid": true,
         "tickfont": {
          "color": "#4D5663"
         },
         "title": {
          "font": {
           "color": "#4D5663"
          },
          "text": ""
         },
         "zerolinecolor": "#E1E5ED"
        },
        "yaxis": {
         "gridcolor": "#E1E5ED",
         "showgrid": true,
         "tickfont": {
          "color": "#4D5663"
         },
         "title": {
          "font": {
           "color": "#4D5663"
          },
          "text": ""
         },
         "zerolinecolor": "#E1E5ED"
        }
       }
      },
      "text/html": [
       "<div>                            <div id=\"d3f80908-d1cb-4def-a65c-43e5b27a4edc\" class=\"plotly-graph-div\" style=\"height:525px; width:100%;\"></div>            <script type=\"text/javascript\">                require([\"plotly\"], function(Plotly) {                    window.PLOTLYENV=window.PLOTLYENV || {};\n",
       "                    window.PLOTLYENV.BASE_URL='https://plot.ly';                                    if (document.getElementById(\"d3f80908-d1cb-4def-a65c-43e5b27a4edc\")) {                    Plotly.newPlot(                        \"d3f80908-d1cb-4def-a65c-43e5b27a4edc\",                        [{\"boxpoints\":false,\"line\":{\"width\":1.3},\"marker\":{\"color\":\"rgba(255, 153, 51, 1.0)\"},\"name\":\"A\",\"orientation\":\"v\",\"y\":[-0.5893247467893137,0.06357799381554469,0.3335160921609745,0.3243661733043439,0.6787084891857187,-0.8798125623521266,-0.061710317783818004,-0.6900260083396907,-1.0522257446491912,0.2590016072445179,1.122478052572237,-0.30449682024732316,2.267454273919806,1.123114298512772,-0.6257724174399768,1.701367743435107,-0.26754379725565747,0.3003012512826872,-0.3777573284785868,-0.49072235963782135,0.47438039624374584,-0.9607355212592849,-0.01448730604106568,0.7818381394772317,0.47532496228524435,-0.8274720991535782,-0.9284276067853057,-1.488251013296298,0.23396954153909585,1.869180554136494,-0.27883637077933304,-0.49624437594324633,0.879061425460165,0.019113394365269577,1.1757641619276693,0.5894504709946624,1.4571618706876532,0.2106774240345165,-1.2182225650030216,-0.26967153456414256,0.8386234979200884,-1.1357835340401106,0.8926944889147607,-0.30968190234772086,1.0517072919721753,-1.2292761269220487,0.1429175250658092,-0.20868482281688108,0.5809020967712989,-1.1356002159648928,0.5996902800483412,1.7939424342799457,0.5131548974217541,1.172634706569258,-0.5766421668040401,0.46792076906214874,0.9969095439213087,0.21079364926988753,-1.306177547922756,-0.9305224274786199,0.4682250885871653,0.9693097901681132,-2.422557021111485,0.7858934649760749,-0.42506148315700365,-1.1776687308011278,2.2897119366258867,-0.7217004741651094,-0.9737110269480089,0.4190362375628981,-0.7391331202884779,-0.5555335418005726,-0.6785442909794438,-0.5230462779813413,-0.19618762434273726,-1.020057265171055,1.381583295856783,-1.3195078598361525,0.11768444018206939,0.07088724711071444,-0.41152734532531077,-0.2144863229665085,0.3000765406875,0.6506309442988503,0.8406330967821201,0.6551793622147913,-1.0321856810764007,0.5340585373125538,-0.062237136294529594,0.2250207871795296,0.8894595124404172,1.3538895386143526,0.2817394146169772,1.2786671214167356,-0.33824826463402663,1.1999423130980735,0.04203995852535922,1.149306256216227,1.641525664697918,-0.6463223417336121],\"type\":\"box\"},{\"boxpoints\":false,\"line\":{\"width\":1.3},\"marker\":{\"color\":\"rgba(55, 128, 191, 1.0)\"},\"name\":\"B\",\"orientation\":\"v\",\"y\":[1.8124925870160997,1.086663682175712,-1.8953243258357049,-0.392843436166962,-0.1567169632575485,0.9645413080533394,0.17939239711442306,-0.5596859964104648,0.08895987969414001,1.2410834269061197,-0.16635960086585302,-0.2693807178383773,0.8616972888977513,-0.32162793172586895,-0.7263427607658054,0.19433049801394328,0.9230331246428911,1.6738866616294028,2.844028514290566,0.08124111784770374,1.559763934272282,-0.028424724115640336,-1.5978583981740588,1.3928576720947006,2.0229086490252826,-1.7694810175837032,0.048379614153000024,-1.079273422471972,1.2672551795759603,-0.1387742179814284,0.17791343334287685,-0.16720070633069986,-0.10054709814906158,-0.4045908852076268,0.12613317418414827,-0.5705034300132444,0.46209916749023333,0.4246966632128942,-0.8374278258285641,-0.9638366983275459,0.976890575946419,0.7835331653136482,2.033276023577144,1.1199398530052502,0.41138271732725634,1.0078069220383363,-1.17204783089823,-0.030259256831799808,-0.0725649072425263,-1.4986111479891409,0.6024912562451382,-0.34153690368730827,-1.015779510613287,0.6290209644622186,1.063457337554401,0.836723127079669,0.15820480216977437,-1.5203659349823258,-0.8072700824714942,0.4091445040915564,0.11572276858949519,-0.7164543939959533,-0.07286098502404578,0.38153643710956087,0.8543380617745421,-0.1165213944519551,0.6319713589030436,-1.724235407313587,0.386413105368971,-0.2386928216312317,0.732732670662475,-0.24461445087908382,-0.15065292063607347,1.5751534559338005,-1.5582891131847143,-0.18228298191894451,-0.41116032632912836,-0.17708445099528772,0.24337163271237103,1.192683688423048,0.9782283130777022,0.24352349186539524,-0.9532991377363603,-0.6462511604959087,0.7085017132965485,-2.1084373382894226,-0.5809716735247753,0.8850207737297211,0.246091165930676,-0.503503699045387,-2.0346014589949073,0.7399600548898199,0.867255339032245,2.6404520588474565,-0.4100752894175069,0.8762080237341998,0.07387253745176947,0.05732143006845413,0.4586850385176115,0.8508544486089744],\"type\":\"box\"},{\"boxpoints\":false,\"line\":{\"width\":1.3},\"marker\":{\"color\":\"rgba(50, 171, 96, 1.0)\"},\"name\":\"C\",\"orientation\":\"v\",\"y\":[-0.5887201252080634,0.7019925031583143,-0.12152814849423052,-1.2708438572364291,1.005385839304346,-0.9984428692265944,1.4321629049952669,-1.0560767907795185,-0.6562327117597355,-0.3950371209300445,-0.6369083886879076,0.16740259901346027,-1.197787967906911,-0.5757438379751361,-0.9660314149290065,-1.280312500419322,0.44919005132260154,0.9912354246161327,-0.22665091004576998,2.00195641786289,0.6521292871423648,-0.5858611758478834,-0.2026706703994717,-1.1400881200028743,-1.6598845111368843,-0.3821632649493528,0.40015268984340935,-0.24779955580087326,-0.22014964502210926,1.9826019378014421,-2.078964493043121,0.8232357228810001,-0.3410786708737788,0.2326250073562358,0.017721847740962565,0.06476185482905336,1.0856823558781863,-1.1863410497481561,-0.47395933534119455,0.42867872806233165,-0.9792302166465338,-0.3188004167296261,-1.6634411913351508,-0.1536391932935441,0.37680087031661724,-0.1622649507322113,-1.0233161895393332,-0.6374744254895608,-0.38932829571389926,0.28352499938728154,-0.17052285870812525,0.4544231814922744,0.6279385675513667,-0.29750956972512393,-0.9990886330259056,-1.432305886084423,1.7747315663056045,-0.6129901984631514,-1.5192985319482608,-1.02953724278035,0.2749969544641621,0.6089404947881051,-0.5657258936149782,0.1609301397325709,-1.1185766191933202,0.030218582595458777,0.22818071274274482,-0.20154169940218186,-0.9382400070283291,-0.5407653160901239,0.03399791994361127,-0.1263932664606678,-1.9991012100750234,-1.3281070200509209,-1.266527572614642,-0.6590304660948538,-0.6038314944169267,-0.5209931216875565,-1.0875536589229868,0.2676600363445982,0.28953881801923137,-1.0598877555791468,0.3971970716706394,-0.5126785695240577,-0.9797066698706884,-1.3088625219990708,-1.421869401564566,0.48265096872024776,0.7482127746603067,-2.133104588348111,-1.8710169084754382,0.11792796320970941,-0.6321380743549365,0.5961568308307523,1.11352599149512,-1.3852210078477463,-0.23836650898361234,0.35990007706698574,-2.4756749550769053,0.1865725722569815],\"type\":\"box\"},{\"boxpoints\":false,\"line\":{\"width\":1.3},\"marker\":{\"color\":\"rgba(128, 0, 128, 1.0)\"},\"name\":\"D\",\"orientation\":\"v\",\"y\":[0.3132413364996825,0.5164174556087842,-1.7447372673773398,-0.528880172889918,1.033665036725101,0.873311394994029,0.8249908464050247,0.9273397491692893,-0.8215058131985827,-0.8338394535403043,0.6593856425722231,0.606812543064322,1.0366572251911874,-0.1838123154502142,-0.20255865641686507,-0.21478677434427987,0.42683648089814025,0.8075809913991108,3.588713411113252,-0.23269749284998376,1.1458371773320664,0.15350908534039004,-0.09355790030975901,-2.1551973689769155,0.6341354055616454,-1.3269834908993567,1.357070496588174,-0.863944691468353,-0.32596706926126623,-1.0305917008899146,-1.924646040143175,1.2923917923983734,1.9237844815778715,-0.48887692696949653,-0.5799400968574776,-1.8084695250653529,0.34915227891884415,0.021587918287322816,1.8738783065307074,-2.0586680039229046,-0.2924245775655203,-0.8470645847823713,0.45056001836452403,0.6348733493561158,-0.05420891092805153,1.4918185827662416,-1.124726844622321,-1.160276889128454,-1.815885096838446,0.15342969039819218,1.550598326829556,0.2197474501683362,-0.8128773277477808,0.6372434340238345,0.5706402164732105,-0.7959502516548398,0.7114564128194969,-0.381733380041855,-0.8762451254574802,0.39495110511007064,0.0009804939368298273,1.0761618317249724,0.18466593097894565,-1.3431239241579576,0.6410572260021555,-1.776934017171851,-1.8652013021519074,-0.11037286401511258,0.49461982191473397,0.2159836931037541,-0.9894954037552692,1.0296888720181843,0.004919324642563422,1.573193852011606,-0.014839678786844444,-0.950094388676654,0.8885889188498369,0.2486231614394077,2.265740662571898,-1.6061175371701175,-0.8861363719746421,0.053462340071665095,0.0556482498375347,0.5318168459142504,-0.8798981290139644,0.5742427858202375,-1.3527934392569503,1.4531258907979674,-0.5192312520648216,0.03303622891287528,0.757101307601849,-0.607351686021069,-1.4141927512221015,-0.6679557973217564,2.6669129852176447,-0.29655987552981844,-0.6393450954746018,-0.3442074457638253,-2.5294642240008076,1.6447753012195332],\"type\":\"box\"}],                        {\"legend\":{\"bgcolor\":\"#F5F6F9\",\"font\":{\"color\":\"#4D5663\"}},\"paper_bgcolor\":\"#F5F6F9\",\"plot_bgcolor\":\"#F5F6F9\",\"template\":{\"data\":{\"barpolar\":[{\"marker\":{\"line\":{\"color\":\"#E5ECF6\",\"width\":0.5},\"pattern\":{\"fillmode\":\"overlay\",\"size\":10,\"solidity\":0.2}},\"type\":\"barpolar\"}],\"bar\":[{\"error_x\":{\"color\":\"#2a3f5f\"},\"error_y\":{\"color\":\"#2a3f5f\"},\"marker\":{\"line\":{\"color\":\"#E5ECF6\",\"width\":0.5},\"pattern\":{\"fillmode\":\"overlay\",\"size\":10,\"solidity\":0.2}},\"type\":\"bar\"}],\"carpet\":[{\"aaxis\":{\"endlinecolor\":\"#2a3f5f\",\"gridcolor\":\"white\",\"linecolor\":\"white\",\"minorgridcolor\":\"white\",\"startlinecolor\":\"#2a3f5f\"},\"baxis\":{\"endlinecolor\":\"#2a3f5f\",\"gridcolor\":\"white\",\"linecolor\":\"white\",\"minorgridcolor\":\"white\",\"startlinecolor\":\"#2a3f5f\"},\"type\":\"carpet\"}],\"choropleth\":[{\"colorbar\":{\"outlinewidth\":0,\"ticks\":\"\"},\"type\":\"choropleth\"}],\"contourcarpet\":[{\"colorbar\":{\"outlinewidth\":0,\"ticks\":\"\"},\"type\":\"contourcarpet\"}],\"contour\":[{\"colorbar\":{\"outlinewidth\":0,\"ticks\":\"\"},\"colorscale\":[[0.0,\"#0d0887\"],[0.1111111111111111,\"#46039f\"],[0.2222222222222222,\"#7201a8\"],[0.3333333333333333,\"#9c179e\"],[0.4444444444444444,\"#bd3786\"],[0.5555555555555556,\"#d8576b\"],[0.6666666666666666,\"#ed7953\"],[0.7777777777777778,\"#fb9f3a\"],[0.8888888888888888,\"#fdca26\"],[1.0,\"#f0f921\"]],\"type\":\"contour\"}],\"heatmapgl\":[{\"colorbar\":{\"outlinewidth\":0,\"ticks\":\"\"},\"colorscale\":[[0.0,\"#0d0887\"],[0.1111111111111111,\"#46039f\"],[0.2222222222222222,\"#7201a8\"],[0.3333333333333333,\"#9c179e\"],[0.4444444444444444,\"#bd3786\"],[0.5555555555555556,\"#d8576b\"],[0.6666666666666666,\"#ed7953\"],[0.7777777777777778,\"#fb9f3a\"],[0.8888888888888888,\"#fdca26\"],[1.0,\"#f0f921\"]],\"type\":\"heatmapgl\"}],\"heatmap\":[{\"colorbar\":{\"outlinewidth\":0,\"ticks\":\"\"},\"colorscale\":[[0.0,\"#0d0887\"],[0.1111111111111111,\"#46039f\"],[0.2222222222222222,\"#7201a8\"],[0.3333333333333333,\"#9c179e\"],[0.4444444444444444,\"#bd3786\"],[0.5555555555555556,\"#d8576b\"],[0.6666666666666666,\"#ed7953\"],[0.7777777777777778,\"#fb9f3a\"],[0.8888888888888888,\"#fdca26\"],[1.0,\"#f0f921\"]],\"type\":\"heatmap\"}],\"histogram2dcontour\":[{\"colorbar\":{\"outlinewidth\":0,\"ticks\":\"\"},\"colorscale\":[[0.0,\"#0d0887\"],[0.1111111111111111,\"#46039f\"],[0.2222222222222222,\"#7201a8\"],[0.3333333333333333,\"#9c179e\"],[0.4444444444444444,\"#bd3786\"],[0.5555555555555556,\"#d8576b\"],[0.6666666666666666,\"#ed7953\"],[0.7777777777777778,\"#fb9f3a\"],[0.8888888888888888,\"#fdca26\"],[1.0,\"#f0f921\"]],\"type\":\"histogram2dcontour\"}],\"histogram2d\":[{\"colorbar\":{\"outlinewidth\":0,\"ticks\":\"\"},\"colorscale\":[[0.0,\"#0d0887\"],[0.1111111111111111,\"#46039f\"],[0.2222222222222222,\"#7201a8\"],[0.3333333333333333,\"#9c179e\"],[0.4444444444444444,\"#bd3786\"],[0.5555555555555556,\"#d8576b\"],[0.6666666666666666,\"#ed7953\"],[0.7777777777777778,\"#fb9f3a\"],[0.8888888888888888,\"#fdca26\"],[1.0,\"#f0f921\"]],\"type\":\"histogram2d\"}],\"histogram\":[{\"marker\":{\"pattern\":{\"fillmode\":\"overlay\",\"size\":10,\"solidity\":0.2}},\"type\":\"histogram\"}],\"mesh3d\":[{\"colorbar\":{\"outlinewidth\":0,\"ticks\":\"\"},\"type\":\"mesh3d\"}],\"parcoords\":[{\"line\":{\"colorbar\":{\"outlinewidth\":0,\"ticks\":\"\"}},\"type\":\"parcoords\"}],\"pie\":[{\"automargin\":true,\"type\":\"pie\"}],\"scatter3d\":[{\"line\":{\"colorbar\":{\"outlinewidth\":0,\"ticks\":\"\"}},\"marker\":{\"colorbar\":{\"outlinewidth\":0,\"ticks\":\"\"}},\"type\":\"scatter3d\"}],\"scattercarpet\":[{\"marker\":{\"colorbar\":{\"outlinewidth\":0,\"ticks\":\"\"}},\"type\":\"scattercarpet\"}],\"scattergeo\":[{\"marker\":{\"colorbar\":{\"outlinewidth\":0,\"ticks\":\"\"}},\"type\":\"scattergeo\"}],\"scattergl\":[{\"marker\":{\"colorbar\":{\"outlinewidth\":0,\"ticks\":\"\"}},\"type\":\"scattergl\"}],\"scattermapbox\":[{\"marker\":{\"colorbar\":{\"outlinewidth\":0,\"ticks\":\"\"}},\"type\":\"scattermapbox\"}],\"scatterpolargl\":[{\"marker\":{\"colorbar\":{\"outlinewidth\":0,\"ticks\":\"\"}},\"type\":\"scatterpolargl\"}],\"scatterpolar\":[{\"marker\":{\"colorbar\":{\"outlinewidth\":0,\"ticks\":\"\"}},\"type\":\"scatterpolar\"}],\"scatter\":[{\"fillpattern\":{\"fillmode\":\"overlay\",\"size\":10,\"solidity\":0.2},\"type\":\"scatter\"}],\"scatterternary\":[{\"marker\":{\"colorbar\":{\"outlinewidth\":0,\"ticks\":\"\"}},\"type\":\"scatterternary\"}],\"surface\":[{\"colorbar\":{\"outlinewidth\":0,\"ticks\":\"\"},\"colorscale\":[[0.0,\"#0d0887\"],[0.1111111111111111,\"#46039f\"],[0.2222222222222222,\"#7201a8\"],[0.3333333333333333,\"#9c179e\"],[0.4444444444444444,\"#bd3786\"],[0.5555555555555556,\"#d8576b\"],[0.6666666666666666,\"#ed7953\"],[0.7777777777777778,\"#fb9f3a\"],[0.8888888888888888,\"#fdca26\"],[1.0,\"#f0f921\"]],\"type\":\"surface\"}],\"table\":[{\"cells\":{\"fill\":{\"color\":\"#EBF0F8\"},\"line\":{\"color\":\"white\"}},\"header\":{\"fill\":{\"color\":\"#C8D4E3\"},\"line\":{\"color\":\"white\"}},\"type\":\"table\"}]},\"layout\":{\"annotationdefaults\":{\"arrowcolor\":\"#2a3f5f\",\"arrowhead\":0,\"arrowwidth\":1},\"autotypenumbers\":\"strict\",\"coloraxis\":{\"colorbar\":{\"outlinewidth\":0,\"ticks\":\"\"}},\"colorscale\":{\"diverging\":[[0,\"#8e0152\"],[0.1,\"#c51b7d\"],[0.2,\"#de77ae\"],[0.3,\"#f1b6da\"],[0.4,\"#fde0ef\"],[0.5,\"#f7f7f7\"],[0.6,\"#e6f5d0\"],[0.7,\"#b8e186\"],[0.8,\"#7fbc41\"],[0.9,\"#4d9221\"],[1,\"#276419\"]],\"sequential\":[[0.0,\"#0d0887\"],[0.1111111111111111,\"#46039f\"],[0.2222222222222222,\"#7201a8\"],[0.3333333333333333,\"#9c179e\"],[0.4444444444444444,\"#bd3786\"],[0.5555555555555556,\"#d8576b\"],[0.6666666666666666,\"#ed7953\"],[0.7777777777777778,\"#fb9f3a\"],[0.8888888888888888,\"#fdca26\"],[1.0,\"#f0f921\"]],\"sequentialminus\":[[0.0,\"#0d0887\"],[0.1111111111111111,\"#46039f\"],[0.2222222222222222,\"#7201a8\"],[0.3333333333333333,\"#9c179e\"],[0.4444444444444444,\"#bd3786\"],[0.5555555555555556,\"#d8576b\"],[0.6666666666666666,\"#ed7953\"],[0.7777777777777778,\"#fb9f3a\"],[0.8888888888888888,\"#fdca26\"],[1.0,\"#f0f921\"]]},\"colorway\":[\"#636efa\",\"#EF553B\",\"#00cc96\",\"#ab63fa\",\"#FFA15A\",\"#19d3f3\",\"#FF6692\",\"#B6E880\",\"#FF97FF\",\"#FECB52\"],\"font\":{\"color\":\"#2a3f5f\"},\"geo\":{\"bgcolor\":\"white\",\"lakecolor\":\"white\",\"landcolor\":\"#E5ECF6\",\"showlakes\":true,\"showland\":true,\"subunitcolor\":\"white\"},\"hoverlabel\":{\"align\":\"left\"},\"hovermode\":\"closest\",\"mapbox\":{\"style\":\"light\"},\"paper_bgcolor\":\"white\",\"plot_bgcolor\":\"#E5ECF6\",\"polar\":{\"angularaxis\":{\"gridcolor\":\"white\",\"linecolor\":\"white\",\"ticks\":\"\"},\"bgcolor\":\"#E5ECF6\",\"radialaxis\":{\"gridcolor\":\"white\",\"linecolor\":\"white\",\"ticks\":\"\"}},\"scene\":{\"xaxis\":{\"backgroundcolor\":\"#E5ECF6\",\"gridcolor\":\"white\",\"gridwidth\":2,\"linecolor\":\"white\",\"showbackground\":true,\"ticks\":\"\",\"zerolinecolor\":\"white\"},\"yaxis\":{\"backgroundcolor\":\"#E5ECF6\",\"gridcolor\":\"white\",\"gridwidth\":2,\"linecolor\":\"white\",\"showbackground\":true,\"ticks\":\"\",\"zerolinecolor\":\"white\"},\"zaxis\":{\"backgroundcolor\":\"#E5ECF6\",\"gridcolor\":\"white\",\"gridwidth\":2,\"linecolor\":\"white\",\"showbackground\":true,\"ticks\":\"\",\"zerolinecolor\":\"white\"}},\"shapedefaults\":{\"line\":{\"color\":\"#2a3f5f\"}},\"ternary\":{\"aaxis\":{\"gridcolor\":\"white\",\"linecolor\":\"white\",\"ticks\":\"\"},\"baxis\":{\"gridcolor\":\"white\",\"linecolor\":\"white\",\"ticks\":\"\"},\"bgcolor\":\"#E5ECF6\",\"caxis\":{\"gridcolor\":\"white\",\"linecolor\":\"white\",\"ticks\":\"\"}},\"title\":{\"x\":0.05},\"xaxis\":{\"automargin\":true,\"gridcolor\":\"white\",\"linecolor\":\"white\",\"ticks\":\"\",\"title\":{\"standoff\":15},\"zerolinecolor\":\"white\",\"zerolinewidth\":2},\"yaxis\":{\"automargin\":true,\"gridcolor\":\"white\",\"linecolor\":\"white\",\"ticks\":\"\",\"title\":{\"standoff\":15},\"zerolinecolor\":\"white\",\"zerolinewidth\":2}}},\"title\":{\"font\":{\"color\":\"#4D5663\"}},\"xaxis\":{\"gridcolor\":\"#E1E5ED\",\"showgrid\":true,\"tickfont\":{\"color\":\"#4D5663\"},\"title\":{\"font\":{\"color\":\"#4D5663\"},\"text\":\"\"},\"zerolinecolor\":\"#E1E5ED\"},\"yaxis\":{\"gridcolor\":\"#E1E5ED\",\"showgrid\":true,\"tickfont\":{\"color\":\"#4D5663\"},\"title\":{\"font\":{\"color\":\"#4D5663\"},\"text\":\"\"},\"zerolinecolor\":\"#E1E5ED\"}},                        {\"showLink\": true, \"linkText\": \"Export to plot.ly\", \"plotlyServerURL\": \"https://plot.ly\", \"responsive\": true}                    ).then(function(){\n",
       "                            \n",
       "var gd = document.getElementById('d3f80908-d1cb-4def-a65c-43e5b27a4edc');\n",
       "var x = new MutationObserver(function (mutations, observer) {{\n",
       "        var display = window.getComputedStyle(gd).display;\n",
       "        if (!display || display === 'none') {{\n",
       "            console.log([gd, 'removed!']);\n",
       "            Plotly.purge(gd);\n",
       "            observer.disconnect();\n",
       "        }}\n",
       "}});\n",
       "\n",
       "// Listen for the removal of the full notebook cells\n",
       "var notebookContainer = gd.closest('#notebook-container');\n",
       "if (notebookContainer) {{\n",
       "    x.observe(notebookContainer, {childList: true});\n",
       "}}\n",
       "\n",
       "// Listen for the clearing of the current output cell\n",
       "var outputEl = gd.closest('.output');\n",
       "if (outputEl) {{\n",
       "    x.observe(outputEl, {childList: true});\n",
       "}}\n",
       "\n",
       "                        })                };                });            </script>        </div>"
      ]
     },
     "metadata": {},
     "output_type": "display_data"
    }
   ],
   "source": [
    "df.iplot(kind='box')"
   ]
  },
  {
   "cell_type": "code",
   "execution_count": null,
   "metadata": {},
   "outputs": [],
   "source": [
    "df3 = pd.DataFrame(\n",
    "    {'x':[1,2,3,4,5],'y':[10,20,30,20,10],'z':[500,400,300,200,100]})"
   ]
  },
  {
   "cell_type": "code",
   "execution_count": 47,
   "metadata": {},
   "outputs": [
    {
     "data": {
      "text/html": [
       "<div>\n",
       "<style scoped>\n",
       "    .dataframe tbody tr th:only-of-type {\n",
       "        vertical-align: middle;\n",
       "    }\n",
       "\n",
       "    .dataframe tbody tr th {\n",
       "        vertical-align: top;\n",
       "    }\n",
       "\n",
       "    .dataframe thead th {\n",
       "        text-align: right;\n",
       "    }\n",
       "</style>\n",
       "<table border=\"1\" class=\"dataframe\">\n",
       "  <thead>\n",
       "    <tr style=\"text-align: right;\">\n",
       "      <th></th>\n",
       "      <th>x</th>\n",
       "      <th>y</th>\n",
       "      <th>z</th>\n",
       "    </tr>\n",
       "  </thead>\n",
       "  <tbody>\n",
       "    <tr>\n",
       "      <th>0</th>\n",
       "      <td>1</td>\n",
       "      <td>10</td>\n",
       "      <td>500</td>\n",
       "    </tr>\n",
       "    <tr>\n",
       "      <th>1</th>\n",
       "      <td>2</td>\n",
       "      <td>20</td>\n",
       "      <td>400</td>\n",
       "    </tr>\n",
       "    <tr>\n",
       "      <th>2</th>\n",
       "      <td>3</td>\n",
       "      <td>30</td>\n",
       "      <td>300</td>\n",
       "    </tr>\n",
       "    <tr>\n",
       "      <th>3</th>\n",
       "      <td>4</td>\n",
       "      <td>20</td>\n",
       "      <td>200</td>\n",
       "    </tr>\n",
       "    <tr>\n",
       "      <th>4</th>\n",
       "      <td>5</td>\n",
       "      <td>10</td>\n",
       "      <td>100</td>\n",
       "    </tr>\n",
       "  </tbody>\n",
       "</table>\n",
       "</div>"
      ],
      "text/plain": [
       "   x   y    z\n",
       "0  1  10  500\n",
       "1  2  20  400\n",
       "2  3  30  300\n",
       "3  4  20  200\n",
       "4  5  10  100"
      ]
     },
     "execution_count": 47,
     "metadata": {},
     "output_type": "execute_result"
    }
   ],
   "source": [
    "df3"
   ]
  },
  {
   "cell_type": "code",
   "execution_count": 48,
   "metadata": {},
   "outputs": [
    {
     "data": {
      "application/vnd.plotly.v1+json": {
       "config": {
        "linkText": "Export to plot.ly",
        "plotlyServerURL": "https://plot.ly",
        "showLink": true
       },
       "data": [
        {
         "colorscale": [
          [
           0,
           "rgb(255, 153, 51)"
          ],
          [
           0.1111111111111111,
           "rgb(55, 128, 191)"
          ],
          [
           0.2222222222222222,
           "rgb(50, 171, 96)"
          ],
          [
           0.3333333333333333,
           "rgb(128, 0, 128)"
          ],
          [
           0.4444444444444444,
           "rgb(219, 64, 82)"
          ],
          [
           0.5555555555555556,
           "rgb(0, 128, 128)"
          ],
          [
           0.6666666666666666,
           "rgb(255, 255, 51)"
          ],
          [
           0.7777777777777778,
           "rgb(128, 128, 0)"
          ],
          [
           0.8888888888888888,
           "rgb(251, 128, 114)"
          ],
          [
           1,
           "rgb(128, 177, 211)"
          ]
         ],
         "type": "surface",
         "x": [
          0,
          1,
          2,
          3,
          4
         ],
         "y": [
          "x",
          "y",
          "z"
         ],
         "z": [
          [
           1,
           2,
           3,
           4,
           5
          ],
          [
           10,
           20,
           30,
           20,
           10
          ],
          [
           500,
           400,
           300,
           200,
           100
          ]
         ]
        }
       ],
       "layout": {
        "legend": {
         "bgcolor": "#F5F6F9",
         "font": {
          "color": "#4D5663"
         }
        },
        "paper_bgcolor": "#F5F6F9",
        "plot_bgcolor": "#F5F6F9",
        "template": {
         "data": {
          "bar": [
           {
            "error_x": {
             "color": "#2a3f5f"
            },
            "error_y": {
             "color": "#2a3f5f"
            },
            "marker": {
             "line": {
              "color": "#E5ECF6",
              "width": 0.5
             },
             "pattern": {
              "fillmode": "overlay",
              "size": 10,
              "solidity": 0.2
             }
            },
            "type": "bar"
           }
          ],
          "barpolar": [
           {
            "marker": {
             "line": {
              "color": "#E5ECF6",
              "width": 0.5
             },
             "pattern": {
              "fillmode": "overlay",
              "size": 10,
              "solidity": 0.2
             }
            },
            "type": "barpolar"
           }
          ],
          "carpet": [
           {
            "aaxis": {
             "endlinecolor": "#2a3f5f",
             "gridcolor": "white",
             "linecolor": "white",
             "minorgridcolor": "white",
             "startlinecolor": "#2a3f5f"
            },
            "baxis": {
             "endlinecolor": "#2a3f5f",
             "gridcolor": "white",
             "linecolor": "white",
             "minorgridcolor": "white",
             "startlinecolor": "#2a3f5f"
            },
            "type": "carpet"
           }
          ],
          "choropleth": [
           {
            "colorbar": {
             "outlinewidth": 0,
             "ticks": ""
            },
            "type": "choropleth"
           }
          ],
          "contour": [
           {
            "colorbar": {
             "outlinewidth": 0,
             "ticks": ""
            },
            "colorscale": [
             [
              0,
              "#0d0887"
             ],
             [
              0.1111111111111111,
              "#46039f"
             ],
             [
              0.2222222222222222,
              "#7201a8"
             ],
             [
              0.3333333333333333,
              "#9c179e"
             ],
             [
              0.4444444444444444,
              "#bd3786"
             ],
             [
              0.5555555555555556,
              "#d8576b"
             ],
             [
              0.6666666666666666,
              "#ed7953"
             ],
             [
              0.7777777777777778,
              "#fb9f3a"
             ],
             [
              0.8888888888888888,
              "#fdca26"
             ],
             [
              1,
              "#f0f921"
             ]
            ],
            "type": "contour"
           }
          ],
          "contourcarpet": [
           {
            "colorbar": {
             "outlinewidth": 0,
             "ticks": ""
            },
            "type": "contourcarpet"
           }
          ],
          "heatmap": [
           {
            "colorbar": {
             "outlinewidth": 0,
             "ticks": ""
            },
            "colorscale": [
             [
              0,
              "#0d0887"
             ],
             [
              0.1111111111111111,
              "#46039f"
             ],
             [
              0.2222222222222222,
              "#7201a8"
             ],
             [
              0.3333333333333333,
              "#9c179e"
             ],
             [
              0.4444444444444444,
              "#bd3786"
             ],
             [
              0.5555555555555556,
              "#d8576b"
             ],
             [
              0.6666666666666666,
              "#ed7953"
             ],
             [
              0.7777777777777778,
              "#fb9f3a"
             ],
             [
              0.8888888888888888,
              "#fdca26"
             ],
             [
              1,
              "#f0f921"
             ]
            ],
            "type": "heatmap"
           }
          ],
          "heatmapgl": [
           {
            "colorbar": {
             "outlinewidth": 0,
             "ticks": ""
            },
            "colorscale": [
             [
              0,
              "#0d0887"
             ],
             [
              0.1111111111111111,
              "#46039f"
             ],
             [
              0.2222222222222222,
              "#7201a8"
             ],
             [
              0.3333333333333333,
              "#9c179e"
             ],
             [
              0.4444444444444444,
              "#bd3786"
             ],
             [
              0.5555555555555556,
              "#d8576b"
             ],
             [
              0.6666666666666666,
              "#ed7953"
             ],
             [
              0.7777777777777778,
              "#fb9f3a"
             ],
             [
              0.8888888888888888,
              "#fdca26"
             ],
             [
              1,
              "#f0f921"
             ]
            ],
            "type": "heatmapgl"
           }
          ],
          "histogram": [
           {
            "marker": {
             "pattern": {
              "fillmode": "overlay",
              "size": 10,
              "solidity": 0.2
             }
            },
            "type": "histogram"
           }
          ],
          "histogram2d": [
           {
            "colorbar": {
             "outlinewidth": 0,
             "ticks": ""
            },
            "colorscale": [
             [
              0,
              "#0d0887"
             ],
             [
              0.1111111111111111,
              "#46039f"
             ],
             [
              0.2222222222222222,
              "#7201a8"
             ],
             [
              0.3333333333333333,
              "#9c179e"
             ],
             [
              0.4444444444444444,
              "#bd3786"
             ],
             [
              0.5555555555555556,
              "#d8576b"
             ],
             [
              0.6666666666666666,
              "#ed7953"
             ],
             [
              0.7777777777777778,
              "#fb9f3a"
             ],
             [
              0.8888888888888888,
              "#fdca26"
             ],
             [
              1,
              "#f0f921"
             ]
            ],
            "type": "histogram2d"
           }
          ],
          "histogram2dcontour": [
           {
            "colorbar": {
             "outlinewidth": 0,
             "ticks": ""
            },
            "colorscale": [
             [
              0,
              "#0d0887"
             ],
             [
              0.1111111111111111,
              "#46039f"
             ],
             [
              0.2222222222222222,
              "#7201a8"
             ],
             [
              0.3333333333333333,
              "#9c179e"
             ],
             [
              0.4444444444444444,
              "#bd3786"
             ],
             [
              0.5555555555555556,
              "#d8576b"
             ],
             [
              0.6666666666666666,
              "#ed7953"
             ],
             [
              0.7777777777777778,
              "#fb9f3a"
             ],
             [
              0.8888888888888888,
              "#fdca26"
             ],
             [
              1,
              "#f0f921"
             ]
            ],
            "type": "histogram2dcontour"
           }
          ],
          "mesh3d": [
           {
            "colorbar": {
             "outlinewidth": 0,
             "ticks": ""
            },
            "type": "mesh3d"
           }
          ],
          "parcoords": [
           {
            "line": {
             "colorbar": {
              "outlinewidth": 0,
              "ticks": ""
             }
            },
            "type": "parcoords"
           }
          ],
          "pie": [
           {
            "automargin": true,
            "type": "pie"
           }
          ],
          "scatter": [
           {
            "fillpattern": {
             "fillmode": "overlay",
             "size": 10,
             "solidity": 0.2
            },
            "type": "scatter"
           }
          ],
          "scatter3d": [
           {
            "line": {
             "colorbar": {
              "outlinewidth": 0,
              "ticks": ""
             }
            },
            "marker": {
             "colorbar": {
              "outlinewidth": 0,
              "ticks": ""
             }
            },
            "type": "scatter3d"
           }
          ],
          "scattercarpet": [
           {
            "marker": {
             "colorbar": {
              "outlinewidth": 0,
              "ticks": ""
             }
            },
            "type": "scattercarpet"
           }
          ],
          "scattergeo": [
           {
            "marker": {
             "colorbar": {
              "outlinewidth": 0,
              "ticks": ""
             }
            },
            "type": "scattergeo"
           }
          ],
          "scattergl": [
           {
            "marker": {
             "colorbar": {
              "outlinewidth": 0,
              "ticks": ""
             }
            },
            "type": "scattergl"
           }
          ],
          "scattermapbox": [
           {
            "marker": {
             "colorbar": {
              "outlinewidth": 0,
              "ticks": ""
             }
            },
            "type": "scattermapbox"
           }
          ],
          "scatterpolar": [
           {
            "marker": {
             "colorbar": {
              "outlinewidth": 0,
              "ticks": ""
             }
            },
            "type": "scatterpolar"
           }
          ],
          "scatterpolargl": [
           {
            "marker": {
             "colorbar": {
              "outlinewidth": 0,
              "ticks": ""
             }
            },
            "type": "scatterpolargl"
           }
          ],
          "scatterternary": [
           {
            "marker": {
             "colorbar": {
              "outlinewidth": 0,
              "ticks": ""
             }
            },
            "type": "scatterternary"
           }
          ],
          "surface": [
           {
            "colorbar": {
             "outlinewidth": 0,
             "ticks": ""
            },
            "colorscale": [
             [
              0,
              "#0d0887"
             ],
             [
              0.1111111111111111,
              "#46039f"
             ],
             [
              0.2222222222222222,
              "#7201a8"
             ],
             [
              0.3333333333333333,
              "#9c179e"
             ],
             [
              0.4444444444444444,
              "#bd3786"
             ],
             [
              0.5555555555555556,
              "#d8576b"
             ],
             [
              0.6666666666666666,
              "#ed7953"
             ],
             [
              0.7777777777777778,
              "#fb9f3a"
             ],
             [
              0.8888888888888888,
              "#fdca26"
             ],
             [
              1,
              "#f0f921"
             ]
            ],
            "type": "surface"
           }
          ],
          "table": [
           {
            "cells": {
             "fill": {
              "color": "#EBF0F8"
             },
             "line": {
              "color": "white"
             }
            },
            "header": {
             "fill": {
              "color": "#C8D4E3"
             },
             "line": {
              "color": "white"
             }
            },
            "type": "table"
           }
          ]
         },
         "layout": {
          "annotationdefaults": {
           "arrowcolor": "#2a3f5f",
           "arrowhead": 0,
           "arrowwidth": 1
          },
          "autotypenumbers": "strict",
          "coloraxis": {
           "colorbar": {
            "outlinewidth": 0,
            "ticks": ""
           }
          },
          "colorscale": {
           "diverging": [
            [
             0,
             "#8e0152"
            ],
            [
             0.1,
             "#c51b7d"
            ],
            [
             0.2,
             "#de77ae"
            ],
            [
             0.3,
             "#f1b6da"
            ],
            [
             0.4,
             "#fde0ef"
            ],
            [
             0.5,
             "#f7f7f7"
            ],
            [
             0.6,
             "#e6f5d0"
            ],
            [
             0.7,
             "#b8e186"
            ],
            [
             0.8,
             "#7fbc41"
            ],
            [
             0.9,
             "#4d9221"
            ],
            [
             1,
             "#276419"
            ]
           ],
           "sequential": [
            [
             0,
             "#0d0887"
            ],
            [
             0.1111111111111111,
             "#46039f"
            ],
            [
             0.2222222222222222,
             "#7201a8"
            ],
            [
             0.3333333333333333,
             "#9c179e"
            ],
            [
             0.4444444444444444,
             "#bd3786"
            ],
            [
             0.5555555555555556,
             "#d8576b"
            ],
            [
             0.6666666666666666,
             "#ed7953"
            ],
            [
             0.7777777777777778,
             "#fb9f3a"
            ],
            [
             0.8888888888888888,
             "#fdca26"
            ],
            [
             1,
             "#f0f921"
            ]
           ],
           "sequentialminus": [
            [
             0,
             "#0d0887"
            ],
            [
             0.1111111111111111,
             "#46039f"
            ],
            [
             0.2222222222222222,
             "#7201a8"
            ],
            [
             0.3333333333333333,
             "#9c179e"
            ],
            [
             0.4444444444444444,
             "#bd3786"
            ],
            [
             0.5555555555555556,
             "#d8576b"
            ],
            [
             0.6666666666666666,
             "#ed7953"
            ],
            [
             0.7777777777777778,
             "#fb9f3a"
            ],
            [
             0.8888888888888888,
             "#fdca26"
            ],
            [
             1,
             "#f0f921"
            ]
           ]
          },
          "colorway": [
           "#636efa",
           "#EF553B",
           "#00cc96",
           "#ab63fa",
           "#FFA15A",
           "#19d3f3",
           "#FF6692",
           "#B6E880",
           "#FF97FF",
           "#FECB52"
          ],
          "font": {
           "color": "#2a3f5f"
          },
          "geo": {
           "bgcolor": "white",
           "lakecolor": "white",
           "landcolor": "#E5ECF6",
           "showlakes": true,
           "showland": true,
           "subunitcolor": "white"
          },
          "hoverlabel": {
           "align": "left"
          },
          "hovermode": "closest",
          "mapbox": {
           "style": "light"
          },
          "paper_bgcolor": "white",
          "plot_bgcolor": "#E5ECF6",
          "polar": {
           "angularaxis": {
            "gridcolor": "white",
            "linecolor": "white",
            "ticks": ""
           },
           "bgcolor": "#E5ECF6",
           "radialaxis": {
            "gridcolor": "white",
            "linecolor": "white",
            "ticks": ""
           }
          },
          "scene": {
           "xaxis": {
            "backgroundcolor": "#E5ECF6",
            "gridcolor": "white",
            "gridwidth": 2,
            "linecolor": "white",
            "showbackground": true,
            "ticks": "",
            "zerolinecolor": "white"
           },
           "yaxis": {
            "backgroundcolor": "#E5ECF6",
            "gridcolor": "white",
            "gridwidth": 2,
            "linecolor": "white",
            "showbackground": true,
            "ticks": "",
            "zerolinecolor": "white"
           },
           "zaxis": {
            "backgroundcolor": "#E5ECF6",
            "gridcolor": "white",
            "gridwidth": 2,
            "linecolor": "white",
            "showbackground": true,
            "ticks": "",
            "zerolinecolor": "white"
           }
          },
          "shapedefaults": {
           "line": {
            "color": "#2a3f5f"
           }
          },
          "ternary": {
           "aaxis": {
            "gridcolor": "white",
            "linecolor": "white",
            "ticks": ""
           },
           "baxis": {
            "gridcolor": "white",
            "linecolor": "white",
            "ticks": ""
           },
           "bgcolor": "#E5ECF6",
           "caxis": {
            "gridcolor": "white",
            "linecolor": "white",
            "ticks": ""
           }
          },
          "title": {
           "x": 0.05
          },
          "xaxis": {
           "automargin": true,
           "gridcolor": "white",
           "linecolor": "white",
           "ticks": "",
           "title": {
            "standoff": 15
           },
           "zerolinecolor": "white",
           "zerolinewidth": 2
          },
          "yaxis": {
           "automargin": true,
           "gridcolor": "white",
           "linecolor": "white",
           "ticks": "",
           "title": {
            "standoff": 15
           },
           "zerolinecolor": "white",
           "zerolinewidth": 2
          }
         }
        },
        "title": {
         "font": {
          "color": "#4D5663"
         }
        },
        "xaxis": {
         "gridcolor": "#E1E5ED",
         "showgrid": true,
         "tickfont": {
          "color": "#4D5663"
         },
         "title": {
          "font": {
           "color": "#4D5663"
          },
          "text": ""
         },
         "zerolinecolor": "#E1E5ED"
        },
        "yaxis": {
         "gridcolor": "#E1E5ED",
         "showgrid": true,
         "tickfont": {
          "color": "#4D5663"
         },
         "title": {
          "font": {
           "color": "#4D5663"
          },
          "text": ""
         },
         "zerolinecolor": "#E1E5ED"
        }
       }
      },
      "text/html": [
       "<div>                            <div id=\"fa3e76df-5fd2-4bb8-8a6b-6b58787887d8\" class=\"plotly-graph-div\" style=\"height:525px; width:100%;\"></div>            <script type=\"text/javascript\">                require([\"plotly\"], function(Plotly) {                    window.PLOTLYENV=window.PLOTLYENV || {};\n",
       "                    window.PLOTLYENV.BASE_URL='https://plot.ly';                                    if (document.getElementById(\"fa3e76df-5fd2-4bb8-8a6b-6b58787887d8\")) {                    Plotly.newPlot(                        \"fa3e76df-5fd2-4bb8-8a6b-6b58787887d8\",                        [{\"colorscale\":[[0.0,\"rgb(255, 153, 51)\"],[0.1111111111111111,\"rgb(55, 128, 191)\"],[0.2222222222222222,\"rgb(50, 171, 96)\"],[0.3333333333333333,\"rgb(128, 0, 128)\"],[0.4444444444444444,\"rgb(219, 64, 82)\"],[0.5555555555555556,\"rgb(0, 128, 128)\"],[0.6666666666666666,\"rgb(255, 255, 51)\"],[0.7777777777777778,\"rgb(128, 128, 0)\"],[0.8888888888888888,\"rgb(251, 128, 114)\"],[1.0,\"rgb(128, 177, 211)\"]],\"x\":[0,1,2,3,4],\"y\":[\"x\",\"y\",\"z\"],\"z\":[[1,2,3,4,5],[10,20,30,20,10],[500,400,300,200,100]],\"type\":\"surface\"}],                        {\"legend\":{\"bgcolor\":\"#F5F6F9\",\"font\":{\"color\":\"#4D5663\"}},\"paper_bgcolor\":\"#F5F6F9\",\"plot_bgcolor\":\"#F5F6F9\",\"template\":{\"data\":{\"barpolar\":[{\"marker\":{\"line\":{\"color\":\"#E5ECF6\",\"width\":0.5},\"pattern\":{\"fillmode\":\"overlay\",\"size\":10,\"solidity\":0.2}},\"type\":\"barpolar\"}],\"bar\":[{\"error_x\":{\"color\":\"#2a3f5f\"},\"error_y\":{\"color\":\"#2a3f5f\"},\"marker\":{\"line\":{\"color\":\"#E5ECF6\",\"width\":0.5},\"pattern\":{\"fillmode\":\"overlay\",\"size\":10,\"solidity\":0.2}},\"type\":\"bar\"}],\"carpet\":[{\"aaxis\":{\"endlinecolor\":\"#2a3f5f\",\"gridcolor\":\"white\",\"linecolor\":\"white\",\"minorgridcolor\":\"white\",\"startlinecolor\":\"#2a3f5f\"},\"baxis\":{\"endlinecolor\":\"#2a3f5f\",\"gridcolor\":\"white\",\"linecolor\":\"white\",\"minorgridcolor\":\"white\",\"startlinecolor\":\"#2a3f5f\"},\"type\":\"carpet\"}],\"choropleth\":[{\"colorbar\":{\"outlinewidth\":0,\"ticks\":\"\"},\"type\":\"choropleth\"}],\"contourcarpet\":[{\"colorbar\":{\"outlinewidth\":0,\"ticks\":\"\"},\"type\":\"contourcarpet\"}],\"contour\":[{\"colorbar\":{\"outlinewidth\":0,\"ticks\":\"\"},\"colorscale\":[[0.0,\"#0d0887\"],[0.1111111111111111,\"#46039f\"],[0.2222222222222222,\"#7201a8\"],[0.3333333333333333,\"#9c179e\"],[0.4444444444444444,\"#bd3786\"],[0.5555555555555556,\"#d8576b\"],[0.6666666666666666,\"#ed7953\"],[0.7777777777777778,\"#fb9f3a\"],[0.8888888888888888,\"#fdca26\"],[1.0,\"#f0f921\"]],\"type\":\"contour\"}],\"heatmapgl\":[{\"colorbar\":{\"outlinewidth\":0,\"ticks\":\"\"},\"colorscale\":[[0.0,\"#0d0887\"],[0.1111111111111111,\"#46039f\"],[0.2222222222222222,\"#7201a8\"],[0.3333333333333333,\"#9c179e\"],[0.4444444444444444,\"#bd3786\"],[0.5555555555555556,\"#d8576b\"],[0.6666666666666666,\"#ed7953\"],[0.7777777777777778,\"#fb9f3a\"],[0.8888888888888888,\"#fdca26\"],[1.0,\"#f0f921\"]],\"type\":\"heatmapgl\"}],\"heatmap\":[{\"colorbar\":{\"outlinewidth\":0,\"ticks\":\"\"},\"colorscale\":[[0.0,\"#0d0887\"],[0.1111111111111111,\"#46039f\"],[0.2222222222222222,\"#7201a8\"],[0.3333333333333333,\"#9c179e\"],[0.4444444444444444,\"#bd3786\"],[0.5555555555555556,\"#d8576b\"],[0.6666666666666666,\"#ed7953\"],[0.7777777777777778,\"#fb9f3a\"],[0.8888888888888888,\"#fdca26\"],[1.0,\"#f0f921\"]],\"type\":\"heatmap\"}],\"histogram2dcontour\":[{\"colorbar\":{\"outlinewidth\":0,\"ticks\":\"\"},\"colorscale\":[[0.0,\"#0d0887\"],[0.1111111111111111,\"#46039f\"],[0.2222222222222222,\"#7201a8\"],[0.3333333333333333,\"#9c179e\"],[0.4444444444444444,\"#bd3786\"],[0.5555555555555556,\"#d8576b\"],[0.6666666666666666,\"#ed7953\"],[0.7777777777777778,\"#fb9f3a\"],[0.8888888888888888,\"#fdca26\"],[1.0,\"#f0f921\"]],\"type\":\"histogram2dcontour\"}],\"histogram2d\":[{\"colorbar\":{\"outlinewidth\":0,\"ticks\":\"\"},\"colorscale\":[[0.0,\"#0d0887\"],[0.1111111111111111,\"#46039f\"],[0.2222222222222222,\"#7201a8\"],[0.3333333333333333,\"#9c179e\"],[0.4444444444444444,\"#bd3786\"],[0.5555555555555556,\"#d8576b\"],[0.6666666666666666,\"#ed7953\"],[0.7777777777777778,\"#fb9f3a\"],[0.8888888888888888,\"#fdca26\"],[1.0,\"#f0f921\"]],\"type\":\"histogram2d\"}],\"histogram\":[{\"marker\":{\"pattern\":{\"fillmode\":\"overlay\",\"size\":10,\"solidity\":0.2}},\"type\":\"histogram\"}],\"mesh3d\":[{\"colorbar\":{\"outlinewidth\":0,\"ticks\":\"\"},\"type\":\"mesh3d\"}],\"parcoords\":[{\"line\":{\"colorbar\":{\"outlinewidth\":0,\"ticks\":\"\"}},\"type\":\"parcoords\"}],\"pie\":[{\"automargin\":true,\"type\":\"pie\"}],\"scatter3d\":[{\"line\":{\"colorbar\":{\"outlinewidth\":0,\"ticks\":\"\"}},\"marker\":{\"colorbar\":{\"outlinewidth\":0,\"ticks\":\"\"}},\"type\":\"scatter3d\"}],\"scattercarpet\":[{\"marker\":{\"colorbar\":{\"outlinewidth\":0,\"ticks\":\"\"}},\"type\":\"scattercarpet\"}],\"scattergeo\":[{\"marker\":{\"colorbar\":{\"outlinewidth\":0,\"ticks\":\"\"}},\"type\":\"scattergeo\"}],\"scattergl\":[{\"marker\":{\"colorbar\":{\"outlinewidth\":0,\"ticks\":\"\"}},\"type\":\"scattergl\"}],\"scattermapbox\":[{\"marker\":{\"colorbar\":{\"outlinewidth\":0,\"ticks\":\"\"}},\"type\":\"scattermapbox\"}],\"scatterpolargl\":[{\"marker\":{\"colorbar\":{\"outlinewidth\":0,\"ticks\":\"\"}},\"type\":\"scatterpolargl\"}],\"scatterpolar\":[{\"marker\":{\"colorbar\":{\"outlinewidth\":0,\"ticks\":\"\"}},\"type\":\"scatterpolar\"}],\"scatter\":[{\"fillpattern\":{\"fillmode\":\"overlay\",\"size\":10,\"solidity\":0.2},\"type\":\"scatter\"}],\"scatterternary\":[{\"marker\":{\"colorbar\":{\"outlinewidth\":0,\"ticks\":\"\"}},\"type\":\"scatterternary\"}],\"surface\":[{\"colorbar\":{\"outlinewidth\":0,\"ticks\":\"\"},\"colorscale\":[[0.0,\"#0d0887\"],[0.1111111111111111,\"#46039f\"],[0.2222222222222222,\"#7201a8\"],[0.3333333333333333,\"#9c179e\"],[0.4444444444444444,\"#bd3786\"],[0.5555555555555556,\"#d8576b\"],[0.6666666666666666,\"#ed7953\"],[0.7777777777777778,\"#fb9f3a\"],[0.8888888888888888,\"#fdca26\"],[1.0,\"#f0f921\"]],\"type\":\"surface\"}],\"table\":[{\"cells\":{\"fill\":{\"color\":\"#EBF0F8\"},\"line\":{\"color\":\"white\"}},\"header\":{\"fill\":{\"color\":\"#C8D4E3\"},\"line\":{\"color\":\"white\"}},\"type\":\"table\"}]},\"layout\":{\"annotationdefaults\":{\"arrowcolor\":\"#2a3f5f\",\"arrowhead\":0,\"arrowwidth\":1},\"autotypenumbers\":\"strict\",\"coloraxis\":{\"colorbar\":{\"outlinewidth\":0,\"ticks\":\"\"}},\"colorscale\":{\"diverging\":[[0,\"#8e0152\"],[0.1,\"#c51b7d\"],[0.2,\"#de77ae\"],[0.3,\"#f1b6da\"],[0.4,\"#fde0ef\"],[0.5,\"#f7f7f7\"],[0.6,\"#e6f5d0\"],[0.7,\"#b8e186\"],[0.8,\"#7fbc41\"],[0.9,\"#4d9221\"],[1,\"#276419\"]],\"sequential\":[[0.0,\"#0d0887\"],[0.1111111111111111,\"#46039f\"],[0.2222222222222222,\"#7201a8\"],[0.3333333333333333,\"#9c179e\"],[0.4444444444444444,\"#bd3786\"],[0.5555555555555556,\"#d8576b\"],[0.6666666666666666,\"#ed7953\"],[0.7777777777777778,\"#fb9f3a\"],[0.8888888888888888,\"#fdca26\"],[1.0,\"#f0f921\"]],\"sequentialminus\":[[0.0,\"#0d0887\"],[0.1111111111111111,\"#46039f\"],[0.2222222222222222,\"#7201a8\"],[0.3333333333333333,\"#9c179e\"],[0.4444444444444444,\"#bd3786\"],[0.5555555555555556,\"#d8576b\"],[0.6666666666666666,\"#ed7953\"],[0.7777777777777778,\"#fb9f3a\"],[0.8888888888888888,\"#fdca26\"],[1.0,\"#f0f921\"]]},\"colorway\":[\"#636efa\",\"#EF553B\",\"#00cc96\",\"#ab63fa\",\"#FFA15A\",\"#19d3f3\",\"#FF6692\",\"#B6E880\",\"#FF97FF\",\"#FECB52\"],\"font\":{\"color\":\"#2a3f5f\"},\"geo\":{\"bgcolor\":\"white\",\"lakecolor\":\"white\",\"landcolor\":\"#E5ECF6\",\"showlakes\":true,\"showland\":true,\"subunitcolor\":\"white\"},\"hoverlabel\":{\"align\":\"left\"},\"hovermode\":\"closest\",\"mapbox\":{\"style\":\"light\"},\"paper_bgcolor\":\"white\",\"plot_bgcolor\":\"#E5ECF6\",\"polar\":{\"angularaxis\":{\"gridcolor\":\"white\",\"linecolor\":\"white\",\"ticks\":\"\"},\"bgcolor\":\"#E5ECF6\",\"radialaxis\":{\"gridcolor\":\"white\",\"linecolor\":\"white\",\"ticks\":\"\"}},\"scene\":{\"xaxis\":{\"backgroundcolor\":\"#E5ECF6\",\"gridcolor\":\"white\",\"gridwidth\":2,\"linecolor\":\"white\",\"showbackground\":true,\"ticks\":\"\",\"zerolinecolor\":\"white\"},\"yaxis\":{\"backgroundcolor\":\"#E5ECF6\",\"gridcolor\":\"white\",\"gridwidth\":2,\"linecolor\":\"white\",\"showbackground\":true,\"ticks\":\"\",\"zerolinecolor\":\"white\"},\"zaxis\":{\"backgroundcolor\":\"#E5ECF6\",\"gridcolor\":\"white\",\"gridwidth\":2,\"linecolor\":\"white\",\"showbackground\":true,\"ticks\":\"\",\"zerolinecolor\":\"white\"}},\"shapedefaults\":{\"line\":{\"color\":\"#2a3f5f\"}},\"ternary\":{\"aaxis\":{\"gridcolor\":\"white\",\"linecolor\":\"white\",\"ticks\":\"\"},\"baxis\":{\"gridcolor\":\"white\",\"linecolor\":\"white\",\"ticks\":\"\"},\"bgcolor\":\"#E5ECF6\",\"caxis\":{\"gridcolor\":\"white\",\"linecolor\":\"white\",\"ticks\":\"\"}},\"title\":{\"x\":0.05},\"xaxis\":{\"automargin\":true,\"gridcolor\":\"white\",\"linecolor\":\"white\",\"ticks\":\"\",\"title\":{\"standoff\":15},\"zerolinecolor\":\"white\",\"zerolinewidth\":2},\"yaxis\":{\"automargin\":true,\"gridcolor\":\"white\",\"linecolor\":\"white\",\"ticks\":\"\",\"title\":{\"standoff\":15},\"zerolinecolor\":\"white\",\"zerolinewidth\":2}}},\"title\":{\"font\":{\"color\":\"#4D5663\"}},\"xaxis\":{\"gridcolor\":\"#E1E5ED\",\"showgrid\":true,\"tickfont\":{\"color\":\"#4D5663\"},\"title\":{\"font\":{\"color\":\"#4D5663\"},\"text\":\"\"},\"zerolinecolor\":\"#E1E5ED\"},\"yaxis\":{\"gridcolor\":\"#E1E5ED\",\"showgrid\":true,\"tickfont\":{\"color\":\"#4D5663\"},\"title\":{\"font\":{\"color\":\"#4D5663\"},\"text\":\"\"},\"zerolinecolor\":\"#E1E5ED\"}},                        {\"showLink\": true, \"linkText\": \"Export to plot.ly\", \"plotlyServerURL\": \"https://plot.ly\", \"responsive\": true}                    ).then(function(){\n",
       "                            \n",
       "var gd = document.getElementById('fa3e76df-5fd2-4bb8-8a6b-6b58787887d8');\n",
       "var x = new MutationObserver(function (mutations, observer) {{\n",
       "        var display = window.getComputedStyle(gd).display;\n",
       "        if (!display || display === 'none') {{\n",
       "            console.log([gd, 'removed!']);\n",
       "            Plotly.purge(gd);\n",
       "            observer.disconnect();\n",
       "        }}\n",
       "}});\n",
       "\n",
       "// Listen for the removal of the full notebook cells\n",
       "var notebookContainer = gd.closest('#notebook-container');\n",
       "if (notebookContainer) {{\n",
       "    x.observe(notebookContainer, {childList: true});\n",
       "}}\n",
       "\n",
       "// Listen for the clearing of the current output cell\n",
       "var outputEl = gd.closest('.output');\n",
       "if (outputEl) {{\n",
       "    x.observe(outputEl, {childList: true});\n",
       "}}\n",
       "\n",
       "                        })                };                });            </script>        </div>"
      ]
     },
     "metadata": {},
     "output_type": "display_data"
    }
   ],
   "source": [
    "df3.iplot(kind='surface')"
   ]
  },
  {
   "cell_type": "code",
   "execution_count": 49,
   "metadata": {},
   "outputs": [],
   "source": [
    "df4 = pd.DataFrame(\n",
    "    {'x':[1,2,3,4,5],'y':[10,20,30,20,10],'z':[5,4,3,2,1]})"
   ]
  },
  {
   "cell_type": "code",
   "execution_count": 52,
   "metadata": {},
   "outputs": [
    {
     "data": {
      "application/vnd.plotly.v1+json": {
       "config": {
        "linkText": "Export to plot.ly",
        "plotlyServerURL": "https://plot.ly",
        "showLink": true
       },
       "data": [
        {
         "colorscale": [
          [
           0,
           "rgb(165,0,38)"
          ],
          [
           0.1,
           "rgb(215,48,39)"
          ],
          [
           0.2,
           "rgb(244,109,67)"
          ],
          [
           0.3,
           "rgb(253,174,97)"
          ],
          [
           0.4,
           "rgb(254,224,144)"
          ],
          [
           0.5,
           "rgb(255,255,191)"
          ],
          [
           0.6,
           "rgb(224,243,248)"
          ],
          [
           0.7,
           "rgb(171,217,233)"
          ],
          [
           0.8,
           "rgb(116,173,209)"
          ],
          [
           0.9,
           "rgb(69,117,180)"
          ],
          [
           1,
           "rgb(49,54,149)"
          ]
         ],
         "type": "surface",
         "x": [
          0,
          1,
          2,
          3,
          4
         ],
         "y": [
          "x",
          "y",
          "z"
         ],
         "z": [
          [
           1,
           2,
           3,
           4,
           5
          ],
          [
           10,
           20,
           30,
           20,
           10
          ],
          [
           5,
           4,
           3,
           2,
           1
          ]
         ]
        }
       ],
       "layout": {
        "legend": {
         "bgcolor": "#F5F6F9",
         "font": {
          "color": "#4D5663"
         }
        },
        "paper_bgcolor": "#F5F6F9",
        "plot_bgcolor": "#F5F6F9",
        "template": {
         "data": {
          "bar": [
           {
            "error_x": {
             "color": "#2a3f5f"
            },
            "error_y": {
             "color": "#2a3f5f"
            },
            "marker": {
             "line": {
              "color": "#E5ECF6",
              "width": 0.5
             },
             "pattern": {
              "fillmode": "overlay",
              "size": 10,
              "solidity": 0.2
             }
            },
            "type": "bar"
           }
          ],
          "barpolar": [
           {
            "marker": {
             "line": {
              "color": "#E5ECF6",
              "width": 0.5
             },
             "pattern": {
              "fillmode": "overlay",
              "size": 10,
              "solidity": 0.2
             }
            },
            "type": "barpolar"
           }
          ],
          "carpet": [
           {
            "aaxis": {
             "endlinecolor": "#2a3f5f",
             "gridcolor": "white",
             "linecolor": "white",
             "minorgridcolor": "white",
             "startlinecolor": "#2a3f5f"
            },
            "baxis": {
             "endlinecolor": "#2a3f5f",
             "gridcolor": "white",
             "linecolor": "white",
             "minorgridcolor": "white",
             "startlinecolor": "#2a3f5f"
            },
            "type": "carpet"
           }
          ],
          "choropleth": [
           {
            "colorbar": {
             "outlinewidth": 0,
             "ticks": ""
            },
            "type": "choropleth"
           }
          ],
          "contour": [
           {
            "colorbar": {
             "outlinewidth": 0,
             "ticks": ""
            },
            "colorscale": [
             [
              0,
              "#0d0887"
             ],
             [
              0.1111111111111111,
              "#46039f"
             ],
             [
              0.2222222222222222,
              "#7201a8"
             ],
             [
              0.3333333333333333,
              "#9c179e"
             ],
             [
              0.4444444444444444,
              "#bd3786"
             ],
             [
              0.5555555555555556,
              "#d8576b"
             ],
             [
              0.6666666666666666,
              "#ed7953"
             ],
             [
              0.7777777777777778,
              "#fb9f3a"
             ],
             [
              0.8888888888888888,
              "#fdca26"
             ],
             [
              1,
              "#f0f921"
             ]
            ],
            "type": "contour"
           }
          ],
          "contourcarpet": [
           {
            "colorbar": {
             "outlinewidth": 0,
             "ticks": ""
            },
            "type": "contourcarpet"
           }
          ],
          "heatmap": [
           {
            "colorbar": {
             "outlinewidth": 0,
             "ticks": ""
            },
            "colorscale": [
             [
              0,
              "#0d0887"
             ],
             [
              0.1111111111111111,
              "#46039f"
             ],
             [
              0.2222222222222222,
              "#7201a8"
             ],
             [
              0.3333333333333333,
              "#9c179e"
             ],
             [
              0.4444444444444444,
              "#bd3786"
             ],
             [
              0.5555555555555556,
              "#d8576b"
             ],
             [
              0.6666666666666666,
              "#ed7953"
             ],
             [
              0.7777777777777778,
              "#fb9f3a"
             ],
             [
              0.8888888888888888,
              "#fdca26"
             ],
             [
              1,
              "#f0f921"
             ]
            ],
            "type": "heatmap"
           }
          ],
          "heatmapgl": [
           {
            "colorbar": {
             "outlinewidth": 0,
             "ticks": ""
            },
            "colorscale": [
             [
              0,
              "#0d0887"
             ],
             [
              0.1111111111111111,
              "#46039f"
             ],
             [
              0.2222222222222222,
              "#7201a8"
             ],
             [
              0.3333333333333333,
              "#9c179e"
             ],
             [
              0.4444444444444444,
              "#bd3786"
             ],
             [
              0.5555555555555556,
              "#d8576b"
             ],
             [
              0.6666666666666666,
              "#ed7953"
             ],
             [
              0.7777777777777778,
              "#fb9f3a"
             ],
             [
              0.8888888888888888,
              "#fdca26"
             ],
             [
              1,
              "#f0f921"
             ]
            ],
            "type": "heatmapgl"
           }
          ],
          "histogram": [
           {
            "marker": {
             "pattern": {
              "fillmode": "overlay",
              "size": 10,
              "solidity": 0.2
             }
            },
            "type": "histogram"
           }
          ],
          "histogram2d": [
           {
            "colorbar": {
             "outlinewidth": 0,
             "ticks": ""
            },
            "colorscale": [
             [
              0,
              "#0d0887"
             ],
             [
              0.1111111111111111,
              "#46039f"
             ],
             [
              0.2222222222222222,
              "#7201a8"
             ],
             [
              0.3333333333333333,
              "#9c179e"
             ],
             [
              0.4444444444444444,
              "#bd3786"
             ],
             [
              0.5555555555555556,
              "#d8576b"
             ],
             [
              0.6666666666666666,
              "#ed7953"
             ],
             [
              0.7777777777777778,
              "#fb9f3a"
             ],
             [
              0.8888888888888888,
              "#fdca26"
             ],
             [
              1,
              "#f0f921"
             ]
            ],
            "type": "histogram2d"
           }
          ],
          "histogram2dcontour": [
           {
            "colorbar": {
             "outlinewidth": 0,
             "ticks": ""
            },
            "colorscale": [
             [
              0,
              "#0d0887"
             ],
             [
              0.1111111111111111,
              "#46039f"
             ],
             [
              0.2222222222222222,
              "#7201a8"
             ],
             [
              0.3333333333333333,
              "#9c179e"
             ],
             [
              0.4444444444444444,
              "#bd3786"
             ],
             [
              0.5555555555555556,
              "#d8576b"
             ],
             [
              0.6666666666666666,
              "#ed7953"
             ],
             [
              0.7777777777777778,
              "#fb9f3a"
             ],
             [
              0.8888888888888888,
              "#fdca26"
             ],
             [
              1,
              "#f0f921"
             ]
            ],
            "type": "histogram2dcontour"
           }
          ],
          "mesh3d": [
           {
            "colorbar": {
             "outlinewidth": 0,
             "ticks": ""
            },
            "type": "mesh3d"
           }
          ],
          "parcoords": [
           {
            "line": {
             "colorbar": {
              "outlinewidth": 0,
              "ticks": ""
             }
            },
            "type": "parcoords"
           }
          ],
          "pie": [
           {
            "automargin": true,
            "type": "pie"
           }
          ],
          "scatter": [
           {
            "fillpattern": {
             "fillmode": "overlay",
             "size": 10,
             "solidity": 0.2
            },
            "type": "scatter"
           }
          ],
          "scatter3d": [
           {
            "line": {
             "colorbar": {
              "outlinewidth": 0,
              "ticks": ""
             }
            },
            "marker": {
             "colorbar": {
              "outlinewidth": 0,
              "ticks": ""
             }
            },
            "type": "scatter3d"
           }
          ],
          "scattercarpet": [
           {
            "marker": {
             "colorbar": {
              "outlinewidth": 0,
              "ticks": ""
             }
            },
            "type": "scattercarpet"
           }
          ],
          "scattergeo": [
           {
            "marker": {
             "colorbar": {
              "outlinewidth": 0,
              "ticks": ""
             }
            },
            "type": "scattergeo"
           }
          ],
          "scattergl": [
           {
            "marker": {
             "colorbar": {
              "outlinewidth": 0,
              "ticks": ""
             }
            },
            "type": "scattergl"
           }
          ],
          "scattermapbox": [
           {
            "marker": {
             "colorbar": {
              "outlinewidth": 0,
              "ticks": ""
             }
            },
            "type": "scattermapbox"
           }
          ],
          "scatterpolar": [
           {
            "marker": {
             "colorbar": {
              "outlinewidth": 0,
              "ticks": ""
             }
            },
            "type": "scatterpolar"
           }
          ],
          "scatterpolargl": [
           {
            "marker": {
             "colorbar": {
              "outlinewidth": 0,
              "ticks": ""
             }
            },
            "type": "scatterpolargl"
           }
          ],
          "scatterternary": [
           {
            "marker": {
             "colorbar": {
              "outlinewidth": 0,
              "ticks": ""
             }
            },
            "type": "scatterternary"
           }
          ],
          "surface": [
           {
            "colorbar": {
             "outlinewidth": 0,
             "ticks": ""
            },
            "colorscale": [
             [
              0,
              "#0d0887"
             ],
             [
              0.1111111111111111,
              "#46039f"
             ],
             [
              0.2222222222222222,
              "#7201a8"
             ],
             [
              0.3333333333333333,
              "#9c179e"
             ],
             [
              0.4444444444444444,
              "#bd3786"
             ],
             [
              0.5555555555555556,
              "#d8576b"
             ],
             [
              0.6666666666666666,
              "#ed7953"
             ],
             [
              0.7777777777777778,
              "#fb9f3a"
             ],
             [
              0.8888888888888888,
              "#fdca26"
             ],
             [
              1,
              "#f0f921"
             ]
            ],
            "type": "surface"
           }
          ],
          "table": [
           {
            "cells": {
             "fill": {
              "color": "#EBF0F8"
             },
             "line": {
              "color": "white"
             }
            },
            "header": {
             "fill": {
              "color": "#C8D4E3"
             },
             "line": {
              "color": "white"
             }
            },
            "type": "table"
           }
          ]
         },
         "layout": {
          "annotationdefaults": {
           "arrowcolor": "#2a3f5f",
           "arrowhead": 0,
           "arrowwidth": 1
          },
          "autotypenumbers": "strict",
          "coloraxis": {
           "colorbar": {
            "outlinewidth": 0,
            "ticks": ""
           }
          },
          "colorscale": {
           "diverging": [
            [
             0,
             "#8e0152"
            ],
            [
             0.1,
             "#c51b7d"
            ],
            [
             0.2,
             "#de77ae"
            ],
            [
             0.3,
             "#f1b6da"
            ],
            [
             0.4,
             "#fde0ef"
            ],
            [
             0.5,
             "#f7f7f7"
            ],
            [
             0.6,
             "#e6f5d0"
            ],
            [
             0.7,
             "#b8e186"
            ],
            [
             0.8,
             "#7fbc41"
            ],
            [
             0.9,
             "#4d9221"
            ],
            [
             1,
             "#276419"
            ]
           ],
           "sequential": [
            [
             0,
             "#0d0887"
            ],
            [
             0.1111111111111111,
             "#46039f"
            ],
            [
             0.2222222222222222,
             "#7201a8"
            ],
            [
             0.3333333333333333,
             "#9c179e"
            ],
            [
             0.4444444444444444,
             "#bd3786"
            ],
            [
             0.5555555555555556,
             "#d8576b"
            ],
            [
             0.6666666666666666,
             "#ed7953"
            ],
            [
             0.7777777777777778,
             "#fb9f3a"
            ],
            [
             0.8888888888888888,
             "#fdca26"
            ],
            [
             1,
             "#f0f921"
            ]
           ],
           "sequentialminus": [
            [
             0,
             "#0d0887"
            ],
            [
             0.1111111111111111,
             "#46039f"
            ],
            [
             0.2222222222222222,
             "#7201a8"
            ],
            [
             0.3333333333333333,
             "#9c179e"
            ],
            [
             0.4444444444444444,
             "#bd3786"
            ],
            [
             0.5555555555555556,
             "#d8576b"
            ],
            [
             0.6666666666666666,
             "#ed7953"
            ],
            [
             0.7777777777777778,
             "#fb9f3a"
            ],
            [
             0.8888888888888888,
             "#fdca26"
            ],
            [
             1,
             "#f0f921"
            ]
           ]
          },
          "colorway": [
           "#636efa",
           "#EF553B",
           "#00cc96",
           "#ab63fa",
           "#FFA15A",
           "#19d3f3",
           "#FF6692",
           "#B6E880",
           "#FF97FF",
           "#FECB52"
          ],
          "font": {
           "color": "#2a3f5f"
          },
          "geo": {
           "bgcolor": "white",
           "lakecolor": "white",
           "landcolor": "#E5ECF6",
           "showlakes": true,
           "showland": true,
           "subunitcolor": "white"
          },
          "hoverlabel": {
           "align": "left"
          },
          "hovermode": "closest",
          "mapbox": {
           "style": "light"
          },
          "paper_bgcolor": "white",
          "plot_bgcolor": "#E5ECF6",
          "polar": {
           "angularaxis": {
            "gridcolor": "white",
            "linecolor": "white",
            "ticks": ""
           },
           "bgcolor": "#E5ECF6",
           "radialaxis": {
            "gridcolor": "white",
            "linecolor": "white",
            "ticks": ""
           }
          },
          "scene": {
           "xaxis": {
            "backgroundcolor": "#E5ECF6",
            "gridcolor": "white",
            "gridwidth": 2,
            "linecolor": "white",
            "showbackground": true,
            "ticks": "",
            "zerolinecolor": "white"
           },
           "yaxis": {
            "backgroundcolor": "#E5ECF6",
            "gridcolor": "white",
            "gridwidth": 2,
            "linecolor": "white",
            "showbackground": true,
            "ticks": "",
            "zerolinecolor": "white"
           },
           "zaxis": {
            "backgroundcolor": "#E5ECF6",
            "gridcolor": "white",
            "gridwidth": 2,
            "linecolor": "white",
            "showbackground": true,
            "ticks": "",
            "zerolinecolor": "white"
           }
          },
          "shapedefaults": {
           "line": {
            "color": "#2a3f5f"
           }
          },
          "ternary": {
           "aaxis": {
            "gridcolor": "white",
            "linecolor": "white",
            "ticks": ""
           },
           "baxis": {
            "gridcolor": "white",
            "linecolor": "white",
            "ticks": ""
           },
           "bgcolor": "#E5ECF6",
           "caxis": {
            "gridcolor": "white",
            "linecolor": "white",
            "ticks": ""
           }
          },
          "title": {
           "x": 0.05
          },
          "xaxis": {
           "automargin": true,
           "gridcolor": "white",
           "linecolor": "white",
           "ticks": "",
           "title": {
            "standoff": 15
           },
           "zerolinecolor": "white",
           "zerolinewidth": 2
          },
          "yaxis": {
           "automargin": true,
           "gridcolor": "white",
           "linecolor": "white",
           "ticks": "",
           "title": {
            "standoff": 15
           },
           "zerolinecolor": "white",
           "zerolinewidth": 2
          }
         }
        },
        "title": {
         "font": {
          "color": "#4D5663"
         }
        },
        "xaxis": {
         "gridcolor": "#E1E5ED",
         "showgrid": true,
         "tickfont": {
          "color": "#4D5663"
         },
         "title": {
          "font": {
           "color": "#4D5663"
          },
          "text": ""
         },
         "zerolinecolor": "#E1E5ED"
        },
        "yaxis": {
         "gridcolor": "#E1E5ED",
         "showgrid": true,
         "tickfont": {
          "color": "#4D5663"
         },
         "title": {
          "font": {
           "color": "#4D5663"
          },
          "text": ""
         },
         "zerolinecolor": "#E1E5ED"
        }
       }
      },
      "text/html": [
       "<div>                            <div id=\"e0a25237-0beb-4eeb-a434-695ff8c4f61d\" class=\"plotly-graph-div\" style=\"height:525px; width:100%;\"></div>            <script type=\"text/javascript\">                require([\"plotly\"], function(Plotly) {                    window.PLOTLYENV=window.PLOTLYENV || {};\n",
       "                    window.PLOTLYENV.BASE_URL='https://plot.ly';                                    if (document.getElementById(\"e0a25237-0beb-4eeb-a434-695ff8c4f61d\")) {                    Plotly.newPlot(                        \"e0a25237-0beb-4eeb-a434-695ff8c4f61d\",                        [{\"colorscale\":[[0.0,\"rgb(165,0,38)\"],[0.1,\"rgb(215,48,39)\"],[0.2,\"rgb(244,109,67)\"],[0.3,\"rgb(253,174,97)\"],[0.4,\"rgb(254,224,144)\"],[0.5,\"rgb(255,255,191)\"],[0.6,\"rgb(224,243,248)\"],[0.7,\"rgb(171,217,233)\"],[0.8,\"rgb(116,173,209)\"],[0.9,\"rgb(69,117,180)\"],[1.0,\"rgb(49,54,149)\"]],\"x\":[0,1,2,3,4],\"y\":[\"x\",\"y\",\"z\"],\"z\":[[1,2,3,4,5],[10,20,30,20,10],[5,4,3,2,1]],\"type\":\"surface\"}],                        {\"legend\":{\"bgcolor\":\"#F5F6F9\",\"font\":{\"color\":\"#4D5663\"}},\"paper_bgcolor\":\"#F5F6F9\",\"plot_bgcolor\":\"#F5F6F9\",\"template\":{\"data\":{\"barpolar\":[{\"marker\":{\"line\":{\"color\":\"#E5ECF6\",\"width\":0.5},\"pattern\":{\"fillmode\":\"overlay\",\"size\":10,\"solidity\":0.2}},\"type\":\"barpolar\"}],\"bar\":[{\"error_x\":{\"color\":\"#2a3f5f\"},\"error_y\":{\"color\":\"#2a3f5f\"},\"marker\":{\"line\":{\"color\":\"#E5ECF6\",\"width\":0.5},\"pattern\":{\"fillmode\":\"overlay\",\"size\":10,\"solidity\":0.2}},\"type\":\"bar\"}],\"carpet\":[{\"aaxis\":{\"endlinecolor\":\"#2a3f5f\",\"gridcolor\":\"white\",\"linecolor\":\"white\",\"minorgridcolor\":\"white\",\"startlinecolor\":\"#2a3f5f\"},\"baxis\":{\"endlinecolor\":\"#2a3f5f\",\"gridcolor\":\"white\",\"linecolor\":\"white\",\"minorgridcolor\":\"white\",\"startlinecolor\":\"#2a3f5f\"},\"type\":\"carpet\"}],\"choropleth\":[{\"colorbar\":{\"outlinewidth\":0,\"ticks\":\"\"},\"type\":\"choropleth\"}],\"contourcarpet\":[{\"colorbar\":{\"outlinewidth\":0,\"ticks\":\"\"},\"type\":\"contourcarpet\"}],\"contour\":[{\"colorbar\":{\"outlinewidth\":0,\"ticks\":\"\"},\"colorscale\":[[0.0,\"#0d0887\"],[0.1111111111111111,\"#46039f\"],[0.2222222222222222,\"#7201a8\"],[0.3333333333333333,\"#9c179e\"],[0.4444444444444444,\"#bd3786\"],[0.5555555555555556,\"#d8576b\"],[0.6666666666666666,\"#ed7953\"],[0.7777777777777778,\"#fb9f3a\"],[0.8888888888888888,\"#fdca26\"],[1.0,\"#f0f921\"]],\"type\":\"contour\"}],\"heatmapgl\":[{\"colorbar\":{\"outlinewidth\":0,\"ticks\":\"\"},\"colorscale\":[[0.0,\"#0d0887\"],[0.1111111111111111,\"#46039f\"],[0.2222222222222222,\"#7201a8\"],[0.3333333333333333,\"#9c179e\"],[0.4444444444444444,\"#bd3786\"],[0.5555555555555556,\"#d8576b\"],[0.6666666666666666,\"#ed7953\"],[0.7777777777777778,\"#fb9f3a\"],[0.8888888888888888,\"#fdca26\"],[1.0,\"#f0f921\"]],\"type\":\"heatmapgl\"}],\"heatmap\":[{\"colorbar\":{\"outlinewidth\":0,\"ticks\":\"\"},\"colorscale\":[[0.0,\"#0d0887\"],[0.1111111111111111,\"#46039f\"],[0.2222222222222222,\"#7201a8\"],[0.3333333333333333,\"#9c179e\"],[0.4444444444444444,\"#bd3786\"],[0.5555555555555556,\"#d8576b\"],[0.6666666666666666,\"#ed7953\"],[0.7777777777777778,\"#fb9f3a\"],[0.8888888888888888,\"#fdca26\"],[1.0,\"#f0f921\"]],\"type\":\"heatmap\"}],\"histogram2dcontour\":[{\"colorbar\":{\"outlinewidth\":0,\"ticks\":\"\"},\"colorscale\":[[0.0,\"#0d0887\"],[0.1111111111111111,\"#46039f\"],[0.2222222222222222,\"#7201a8\"],[0.3333333333333333,\"#9c179e\"],[0.4444444444444444,\"#bd3786\"],[0.5555555555555556,\"#d8576b\"],[0.6666666666666666,\"#ed7953\"],[0.7777777777777778,\"#fb9f3a\"],[0.8888888888888888,\"#fdca26\"],[1.0,\"#f0f921\"]],\"type\":\"histogram2dcontour\"}],\"histogram2d\":[{\"colorbar\":{\"outlinewidth\":0,\"ticks\":\"\"},\"colorscale\":[[0.0,\"#0d0887\"],[0.1111111111111111,\"#46039f\"],[0.2222222222222222,\"#7201a8\"],[0.3333333333333333,\"#9c179e\"],[0.4444444444444444,\"#bd3786\"],[0.5555555555555556,\"#d8576b\"],[0.6666666666666666,\"#ed7953\"],[0.7777777777777778,\"#fb9f3a\"],[0.8888888888888888,\"#fdca26\"],[1.0,\"#f0f921\"]],\"type\":\"histogram2d\"}],\"histogram\":[{\"marker\":{\"pattern\":{\"fillmode\":\"overlay\",\"size\":10,\"solidity\":0.2}},\"type\":\"histogram\"}],\"mesh3d\":[{\"colorbar\":{\"outlinewidth\":0,\"ticks\":\"\"},\"type\":\"mesh3d\"}],\"parcoords\":[{\"line\":{\"colorbar\":{\"outlinewidth\":0,\"ticks\":\"\"}},\"type\":\"parcoords\"}],\"pie\":[{\"automargin\":true,\"type\":\"pie\"}],\"scatter3d\":[{\"line\":{\"colorbar\":{\"outlinewidth\":0,\"ticks\":\"\"}},\"marker\":{\"colorbar\":{\"outlinewidth\":0,\"ticks\":\"\"}},\"type\":\"scatter3d\"}],\"scattercarpet\":[{\"marker\":{\"colorbar\":{\"outlinewidth\":0,\"ticks\":\"\"}},\"type\":\"scattercarpet\"}],\"scattergeo\":[{\"marker\":{\"colorbar\":{\"outlinewidth\":0,\"ticks\":\"\"}},\"type\":\"scattergeo\"}],\"scattergl\":[{\"marker\":{\"colorbar\":{\"outlinewidth\":0,\"ticks\":\"\"}},\"type\":\"scattergl\"}],\"scattermapbox\":[{\"marker\":{\"colorbar\":{\"outlinewidth\":0,\"ticks\":\"\"}},\"type\":\"scattermapbox\"}],\"scatterpolargl\":[{\"marker\":{\"colorbar\":{\"outlinewidth\":0,\"ticks\":\"\"}},\"type\":\"scatterpolargl\"}],\"scatterpolar\":[{\"marker\":{\"colorbar\":{\"outlinewidth\":0,\"ticks\":\"\"}},\"type\":\"scatterpolar\"}],\"scatter\":[{\"fillpattern\":{\"fillmode\":\"overlay\",\"size\":10,\"solidity\":0.2},\"type\":\"scatter\"}],\"scatterternary\":[{\"marker\":{\"colorbar\":{\"outlinewidth\":0,\"ticks\":\"\"}},\"type\":\"scatterternary\"}],\"surface\":[{\"colorbar\":{\"outlinewidth\":0,\"ticks\":\"\"},\"colorscale\":[[0.0,\"#0d0887\"],[0.1111111111111111,\"#46039f\"],[0.2222222222222222,\"#7201a8\"],[0.3333333333333333,\"#9c179e\"],[0.4444444444444444,\"#bd3786\"],[0.5555555555555556,\"#d8576b\"],[0.6666666666666666,\"#ed7953\"],[0.7777777777777778,\"#fb9f3a\"],[0.8888888888888888,\"#fdca26\"],[1.0,\"#f0f921\"]],\"type\":\"surface\"}],\"table\":[{\"cells\":{\"fill\":{\"color\":\"#EBF0F8\"},\"line\":{\"color\":\"white\"}},\"header\":{\"fill\":{\"color\":\"#C8D4E3\"},\"line\":{\"color\":\"white\"}},\"type\":\"table\"}]},\"layout\":{\"annotationdefaults\":{\"arrowcolor\":\"#2a3f5f\",\"arrowhead\":0,\"arrowwidth\":1},\"autotypenumbers\":\"strict\",\"coloraxis\":{\"colorbar\":{\"outlinewidth\":0,\"ticks\":\"\"}},\"colorscale\":{\"diverging\":[[0,\"#8e0152\"],[0.1,\"#c51b7d\"],[0.2,\"#de77ae\"],[0.3,\"#f1b6da\"],[0.4,\"#fde0ef\"],[0.5,\"#f7f7f7\"],[0.6,\"#e6f5d0\"],[0.7,\"#b8e186\"],[0.8,\"#7fbc41\"],[0.9,\"#4d9221\"],[1,\"#276419\"]],\"sequential\":[[0.0,\"#0d0887\"],[0.1111111111111111,\"#46039f\"],[0.2222222222222222,\"#7201a8\"],[0.3333333333333333,\"#9c179e\"],[0.4444444444444444,\"#bd3786\"],[0.5555555555555556,\"#d8576b\"],[0.6666666666666666,\"#ed7953\"],[0.7777777777777778,\"#fb9f3a\"],[0.8888888888888888,\"#fdca26\"],[1.0,\"#f0f921\"]],\"sequentialminus\":[[0.0,\"#0d0887\"],[0.1111111111111111,\"#46039f\"],[0.2222222222222222,\"#7201a8\"],[0.3333333333333333,\"#9c179e\"],[0.4444444444444444,\"#bd3786\"],[0.5555555555555556,\"#d8576b\"],[0.6666666666666666,\"#ed7953\"],[0.7777777777777778,\"#fb9f3a\"],[0.8888888888888888,\"#fdca26\"],[1.0,\"#f0f921\"]]},\"colorway\":[\"#636efa\",\"#EF553B\",\"#00cc96\",\"#ab63fa\",\"#FFA15A\",\"#19d3f3\",\"#FF6692\",\"#B6E880\",\"#FF97FF\",\"#FECB52\"],\"font\":{\"color\":\"#2a3f5f\"},\"geo\":{\"bgcolor\":\"white\",\"lakecolor\":\"white\",\"landcolor\":\"#E5ECF6\",\"showlakes\":true,\"showland\":true,\"subunitcolor\":\"white\"},\"hoverlabel\":{\"align\":\"left\"},\"hovermode\":\"closest\",\"mapbox\":{\"style\":\"light\"},\"paper_bgcolor\":\"white\",\"plot_bgcolor\":\"#E5ECF6\",\"polar\":{\"angularaxis\":{\"gridcolor\":\"white\",\"linecolor\":\"white\",\"ticks\":\"\"},\"bgcolor\":\"#E5ECF6\",\"radialaxis\":{\"gridcolor\":\"white\",\"linecolor\":\"white\",\"ticks\":\"\"}},\"scene\":{\"xaxis\":{\"backgroundcolor\":\"#E5ECF6\",\"gridcolor\":\"white\",\"gridwidth\":2,\"linecolor\":\"white\",\"showbackground\":true,\"ticks\":\"\",\"zerolinecolor\":\"white\"},\"yaxis\":{\"backgroundcolor\":\"#E5ECF6\",\"gridcolor\":\"white\",\"gridwidth\":2,\"linecolor\":\"white\",\"showbackground\":true,\"ticks\":\"\",\"zerolinecolor\":\"white\"},\"zaxis\":{\"backgroundcolor\":\"#E5ECF6\",\"gridcolor\":\"white\",\"gridwidth\":2,\"linecolor\":\"white\",\"showbackground\":true,\"ticks\":\"\",\"zerolinecolor\":\"white\"}},\"shapedefaults\":{\"line\":{\"color\":\"#2a3f5f\"}},\"ternary\":{\"aaxis\":{\"gridcolor\":\"white\",\"linecolor\":\"white\",\"ticks\":\"\"},\"baxis\":{\"gridcolor\":\"white\",\"linecolor\":\"white\",\"ticks\":\"\"},\"bgcolor\":\"#E5ECF6\",\"caxis\":{\"gridcolor\":\"white\",\"linecolor\":\"white\",\"ticks\":\"\"}},\"title\":{\"x\":0.05},\"xaxis\":{\"automargin\":true,\"gridcolor\":\"white\",\"linecolor\":\"white\",\"ticks\":\"\",\"title\":{\"standoff\":15},\"zerolinecolor\":\"white\",\"zerolinewidth\":2},\"yaxis\":{\"automargin\":true,\"gridcolor\":\"white\",\"linecolor\":\"white\",\"ticks\":\"\",\"title\":{\"standoff\":15},\"zerolinecolor\":\"white\",\"zerolinewidth\":2}}},\"title\":{\"font\":{\"color\":\"#4D5663\"}},\"xaxis\":{\"gridcolor\":\"#E1E5ED\",\"showgrid\":true,\"tickfont\":{\"color\":\"#4D5663\"},\"title\":{\"font\":{\"color\":\"#4D5663\"},\"text\":\"\"},\"zerolinecolor\":\"#E1E5ED\"},\"yaxis\":{\"gridcolor\":\"#E1E5ED\",\"showgrid\":true,\"tickfont\":{\"color\":\"#4D5663\"},\"title\":{\"font\":{\"color\":\"#4D5663\"},\"text\":\"\"},\"zerolinecolor\":\"#E1E5ED\"}},                        {\"showLink\": true, \"linkText\": \"Export to plot.ly\", \"plotlyServerURL\": \"https://plot.ly\", \"responsive\": true}                    ).then(function(){\n",
       "                            \n",
       "var gd = document.getElementById('e0a25237-0beb-4eeb-a434-695ff8c4f61d');\n",
       "var x = new MutationObserver(function (mutations, observer) {{\n",
       "        var display = window.getComputedStyle(gd).display;\n",
       "        if (!display || display === 'none') {{\n",
       "            console.log([gd, 'removed!']);\n",
       "            Plotly.purge(gd);\n",
       "            observer.disconnect();\n",
       "        }}\n",
       "}});\n",
       "\n",
       "// Listen for the removal of the full notebook cells\n",
       "var notebookContainer = gd.closest('#notebook-container');\n",
       "if (notebookContainer) {{\n",
       "    x.observe(notebookContainer, {childList: true});\n",
       "}}\n",
       "\n",
       "// Listen for the clearing of the current output cell\n",
       "var outputEl = gd.closest('.output');\n",
       "if (outputEl) {{\n",
       "    x.observe(outputEl, {childList: true});\n",
       "}}\n",
       "\n",
       "                        })                };                });            </script>        </div>"
      ]
     },
     "metadata": {},
     "output_type": "display_data"
    }
   ],
   "source": [
    "df4.iplot(kind='surface',colorscale='rdylbu')"
   ]
  },
  {
   "cell_type": "code",
   "execution_count": 55,
   "metadata": {},
   "outputs": [
    {
     "data": {
      "application/vnd.plotly.v1+json": {
       "config": {
        "linkText": "Export to plot.ly",
        "plotlyServerURL": "https://plot.ly",
        "showLink": true
       },
       "data": [
        {
         "histfunc": "count",
         "histnorm": "",
         "marker": {
          "color": "rgba(255, 153, 51, 1.0)",
          "line": {
           "color": "#4D5663",
           "width": 1.3
          }
         },
         "name": "A",
         "nbinsx": 50,
         "opacity": 0.8,
         "orientation": "v",
         "type": "histogram",
         "x": [
          -0.5893247467893137,
          0.06357799381554469,
          0.3335160921609745,
          0.3243661733043439,
          0.6787084891857187,
          -0.8798125623521266,
          -0.061710317783818004,
          -0.6900260083396907,
          -1.0522257446491912,
          0.2590016072445179,
          1.122478052572237,
          -0.30449682024732316,
          2.267454273919806,
          1.123114298512772,
          -0.6257724174399768,
          1.701367743435107,
          -0.26754379725565747,
          0.3003012512826872,
          -0.3777573284785868,
          -0.49072235963782135,
          0.47438039624374584,
          -0.9607355212592849,
          -0.01448730604106568,
          0.7818381394772317,
          0.47532496228524435,
          -0.8274720991535782,
          -0.9284276067853057,
          -1.488251013296298,
          0.23396954153909585,
          1.869180554136494,
          -0.27883637077933304,
          -0.49624437594324633,
          0.879061425460165,
          0.019113394365269577,
          1.1757641619276693,
          0.5894504709946624,
          1.4571618706876532,
          0.2106774240345165,
          -1.2182225650030216,
          -0.26967153456414256,
          0.8386234979200884,
          -1.1357835340401106,
          0.8926944889147607,
          -0.30968190234772086,
          1.0517072919721753,
          -1.2292761269220487,
          0.1429175250658092,
          -0.20868482281688108,
          0.5809020967712989,
          -1.1356002159648928,
          0.5996902800483412,
          1.7939424342799457,
          0.5131548974217541,
          1.172634706569258,
          -0.5766421668040401,
          0.46792076906214874,
          0.9969095439213087,
          0.21079364926988753,
          -1.306177547922756,
          -0.9305224274786199,
          0.4682250885871653,
          0.9693097901681132,
          -2.422557021111485,
          0.7858934649760749,
          -0.42506148315700365,
          -1.1776687308011278,
          2.2897119366258867,
          -0.7217004741651094,
          -0.9737110269480089,
          0.4190362375628981,
          -0.7391331202884779,
          -0.5555335418005726,
          -0.6785442909794438,
          -0.5230462779813413,
          -0.19618762434273726,
          -1.020057265171055,
          1.381583295856783,
          -1.3195078598361525,
          0.11768444018206939,
          0.07088724711071444,
          -0.41152734532531077,
          -0.2144863229665085,
          0.3000765406875,
          0.6506309442988503,
          0.8406330967821201,
          0.6551793622147913,
          -1.0321856810764007,
          0.5340585373125538,
          -0.062237136294529594,
          0.2250207871795296,
          0.8894595124404172,
          1.3538895386143526,
          0.2817394146169772,
          1.2786671214167356,
          -0.33824826463402663,
          1.1999423130980735,
          0.04203995852535922,
          1.149306256216227,
          1.641525664697918,
          -0.6463223417336121
         ]
        }
       ],
       "layout": {
        "barmode": "overlay",
        "legend": {
         "bgcolor": "#F5F6F9",
         "font": {
          "color": "#4D5663"
         }
        },
        "paper_bgcolor": "#F5F6F9",
        "plot_bgcolor": "#F5F6F9",
        "template": {
         "data": {
          "bar": [
           {
            "error_x": {
             "color": "#2a3f5f"
            },
            "error_y": {
             "color": "#2a3f5f"
            },
            "marker": {
             "line": {
              "color": "#E5ECF6",
              "width": 0.5
             },
             "pattern": {
              "fillmode": "overlay",
              "size": 10,
              "solidity": 0.2
             }
            },
            "type": "bar"
           }
          ],
          "barpolar": [
           {
            "marker": {
             "line": {
              "color": "#E5ECF6",
              "width": 0.5
             },
             "pattern": {
              "fillmode": "overlay",
              "size": 10,
              "solidity": 0.2
             }
            },
            "type": "barpolar"
           }
          ],
          "carpet": [
           {
            "aaxis": {
             "endlinecolor": "#2a3f5f",
             "gridcolor": "white",
             "linecolor": "white",
             "minorgridcolor": "white",
             "startlinecolor": "#2a3f5f"
            },
            "baxis": {
             "endlinecolor": "#2a3f5f",
             "gridcolor": "white",
             "linecolor": "white",
             "minorgridcolor": "white",
             "startlinecolor": "#2a3f5f"
            },
            "type": "carpet"
           }
          ],
          "choropleth": [
           {
            "colorbar": {
             "outlinewidth": 0,
             "ticks": ""
            },
            "type": "choropleth"
           }
          ],
          "contour": [
           {
            "colorbar": {
             "outlinewidth": 0,
             "ticks": ""
            },
            "colorscale": [
             [
              0,
              "#0d0887"
             ],
             [
              0.1111111111111111,
              "#46039f"
             ],
             [
              0.2222222222222222,
              "#7201a8"
             ],
             [
              0.3333333333333333,
              "#9c179e"
             ],
             [
              0.4444444444444444,
              "#bd3786"
             ],
             [
              0.5555555555555556,
              "#d8576b"
             ],
             [
              0.6666666666666666,
              "#ed7953"
             ],
             [
              0.7777777777777778,
              "#fb9f3a"
             ],
             [
              0.8888888888888888,
              "#fdca26"
             ],
             [
              1,
              "#f0f921"
             ]
            ],
            "type": "contour"
           }
          ],
          "contourcarpet": [
           {
            "colorbar": {
             "outlinewidth": 0,
             "ticks": ""
            },
            "type": "contourcarpet"
           }
          ],
          "heatmap": [
           {
            "colorbar": {
             "outlinewidth": 0,
             "ticks": ""
            },
            "colorscale": [
             [
              0,
              "#0d0887"
             ],
             [
              0.1111111111111111,
              "#46039f"
             ],
             [
              0.2222222222222222,
              "#7201a8"
             ],
             [
              0.3333333333333333,
              "#9c179e"
             ],
             [
              0.4444444444444444,
              "#bd3786"
             ],
             [
              0.5555555555555556,
              "#d8576b"
             ],
             [
              0.6666666666666666,
              "#ed7953"
             ],
             [
              0.7777777777777778,
              "#fb9f3a"
             ],
             [
              0.8888888888888888,
              "#fdca26"
             ],
             [
              1,
              "#f0f921"
             ]
            ],
            "type": "heatmap"
           }
          ],
          "heatmapgl": [
           {
            "colorbar": {
             "outlinewidth": 0,
             "ticks": ""
            },
            "colorscale": [
             [
              0,
              "#0d0887"
             ],
             [
              0.1111111111111111,
              "#46039f"
             ],
             [
              0.2222222222222222,
              "#7201a8"
             ],
             [
              0.3333333333333333,
              "#9c179e"
             ],
             [
              0.4444444444444444,
              "#bd3786"
             ],
             [
              0.5555555555555556,
              "#d8576b"
             ],
             [
              0.6666666666666666,
              "#ed7953"
             ],
             [
              0.7777777777777778,
              "#fb9f3a"
             ],
             [
              0.8888888888888888,
              "#fdca26"
             ],
             [
              1,
              "#f0f921"
             ]
            ],
            "type": "heatmapgl"
           }
          ],
          "histogram": [
           {
            "marker": {
             "pattern": {
              "fillmode": "overlay",
              "size": 10,
              "solidity": 0.2
             }
            },
            "type": "histogram"
           }
          ],
          "histogram2d": [
           {
            "colorbar": {
             "outlinewidth": 0,
             "ticks": ""
            },
            "colorscale": [
             [
              0,
              "#0d0887"
             ],
             [
              0.1111111111111111,
              "#46039f"
             ],
             [
              0.2222222222222222,
              "#7201a8"
             ],
             [
              0.3333333333333333,
              "#9c179e"
             ],
             [
              0.4444444444444444,
              "#bd3786"
             ],
             [
              0.5555555555555556,
              "#d8576b"
             ],
             [
              0.6666666666666666,
              "#ed7953"
             ],
             [
              0.7777777777777778,
              "#fb9f3a"
             ],
             [
              0.8888888888888888,
              "#fdca26"
             ],
             [
              1,
              "#f0f921"
             ]
            ],
            "type": "histogram2d"
           }
          ],
          "histogram2dcontour": [
           {
            "colorbar": {
             "outlinewidth": 0,
             "ticks": ""
            },
            "colorscale": [
             [
              0,
              "#0d0887"
             ],
             [
              0.1111111111111111,
              "#46039f"
             ],
             [
              0.2222222222222222,
              "#7201a8"
             ],
             [
              0.3333333333333333,
              "#9c179e"
             ],
             [
              0.4444444444444444,
              "#bd3786"
             ],
             [
              0.5555555555555556,
              "#d8576b"
             ],
             [
              0.6666666666666666,
              "#ed7953"
             ],
             [
              0.7777777777777778,
              "#fb9f3a"
             ],
             [
              0.8888888888888888,
              "#fdca26"
             ],
             [
              1,
              "#f0f921"
             ]
            ],
            "type": "histogram2dcontour"
           }
          ],
          "mesh3d": [
           {
            "colorbar": {
             "outlinewidth": 0,
             "ticks": ""
            },
            "type": "mesh3d"
           }
          ],
          "parcoords": [
           {
            "line": {
             "colorbar": {
              "outlinewidth": 0,
              "ticks": ""
             }
            },
            "type": "parcoords"
           }
          ],
          "pie": [
           {
            "automargin": true,
            "type": "pie"
           }
          ],
          "scatter": [
           {
            "fillpattern": {
             "fillmode": "overlay",
             "size": 10,
             "solidity": 0.2
            },
            "type": "scatter"
           }
          ],
          "scatter3d": [
           {
            "line": {
             "colorbar": {
              "outlinewidth": 0,
              "ticks": ""
             }
            },
            "marker": {
             "colorbar": {
              "outlinewidth": 0,
              "ticks": ""
             }
            },
            "type": "scatter3d"
           }
          ],
          "scattercarpet": [
           {
            "marker": {
             "colorbar": {
              "outlinewidth": 0,
              "ticks": ""
             }
            },
            "type": "scattercarpet"
           }
          ],
          "scattergeo": [
           {
            "marker": {
             "colorbar": {
              "outlinewidth": 0,
              "ticks": ""
             }
            },
            "type": "scattergeo"
           }
          ],
          "scattergl": [
           {
            "marker": {
             "colorbar": {
              "outlinewidth": 0,
              "ticks": ""
             }
            },
            "type": "scattergl"
           }
          ],
          "scattermapbox": [
           {
            "marker": {
             "colorbar": {
              "outlinewidth": 0,
              "ticks": ""
             }
            },
            "type": "scattermapbox"
           }
          ],
          "scatterpolar": [
           {
            "marker": {
             "colorbar": {
              "outlinewidth": 0,
              "ticks": ""
             }
            },
            "type": "scatterpolar"
           }
          ],
          "scatterpolargl": [
           {
            "marker": {
             "colorbar": {
              "outlinewidth": 0,
              "ticks": ""
             }
            },
            "type": "scatterpolargl"
           }
          ],
          "scatterternary": [
           {
            "marker": {
             "colorbar": {
              "outlinewidth": 0,
              "ticks": ""
             }
            },
            "type": "scatterternary"
           }
          ],
          "surface": [
           {
            "colorbar": {
             "outlinewidth": 0,
             "ticks": ""
            },
            "colorscale": [
             [
              0,
              "#0d0887"
             ],
             [
              0.1111111111111111,
              "#46039f"
             ],
             [
              0.2222222222222222,
              "#7201a8"
             ],
             [
              0.3333333333333333,
              "#9c179e"
             ],
             [
              0.4444444444444444,
              "#bd3786"
             ],
             [
              0.5555555555555556,
              "#d8576b"
             ],
             [
              0.6666666666666666,
              "#ed7953"
             ],
             [
              0.7777777777777778,
              "#fb9f3a"
             ],
             [
              0.8888888888888888,
              "#fdca26"
             ],
             [
              1,
              "#f0f921"
             ]
            ],
            "type": "surface"
           }
          ],
          "table": [
           {
            "cells": {
             "fill": {
              "color": "#EBF0F8"
             },
             "line": {
              "color": "white"
             }
            },
            "header": {
             "fill": {
              "color": "#C8D4E3"
             },
             "line": {
              "color": "white"
             }
            },
            "type": "table"
           }
          ]
         },
         "layout": {
          "annotationdefaults": {
           "arrowcolor": "#2a3f5f",
           "arrowhead": 0,
           "arrowwidth": 1
          },
          "autotypenumbers": "strict",
          "coloraxis": {
           "colorbar": {
            "outlinewidth": 0,
            "ticks": ""
           }
          },
          "colorscale": {
           "diverging": [
            [
             0,
             "#8e0152"
            ],
            [
             0.1,
             "#c51b7d"
            ],
            [
             0.2,
             "#de77ae"
            ],
            [
             0.3,
             "#f1b6da"
            ],
            [
             0.4,
             "#fde0ef"
            ],
            [
             0.5,
             "#f7f7f7"
            ],
            [
             0.6,
             "#e6f5d0"
            ],
            [
             0.7,
             "#b8e186"
            ],
            [
             0.8,
             "#7fbc41"
            ],
            [
             0.9,
             "#4d9221"
            ],
            [
             1,
             "#276419"
            ]
           ],
           "sequential": [
            [
             0,
             "#0d0887"
            ],
            [
             0.1111111111111111,
             "#46039f"
            ],
            [
             0.2222222222222222,
             "#7201a8"
            ],
            [
             0.3333333333333333,
             "#9c179e"
            ],
            [
             0.4444444444444444,
             "#bd3786"
            ],
            [
             0.5555555555555556,
             "#d8576b"
            ],
            [
             0.6666666666666666,
             "#ed7953"
            ],
            [
             0.7777777777777778,
             "#fb9f3a"
            ],
            [
             0.8888888888888888,
             "#fdca26"
            ],
            [
             1,
             "#f0f921"
            ]
           ],
           "sequentialminus": [
            [
             0,
             "#0d0887"
            ],
            [
             0.1111111111111111,
             "#46039f"
            ],
            [
             0.2222222222222222,
             "#7201a8"
            ],
            [
             0.3333333333333333,
             "#9c179e"
            ],
            [
             0.4444444444444444,
             "#bd3786"
            ],
            [
             0.5555555555555556,
             "#d8576b"
            ],
            [
             0.6666666666666666,
             "#ed7953"
            ],
            [
             0.7777777777777778,
             "#fb9f3a"
            ],
            [
             0.8888888888888888,
             "#fdca26"
            ],
            [
             1,
             "#f0f921"
            ]
           ]
          },
          "colorway": [
           "#636efa",
           "#EF553B",
           "#00cc96",
           "#ab63fa",
           "#FFA15A",
           "#19d3f3",
           "#FF6692",
           "#B6E880",
           "#FF97FF",
           "#FECB52"
          ],
          "font": {
           "color": "#2a3f5f"
          },
          "geo": {
           "bgcolor": "white",
           "lakecolor": "white",
           "landcolor": "#E5ECF6",
           "showlakes": true,
           "showland": true,
           "subunitcolor": "white"
          },
          "hoverlabel": {
           "align": "left"
          },
          "hovermode": "closest",
          "mapbox": {
           "style": "light"
          },
          "paper_bgcolor": "white",
          "plot_bgcolor": "#E5ECF6",
          "polar": {
           "angularaxis": {
            "gridcolor": "white",
            "linecolor": "white",
            "ticks": ""
           },
           "bgcolor": "#E5ECF6",
           "radialaxis": {
            "gridcolor": "white",
            "linecolor": "white",
            "ticks": ""
           }
          },
          "scene": {
           "xaxis": {
            "backgroundcolor": "#E5ECF6",
            "gridcolor": "white",
            "gridwidth": 2,
            "linecolor": "white",
            "showbackground": true,
            "ticks": "",
            "zerolinecolor": "white"
           },
           "yaxis": {
            "backgroundcolor": "#E5ECF6",
            "gridcolor": "white",
            "gridwidth": 2,
            "linecolor": "white",
            "showbackground": true,
            "ticks": "",
            "zerolinecolor": "white"
           },
           "zaxis": {
            "backgroundcolor": "#E5ECF6",
            "gridcolor": "white",
            "gridwidth": 2,
            "linecolor": "white",
            "showbackground": true,
            "ticks": "",
            "zerolinecolor": "white"
           }
          },
          "shapedefaults": {
           "line": {
            "color": "#2a3f5f"
           }
          },
          "ternary": {
           "aaxis": {
            "gridcolor": "white",
            "linecolor": "white",
            "ticks": ""
           },
           "baxis": {
            "gridcolor": "white",
            "linecolor": "white",
            "ticks": ""
           },
           "bgcolor": "#E5ECF6",
           "caxis": {
            "gridcolor": "white",
            "linecolor": "white",
            "ticks": ""
           }
          },
          "title": {
           "x": 0.05
          },
          "xaxis": {
           "automargin": true,
           "gridcolor": "white",
           "linecolor": "white",
           "ticks": "",
           "title": {
            "standoff": 15
           },
           "zerolinecolor": "white",
           "zerolinewidth": 2
          },
          "yaxis": {
           "automargin": true,
           "gridcolor": "white",
           "linecolor": "white",
           "ticks": "",
           "title": {
            "standoff": 15
           },
           "zerolinecolor": "white",
           "zerolinewidth": 2
          }
         }
        },
        "title": {
         "font": {
          "color": "#4D5663"
         }
        },
        "xaxis": {
         "gridcolor": "#E1E5ED",
         "showgrid": true,
         "tickfont": {
          "color": "#4D5663"
         },
         "title": {
          "font": {
           "color": "#4D5663"
          },
          "text": ""
         },
         "zerolinecolor": "#E1E5ED"
        },
        "yaxis": {
         "gridcolor": "#E1E5ED",
         "showgrid": true,
         "tickfont": {
          "color": "#4D5663"
         },
         "title": {
          "font": {
           "color": "#4D5663"
          },
          "text": ""
         },
         "zerolinecolor": "#E1E5ED"
        }
       }
      },
      "text/html": [
       "<div>                            <div id=\"2be32da7-492c-429b-9316-4f961c7229c3\" class=\"plotly-graph-div\" style=\"height:525px; width:100%;\"></div>            <script type=\"text/javascript\">                require([\"plotly\"], function(Plotly) {                    window.PLOTLYENV=window.PLOTLYENV || {};\n",
       "                    window.PLOTLYENV.BASE_URL='https://plot.ly';                                    if (document.getElementById(\"2be32da7-492c-429b-9316-4f961c7229c3\")) {                    Plotly.newPlot(                        \"2be32da7-492c-429b-9316-4f961c7229c3\",                        [{\"histfunc\":\"count\",\"histnorm\":\"\",\"marker\":{\"color\":\"rgba(255, 153, 51, 1.0)\",\"line\":{\"color\":\"#4D5663\",\"width\":1.3}},\"name\":\"A\",\"nbinsx\":50,\"opacity\":0.8,\"orientation\":\"v\",\"x\":[-0.5893247467893137,0.06357799381554469,0.3335160921609745,0.3243661733043439,0.6787084891857187,-0.8798125623521266,-0.061710317783818004,-0.6900260083396907,-1.0522257446491912,0.2590016072445179,1.122478052572237,-0.30449682024732316,2.267454273919806,1.123114298512772,-0.6257724174399768,1.701367743435107,-0.26754379725565747,0.3003012512826872,-0.3777573284785868,-0.49072235963782135,0.47438039624374584,-0.9607355212592849,-0.01448730604106568,0.7818381394772317,0.47532496228524435,-0.8274720991535782,-0.9284276067853057,-1.488251013296298,0.23396954153909585,1.869180554136494,-0.27883637077933304,-0.49624437594324633,0.879061425460165,0.019113394365269577,1.1757641619276693,0.5894504709946624,1.4571618706876532,0.2106774240345165,-1.2182225650030216,-0.26967153456414256,0.8386234979200884,-1.1357835340401106,0.8926944889147607,-0.30968190234772086,1.0517072919721753,-1.2292761269220487,0.1429175250658092,-0.20868482281688108,0.5809020967712989,-1.1356002159648928,0.5996902800483412,1.7939424342799457,0.5131548974217541,1.172634706569258,-0.5766421668040401,0.46792076906214874,0.9969095439213087,0.21079364926988753,-1.306177547922756,-0.9305224274786199,0.4682250885871653,0.9693097901681132,-2.422557021111485,0.7858934649760749,-0.42506148315700365,-1.1776687308011278,2.2897119366258867,-0.7217004741651094,-0.9737110269480089,0.4190362375628981,-0.7391331202884779,-0.5555335418005726,-0.6785442909794438,-0.5230462779813413,-0.19618762434273726,-1.020057265171055,1.381583295856783,-1.3195078598361525,0.11768444018206939,0.07088724711071444,-0.41152734532531077,-0.2144863229665085,0.3000765406875,0.6506309442988503,0.8406330967821201,0.6551793622147913,-1.0321856810764007,0.5340585373125538,-0.062237136294529594,0.2250207871795296,0.8894595124404172,1.3538895386143526,0.2817394146169772,1.2786671214167356,-0.33824826463402663,1.1999423130980735,0.04203995852535922,1.149306256216227,1.641525664697918,-0.6463223417336121],\"type\":\"histogram\"}],                        {\"barmode\":\"overlay\",\"legend\":{\"bgcolor\":\"#F5F6F9\",\"font\":{\"color\":\"#4D5663\"}},\"paper_bgcolor\":\"#F5F6F9\",\"plot_bgcolor\":\"#F5F6F9\",\"template\":{\"data\":{\"barpolar\":[{\"marker\":{\"line\":{\"color\":\"#E5ECF6\",\"width\":0.5},\"pattern\":{\"fillmode\":\"overlay\",\"size\":10,\"solidity\":0.2}},\"type\":\"barpolar\"}],\"bar\":[{\"error_x\":{\"color\":\"#2a3f5f\"},\"error_y\":{\"color\":\"#2a3f5f\"},\"marker\":{\"line\":{\"color\":\"#E5ECF6\",\"width\":0.5},\"pattern\":{\"fillmode\":\"overlay\",\"size\":10,\"solidity\":0.2}},\"type\":\"bar\"}],\"carpet\":[{\"aaxis\":{\"endlinecolor\":\"#2a3f5f\",\"gridcolor\":\"white\",\"linecolor\":\"white\",\"minorgridcolor\":\"white\",\"startlinecolor\":\"#2a3f5f\"},\"baxis\":{\"endlinecolor\":\"#2a3f5f\",\"gridcolor\":\"white\",\"linecolor\":\"white\",\"minorgridcolor\":\"white\",\"startlinecolor\":\"#2a3f5f\"},\"type\":\"carpet\"}],\"choropleth\":[{\"colorbar\":{\"outlinewidth\":0,\"ticks\":\"\"},\"type\":\"choropleth\"}],\"contourcarpet\":[{\"colorbar\":{\"outlinewidth\":0,\"ticks\":\"\"},\"type\":\"contourcarpet\"}],\"contour\":[{\"colorbar\":{\"outlinewidth\":0,\"ticks\":\"\"},\"colorscale\":[[0.0,\"#0d0887\"],[0.1111111111111111,\"#46039f\"],[0.2222222222222222,\"#7201a8\"],[0.3333333333333333,\"#9c179e\"],[0.4444444444444444,\"#bd3786\"],[0.5555555555555556,\"#d8576b\"],[0.6666666666666666,\"#ed7953\"],[0.7777777777777778,\"#fb9f3a\"],[0.8888888888888888,\"#fdca26\"],[1.0,\"#f0f921\"]],\"type\":\"contour\"}],\"heatmapgl\":[{\"colorbar\":{\"outlinewidth\":0,\"ticks\":\"\"},\"colorscale\":[[0.0,\"#0d0887\"],[0.1111111111111111,\"#46039f\"],[0.2222222222222222,\"#7201a8\"],[0.3333333333333333,\"#9c179e\"],[0.4444444444444444,\"#bd3786\"],[0.5555555555555556,\"#d8576b\"],[0.6666666666666666,\"#ed7953\"],[0.7777777777777778,\"#fb9f3a\"],[0.8888888888888888,\"#fdca26\"],[1.0,\"#f0f921\"]],\"type\":\"heatmapgl\"}],\"heatmap\":[{\"colorbar\":{\"outlinewidth\":0,\"ticks\":\"\"},\"colorscale\":[[0.0,\"#0d0887\"],[0.1111111111111111,\"#46039f\"],[0.2222222222222222,\"#7201a8\"],[0.3333333333333333,\"#9c179e\"],[0.4444444444444444,\"#bd3786\"],[0.5555555555555556,\"#d8576b\"],[0.6666666666666666,\"#ed7953\"],[0.7777777777777778,\"#fb9f3a\"],[0.8888888888888888,\"#fdca26\"],[1.0,\"#f0f921\"]],\"type\":\"heatmap\"}],\"histogram2dcontour\":[{\"colorbar\":{\"outlinewidth\":0,\"ticks\":\"\"},\"colorscale\":[[0.0,\"#0d0887\"],[0.1111111111111111,\"#46039f\"],[0.2222222222222222,\"#7201a8\"],[0.3333333333333333,\"#9c179e\"],[0.4444444444444444,\"#bd3786\"],[0.5555555555555556,\"#d8576b\"],[0.6666666666666666,\"#ed7953\"],[0.7777777777777778,\"#fb9f3a\"],[0.8888888888888888,\"#fdca26\"],[1.0,\"#f0f921\"]],\"type\":\"histogram2dcontour\"}],\"histogram2d\":[{\"colorbar\":{\"outlinewidth\":0,\"ticks\":\"\"},\"colorscale\":[[0.0,\"#0d0887\"],[0.1111111111111111,\"#46039f\"],[0.2222222222222222,\"#7201a8\"],[0.3333333333333333,\"#9c179e\"],[0.4444444444444444,\"#bd3786\"],[0.5555555555555556,\"#d8576b\"],[0.6666666666666666,\"#ed7953\"],[0.7777777777777778,\"#fb9f3a\"],[0.8888888888888888,\"#fdca26\"],[1.0,\"#f0f921\"]],\"type\":\"histogram2d\"}],\"histogram\":[{\"marker\":{\"pattern\":{\"fillmode\":\"overlay\",\"size\":10,\"solidity\":0.2}},\"type\":\"histogram\"}],\"mesh3d\":[{\"colorbar\":{\"outlinewidth\":0,\"ticks\":\"\"},\"type\":\"mesh3d\"}],\"parcoords\":[{\"line\":{\"colorbar\":{\"outlinewidth\":0,\"ticks\":\"\"}},\"type\":\"parcoords\"}],\"pie\":[{\"automargin\":true,\"type\":\"pie\"}],\"scatter3d\":[{\"line\":{\"colorbar\":{\"outlinewidth\":0,\"ticks\":\"\"}},\"marker\":{\"colorbar\":{\"outlinewidth\":0,\"ticks\":\"\"}},\"type\":\"scatter3d\"}],\"scattercarpet\":[{\"marker\":{\"colorbar\":{\"outlinewidth\":0,\"ticks\":\"\"}},\"type\":\"scattercarpet\"}],\"scattergeo\":[{\"marker\":{\"colorbar\":{\"outlinewidth\":0,\"ticks\":\"\"}},\"type\":\"scattergeo\"}],\"scattergl\":[{\"marker\":{\"colorbar\":{\"outlinewidth\":0,\"ticks\":\"\"}},\"type\":\"scattergl\"}],\"scattermapbox\":[{\"marker\":{\"colorbar\":{\"outlinewidth\":0,\"ticks\":\"\"}},\"type\":\"scattermapbox\"}],\"scatterpolargl\":[{\"marker\":{\"colorbar\":{\"outlinewidth\":0,\"ticks\":\"\"}},\"type\":\"scatterpolargl\"}],\"scatterpolar\":[{\"marker\":{\"colorbar\":{\"outlinewidth\":0,\"ticks\":\"\"}},\"type\":\"scatterpolar\"}],\"scatter\":[{\"fillpattern\":{\"fillmode\":\"overlay\",\"size\":10,\"solidity\":0.2},\"type\":\"scatter\"}],\"scatterternary\":[{\"marker\":{\"colorbar\":{\"outlinewidth\":0,\"ticks\":\"\"}},\"type\":\"scatterternary\"}],\"surface\":[{\"colorbar\":{\"outlinewidth\":0,\"ticks\":\"\"},\"colorscale\":[[0.0,\"#0d0887\"],[0.1111111111111111,\"#46039f\"],[0.2222222222222222,\"#7201a8\"],[0.3333333333333333,\"#9c179e\"],[0.4444444444444444,\"#bd3786\"],[0.5555555555555556,\"#d8576b\"],[0.6666666666666666,\"#ed7953\"],[0.7777777777777778,\"#fb9f3a\"],[0.8888888888888888,\"#fdca26\"],[1.0,\"#f0f921\"]],\"type\":\"surface\"}],\"table\":[{\"cells\":{\"fill\":{\"color\":\"#EBF0F8\"},\"line\":{\"color\":\"white\"}},\"header\":{\"fill\":{\"color\":\"#C8D4E3\"},\"line\":{\"color\":\"white\"}},\"type\":\"table\"}]},\"layout\":{\"annotationdefaults\":{\"arrowcolor\":\"#2a3f5f\",\"arrowhead\":0,\"arrowwidth\":1},\"autotypenumbers\":\"strict\",\"coloraxis\":{\"colorbar\":{\"outlinewidth\":0,\"ticks\":\"\"}},\"colorscale\":{\"diverging\":[[0,\"#8e0152\"],[0.1,\"#c51b7d\"],[0.2,\"#de77ae\"],[0.3,\"#f1b6da\"],[0.4,\"#fde0ef\"],[0.5,\"#f7f7f7\"],[0.6,\"#e6f5d0\"],[0.7,\"#b8e186\"],[0.8,\"#7fbc41\"],[0.9,\"#4d9221\"],[1,\"#276419\"]],\"sequential\":[[0.0,\"#0d0887\"],[0.1111111111111111,\"#46039f\"],[0.2222222222222222,\"#7201a8\"],[0.3333333333333333,\"#9c179e\"],[0.4444444444444444,\"#bd3786\"],[0.5555555555555556,\"#d8576b\"],[0.6666666666666666,\"#ed7953\"],[0.7777777777777778,\"#fb9f3a\"],[0.8888888888888888,\"#fdca26\"],[1.0,\"#f0f921\"]],\"sequentialminus\":[[0.0,\"#0d0887\"],[0.1111111111111111,\"#46039f\"],[0.2222222222222222,\"#7201a8\"],[0.3333333333333333,\"#9c179e\"],[0.4444444444444444,\"#bd3786\"],[0.5555555555555556,\"#d8576b\"],[0.6666666666666666,\"#ed7953\"],[0.7777777777777778,\"#fb9f3a\"],[0.8888888888888888,\"#fdca26\"],[1.0,\"#f0f921\"]]},\"colorway\":[\"#636efa\",\"#EF553B\",\"#00cc96\",\"#ab63fa\",\"#FFA15A\",\"#19d3f3\",\"#FF6692\",\"#B6E880\",\"#FF97FF\",\"#FECB52\"],\"font\":{\"color\":\"#2a3f5f\"},\"geo\":{\"bgcolor\":\"white\",\"lakecolor\":\"white\",\"landcolor\":\"#E5ECF6\",\"showlakes\":true,\"showland\":true,\"subunitcolor\":\"white\"},\"hoverlabel\":{\"align\":\"left\"},\"hovermode\":\"closest\",\"mapbox\":{\"style\":\"light\"},\"paper_bgcolor\":\"white\",\"plot_bgcolor\":\"#E5ECF6\",\"polar\":{\"angularaxis\":{\"gridcolor\":\"white\",\"linecolor\":\"white\",\"ticks\":\"\"},\"bgcolor\":\"#E5ECF6\",\"radialaxis\":{\"gridcolor\":\"white\",\"linecolor\":\"white\",\"ticks\":\"\"}},\"scene\":{\"xaxis\":{\"backgroundcolor\":\"#E5ECF6\",\"gridcolor\":\"white\",\"gridwidth\":2,\"linecolor\":\"white\",\"showbackground\":true,\"ticks\":\"\",\"zerolinecolor\":\"white\"},\"yaxis\":{\"backgroundcolor\":\"#E5ECF6\",\"gridcolor\":\"white\",\"gridwidth\":2,\"linecolor\":\"white\",\"showbackground\":true,\"ticks\":\"\",\"zerolinecolor\":\"white\"},\"zaxis\":{\"backgroundcolor\":\"#E5ECF6\",\"gridcolor\":\"white\",\"gridwidth\":2,\"linecolor\":\"white\",\"showbackground\":true,\"ticks\":\"\",\"zerolinecolor\":\"white\"}},\"shapedefaults\":{\"line\":{\"color\":\"#2a3f5f\"}},\"ternary\":{\"aaxis\":{\"gridcolor\":\"white\",\"linecolor\":\"white\",\"ticks\":\"\"},\"baxis\":{\"gridcolor\":\"white\",\"linecolor\":\"white\",\"ticks\":\"\"},\"bgcolor\":\"#E5ECF6\",\"caxis\":{\"gridcolor\":\"white\",\"linecolor\":\"white\",\"ticks\":\"\"}},\"title\":{\"x\":0.05},\"xaxis\":{\"automargin\":true,\"gridcolor\":\"white\",\"linecolor\":\"white\",\"ticks\":\"\",\"title\":{\"standoff\":15},\"zerolinecolor\":\"white\",\"zerolinewidth\":2},\"yaxis\":{\"automargin\":true,\"gridcolor\":\"white\",\"linecolor\":\"white\",\"ticks\":\"\",\"title\":{\"standoff\":15},\"zerolinecolor\":\"white\",\"zerolinewidth\":2}}},\"title\":{\"font\":{\"color\":\"#4D5663\"}},\"xaxis\":{\"gridcolor\":\"#E1E5ED\",\"showgrid\":true,\"tickfont\":{\"color\":\"#4D5663\"},\"title\":{\"font\":{\"color\":\"#4D5663\"},\"text\":\"\"},\"zerolinecolor\":\"#E1E5ED\"},\"yaxis\":{\"gridcolor\":\"#E1E5ED\",\"showgrid\":true,\"tickfont\":{\"color\":\"#4D5663\"},\"title\":{\"font\":{\"color\":\"#4D5663\"},\"text\":\"\"},\"zerolinecolor\":\"#E1E5ED\"}},                        {\"showLink\": true, \"linkText\": \"Export to plot.ly\", \"plotlyServerURL\": \"https://plot.ly\", \"responsive\": true}                    ).then(function(){\n",
       "                            \n",
       "var gd = document.getElementById('2be32da7-492c-429b-9316-4f961c7229c3');\n",
       "var x = new MutationObserver(function (mutations, observer) {{\n",
       "        var display = window.getComputedStyle(gd).display;\n",
       "        if (!display || display === 'none') {{\n",
       "            console.log([gd, 'removed!']);\n",
       "            Plotly.purge(gd);\n",
       "            observer.disconnect();\n",
       "        }}\n",
       "}});\n",
       "\n",
       "// Listen for the removal of the full notebook cells\n",
       "var notebookContainer = gd.closest('#notebook-container');\n",
       "if (notebookContainer) {{\n",
       "    x.observe(notebookContainer, {childList: true});\n",
       "}}\n",
       "\n",
       "// Listen for the clearing of the current output cell\n",
       "var outputEl = gd.closest('.output');\n",
       "if (outputEl) {{\n",
       "    x.observe(outputEl, {childList: true});\n",
       "}}\n",
       "\n",
       "                        })                };                });            </script>        </div>"
      ]
     },
     "metadata": {},
     "output_type": "display_data"
    }
   ],
   "source": [
    "df['A'].iplot(kind='hist',bins=50)"
   ]
  },
  {
   "cell_type": "code",
   "execution_count": 57,
   "metadata": {},
   "outputs": [
    {
     "data": {
      "application/vnd.plotly.v1+json": {
       "config": {
        "linkText": "Export to plot.ly",
        "plotlyServerURL": "https://plot.ly",
        "showLink": true
       },
       "data": [
        {
         "histfunc": "count",
         "histnorm": "",
         "marker": {
          "color": "rgba(255, 153, 51, 1.0)",
          "line": {
           "color": "#4D5663",
           "width": 1.3
          }
         },
         "name": "A",
         "opacity": 0.8,
         "orientation": "v",
         "type": "histogram",
         "x": [
          -0.5893247467893137,
          0.06357799381554469,
          0.3335160921609745,
          0.3243661733043439,
          0.6787084891857187,
          -0.8798125623521266,
          -0.061710317783818004,
          -0.6900260083396907,
          -1.0522257446491912,
          0.2590016072445179,
          1.122478052572237,
          -0.30449682024732316,
          2.267454273919806,
          1.123114298512772,
          -0.6257724174399768,
          1.701367743435107,
          -0.26754379725565747,
          0.3003012512826872,
          -0.3777573284785868,
          -0.49072235963782135,
          0.47438039624374584,
          -0.9607355212592849,
          -0.01448730604106568,
          0.7818381394772317,
          0.47532496228524435,
          -0.8274720991535782,
          -0.9284276067853057,
          -1.488251013296298,
          0.23396954153909585,
          1.869180554136494,
          -0.27883637077933304,
          -0.49624437594324633,
          0.879061425460165,
          0.019113394365269577,
          1.1757641619276693,
          0.5894504709946624,
          1.4571618706876532,
          0.2106774240345165,
          -1.2182225650030216,
          -0.26967153456414256,
          0.8386234979200884,
          -1.1357835340401106,
          0.8926944889147607,
          -0.30968190234772086,
          1.0517072919721753,
          -1.2292761269220487,
          0.1429175250658092,
          -0.20868482281688108,
          0.5809020967712989,
          -1.1356002159648928,
          0.5996902800483412,
          1.7939424342799457,
          0.5131548974217541,
          1.172634706569258,
          -0.5766421668040401,
          0.46792076906214874,
          0.9969095439213087,
          0.21079364926988753,
          -1.306177547922756,
          -0.9305224274786199,
          0.4682250885871653,
          0.9693097901681132,
          -2.422557021111485,
          0.7858934649760749,
          -0.42506148315700365,
          -1.1776687308011278,
          2.2897119366258867,
          -0.7217004741651094,
          -0.9737110269480089,
          0.4190362375628981,
          -0.7391331202884779,
          -0.5555335418005726,
          -0.6785442909794438,
          -0.5230462779813413,
          -0.19618762434273726,
          -1.020057265171055,
          1.381583295856783,
          -1.3195078598361525,
          0.11768444018206939,
          0.07088724711071444,
          -0.41152734532531077,
          -0.2144863229665085,
          0.3000765406875,
          0.6506309442988503,
          0.8406330967821201,
          0.6551793622147913,
          -1.0321856810764007,
          0.5340585373125538,
          -0.062237136294529594,
          0.2250207871795296,
          0.8894595124404172,
          1.3538895386143526,
          0.2817394146169772,
          1.2786671214167356,
          -0.33824826463402663,
          1.1999423130980735,
          0.04203995852535922,
          1.149306256216227,
          1.641525664697918,
          -0.6463223417336121
         ]
        },
        {
         "histfunc": "count",
         "histnorm": "",
         "marker": {
          "color": "rgba(55, 128, 191, 1.0)",
          "line": {
           "color": "#4D5663",
           "width": 1.3
          }
         },
         "name": "B",
         "opacity": 0.8,
         "orientation": "v",
         "type": "histogram",
         "x": [
          1.8124925870160997,
          1.086663682175712,
          -1.8953243258357049,
          -0.392843436166962,
          -0.1567169632575485,
          0.9645413080533394,
          0.17939239711442306,
          -0.5596859964104648,
          0.08895987969414001,
          1.2410834269061197,
          -0.16635960086585302,
          -0.2693807178383773,
          0.8616972888977513,
          -0.32162793172586895,
          -0.7263427607658054,
          0.19433049801394328,
          0.9230331246428911,
          1.6738866616294028,
          2.844028514290566,
          0.08124111784770374,
          1.559763934272282,
          -0.028424724115640336,
          -1.5978583981740588,
          1.3928576720947006,
          2.0229086490252826,
          -1.7694810175837032,
          0.048379614153000024,
          -1.079273422471972,
          1.2672551795759603,
          -0.1387742179814284,
          0.17791343334287685,
          -0.16720070633069986,
          -0.10054709814906158,
          -0.4045908852076268,
          0.12613317418414827,
          -0.5705034300132444,
          0.46209916749023333,
          0.4246966632128942,
          -0.8374278258285641,
          -0.9638366983275459,
          0.976890575946419,
          0.7835331653136482,
          2.033276023577144,
          1.1199398530052502,
          0.41138271732725634,
          1.0078069220383363,
          -1.17204783089823,
          -0.030259256831799808,
          -0.0725649072425263,
          -1.4986111479891409,
          0.6024912562451382,
          -0.34153690368730827,
          -1.015779510613287,
          0.6290209644622186,
          1.063457337554401,
          0.836723127079669,
          0.15820480216977437,
          -1.5203659349823258,
          -0.8072700824714942,
          0.4091445040915564,
          0.11572276858949519,
          -0.7164543939959533,
          -0.07286098502404578,
          0.38153643710956087,
          0.8543380617745421,
          -0.1165213944519551,
          0.6319713589030436,
          -1.724235407313587,
          0.386413105368971,
          -0.2386928216312317,
          0.732732670662475,
          -0.24461445087908382,
          -0.15065292063607347,
          1.5751534559338005,
          -1.5582891131847143,
          -0.18228298191894451,
          -0.41116032632912836,
          -0.17708445099528772,
          0.24337163271237103,
          1.192683688423048,
          0.9782283130777022,
          0.24352349186539524,
          -0.9532991377363603,
          -0.6462511604959087,
          0.7085017132965485,
          -2.1084373382894226,
          -0.5809716735247753,
          0.8850207737297211,
          0.246091165930676,
          -0.503503699045387,
          -2.0346014589949073,
          0.7399600548898199,
          0.867255339032245,
          2.6404520588474565,
          -0.4100752894175069,
          0.8762080237341998,
          0.07387253745176947,
          0.05732143006845413,
          0.4586850385176115,
          0.8508544486089744
         ]
        },
        {
         "histfunc": "count",
         "histnorm": "",
         "marker": {
          "color": "rgba(50, 171, 96, 1.0)",
          "line": {
           "color": "#4D5663",
           "width": 1.3
          }
         },
         "name": "C",
         "opacity": 0.8,
         "orientation": "v",
         "type": "histogram",
         "x": [
          -0.5887201252080634,
          0.7019925031583143,
          -0.12152814849423052,
          -1.2708438572364291,
          1.005385839304346,
          -0.9984428692265944,
          1.4321629049952669,
          -1.0560767907795185,
          -0.6562327117597355,
          -0.3950371209300445,
          -0.6369083886879076,
          0.16740259901346027,
          -1.197787967906911,
          -0.5757438379751361,
          -0.9660314149290065,
          -1.280312500419322,
          0.44919005132260154,
          0.9912354246161327,
          -0.22665091004576998,
          2.00195641786289,
          0.6521292871423648,
          -0.5858611758478834,
          -0.2026706703994717,
          -1.1400881200028743,
          -1.6598845111368843,
          -0.3821632649493528,
          0.40015268984340935,
          -0.24779955580087326,
          -0.22014964502210926,
          1.9826019378014421,
          -2.078964493043121,
          0.8232357228810001,
          -0.3410786708737788,
          0.2326250073562358,
          0.017721847740962565,
          0.06476185482905336,
          1.0856823558781863,
          -1.1863410497481561,
          -0.47395933534119455,
          0.42867872806233165,
          -0.9792302166465338,
          -0.3188004167296261,
          -1.6634411913351508,
          -0.1536391932935441,
          0.37680087031661724,
          -0.1622649507322113,
          -1.0233161895393332,
          -0.6374744254895608,
          -0.38932829571389926,
          0.28352499938728154,
          -0.17052285870812525,
          0.4544231814922744,
          0.6279385675513667,
          -0.29750956972512393,
          -0.9990886330259056,
          -1.432305886084423,
          1.7747315663056045,
          -0.6129901984631514,
          -1.5192985319482608,
          -1.02953724278035,
          0.2749969544641621,
          0.6089404947881051,
          -0.5657258936149782,
          0.1609301397325709,
          -1.1185766191933202,
          0.030218582595458777,
          0.22818071274274482,
          -0.20154169940218186,
          -0.9382400070283291,
          -0.5407653160901239,
          0.03399791994361127,
          -0.1263932664606678,
          -1.9991012100750234,
          -1.3281070200509209,
          -1.266527572614642,
          -0.6590304660948538,
          -0.6038314944169267,
          -0.5209931216875565,
          -1.0875536589229868,
          0.2676600363445982,
          0.28953881801923137,
          -1.0598877555791468,
          0.3971970716706394,
          -0.5126785695240577,
          -0.9797066698706884,
          -1.3088625219990708,
          -1.421869401564566,
          0.48265096872024776,
          0.7482127746603067,
          -2.133104588348111,
          -1.8710169084754382,
          0.11792796320970941,
          -0.6321380743549365,
          0.5961568308307523,
          1.11352599149512,
          -1.3852210078477463,
          -0.23836650898361234,
          0.35990007706698574,
          -2.4756749550769053,
          0.1865725722569815
         ]
        },
        {
         "histfunc": "count",
         "histnorm": "",
         "marker": {
          "color": "rgba(128, 0, 128, 1.0)",
          "line": {
           "color": "#4D5663",
           "width": 1.3
          }
         },
         "name": "D",
         "opacity": 0.8,
         "orientation": "v",
         "type": "histogram",
         "x": [
          0.3132413364996825,
          0.5164174556087842,
          -1.7447372673773398,
          -0.528880172889918,
          1.033665036725101,
          0.873311394994029,
          0.8249908464050247,
          0.9273397491692893,
          -0.8215058131985827,
          -0.8338394535403043,
          0.6593856425722231,
          0.606812543064322,
          1.0366572251911874,
          -0.1838123154502142,
          -0.20255865641686507,
          -0.21478677434427987,
          0.42683648089814025,
          0.8075809913991108,
          3.588713411113252,
          -0.23269749284998376,
          1.1458371773320664,
          0.15350908534039004,
          -0.09355790030975901,
          -2.1551973689769155,
          0.6341354055616454,
          -1.3269834908993567,
          1.357070496588174,
          -0.863944691468353,
          -0.32596706926126623,
          -1.0305917008899146,
          -1.924646040143175,
          1.2923917923983734,
          1.9237844815778715,
          -0.48887692696949653,
          -0.5799400968574776,
          -1.8084695250653529,
          0.34915227891884415,
          0.021587918287322816,
          1.8738783065307074,
          -2.0586680039229046,
          -0.2924245775655203,
          -0.8470645847823713,
          0.45056001836452403,
          0.6348733493561158,
          -0.05420891092805153,
          1.4918185827662416,
          -1.124726844622321,
          -1.160276889128454,
          -1.815885096838446,
          0.15342969039819218,
          1.550598326829556,
          0.2197474501683362,
          -0.8128773277477808,
          0.6372434340238345,
          0.5706402164732105,
          -0.7959502516548398,
          0.7114564128194969,
          -0.381733380041855,
          -0.8762451254574802,
          0.39495110511007064,
          0.0009804939368298273,
          1.0761618317249724,
          0.18466593097894565,
          -1.3431239241579576,
          0.6410572260021555,
          -1.776934017171851,
          -1.8652013021519074,
          -0.11037286401511258,
          0.49461982191473397,
          0.2159836931037541,
          -0.9894954037552692,
          1.0296888720181843,
          0.004919324642563422,
          1.573193852011606,
          -0.014839678786844444,
          -0.950094388676654,
          0.8885889188498369,
          0.2486231614394077,
          2.265740662571898,
          -1.6061175371701175,
          -0.8861363719746421,
          0.053462340071665095,
          0.0556482498375347,
          0.5318168459142504,
          -0.8798981290139644,
          0.5742427858202375,
          -1.3527934392569503,
          1.4531258907979674,
          -0.5192312520648216,
          0.03303622891287528,
          0.757101307601849,
          -0.607351686021069,
          -1.4141927512221015,
          -0.6679557973217564,
          2.6669129852176447,
          -0.29655987552981844,
          -0.6393450954746018,
          -0.3442074457638253,
          -2.5294642240008076,
          1.6447753012195332
         ]
        }
       ],
       "layout": {
        "barmode": "overlay",
        "legend": {
         "bgcolor": "#F5F6F9",
         "font": {
          "color": "#4D5663"
         }
        },
        "paper_bgcolor": "#F5F6F9",
        "plot_bgcolor": "#F5F6F9",
        "template": {
         "data": {
          "bar": [
           {
            "error_x": {
             "color": "#2a3f5f"
            },
            "error_y": {
             "color": "#2a3f5f"
            },
            "marker": {
             "line": {
              "color": "#E5ECF6",
              "width": 0.5
             },
             "pattern": {
              "fillmode": "overlay",
              "size": 10,
              "solidity": 0.2
             }
            },
            "type": "bar"
           }
          ],
          "barpolar": [
           {
            "marker": {
             "line": {
              "color": "#E5ECF6",
              "width": 0.5
             },
             "pattern": {
              "fillmode": "overlay",
              "size": 10,
              "solidity": 0.2
             }
            },
            "type": "barpolar"
           }
          ],
          "carpet": [
           {
            "aaxis": {
             "endlinecolor": "#2a3f5f",
             "gridcolor": "white",
             "linecolor": "white",
             "minorgridcolor": "white",
             "startlinecolor": "#2a3f5f"
            },
            "baxis": {
             "endlinecolor": "#2a3f5f",
             "gridcolor": "white",
             "linecolor": "white",
             "minorgridcolor": "white",
             "startlinecolor": "#2a3f5f"
            },
            "type": "carpet"
           }
          ],
          "choropleth": [
           {
            "colorbar": {
             "outlinewidth": 0,
             "ticks": ""
            },
            "type": "choropleth"
           }
          ],
          "contour": [
           {
            "colorbar": {
             "outlinewidth": 0,
             "ticks": ""
            },
            "colorscale": [
             [
              0,
              "#0d0887"
             ],
             [
              0.1111111111111111,
              "#46039f"
             ],
             [
              0.2222222222222222,
              "#7201a8"
             ],
             [
              0.3333333333333333,
              "#9c179e"
             ],
             [
              0.4444444444444444,
              "#bd3786"
             ],
             [
              0.5555555555555556,
              "#d8576b"
             ],
             [
              0.6666666666666666,
              "#ed7953"
             ],
             [
              0.7777777777777778,
              "#fb9f3a"
             ],
             [
              0.8888888888888888,
              "#fdca26"
             ],
             [
              1,
              "#f0f921"
             ]
            ],
            "type": "contour"
           }
          ],
          "contourcarpet": [
           {
            "colorbar": {
             "outlinewidth": 0,
             "ticks": ""
            },
            "type": "contourcarpet"
           }
          ],
          "heatmap": [
           {
            "colorbar": {
             "outlinewidth": 0,
             "ticks": ""
            },
            "colorscale": [
             [
              0,
              "#0d0887"
             ],
             [
              0.1111111111111111,
              "#46039f"
             ],
             [
              0.2222222222222222,
              "#7201a8"
             ],
             [
              0.3333333333333333,
              "#9c179e"
             ],
             [
              0.4444444444444444,
              "#bd3786"
             ],
             [
              0.5555555555555556,
              "#d8576b"
             ],
             [
              0.6666666666666666,
              "#ed7953"
             ],
             [
              0.7777777777777778,
              "#fb9f3a"
             ],
             [
              0.8888888888888888,
              "#fdca26"
             ],
             [
              1,
              "#f0f921"
             ]
            ],
            "type": "heatmap"
           }
          ],
          "heatmapgl": [
           {
            "colorbar": {
             "outlinewidth": 0,
             "ticks": ""
            },
            "colorscale": [
             [
              0,
              "#0d0887"
             ],
             [
              0.1111111111111111,
              "#46039f"
             ],
             [
              0.2222222222222222,
              "#7201a8"
             ],
             [
              0.3333333333333333,
              "#9c179e"
             ],
             [
              0.4444444444444444,
              "#bd3786"
             ],
             [
              0.5555555555555556,
              "#d8576b"
             ],
             [
              0.6666666666666666,
              "#ed7953"
             ],
             [
              0.7777777777777778,
              "#fb9f3a"
             ],
             [
              0.8888888888888888,
              "#fdca26"
             ],
             [
              1,
              "#f0f921"
             ]
            ],
            "type": "heatmapgl"
           }
          ],
          "histogram": [
           {
            "marker": {
             "pattern": {
              "fillmode": "overlay",
              "size": 10,
              "solidity": 0.2
             }
            },
            "type": "histogram"
           }
          ],
          "histogram2d": [
           {
            "colorbar": {
             "outlinewidth": 0,
             "ticks": ""
            },
            "colorscale": [
             [
              0,
              "#0d0887"
             ],
             [
              0.1111111111111111,
              "#46039f"
             ],
             [
              0.2222222222222222,
              "#7201a8"
             ],
             [
              0.3333333333333333,
              "#9c179e"
             ],
             [
              0.4444444444444444,
              "#bd3786"
             ],
             [
              0.5555555555555556,
              "#d8576b"
             ],
             [
              0.6666666666666666,
              "#ed7953"
             ],
             [
              0.7777777777777778,
              "#fb9f3a"
             ],
             [
              0.8888888888888888,
              "#fdca26"
             ],
             [
              1,
              "#f0f921"
             ]
            ],
            "type": "histogram2d"
           }
          ],
          "histogram2dcontour": [
           {
            "colorbar": {
             "outlinewidth": 0,
             "ticks": ""
            },
            "colorscale": [
             [
              0,
              "#0d0887"
             ],
             [
              0.1111111111111111,
              "#46039f"
             ],
             [
              0.2222222222222222,
              "#7201a8"
             ],
             [
              0.3333333333333333,
              "#9c179e"
             ],
             [
              0.4444444444444444,
              "#bd3786"
             ],
             [
              0.5555555555555556,
              "#d8576b"
             ],
             [
              0.6666666666666666,
              "#ed7953"
             ],
             [
              0.7777777777777778,
              "#fb9f3a"
             ],
             [
              0.8888888888888888,
              "#fdca26"
             ],
             [
              1,
              "#f0f921"
             ]
            ],
            "type": "histogram2dcontour"
           }
          ],
          "mesh3d": [
           {
            "colorbar": {
             "outlinewidth": 0,
             "ticks": ""
            },
            "type": "mesh3d"
           }
          ],
          "parcoords": [
           {
            "line": {
             "colorbar": {
              "outlinewidth": 0,
              "ticks": ""
             }
            },
            "type": "parcoords"
           }
          ],
          "pie": [
           {
            "automargin": true,
            "type": "pie"
           }
          ],
          "scatter": [
           {
            "fillpattern": {
             "fillmode": "overlay",
             "size": 10,
             "solidity": 0.2
            },
            "type": "scatter"
           }
          ],
          "scatter3d": [
           {
            "line": {
             "colorbar": {
              "outlinewidth": 0,
              "ticks": ""
             }
            },
            "marker": {
             "colorbar": {
              "outlinewidth": 0,
              "ticks": ""
             }
            },
            "type": "scatter3d"
           }
          ],
          "scattercarpet": [
           {
            "marker": {
             "colorbar": {
              "outlinewidth": 0,
              "ticks": ""
             }
            },
            "type": "scattercarpet"
           }
          ],
          "scattergeo": [
           {
            "marker": {
             "colorbar": {
              "outlinewidth": 0,
              "ticks": ""
             }
            },
            "type": "scattergeo"
           }
          ],
          "scattergl": [
           {
            "marker": {
             "colorbar": {
              "outlinewidth": 0,
              "ticks": ""
             }
            },
            "type": "scattergl"
           }
          ],
          "scattermapbox": [
           {
            "marker": {
             "colorbar": {
              "outlinewidth": 0,
              "ticks": ""
             }
            },
            "type": "scattermapbox"
           }
          ],
          "scatterpolar": [
           {
            "marker": {
             "colorbar": {
              "outlinewidth": 0,
              "ticks": ""
             }
            },
            "type": "scatterpolar"
           }
          ],
          "scatterpolargl": [
           {
            "marker": {
             "colorbar": {
              "outlinewidth": 0,
              "ticks": ""
             }
            },
            "type": "scatterpolargl"
           }
          ],
          "scatterternary": [
           {
            "marker": {
             "colorbar": {
              "outlinewidth": 0,
              "ticks": ""
             }
            },
            "type": "scatterternary"
           }
          ],
          "surface": [
           {
            "colorbar": {
             "outlinewidth": 0,
             "ticks": ""
            },
            "colorscale": [
             [
              0,
              "#0d0887"
             ],
             [
              0.1111111111111111,
              "#46039f"
             ],
             [
              0.2222222222222222,
              "#7201a8"
             ],
             [
              0.3333333333333333,
              "#9c179e"
             ],
             [
              0.4444444444444444,
              "#bd3786"
             ],
             [
              0.5555555555555556,
              "#d8576b"
             ],
             [
              0.6666666666666666,
              "#ed7953"
             ],
             [
              0.7777777777777778,
              "#fb9f3a"
             ],
             [
              0.8888888888888888,
              "#fdca26"
             ],
             [
              1,
              "#f0f921"
             ]
            ],
            "type": "surface"
           }
          ],
          "table": [
           {
            "cells": {
             "fill": {
              "color": "#EBF0F8"
             },
             "line": {
              "color": "white"
             }
            },
            "header": {
             "fill": {
              "color": "#C8D4E3"
             },
             "line": {
              "color": "white"
             }
            },
            "type": "table"
           }
          ]
         },
         "layout": {
          "annotationdefaults": {
           "arrowcolor": "#2a3f5f",
           "arrowhead": 0,
           "arrowwidth": 1
          },
          "autotypenumbers": "strict",
          "coloraxis": {
           "colorbar": {
            "outlinewidth": 0,
            "ticks": ""
           }
          },
          "colorscale": {
           "diverging": [
            [
             0,
             "#8e0152"
            ],
            [
             0.1,
             "#c51b7d"
            ],
            [
             0.2,
             "#de77ae"
            ],
            [
             0.3,
             "#f1b6da"
            ],
            [
             0.4,
             "#fde0ef"
            ],
            [
             0.5,
             "#f7f7f7"
            ],
            [
             0.6,
             "#e6f5d0"
            ],
            [
             0.7,
             "#b8e186"
            ],
            [
             0.8,
             "#7fbc41"
            ],
            [
             0.9,
             "#4d9221"
            ],
            [
             1,
             "#276419"
            ]
           ],
           "sequential": [
            [
             0,
             "#0d0887"
            ],
            [
             0.1111111111111111,
             "#46039f"
            ],
            [
             0.2222222222222222,
             "#7201a8"
            ],
            [
             0.3333333333333333,
             "#9c179e"
            ],
            [
             0.4444444444444444,
             "#bd3786"
            ],
            [
             0.5555555555555556,
             "#d8576b"
            ],
            [
             0.6666666666666666,
             "#ed7953"
            ],
            [
             0.7777777777777778,
             "#fb9f3a"
            ],
            [
             0.8888888888888888,
             "#fdca26"
            ],
            [
             1,
             "#f0f921"
            ]
           ],
           "sequentialminus": [
            [
             0,
             "#0d0887"
            ],
            [
             0.1111111111111111,
             "#46039f"
            ],
            [
             0.2222222222222222,
             "#7201a8"
            ],
            [
             0.3333333333333333,
             "#9c179e"
            ],
            [
             0.4444444444444444,
             "#bd3786"
            ],
            [
             0.5555555555555556,
             "#d8576b"
            ],
            [
             0.6666666666666666,
             "#ed7953"
            ],
            [
             0.7777777777777778,
             "#fb9f3a"
            ],
            [
             0.8888888888888888,
             "#fdca26"
            ],
            [
             1,
             "#f0f921"
            ]
           ]
          },
          "colorway": [
           "#636efa",
           "#EF553B",
           "#00cc96",
           "#ab63fa",
           "#FFA15A",
           "#19d3f3",
           "#FF6692",
           "#B6E880",
           "#FF97FF",
           "#FECB52"
          ],
          "font": {
           "color": "#2a3f5f"
          },
          "geo": {
           "bgcolor": "white",
           "lakecolor": "white",
           "landcolor": "#E5ECF6",
           "showlakes": true,
           "showland": true,
           "subunitcolor": "white"
          },
          "hoverlabel": {
           "align": "left"
          },
          "hovermode": "closest",
          "mapbox": {
           "style": "light"
          },
          "paper_bgcolor": "white",
          "plot_bgcolor": "#E5ECF6",
          "polar": {
           "angularaxis": {
            "gridcolor": "white",
            "linecolor": "white",
            "ticks": ""
           },
           "bgcolor": "#E5ECF6",
           "radialaxis": {
            "gridcolor": "white",
            "linecolor": "white",
            "ticks": ""
           }
          },
          "scene": {
           "xaxis": {
            "backgroundcolor": "#E5ECF6",
            "gridcolor": "white",
            "gridwidth": 2,
            "linecolor": "white",
            "showbackground": true,
            "ticks": "",
            "zerolinecolor": "white"
           },
           "yaxis": {
            "backgroundcolor": "#E5ECF6",
            "gridcolor": "white",
            "gridwidth": 2,
            "linecolor": "white",
            "showbackground": true,
            "ticks": "",
            "zerolinecolor": "white"
           },
           "zaxis": {
            "backgroundcolor": "#E5ECF6",
            "gridcolor": "white",
            "gridwidth": 2,
            "linecolor": "white",
            "showbackground": true,
            "ticks": "",
            "zerolinecolor": "white"
           }
          },
          "shapedefaults": {
           "line": {
            "color": "#2a3f5f"
           }
          },
          "ternary": {
           "aaxis": {
            "gridcolor": "white",
            "linecolor": "white",
            "ticks": ""
           },
           "baxis": {
            "gridcolor": "white",
            "linecolor": "white",
            "ticks": ""
           },
           "bgcolor": "#E5ECF6",
           "caxis": {
            "gridcolor": "white",
            "linecolor": "white",
            "ticks": ""
           }
          },
          "title": {
           "x": 0.05
          },
          "xaxis": {
           "automargin": true,
           "gridcolor": "white",
           "linecolor": "white",
           "ticks": "",
           "title": {
            "standoff": 15
           },
           "zerolinecolor": "white",
           "zerolinewidth": 2
          },
          "yaxis": {
           "automargin": true,
           "gridcolor": "white",
           "linecolor": "white",
           "ticks": "",
           "title": {
            "standoff": 15
           },
           "zerolinecolor": "white",
           "zerolinewidth": 2
          }
         }
        },
        "title": {
         "font": {
          "color": "#4D5663"
         }
        },
        "xaxis": {
         "gridcolor": "#E1E5ED",
         "showgrid": true,
         "tickfont": {
          "color": "#4D5663"
         },
         "title": {
          "font": {
           "color": "#4D5663"
          },
          "text": ""
         },
         "zerolinecolor": "#E1E5ED"
        },
        "yaxis": {
         "gridcolor": "#E1E5ED",
         "showgrid": true,
         "tickfont": {
          "color": "#4D5663"
         },
         "title": {
          "font": {
           "color": "#4D5663"
          },
          "text": ""
         },
         "zerolinecolor": "#E1E5ED"
        }
       }
      },
      "text/html": [
       "<div>                            <div id=\"98757263-0d4f-4ee9-ad91-0c913701bed1\" class=\"plotly-graph-div\" style=\"height:525px; width:100%;\"></div>            <script type=\"text/javascript\">                require([\"plotly\"], function(Plotly) {                    window.PLOTLYENV=window.PLOTLYENV || {};\n",
       "                    window.PLOTLYENV.BASE_URL='https://plot.ly';                                    if (document.getElementById(\"98757263-0d4f-4ee9-ad91-0c913701bed1\")) {                    Plotly.newPlot(                        \"98757263-0d4f-4ee9-ad91-0c913701bed1\",                        [{\"histfunc\":\"count\",\"histnorm\":\"\",\"marker\":{\"color\":\"rgba(255, 153, 51, 1.0)\",\"line\":{\"color\":\"#4D5663\",\"width\":1.3}},\"name\":\"A\",\"opacity\":0.8,\"orientation\":\"v\",\"x\":[-0.5893247467893137,0.06357799381554469,0.3335160921609745,0.3243661733043439,0.6787084891857187,-0.8798125623521266,-0.061710317783818004,-0.6900260083396907,-1.0522257446491912,0.2590016072445179,1.122478052572237,-0.30449682024732316,2.267454273919806,1.123114298512772,-0.6257724174399768,1.701367743435107,-0.26754379725565747,0.3003012512826872,-0.3777573284785868,-0.49072235963782135,0.47438039624374584,-0.9607355212592849,-0.01448730604106568,0.7818381394772317,0.47532496228524435,-0.8274720991535782,-0.9284276067853057,-1.488251013296298,0.23396954153909585,1.869180554136494,-0.27883637077933304,-0.49624437594324633,0.879061425460165,0.019113394365269577,1.1757641619276693,0.5894504709946624,1.4571618706876532,0.2106774240345165,-1.2182225650030216,-0.26967153456414256,0.8386234979200884,-1.1357835340401106,0.8926944889147607,-0.30968190234772086,1.0517072919721753,-1.2292761269220487,0.1429175250658092,-0.20868482281688108,0.5809020967712989,-1.1356002159648928,0.5996902800483412,1.7939424342799457,0.5131548974217541,1.172634706569258,-0.5766421668040401,0.46792076906214874,0.9969095439213087,0.21079364926988753,-1.306177547922756,-0.9305224274786199,0.4682250885871653,0.9693097901681132,-2.422557021111485,0.7858934649760749,-0.42506148315700365,-1.1776687308011278,2.2897119366258867,-0.7217004741651094,-0.9737110269480089,0.4190362375628981,-0.7391331202884779,-0.5555335418005726,-0.6785442909794438,-0.5230462779813413,-0.19618762434273726,-1.020057265171055,1.381583295856783,-1.3195078598361525,0.11768444018206939,0.07088724711071444,-0.41152734532531077,-0.2144863229665085,0.3000765406875,0.6506309442988503,0.8406330967821201,0.6551793622147913,-1.0321856810764007,0.5340585373125538,-0.062237136294529594,0.2250207871795296,0.8894595124404172,1.3538895386143526,0.2817394146169772,1.2786671214167356,-0.33824826463402663,1.1999423130980735,0.04203995852535922,1.149306256216227,1.641525664697918,-0.6463223417336121],\"type\":\"histogram\"},{\"histfunc\":\"count\",\"histnorm\":\"\",\"marker\":{\"color\":\"rgba(55, 128, 191, 1.0)\",\"line\":{\"color\":\"#4D5663\",\"width\":1.3}},\"name\":\"B\",\"opacity\":0.8,\"orientation\":\"v\",\"x\":[1.8124925870160997,1.086663682175712,-1.8953243258357049,-0.392843436166962,-0.1567169632575485,0.9645413080533394,0.17939239711442306,-0.5596859964104648,0.08895987969414001,1.2410834269061197,-0.16635960086585302,-0.2693807178383773,0.8616972888977513,-0.32162793172586895,-0.7263427607658054,0.19433049801394328,0.9230331246428911,1.6738866616294028,2.844028514290566,0.08124111784770374,1.559763934272282,-0.028424724115640336,-1.5978583981740588,1.3928576720947006,2.0229086490252826,-1.7694810175837032,0.048379614153000024,-1.079273422471972,1.2672551795759603,-0.1387742179814284,0.17791343334287685,-0.16720070633069986,-0.10054709814906158,-0.4045908852076268,0.12613317418414827,-0.5705034300132444,0.46209916749023333,0.4246966632128942,-0.8374278258285641,-0.9638366983275459,0.976890575946419,0.7835331653136482,2.033276023577144,1.1199398530052502,0.41138271732725634,1.0078069220383363,-1.17204783089823,-0.030259256831799808,-0.0725649072425263,-1.4986111479891409,0.6024912562451382,-0.34153690368730827,-1.015779510613287,0.6290209644622186,1.063457337554401,0.836723127079669,0.15820480216977437,-1.5203659349823258,-0.8072700824714942,0.4091445040915564,0.11572276858949519,-0.7164543939959533,-0.07286098502404578,0.38153643710956087,0.8543380617745421,-0.1165213944519551,0.6319713589030436,-1.724235407313587,0.386413105368971,-0.2386928216312317,0.732732670662475,-0.24461445087908382,-0.15065292063607347,1.5751534559338005,-1.5582891131847143,-0.18228298191894451,-0.41116032632912836,-0.17708445099528772,0.24337163271237103,1.192683688423048,0.9782283130777022,0.24352349186539524,-0.9532991377363603,-0.6462511604959087,0.7085017132965485,-2.1084373382894226,-0.5809716735247753,0.8850207737297211,0.246091165930676,-0.503503699045387,-2.0346014589949073,0.7399600548898199,0.867255339032245,2.6404520588474565,-0.4100752894175069,0.8762080237341998,0.07387253745176947,0.05732143006845413,0.4586850385176115,0.8508544486089744],\"type\":\"histogram\"},{\"histfunc\":\"count\",\"histnorm\":\"\",\"marker\":{\"color\":\"rgba(50, 171, 96, 1.0)\",\"line\":{\"color\":\"#4D5663\",\"width\":1.3}},\"name\":\"C\",\"opacity\":0.8,\"orientation\":\"v\",\"x\":[-0.5887201252080634,0.7019925031583143,-0.12152814849423052,-1.2708438572364291,1.005385839304346,-0.9984428692265944,1.4321629049952669,-1.0560767907795185,-0.6562327117597355,-0.3950371209300445,-0.6369083886879076,0.16740259901346027,-1.197787967906911,-0.5757438379751361,-0.9660314149290065,-1.280312500419322,0.44919005132260154,0.9912354246161327,-0.22665091004576998,2.00195641786289,0.6521292871423648,-0.5858611758478834,-0.2026706703994717,-1.1400881200028743,-1.6598845111368843,-0.3821632649493528,0.40015268984340935,-0.24779955580087326,-0.22014964502210926,1.9826019378014421,-2.078964493043121,0.8232357228810001,-0.3410786708737788,0.2326250073562358,0.017721847740962565,0.06476185482905336,1.0856823558781863,-1.1863410497481561,-0.47395933534119455,0.42867872806233165,-0.9792302166465338,-0.3188004167296261,-1.6634411913351508,-0.1536391932935441,0.37680087031661724,-0.1622649507322113,-1.0233161895393332,-0.6374744254895608,-0.38932829571389926,0.28352499938728154,-0.17052285870812525,0.4544231814922744,0.6279385675513667,-0.29750956972512393,-0.9990886330259056,-1.432305886084423,1.7747315663056045,-0.6129901984631514,-1.5192985319482608,-1.02953724278035,0.2749969544641621,0.6089404947881051,-0.5657258936149782,0.1609301397325709,-1.1185766191933202,0.030218582595458777,0.22818071274274482,-0.20154169940218186,-0.9382400070283291,-0.5407653160901239,0.03399791994361127,-0.1263932664606678,-1.9991012100750234,-1.3281070200509209,-1.266527572614642,-0.6590304660948538,-0.6038314944169267,-0.5209931216875565,-1.0875536589229868,0.2676600363445982,0.28953881801923137,-1.0598877555791468,0.3971970716706394,-0.5126785695240577,-0.9797066698706884,-1.3088625219990708,-1.421869401564566,0.48265096872024776,0.7482127746603067,-2.133104588348111,-1.8710169084754382,0.11792796320970941,-0.6321380743549365,0.5961568308307523,1.11352599149512,-1.3852210078477463,-0.23836650898361234,0.35990007706698574,-2.4756749550769053,0.1865725722569815],\"type\":\"histogram\"},{\"histfunc\":\"count\",\"histnorm\":\"\",\"marker\":{\"color\":\"rgba(128, 0, 128, 1.0)\",\"line\":{\"color\":\"#4D5663\",\"width\":1.3}},\"name\":\"D\",\"opacity\":0.8,\"orientation\":\"v\",\"x\":[0.3132413364996825,0.5164174556087842,-1.7447372673773398,-0.528880172889918,1.033665036725101,0.873311394994029,0.8249908464050247,0.9273397491692893,-0.8215058131985827,-0.8338394535403043,0.6593856425722231,0.606812543064322,1.0366572251911874,-0.1838123154502142,-0.20255865641686507,-0.21478677434427987,0.42683648089814025,0.8075809913991108,3.588713411113252,-0.23269749284998376,1.1458371773320664,0.15350908534039004,-0.09355790030975901,-2.1551973689769155,0.6341354055616454,-1.3269834908993567,1.357070496588174,-0.863944691468353,-0.32596706926126623,-1.0305917008899146,-1.924646040143175,1.2923917923983734,1.9237844815778715,-0.48887692696949653,-0.5799400968574776,-1.8084695250653529,0.34915227891884415,0.021587918287322816,1.8738783065307074,-2.0586680039229046,-0.2924245775655203,-0.8470645847823713,0.45056001836452403,0.6348733493561158,-0.05420891092805153,1.4918185827662416,-1.124726844622321,-1.160276889128454,-1.815885096838446,0.15342969039819218,1.550598326829556,0.2197474501683362,-0.8128773277477808,0.6372434340238345,0.5706402164732105,-0.7959502516548398,0.7114564128194969,-0.381733380041855,-0.8762451254574802,0.39495110511007064,0.0009804939368298273,1.0761618317249724,0.18466593097894565,-1.3431239241579576,0.6410572260021555,-1.776934017171851,-1.8652013021519074,-0.11037286401511258,0.49461982191473397,0.2159836931037541,-0.9894954037552692,1.0296888720181843,0.004919324642563422,1.573193852011606,-0.014839678786844444,-0.950094388676654,0.8885889188498369,0.2486231614394077,2.265740662571898,-1.6061175371701175,-0.8861363719746421,0.053462340071665095,0.0556482498375347,0.5318168459142504,-0.8798981290139644,0.5742427858202375,-1.3527934392569503,1.4531258907979674,-0.5192312520648216,0.03303622891287528,0.757101307601849,-0.607351686021069,-1.4141927512221015,-0.6679557973217564,2.6669129852176447,-0.29655987552981844,-0.6393450954746018,-0.3442074457638253,-2.5294642240008076,1.6447753012195332],\"type\":\"histogram\"}],                        {\"barmode\":\"overlay\",\"legend\":{\"bgcolor\":\"#F5F6F9\",\"font\":{\"color\":\"#4D5663\"}},\"paper_bgcolor\":\"#F5F6F9\",\"plot_bgcolor\":\"#F5F6F9\",\"template\":{\"data\":{\"barpolar\":[{\"marker\":{\"line\":{\"color\":\"#E5ECF6\",\"width\":0.5},\"pattern\":{\"fillmode\":\"overlay\",\"size\":10,\"solidity\":0.2}},\"type\":\"barpolar\"}],\"bar\":[{\"error_x\":{\"color\":\"#2a3f5f\"},\"error_y\":{\"color\":\"#2a3f5f\"},\"marker\":{\"line\":{\"color\":\"#E5ECF6\",\"width\":0.5},\"pattern\":{\"fillmode\":\"overlay\",\"size\":10,\"solidity\":0.2}},\"type\":\"bar\"}],\"carpet\":[{\"aaxis\":{\"endlinecolor\":\"#2a3f5f\",\"gridcolor\":\"white\",\"linecolor\":\"white\",\"minorgridcolor\":\"white\",\"startlinecolor\":\"#2a3f5f\"},\"baxis\":{\"endlinecolor\":\"#2a3f5f\",\"gridcolor\":\"white\",\"linecolor\":\"white\",\"minorgridcolor\":\"white\",\"startlinecolor\":\"#2a3f5f\"},\"type\":\"carpet\"}],\"choropleth\":[{\"colorbar\":{\"outlinewidth\":0,\"ticks\":\"\"},\"type\":\"choropleth\"}],\"contourcarpet\":[{\"colorbar\":{\"outlinewidth\":0,\"ticks\":\"\"},\"type\":\"contourcarpet\"}],\"contour\":[{\"colorbar\":{\"outlinewidth\":0,\"ticks\":\"\"},\"colorscale\":[[0.0,\"#0d0887\"],[0.1111111111111111,\"#46039f\"],[0.2222222222222222,\"#7201a8\"],[0.3333333333333333,\"#9c179e\"],[0.4444444444444444,\"#bd3786\"],[0.5555555555555556,\"#d8576b\"],[0.6666666666666666,\"#ed7953\"],[0.7777777777777778,\"#fb9f3a\"],[0.8888888888888888,\"#fdca26\"],[1.0,\"#f0f921\"]],\"type\":\"contour\"}],\"heatmapgl\":[{\"colorbar\":{\"outlinewidth\":0,\"ticks\":\"\"},\"colorscale\":[[0.0,\"#0d0887\"],[0.1111111111111111,\"#46039f\"],[0.2222222222222222,\"#7201a8\"],[0.3333333333333333,\"#9c179e\"],[0.4444444444444444,\"#bd3786\"],[0.5555555555555556,\"#d8576b\"],[0.6666666666666666,\"#ed7953\"],[0.7777777777777778,\"#fb9f3a\"],[0.8888888888888888,\"#fdca26\"],[1.0,\"#f0f921\"]],\"type\":\"heatmapgl\"}],\"heatmap\":[{\"colorbar\":{\"outlinewidth\":0,\"ticks\":\"\"},\"colorscale\":[[0.0,\"#0d0887\"],[0.1111111111111111,\"#46039f\"],[0.2222222222222222,\"#7201a8\"],[0.3333333333333333,\"#9c179e\"],[0.4444444444444444,\"#bd3786\"],[0.5555555555555556,\"#d8576b\"],[0.6666666666666666,\"#ed7953\"],[0.7777777777777778,\"#fb9f3a\"],[0.8888888888888888,\"#fdca26\"],[1.0,\"#f0f921\"]],\"type\":\"heatmap\"}],\"histogram2dcontour\":[{\"colorbar\":{\"outlinewidth\":0,\"ticks\":\"\"},\"colorscale\":[[0.0,\"#0d0887\"],[0.1111111111111111,\"#46039f\"],[0.2222222222222222,\"#7201a8\"],[0.3333333333333333,\"#9c179e\"],[0.4444444444444444,\"#bd3786\"],[0.5555555555555556,\"#d8576b\"],[0.6666666666666666,\"#ed7953\"],[0.7777777777777778,\"#fb9f3a\"],[0.8888888888888888,\"#fdca26\"],[1.0,\"#f0f921\"]],\"type\":\"histogram2dcontour\"}],\"histogram2d\":[{\"colorbar\":{\"outlinewidth\":0,\"ticks\":\"\"},\"colorscale\":[[0.0,\"#0d0887\"],[0.1111111111111111,\"#46039f\"],[0.2222222222222222,\"#7201a8\"],[0.3333333333333333,\"#9c179e\"],[0.4444444444444444,\"#bd3786\"],[0.5555555555555556,\"#d8576b\"],[0.6666666666666666,\"#ed7953\"],[0.7777777777777778,\"#fb9f3a\"],[0.8888888888888888,\"#fdca26\"],[1.0,\"#f0f921\"]],\"type\":\"histogram2d\"}],\"histogram\":[{\"marker\":{\"pattern\":{\"fillmode\":\"overlay\",\"size\":10,\"solidity\":0.2}},\"type\":\"histogram\"}],\"mesh3d\":[{\"colorbar\":{\"outlinewidth\":0,\"ticks\":\"\"},\"type\":\"mesh3d\"}],\"parcoords\":[{\"line\":{\"colorbar\":{\"outlinewidth\":0,\"ticks\":\"\"}},\"type\":\"parcoords\"}],\"pie\":[{\"automargin\":true,\"type\":\"pie\"}],\"scatter3d\":[{\"line\":{\"colorbar\":{\"outlinewidth\":0,\"ticks\":\"\"}},\"marker\":{\"colorbar\":{\"outlinewidth\":0,\"ticks\":\"\"}},\"type\":\"scatter3d\"}],\"scattercarpet\":[{\"marker\":{\"colorbar\":{\"outlinewidth\":0,\"ticks\":\"\"}},\"type\":\"scattercarpet\"}],\"scattergeo\":[{\"marker\":{\"colorbar\":{\"outlinewidth\":0,\"ticks\":\"\"}},\"type\":\"scattergeo\"}],\"scattergl\":[{\"marker\":{\"colorbar\":{\"outlinewidth\":0,\"ticks\":\"\"}},\"type\":\"scattergl\"}],\"scattermapbox\":[{\"marker\":{\"colorbar\":{\"outlinewidth\":0,\"ticks\":\"\"}},\"type\":\"scattermapbox\"}],\"scatterpolargl\":[{\"marker\":{\"colorbar\":{\"outlinewidth\":0,\"ticks\":\"\"}},\"type\":\"scatterpolargl\"}],\"scatterpolar\":[{\"marker\":{\"colorbar\":{\"outlinewidth\":0,\"ticks\":\"\"}},\"type\":\"scatterpolar\"}],\"scatter\":[{\"fillpattern\":{\"fillmode\":\"overlay\",\"size\":10,\"solidity\":0.2},\"type\":\"scatter\"}],\"scatterternary\":[{\"marker\":{\"colorbar\":{\"outlinewidth\":0,\"ticks\":\"\"}},\"type\":\"scatterternary\"}],\"surface\":[{\"colorbar\":{\"outlinewidth\":0,\"ticks\":\"\"},\"colorscale\":[[0.0,\"#0d0887\"],[0.1111111111111111,\"#46039f\"],[0.2222222222222222,\"#7201a8\"],[0.3333333333333333,\"#9c179e\"],[0.4444444444444444,\"#bd3786\"],[0.5555555555555556,\"#d8576b\"],[0.6666666666666666,\"#ed7953\"],[0.7777777777777778,\"#fb9f3a\"],[0.8888888888888888,\"#fdca26\"],[1.0,\"#f0f921\"]],\"type\":\"surface\"}],\"table\":[{\"cells\":{\"fill\":{\"color\":\"#EBF0F8\"},\"line\":{\"color\":\"white\"}},\"header\":{\"fill\":{\"color\":\"#C8D4E3\"},\"line\":{\"color\":\"white\"}},\"type\":\"table\"}]},\"layout\":{\"annotationdefaults\":{\"arrowcolor\":\"#2a3f5f\",\"arrowhead\":0,\"arrowwidth\":1},\"autotypenumbers\":\"strict\",\"coloraxis\":{\"colorbar\":{\"outlinewidth\":0,\"ticks\":\"\"}},\"colorscale\":{\"diverging\":[[0,\"#8e0152\"],[0.1,\"#c51b7d\"],[0.2,\"#de77ae\"],[0.3,\"#f1b6da\"],[0.4,\"#fde0ef\"],[0.5,\"#f7f7f7\"],[0.6,\"#e6f5d0\"],[0.7,\"#b8e186\"],[0.8,\"#7fbc41\"],[0.9,\"#4d9221\"],[1,\"#276419\"]],\"sequential\":[[0.0,\"#0d0887\"],[0.1111111111111111,\"#46039f\"],[0.2222222222222222,\"#7201a8\"],[0.3333333333333333,\"#9c179e\"],[0.4444444444444444,\"#bd3786\"],[0.5555555555555556,\"#d8576b\"],[0.6666666666666666,\"#ed7953\"],[0.7777777777777778,\"#fb9f3a\"],[0.8888888888888888,\"#fdca26\"],[1.0,\"#f0f921\"]],\"sequentialminus\":[[0.0,\"#0d0887\"],[0.1111111111111111,\"#46039f\"],[0.2222222222222222,\"#7201a8\"],[0.3333333333333333,\"#9c179e\"],[0.4444444444444444,\"#bd3786\"],[0.5555555555555556,\"#d8576b\"],[0.6666666666666666,\"#ed7953\"],[0.7777777777777778,\"#fb9f3a\"],[0.8888888888888888,\"#fdca26\"],[1.0,\"#f0f921\"]]},\"colorway\":[\"#636efa\",\"#EF553B\",\"#00cc96\",\"#ab63fa\",\"#FFA15A\",\"#19d3f3\",\"#FF6692\",\"#B6E880\",\"#FF97FF\",\"#FECB52\"],\"font\":{\"color\":\"#2a3f5f\"},\"geo\":{\"bgcolor\":\"white\",\"lakecolor\":\"white\",\"landcolor\":\"#E5ECF6\",\"showlakes\":true,\"showland\":true,\"subunitcolor\":\"white\"},\"hoverlabel\":{\"align\":\"left\"},\"hovermode\":\"closest\",\"mapbox\":{\"style\":\"light\"},\"paper_bgcolor\":\"white\",\"plot_bgcolor\":\"#E5ECF6\",\"polar\":{\"angularaxis\":{\"gridcolor\":\"white\",\"linecolor\":\"white\",\"ticks\":\"\"},\"bgcolor\":\"#E5ECF6\",\"radialaxis\":{\"gridcolor\":\"white\",\"linecolor\":\"white\",\"ticks\":\"\"}},\"scene\":{\"xaxis\":{\"backgroundcolor\":\"#E5ECF6\",\"gridcolor\":\"white\",\"gridwidth\":2,\"linecolor\":\"white\",\"showbackground\":true,\"ticks\":\"\",\"zerolinecolor\":\"white\"},\"yaxis\":{\"backgroundcolor\":\"#E5ECF6\",\"gridcolor\":\"white\",\"gridwidth\":2,\"linecolor\":\"white\",\"showbackground\":true,\"ticks\":\"\",\"zerolinecolor\":\"white\"},\"zaxis\":{\"backgroundcolor\":\"#E5ECF6\",\"gridcolor\":\"white\",\"gridwidth\":2,\"linecolor\":\"white\",\"showbackground\":true,\"ticks\":\"\",\"zerolinecolor\":\"white\"}},\"shapedefaults\":{\"line\":{\"color\":\"#2a3f5f\"}},\"ternary\":{\"aaxis\":{\"gridcolor\":\"white\",\"linecolor\":\"white\",\"ticks\":\"\"},\"baxis\":{\"gridcolor\":\"white\",\"linecolor\":\"white\",\"ticks\":\"\"},\"bgcolor\":\"#E5ECF6\",\"caxis\":{\"gridcolor\":\"white\",\"linecolor\":\"white\",\"ticks\":\"\"}},\"title\":{\"x\":0.05},\"xaxis\":{\"automargin\":true,\"gridcolor\":\"white\",\"linecolor\":\"white\",\"ticks\":\"\",\"title\":{\"standoff\":15},\"zerolinecolor\":\"white\",\"zerolinewidth\":2},\"yaxis\":{\"automargin\":true,\"gridcolor\":\"white\",\"linecolor\":\"white\",\"ticks\":\"\",\"title\":{\"standoff\":15},\"zerolinecolor\":\"white\",\"zerolinewidth\":2}}},\"title\":{\"font\":{\"color\":\"#4D5663\"}},\"xaxis\":{\"gridcolor\":\"#E1E5ED\",\"showgrid\":true,\"tickfont\":{\"color\":\"#4D5663\"},\"title\":{\"font\":{\"color\":\"#4D5663\"},\"text\":\"\"},\"zerolinecolor\":\"#E1E5ED\"},\"yaxis\":{\"gridcolor\":\"#E1E5ED\",\"showgrid\":true,\"tickfont\":{\"color\":\"#4D5663\"},\"title\":{\"font\":{\"color\":\"#4D5663\"},\"text\":\"\"},\"zerolinecolor\":\"#E1E5ED\"}},                        {\"showLink\": true, \"linkText\": \"Export to plot.ly\", \"plotlyServerURL\": \"https://plot.ly\", \"responsive\": true}                    ).then(function(){\n",
       "                            \n",
       "var gd = document.getElementById('98757263-0d4f-4ee9-ad91-0c913701bed1');\n",
       "var x = new MutationObserver(function (mutations, observer) {{\n",
       "        var display = window.getComputedStyle(gd).display;\n",
       "        if (!display || display === 'none') {{\n",
       "            console.log([gd, 'removed!']);\n",
       "            Plotly.purge(gd);\n",
       "            observer.disconnect();\n",
       "        }}\n",
       "}});\n",
       "\n",
       "// Listen for the removal of the full notebook cells\n",
       "var notebookContainer = gd.closest('#notebook-container');\n",
       "if (notebookContainer) {{\n",
       "    x.observe(notebookContainer, {childList: true});\n",
       "}}\n",
       "\n",
       "// Listen for the clearing of the current output cell\n",
       "var outputEl = gd.closest('.output');\n",
       "if (outputEl) {{\n",
       "    x.observe(outputEl, {childList: true});\n",
       "}}\n",
       "\n",
       "                        })                };                });            </script>        </div>"
      ]
     },
     "metadata": {},
     "output_type": "display_data"
    }
   ],
   "source": [
    "df.iplot(kind='hist')"
   ]
  },
  {
   "cell_type": "code",
   "execution_count": 71,
   "metadata": {},
   "outputs": [
    {
     "data": {
      "application/vnd.plotly.v1+json": {
       "config": {
        "linkText": "Export to plot.ly",
        "plotlyServerURL": "https://plot.ly",
        "showLink": true
       },
       "data": [
        {
         "marker": {
          "color": [
           "rgb(255, 153, 51)",
           "rgb(55, 128, 191)",
           "rgb(50, 171, 96)",
           "rgb(128, 0, 128)",
           "rgb(219, 64, 82)",
           "rgb(0, 128, 128)",
           "rgb(255, 255, 51)",
           "rgb(128, 128, 0)",
           "rgb(251, 128, 114)",
           "rgb(128, 177, 211)"
          ],
          "line": {
           "width": 1.3
          },
          "size": [
           54,
           82,
           64,
           38,
           89,
           44,
           99,
           43,
           52,
           58,
           53,
           71,
           40,
           54,
           45,
           38,
           77,
           89,
           62,
           112,
           81,
           54,
           62,
           41,
           30,
           58,
           76,
           61,
           62,
           111,
           20,
           85,
           59,
           72,
           67,
           68,
           91,
           40,
           56,
           76,
           45,
           60,
           30,
           63,
           75,
           63,
           44,
           53,
           58,
           73,
           63,
           77,
           81,
           60,
           44,
           35,
           106,
           53,
           33,
           44,
           73,
           80,
           54,
           70,
           42,
           67,
           72,
           62,
           46,
           55,
           68,
           64,
           22,
           37,
           39,
           52,
           53,
           55,
           43,
           73,
           73,
           43,
           76,
           55,
           45,
           38,
           35,
           78,
           83,
           19,
           25,
           69,
           53,
           80,
           92,
           36,
           61,
           75,
           12,
           71
          ],
          "symbol": "circle"
         },
         "mode": "markers",
         "text": "",
         "type": "scatter",
         "x": [
          -0.5893247467893137,
          0.06357799381554469,
          0.3335160921609745,
          0.3243661733043439,
          0.6787084891857187,
          -0.8798125623521266,
          -0.061710317783818004,
          -0.6900260083396907,
          -1.0522257446491912,
          0.2590016072445179,
          1.122478052572237,
          -0.30449682024732316,
          2.267454273919806,
          1.123114298512772,
          -0.6257724174399768,
          1.701367743435107,
          -0.26754379725565747,
          0.3003012512826872,
          -0.3777573284785868,
          -0.49072235963782135,
          0.47438039624374584,
          -0.9607355212592849,
          -0.01448730604106568,
          0.7818381394772317,
          0.47532496228524435,
          -0.8274720991535782,
          -0.9284276067853057,
          -1.488251013296298,
          0.23396954153909585,
          1.869180554136494,
          -0.27883637077933304,
          -0.49624437594324633,
          0.879061425460165,
          0.019113394365269577,
          1.1757641619276693,
          0.5894504709946624,
          1.4571618706876532,
          0.2106774240345165,
          -1.2182225650030216,
          -0.26967153456414256,
          0.8386234979200884,
          -1.1357835340401106,
          0.8926944889147607,
          -0.30968190234772086,
          1.0517072919721753,
          -1.2292761269220487,
          0.1429175250658092,
          -0.20868482281688108,
          0.5809020967712989,
          -1.1356002159648928,
          0.5996902800483412,
          1.7939424342799457,
          0.5131548974217541,
          1.172634706569258,
          -0.5766421668040401,
          0.46792076906214874,
          0.9969095439213087,
          0.21079364926988753,
          -1.306177547922756,
          -0.9305224274786199,
          0.4682250885871653,
          0.9693097901681132,
          -2.422557021111485,
          0.7858934649760749,
          -0.42506148315700365,
          -1.1776687308011278,
          2.2897119366258867,
          -0.7217004741651094,
          -0.9737110269480089,
          0.4190362375628981,
          -0.7391331202884779,
          -0.5555335418005726,
          -0.6785442909794438,
          -0.5230462779813413,
          -0.19618762434273726,
          -1.020057265171055,
          1.381583295856783,
          -1.3195078598361525,
          0.11768444018206939,
          0.07088724711071444,
          -0.41152734532531077,
          -0.2144863229665085,
          0.3000765406875,
          0.6506309442988503,
          0.8406330967821201,
          0.6551793622147913,
          -1.0321856810764007,
          0.5340585373125538,
          -0.062237136294529594,
          0.2250207871795296,
          0.8894595124404172,
          1.3538895386143526,
          0.2817394146169772,
          1.2786671214167356,
          -0.33824826463402663,
          1.1999423130980735,
          0.04203995852535922,
          1.149306256216227,
          1.641525664697918,
          -0.6463223417336121
         ],
         "y": [
          1.8124925870160997,
          1.086663682175712,
          -1.8953243258357049,
          -0.392843436166962,
          -0.1567169632575485,
          0.9645413080533394,
          0.17939239711442306,
          -0.5596859964104648,
          0.08895987969414001,
          1.2410834269061197,
          -0.16635960086585302,
          -0.2693807178383773,
          0.8616972888977513,
          -0.32162793172586895,
          -0.7263427607658054,
          0.19433049801394328,
          0.9230331246428911,
          1.6738866616294028,
          2.844028514290566,
          0.08124111784770374,
          1.559763934272282,
          -0.028424724115640336,
          -1.5978583981740588,
          1.3928576720947006,
          2.0229086490252826,
          -1.7694810175837032,
          0.048379614153000024,
          -1.079273422471972,
          1.2672551795759603,
          -0.1387742179814284,
          0.17791343334287685,
          -0.16720070633069986,
          -0.10054709814906158,
          -0.4045908852076268,
          0.12613317418414827,
          -0.5705034300132444,
          0.46209916749023333,
          0.4246966632128942,
          -0.8374278258285641,
          -0.9638366983275459,
          0.976890575946419,
          0.7835331653136482,
          2.033276023577144,
          1.1199398530052502,
          0.41138271732725634,
          1.0078069220383363,
          -1.17204783089823,
          -0.030259256831799808,
          -0.0725649072425263,
          -1.4986111479891409,
          0.6024912562451382,
          -0.34153690368730827,
          -1.015779510613287,
          0.6290209644622186,
          1.063457337554401,
          0.836723127079669,
          0.15820480216977437,
          -1.5203659349823258,
          -0.8072700824714942,
          0.4091445040915564,
          0.11572276858949519,
          -0.7164543939959533,
          -0.07286098502404578,
          0.38153643710956087,
          0.8543380617745421,
          -0.1165213944519551,
          0.6319713589030436,
          -1.724235407313587,
          0.386413105368971,
          -0.2386928216312317,
          0.732732670662475,
          -0.24461445087908382,
          -0.15065292063607347,
          1.5751534559338005,
          -1.5582891131847143,
          -0.18228298191894451,
          -0.41116032632912836,
          -0.17708445099528772,
          0.24337163271237103,
          1.192683688423048,
          0.9782283130777022,
          0.24352349186539524,
          -0.9532991377363603,
          -0.6462511604959087,
          0.7085017132965485,
          -2.1084373382894226,
          -0.5809716735247753,
          0.8850207737297211,
          0.246091165930676,
          -0.503503699045387,
          -2.0346014589949073,
          0.7399600548898199,
          0.867255339032245,
          2.6404520588474565,
          -0.4100752894175069,
          0.8762080237341998,
          0.07387253745176947,
          0.05732143006845413,
          0.4586850385176115,
          0.8508544486089744
         ]
        }
       ],
       "layout": {
        "legend": {
         "bgcolor": "#F5F6F9",
         "font": {
          "color": "#4D5663"
         }
        },
        "paper_bgcolor": "#F5F6F9",
        "plot_bgcolor": "#F5F6F9",
        "template": {
         "data": {
          "bar": [
           {
            "error_x": {
             "color": "#2a3f5f"
            },
            "error_y": {
             "color": "#2a3f5f"
            },
            "marker": {
             "line": {
              "color": "#E5ECF6",
              "width": 0.5
             },
             "pattern": {
              "fillmode": "overlay",
              "size": 10,
              "solidity": 0.2
             }
            },
            "type": "bar"
           }
          ],
          "barpolar": [
           {
            "marker": {
             "line": {
              "color": "#E5ECF6",
              "width": 0.5
             },
             "pattern": {
              "fillmode": "overlay",
              "size": 10,
              "solidity": 0.2
             }
            },
            "type": "barpolar"
           }
          ],
          "carpet": [
           {
            "aaxis": {
             "endlinecolor": "#2a3f5f",
             "gridcolor": "white",
             "linecolor": "white",
             "minorgridcolor": "white",
             "startlinecolor": "#2a3f5f"
            },
            "baxis": {
             "endlinecolor": "#2a3f5f",
             "gridcolor": "white",
             "linecolor": "white",
             "minorgridcolor": "white",
             "startlinecolor": "#2a3f5f"
            },
            "type": "carpet"
           }
          ],
          "choropleth": [
           {
            "colorbar": {
             "outlinewidth": 0,
             "ticks": ""
            },
            "type": "choropleth"
           }
          ],
          "contour": [
           {
            "colorbar": {
             "outlinewidth": 0,
             "ticks": ""
            },
            "colorscale": [
             [
              0,
              "#0d0887"
             ],
             [
              0.1111111111111111,
              "#46039f"
             ],
             [
              0.2222222222222222,
              "#7201a8"
             ],
             [
              0.3333333333333333,
              "#9c179e"
             ],
             [
              0.4444444444444444,
              "#bd3786"
             ],
             [
              0.5555555555555556,
              "#d8576b"
             ],
             [
              0.6666666666666666,
              "#ed7953"
             ],
             [
              0.7777777777777778,
              "#fb9f3a"
             ],
             [
              0.8888888888888888,
              "#fdca26"
             ],
             [
              1,
              "#f0f921"
             ]
            ],
            "type": "contour"
           }
          ],
          "contourcarpet": [
           {
            "colorbar": {
             "outlinewidth": 0,
             "ticks": ""
            },
            "type": "contourcarpet"
           }
          ],
          "heatmap": [
           {
            "colorbar": {
             "outlinewidth": 0,
             "ticks": ""
            },
            "colorscale": [
             [
              0,
              "#0d0887"
             ],
             [
              0.1111111111111111,
              "#46039f"
             ],
             [
              0.2222222222222222,
              "#7201a8"
             ],
             [
              0.3333333333333333,
              "#9c179e"
             ],
             [
              0.4444444444444444,
              "#bd3786"
             ],
             [
              0.5555555555555556,
              "#d8576b"
             ],
             [
              0.6666666666666666,
              "#ed7953"
             ],
             [
              0.7777777777777778,
              "#fb9f3a"
             ],
             [
              0.8888888888888888,
              "#fdca26"
             ],
             [
              1,
              "#f0f921"
             ]
            ],
            "type": "heatmap"
           }
          ],
          "heatmapgl": [
           {
            "colorbar": {
             "outlinewidth": 0,
             "ticks": ""
            },
            "colorscale": [
             [
              0,
              "#0d0887"
             ],
             [
              0.1111111111111111,
              "#46039f"
             ],
             [
              0.2222222222222222,
              "#7201a8"
             ],
             [
              0.3333333333333333,
              "#9c179e"
             ],
             [
              0.4444444444444444,
              "#bd3786"
             ],
             [
              0.5555555555555556,
              "#d8576b"
             ],
             [
              0.6666666666666666,
              "#ed7953"
             ],
             [
              0.7777777777777778,
              "#fb9f3a"
             ],
             [
              0.8888888888888888,
              "#fdca26"
             ],
             [
              1,
              "#f0f921"
             ]
            ],
            "type": "heatmapgl"
           }
          ],
          "histogram": [
           {
            "marker": {
             "pattern": {
              "fillmode": "overlay",
              "size": 10,
              "solidity": 0.2
             }
            },
            "type": "histogram"
           }
          ],
          "histogram2d": [
           {
            "colorbar": {
             "outlinewidth": 0,
             "ticks": ""
            },
            "colorscale": [
             [
              0,
              "#0d0887"
             ],
             [
              0.1111111111111111,
              "#46039f"
             ],
             [
              0.2222222222222222,
              "#7201a8"
             ],
             [
              0.3333333333333333,
              "#9c179e"
             ],
             [
              0.4444444444444444,
              "#bd3786"
             ],
             [
              0.5555555555555556,
              "#d8576b"
             ],
             [
              0.6666666666666666,
              "#ed7953"
             ],
             [
              0.7777777777777778,
              "#fb9f3a"
             ],
             [
              0.8888888888888888,
              "#fdca26"
             ],
             [
              1,
              "#f0f921"
             ]
            ],
            "type": "histogram2d"
           }
          ],
          "histogram2dcontour": [
           {
            "colorbar": {
             "outlinewidth": 0,
             "ticks": ""
            },
            "colorscale": [
             [
              0,
              "#0d0887"
             ],
             [
              0.1111111111111111,
              "#46039f"
             ],
             [
              0.2222222222222222,
              "#7201a8"
             ],
             [
              0.3333333333333333,
              "#9c179e"
             ],
             [
              0.4444444444444444,
              "#bd3786"
             ],
             [
              0.5555555555555556,
              "#d8576b"
             ],
             [
              0.6666666666666666,
              "#ed7953"
             ],
             [
              0.7777777777777778,
              "#fb9f3a"
             ],
             [
              0.8888888888888888,
              "#fdca26"
             ],
             [
              1,
              "#f0f921"
             ]
            ],
            "type": "histogram2dcontour"
           }
          ],
          "mesh3d": [
           {
            "colorbar": {
             "outlinewidth": 0,
             "ticks": ""
            },
            "type": "mesh3d"
           }
          ],
          "parcoords": [
           {
            "line": {
             "colorbar": {
              "outlinewidth": 0,
              "ticks": ""
             }
            },
            "type": "parcoords"
           }
          ],
          "pie": [
           {
            "automargin": true,
            "type": "pie"
           }
          ],
          "scatter": [
           {
            "fillpattern": {
             "fillmode": "overlay",
             "size": 10,
             "solidity": 0.2
            },
            "type": "scatter"
           }
          ],
          "scatter3d": [
           {
            "line": {
             "colorbar": {
              "outlinewidth": 0,
              "ticks": ""
             }
            },
            "marker": {
             "colorbar": {
              "outlinewidth": 0,
              "ticks": ""
             }
            },
            "type": "scatter3d"
           }
          ],
          "scattercarpet": [
           {
            "marker": {
             "colorbar": {
              "outlinewidth": 0,
              "ticks": ""
             }
            },
            "type": "scattercarpet"
           }
          ],
          "scattergeo": [
           {
            "marker": {
             "colorbar": {
              "outlinewidth": 0,
              "ticks": ""
             }
            },
            "type": "scattergeo"
           }
          ],
          "scattergl": [
           {
            "marker": {
             "colorbar": {
              "outlinewidth": 0,
              "ticks": ""
             }
            },
            "type": "scattergl"
           }
          ],
          "scattermapbox": [
           {
            "marker": {
             "colorbar": {
              "outlinewidth": 0,
              "ticks": ""
             }
            },
            "type": "scattermapbox"
           }
          ],
          "scatterpolar": [
           {
            "marker": {
             "colorbar": {
              "outlinewidth": 0,
              "ticks": ""
             }
            },
            "type": "scatterpolar"
           }
          ],
          "scatterpolargl": [
           {
            "marker": {
             "colorbar": {
              "outlinewidth": 0,
              "ticks": ""
             }
            },
            "type": "scatterpolargl"
           }
          ],
          "scatterternary": [
           {
            "marker": {
             "colorbar": {
              "outlinewidth": 0,
              "ticks": ""
             }
            },
            "type": "scatterternary"
           }
          ],
          "surface": [
           {
            "colorbar": {
             "outlinewidth": 0,
             "ticks": ""
            },
            "colorscale": [
             [
              0,
              "#0d0887"
             ],
             [
              0.1111111111111111,
              "#46039f"
             ],
             [
              0.2222222222222222,
              "#7201a8"
             ],
             [
              0.3333333333333333,
              "#9c179e"
             ],
             [
              0.4444444444444444,
              "#bd3786"
             ],
             [
              0.5555555555555556,
              "#d8576b"
             ],
             [
              0.6666666666666666,
              "#ed7953"
             ],
             [
              0.7777777777777778,
              "#fb9f3a"
             ],
             [
              0.8888888888888888,
              "#fdca26"
             ],
             [
              1,
              "#f0f921"
             ]
            ],
            "type": "surface"
           }
          ],
          "table": [
           {
            "cells": {
             "fill": {
              "color": "#EBF0F8"
             },
             "line": {
              "color": "white"
             }
            },
            "header": {
             "fill": {
              "color": "#C8D4E3"
             },
             "line": {
              "color": "white"
             }
            },
            "type": "table"
           }
          ]
         },
         "layout": {
          "annotationdefaults": {
           "arrowcolor": "#2a3f5f",
           "arrowhead": 0,
           "arrowwidth": 1
          },
          "autotypenumbers": "strict",
          "coloraxis": {
           "colorbar": {
            "outlinewidth": 0,
            "ticks": ""
           }
          },
          "colorscale": {
           "diverging": [
            [
             0,
             "#8e0152"
            ],
            [
             0.1,
             "#c51b7d"
            ],
            [
             0.2,
             "#de77ae"
            ],
            [
             0.3,
             "#f1b6da"
            ],
            [
             0.4,
             "#fde0ef"
            ],
            [
             0.5,
             "#f7f7f7"
            ],
            [
             0.6,
             "#e6f5d0"
            ],
            [
             0.7,
             "#b8e186"
            ],
            [
             0.8,
             "#7fbc41"
            ],
            [
             0.9,
             "#4d9221"
            ],
            [
             1,
             "#276419"
            ]
           ],
           "sequential": [
            [
             0,
             "#0d0887"
            ],
            [
             0.1111111111111111,
             "#46039f"
            ],
            [
             0.2222222222222222,
             "#7201a8"
            ],
            [
             0.3333333333333333,
             "#9c179e"
            ],
            [
             0.4444444444444444,
             "#bd3786"
            ],
            [
             0.5555555555555556,
             "#d8576b"
            ],
            [
             0.6666666666666666,
             "#ed7953"
            ],
            [
             0.7777777777777778,
             "#fb9f3a"
            ],
            [
             0.8888888888888888,
             "#fdca26"
            ],
            [
             1,
             "#f0f921"
            ]
           ],
           "sequentialminus": [
            [
             0,
             "#0d0887"
            ],
            [
             0.1111111111111111,
             "#46039f"
            ],
            [
             0.2222222222222222,
             "#7201a8"
            ],
            [
             0.3333333333333333,
             "#9c179e"
            ],
            [
             0.4444444444444444,
             "#bd3786"
            ],
            [
             0.5555555555555556,
             "#d8576b"
            ],
            [
             0.6666666666666666,
             "#ed7953"
            ],
            [
             0.7777777777777778,
             "#fb9f3a"
            ],
            [
             0.8888888888888888,
             "#fdca26"
            ],
            [
             1,
             "#f0f921"
            ]
           ]
          },
          "colorway": [
           "#636efa",
           "#EF553B",
           "#00cc96",
           "#ab63fa",
           "#FFA15A",
           "#19d3f3",
           "#FF6692",
           "#B6E880",
           "#FF97FF",
           "#FECB52"
          ],
          "font": {
           "color": "#2a3f5f"
          },
          "geo": {
           "bgcolor": "white",
           "lakecolor": "white",
           "landcolor": "#E5ECF6",
           "showlakes": true,
           "showland": true,
           "subunitcolor": "white"
          },
          "hoverlabel": {
           "align": "left"
          },
          "hovermode": "closest",
          "mapbox": {
           "style": "light"
          },
          "paper_bgcolor": "white",
          "plot_bgcolor": "#E5ECF6",
          "polar": {
           "angularaxis": {
            "gridcolor": "white",
            "linecolor": "white",
            "ticks": ""
           },
           "bgcolor": "#E5ECF6",
           "radialaxis": {
            "gridcolor": "white",
            "linecolor": "white",
            "ticks": ""
           }
          },
          "scene": {
           "xaxis": {
            "backgroundcolor": "#E5ECF6",
            "gridcolor": "white",
            "gridwidth": 2,
            "linecolor": "white",
            "showbackground": true,
            "ticks": "",
            "zerolinecolor": "white"
           },
           "yaxis": {
            "backgroundcolor": "#E5ECF6",
            "gridcolor": "white",
            "gridwidth": 2,
            "linecolor": "white",
            "showbackground": true,
            "ticks": "",
            "zerolinecolor": "white"
           },
           "zaxis": {
            "backgroundcolor": "#E5ECF6",
            "gridcolor": "white",
            "gridwidth": 2,
            "linecolor": "white",
            "showbackground": true,
            "ticks": "",
            "zerolinecolor": "white"
           }
          },
          "shapedefaults": {
           "line": {
            "color": "#2a3f5f"
           }
          },
          "ternary": {
           "aaxis": {
            "gridcolor": "white",
            "linecolor": "white",
            "ticks": ""
           },
           "baxis": {
            "gridcolor": "white",
            "linecolor": "white",
            "ticks": ""
           },
           "bgcolor": "#E5ECF6",
           "caxis": {
            "gridcolor": "white",
            "linecolor": "white",
            "ticks": ""
           }
          },
          "title": {
           "x": 0.05
          },
          "xaxis": {
           "automargin": true,
           "gridcolor": "white",
           "linecolor": "white",
           "ticks": "",
           "title": {
            "standoff": 15
           },
           "zerolinecolor": "white",
           "zerolinewidth": 2
          },
          "yaxis": {
           "automargin": true,
           "gridcolor": "white",
           "linecolor": "white",
           "ticks": "",
           "title": {
            "standoff": 15
           },
           "zerolinecolor": "white",
           "zerolinewidth": 2
          }
         }
        },
        "title": {
         "font": {
          "color": "#4D5663"
         }
        },
        "xaxis": {
         "gridcolor": "#E1E5ED",
         "showgrid": true,
         "tickfont": {
          "color": "#4D5663"
         },
         "title": {
          "font": {
           "color": "#4D5663"
          },
          "text": ""
         },
         "zerolinecolor": "#E1E5ED"
        },
        "yaxis": {
         "gridcolor": "#E1E5ED",
         "showgrid": true,
         "tickfont": {
          "color": "#4D5663"
         },
         "title": {
          "font": {
           "color": "#4D5663"
          },
          "text": ""
         },
         "zerolinecolor": "#E1E5ED"
        }
       }
      },
      "text/html": [
       "<div>                            <div id=\"f29f5370-3b5f-4334-a376-4c7dd08a6ad8\" class=\"plotly-graph-div\" style=\"height:525px; width:100%;\"></div>            <script type=\"text/javascript\">                require([\"plotly\"], function(Plotly) {                    window.PLOTLYENV=window.PLOTLYENV || {};\n",
       "                    window.PLOTLYENV.BASE_URL='https://plot.ly';                                    if (document.getElementById(\"f29f5370-3b5f-4334-a376-4c7dd08a6ad8\")) {                    Plotly.newPlot(                        \"f29f5370-3b5f-4334-a376-4c7dd08a6ad8\",                        [{\"marker\":{\"color\":[\"rgb(255, 153, 51)\",\"rgb(55, 128, 191)\",\"rgb(50, 171, 96)\",\"rgb(128, 0, 128)\",\"rgb(219, 64, 82)\",\"rgb(0, 128, 128)\",\"rgb(255, 255, 51)\",\"rgb(128, 128, 0)\",\"rgb(251, 128, 114)\",\"rgb(128, 177, 211)\"],\"line\":{\"width\":1.3},\"size\":[54,82,64,38,89,44,99,43,52,58,53,71,40,54,45,38,77,89,62,112,81,54,62,41,30,58,76,61,62,111,20,85,59,72,67,68,91,40,56,76,45,60,30,63,75,63,44,53,58,73,63,77,81,60,44,35,106,53,33,44,73,80,54,70,42,67,72,62,46,55,68,64,22,37,39,52,53,55,43,73,73,43,76,55,45,38,35,78,83,19,25,69,53,80,92,36,61,75,12,71],\"symbol\":\"circle\"},\"mode\":\"markers\",\"text\":\"\",\"x\":[-0.5893247467893137,0.06357799381554469,0.3335160921609745,0.3243661733043439,0.6787084891857187,-0.8798125623521266,-0.061710317783818004,-0.6900260083396907,-1.0522257446491912,0.2590016072445179,1.122478052572237,-0.30449682024732316,2.267454273919806,1.123114298512772,-0.6257724174399768,1.701367743435107,-0.26754379725565747,0.3003012512826872,-0.3777573284785868,-0.49072235963782135,0.47438039624374584,-0.9607355212592849,-0.01448730604106568,0.7818381394772317,0.47532496228524435,-0.8274720991535782,-0.9284276067853057,-1.488251013296298,0.23396954153909585,1.869180554136494,-0.27883637077933304,-0.49624437594324633,0.879061425460165,0.019113394365269577,1.1757641619276693,0.5894504709946624,1.4571618706876532,0.2106774240345165,-1.2182225650030216,-0.26967153456414256,0.8386234979200884,-1.1357835340401106,0.8926944889147607,-0.30968190234772086,1.0517072919721753,-1.2292761269220487,0.1429175250658092,-0.20868482281688108,0.5809020967712989,-1.1356002159648928,0.5996902800483412,1.7939424342799457,0.5131548974217541,1.172634706569258,-0.5766421668040401,0.46792076906214874,0.9969095439213087,0.21079364926988753,-1.306177547922756,-0.9305224274786199,0.4682250885871653,0.9693097901681132,-2.422557021111485,0.7858934649760749,-0.42506148315700365,-1.1776687308011278,2.2897119366258867,-0.7217004741651094,-0.9737110269480089,0.4190362375628981,-0.7391331202884779,-0.5555335418005726,-0.6785442909794438,-0.5230462779813413,-0.19618762434273726,-1.020057265171055,1.381583295856783,-1.3195078598361525,0.11768444018206939,0.07088724711071444,-0.41152734532531077,-0.2144863229665085,0.3000765406875,0.6506309442988503,0.8406330967821201,0.6551793622147913,-1.0321856810764007,0.5340585373125538,-0.062237136294529594,0.2250207871795296,0.8894595124404172,1.3538895386143526,0.2817394146169772,1.2786671214167356,-0.33824826463402663,1.1999423130980735,0.04203995852535922,1.149306256216227,1.641525664697918,-0.6463223417336121],\"y\":[1.8124925870160997,1.086663682175712,-1.8953243258357049,-0.392843436166962,-0.1567169632575485,0.9645413080533394,0.17939239711442306,-0.5596859964104648,0.08895987969414001,1.2410834269061197,-0.16635960086585302,-0.2693807178383773,0.8616972888977513,-0.32162793172586895,-0.7263427607658054,0.19433049801394328,0.9230331246428911,1.6738866616294028,2.844028514290566,0.08124111784770374,1.559763934272282,-0.028424724115640336,-1.5978583981740588,1.3928576720947006,2.0229086490252826,-1.7694810175837032,0.048379614153000024,-1.079273422471972,1.2672551795759603,-0.1387742179814284,0.17791343334287685,-0.16720070633069986,-0.10054709814906158,-0.4045908852076268,0.12613317418414827,-0.5705034300132444,0.46209916749023333,0.4246966632128942,-0.8374278258285641,-0.9638366983275459,0.976890575946419,0.7835331653136482,2.033276023577144,1.1199398530052502,0.41138271732725634,1.0078069220383363,-1.17204783089823,-0.030259256831799808,-0.0725649072425263,-1.4986111479891409,0.6024912562451382,-0.34153690368730827,-1.015779510613287,0.6290209644622186,1.063457337554401,0.836723127079669,0.15820480216977437,-1.5203659349823258,-0.8072700824714942,0.4091445040915564,0.11572276858949519,-0.7164543939959533,-0.07286098502404578,0.38153643710956087,0.8543380617745421,-0.1165213944519551,0.6319713589030436,-1.724235407313587,0.386413105368971,-0.2386928216312317,0.732732670662475,-0.24461445087908382,-0.15065292063607347,1.5751534559338005,-1.5582891131847143,-0.18228298191894451,-0.41116032632912836,-0.17708445099528772,0.24337163271237103,1.192683688423048,0.9782283130777022,0.24352349186539524,-0.9532991377363603,-0.6462511604959087,0.7085017132965485,-2.1084373382894226,-0.5809716735247753,0.8850207737297211,0.246091165930676,-0.503503699045387,-2.0346014589949073,0.7399600548898199,0.867255339032245,2.6404520588474565,-0.4100752894175069,0.8762080237341998,0.07387253745176947,0.05732143006845413,0.4586850385176115,0.8508544486089744],\"type\":\"scatter\"}],                        {\"legend\":{\"bgcolor\":\"#F5F6F9\",\"font\":{\"color\":\"#4D5663\"}},\"paper_bgcolor\":\"#F5F6F9\",\"plot_bgcolor\":\"#F5F6F9\",\"template\":{\"data\":{\"barpolar\":[{\"marker\":{\"line\":{\"color\":\"#E5ECF6\",\"width\":0.5},\"pattern\":{\"fillmode\":\"overlay\",\"size\":10,\"solidity\":0.2}},\"type\":\"barpolar\"}],\"bar\":[{\"error_x\":{\"color\":\"#2a3f5f\"},\"error_y\":{\"color\":\"#2a3f5f\"},\"marker\":{\"line\":{\"color\":\"#E5ECF6\",\"width\":0.5},\"pattern\":{\"fillmode\":\"overlay\",\"size\":10,\"solidity\":0.2}},\"type\":\"bar\"}],\"carpet\":[{\"aaxis\":{\"endlinecolor\":\"#2a3f5f\",\"gridcolor\":\"white\",\"linecolor\":\"white\",\"minorgridcolor\":\"white\",\"startlinecolor\":\"#2a3f5f\"},\"baxis\":{\"endlinecolor\":\"#2a3f5f\",\"gridcolor\":\"white\",\"linecolor\":\"white\",\"minorgridcolor\":\"white\",\"startlinecolor\":\"#2a3f5f\"},\"type\":\"carpet\"}],\"choropleth\":[{\"colorbar\":{\"outlinewidth\":0,\"ticks\":\"\"},\"type\":\"choropleth\"}],\"contourcarpet\":[{\"colorbar\":{\"outlinewidth\":0,\"ticks\":\"\"},\"type\":\"contourcarpet\"}],\"contour\":[{\"colorbar\":{\"outlinewidth\":0,\"ticks\":\"\"},\"colorscale\":[[0.0,\"#0d0887\"],[0.1111111111111111,\"#46039f\"],[0.2222222222222222,\"#7201a8\"],[0.3333333333333333,\"#9c179e\"],[0.4444444444444444,\"#bd3786\"],[0.5555555555555556,\"#d8576b\"],[0.6666666666666666,\"#ed7953\"],[0.7777777777777778,\"#fb9f3a\"],[0.8888888888888888,\"#fdca26\"],[1.0,\"#f0f921\"]],\"type\":\"contour\"}],\"heatmapgl\":[{\"colorbar\":{\"outlinewidth\":0,\"ticks\":\"\"},\"colorscale\":[[0.0,\"#0d0887\"],[0.1111111111111111,\"#46039f\"],[0.2222222222222222,\"#7201a8\"],[0.3333333333333333,\"#9c179e\"],[0.4444444444444444,\"#bd3786\"],[0.5555555555555556,\"#d8576b\"],[0.6666666666666666,\"#ed7953\"],[0.7777777777777778,\"#fb9f3a\"],[0.8888888888888888,\"#fdca26\"],[1.0,\"#f0f921\"]],\"type\":\"heatmapgl\"}],\"heatmap\":[{\"colorbar\":{\"outlinewidth\":0,\"ticks\":\"\"},\"colorscale\":[[0.0,\"#0d0887\"],[0.1111111111111111,\"#46039f\"],[0.2222222222222222,\"#7201a8\"],[0.3333333333333333,\"#9c179e\"],[0.4444444444444444,\"#bd3786\"],[0.5555555555555556,\"#d8576b\"],[0.6666666666666666,\"#ed7953\"],[0.7777777777777778,\"#fb9f3a\"],[0.8888888888888888,\"#fdca26\"],[1.0,\"#f0f921\"]],\"type\":\"heatmap\"}],\"histogram2dcontour\":[{\"colorbar\":{\"outlinewidth\":0,\"ticks\":\"\"},\"colorscale\":[[0.0,\"#0d0887\"],[0.1111111111111111,\"#46039f\"],[0.2222222222222222,\"#7201a8\"],[0.3333333333333333,\"#9c179e\"],[0.4444444444444444,\"#bd3786\"],[0.5555555555555556,\"#d8576b\"],[0.6666666666666666,\"#ed7953\"],[0.7777777777777778,\"#fb9f3a\"],[0.8888888888888888,\"#fdca26\"],[1.0,\"#f0f921\"]],\"type\":\"histogram2dcontour\"}],\"histogram2d\":[{\"colorbar\":{\"outlinewidth\":0,\"ticks\":\"\"},\"colorscale\":[[0.0,\"#0d0887\"],[0.1111111111111111,\"#46039f\"],[0.2222222222222222,\"#7201a8\"],[0.3333333333333333,\"#9c179e\"],[0.4444444444444444,\"#bd3786\"],[0.5555555555555556,\"#d8576b\"],[0.6666666666666666,\"#ed7953\"],[0.7777777777777778,\"#fb9f3a\"],[0.8888888888888888,\"#fdca26\"],[1.0,\"#f0f921\"]],\"type\":\"histogram2d\"}],\"histogram\":[{\"marker\":{\"pattern\":{\"fillmode\":\"overlay\",\"size\":10,\"solidity\":0.2}},\"type\":\"histogram\"}],\"mesh3d\":[{\"colorbar\":{\"outlinewidth\":0,\"ticks\":\"\"},\"type\":\"mesh3d\"}],\"parcoords\":[{\"line\":{\"colorbar\":{\"outlinewidth\":0,\"ticks\":\"\"}},\"type\":\"parcoords\"}],\"pie\":[{\"automargin\":true,\"type\":\"pie\"}],\"scatter3d\":[{\"line\":{\"colorbar\":{\"outlinewidth\":0,\"ticks\":\"\"}},\"marker\":{\"colorbar\":{\"outlinewidth\":0,\"ticks\":\"\"}},\"type\":\"scatter3d\"}],\"scattercarpet\":[{\"marker\":{\"colorbar\":{\"outlinewidth\":0,\"ticks\":\"\"}},\"type\":\"scattercarpet\"}],\"scattergeo\":[{\"marker\":{\"colorbar\":{\"outlinewidth\":0,\"ticks\":\"\"}},\"type\":\"scattergeo\"}],\"scattergl\":[{\"marker\":{\"colorbar\":{\"outlinewidth\":0,\"ticks\":\"\"}},\"type\":\"scattergl\"}],\"scattermapbox\":[{\"marker\":{\"colorbar\":{\"outlinewidth\":0,\"ticks\":\"\"}},\"type\":\"scattermapbox\"}],\"scatterpolargl\":[{\"marker\":{\"colorbar\":{\"outlinewidth\":0,\"ticks\":\"\"}},\"type\":\"scatterpolargl\"}],\"scatterpolar\":[{\"marker\":{\"colorbar\":{\"outlinewidth\":0,\"ticks\":\"\"}},\"type\":\"scatterpolar\"}],\"scatter\":[{\"fillpattern\":{\"fillmode\":\"overlay\",\"size\":10,\"solidity\":0.2},\"type\":\"scatter\"}],\"scatterternary\":[{\"marker\":{\"colorbar\":{\"outlinewidth\":0,\"ticks\":\"\"}},\"type\":\"scatterternary\"}],\"surface\":[{\"colorbar\":{\"outlinewidth\":0,\"ticks\":\"\"},\"colorscale\":[[0.0,\"#0d0887\"],[0.1111111111111111,\"#46039f\"],[0.2222222222222222,\"#7201a8\"],[0.3333333333333333,\"#9c179e\"],[0.4444444444444444,\"#bd3786\"],[0.5555555555555556,\"#d8576b\"],[0.6666666666666666,\"#ed7953\"],[0.7777777777777778,\"#fb9f3a\"],[0.8888888888888888,\"#fdca26\"],[1.0,\"#f0f921\"]],\"type\":\"surface\"}],\"table\":[{\"cells\":{\"fill\":{\"color\":\"#EBF0F8\"},\"line\":{\"color\":\"white\"}},\"header\":{\"fill\":{\"color\":\"#C8D4E3\"},\"line\":{\"color\":\"white\"}},\"type\":\"table\"}]},\"layout\":{\"annotationdefaults\":{\"arrowcolor\":\"#2a3f5f\",\"arrowhead\":0,\"arrowwidth\":1},\"autotypenumbers\":\"strict\",\"coloraxis\":{\"colorbar\":{\"outlinewidth\":0,\"ticks\":\"\"}},\"colorscale\":{\"diverging\":[[0,\"#8e0152\"],[0.1,\"#c51b7d\"],[0.2,\"#de77ae\"],[0.3,\"#f1b6da\"],[0.4,\"#fde0ef\"],[0.5,\"#f7f7f7\"],[0.6,\"#e6f5d0\"],[0.7,\"#b8e186\"],[0.8,\"#7fbc41\"],[0.9,\"#4d9221\"],[1,\"#276419\"]],\"sequential\":[[0.0,\"#0d0887\"],[0.1111111111111111,\"#46039f\"],[0.2222222222222222,\"#7201a8\"],[0.3333333333333333,\"#9c179e\"],[0.4444444444444444,\"#bd3786\"],[0.5555555555555556,\"#d8576b\"],[0.6666666666666666,\"#ed7953\"],[0.7777777777777778,\"#fb9f3a\"],[0.8888888888888888,\"#fdca26\"],[1.0,\"#f0f921\"]],\"sequentialminus\":[[0.0,\"#0d0887\"],[0.1111111111111111,\"#46039f\"],[0.2222222222222222,\"#7201a8\"],[0.3333333333333333,\"#9c179e\"],[0.4444444444444444,\"#bd3786\"],[0.5555555555555556,\"#d8576b\"],[0.6666666666666666,\"#ed7953\"],[0.7777777777777778,\"#fb9f3a\"],[0.8888888888888888,\"#fdca26\"],[1.0,\"#f0f921\"]]},\"colorway\":[\"#636efa\",\"#EF553B\",\"#00cc96\",\"#ab63fa\",\"#FFA15A\",\"#19d3f3\",\"#FF6692\",\"#B6E880\",\"#FF97FF\",\"#FECB52\"],\"font\":{\"color\":\"#2a3f5f\"},\"geo\":{\"bgcolor\":\"white\",\"lakecolor\":\"white\",\"landcolor\":\"#E5ECF6\",\"showlakes\":true,\"showland\":true,\"subunitcolor\":\"white\"},\"hoverlabel\":{\"align\":\"left\"},\"hovermode\":\"closest\",\"mapbox\":{\"style\":\"light\"},\"paper_bgcolor\":\"white\",\"plot_bgcolor\":\"#E5ECF6\",\"polar\":{\"angularaxis\":{\"gridcolor\":\"white\",\"linecolor\":\"white\",\"ticks\":\"\"},\"bgcolor\":\"#E5ECF6\",\"radialaxis\":{\"gridcolor\":\"white\",\"linecolor\":\"white\",\"ticks\":\"\"}},\"scene\":{\"xaxis\":{\"backgroundcolor\":\"#E5ECF6\",\"gridcolor\":\"white\",\"gridwidth\":2,\"linecolor\":\"white\",\"showbackground\":true,\"ticks\":\"\",\"zerolinecolor\":\"white\"},\"yaxis\":{\"backgroundcolor\":\"#E5ECF6\",\"gridcolor\":\"white\",\"gridwidth\":2,\"linecolor\":\"white\",\"showbackground\":true,\"ticks\":\"\",\"zerolinecolor\":\"white\"},\"zaxis\":{\"backgroundcolor\":\"#E5ECF6\",\"gridcolor\":\"white\",\"gridwidth\":2,\"linecolor\":\"white\",\"showbackground\":true,\"ticks\":\"\",\"zerolinecolor\":\"white\"}},\"shapedefaults\":{\"line\":{\"color\":\"#2a3f5f\"}},\"ternary\":{\"aaxis\":{\"gridcolor\":\"white\",\"linecolor\":\"white\",\"ticks\":\"\"},\"baxis\":{\"gridcolor\":\"white\",\"linecolor\":\"white\",\"ticks\":\"\"},\"bgcolor\":\"#E5ECF6\",\"caxis\":{\"gridcolor\":\"white\",\"linecolor\":\"white\",\"ticks\":\"\"}},\"title\":{\"x\":0.05},\"xaxis\":{\"automargin\":true,\"gridcolor\":\"white\",\"linecolor\":\"white\",\"ticks\":\"\",\"title\":{\"standoff\":15},\"zerolinecolor\":\"white\",\"zerolinewidth\":2},\"yaxis\":{\"automargin\":true,\"gridcolor\":\"white\",\"linecolor\":\"white\",\"ticks\":\"\",\"title\":{\"standoff\":15},\"zerolinecolor\":\"white\",\"zerolinewidth\":2}}},\"title\":{\"font\":{\"color\":\"#4D5663\"}},\"xaxis\":{\"gridcolor\":\"#E1E5ED\",\"showgrid\":true,\"tickfont\":{\"color\":\"#4D5663\"},\"title\":{\"font\":{\"color\":\"#4D5663\"},\"text\":\"\"},\"zerolinecolor\":\"#E1E5ED\"},\"yaxis\":{\"gridcolor\":\"#E1E5ED\",\"showgrid\":true,\"tickfont\":{\"color\":\"#4D5663\"},\"title\":{\"font\":{\"color\":\"#4D5663\"},\"text\":\"\"},\"zerolinecolor\":\"#E1E5ED\"}},                        {\"showLink\": true, \"linkText\": \"Export to plot.ly\", \"plotlyServerURL\": \"https://plot.ly\", \"responsive\": true}                    ).then(function(){\n",
       "                            \n",
       "var gd = document.getElementById('f29f5370-3b5f-4334-a376-4c7dd08a6ad8');\n",
       "var x = new MutationObserver(function (mutations, observer) {{\n",
       "        var display = window.getComputedStyle(gd).display;\n",
       "        if (!display || display === 'none') {{\n",
       "            console.log([gd, 'removed!']);\n",
       "            Plotly.purge(gd);\n",
       "            observer.disconnect();\n",
       "        }}\n",
       "}});\n",
       "\n",
       "// Listen for the removal of the full notebook cells\n",
       "var notebookContainer = gd.closest('#notebook-container');\n",
       "if (notebookContainer) {{\n",
       "    x.observe(notebookContainer, {childList: true});\n",
       "}}\n",
       "\n",
       "// Listen for the clearing of the current output cell\n",
       "var outputEl = gd.closest('.output');\n",
       "if (outputEl) {{\n",
       "    x.observe(outputEl, {childList: true});\n",
       "}}\n",
       "\n",
       "                        })                };                });            </script>        </div>"
      ]
     },
     "metadata": {},
     "output_type": "display_data"
    }
   ],
   "source": [
    "df.iplot(kind='bubble',x='A',y='B',size='C')"
   ]
  },
  {
   "cell_type": "code",
   "execution_count": 73,
   "metadata": {},
   "outputs": [
    {
     "data": {
      "application/vnd.plotly.v1+json": {
       "config": {
        "linkText": "Export to plot.ly",
        "plotlyServerURL": "https://plot.ly",
        "showLink": true
       },
       "data": [
        {
         "histfunc": "count",
         "histnorm": "",
         "marker": {
          "color": "rgba(255, 153, 51, 1.0)",
          "line": {
           "color": "#4D5663",
           "width": 1.3
          }
         },
         "name": "A",
         "nbinsx": 10,
         "opacity": 0.8,
         "orientation": "v",
         "type": "histogram",
         "x": [
          -0.5893247467893137,
          0.06357799381554469,
          0.3335160921609745,
          0.3243661733043439,
          0.6787084891857187,
          -0.8798125623521266,
          -0.061710317783818004,
          -0.6900260083396907,
          -1.0522257446491912,
          0.2590016072445179,
          1.122478052572237,
          -0.30449682024732316,
          2.267454273919806,
          1.123114298512772,
          -0.6257724174399768,
          1.701367743435107,
          -0.26754379725565747,
          0.3003012512826872,
          -0.3777573284785868,
          -0.49072235963782135,
          0.47438039624374584,
          -0.9607355212592849,
          -0.01448730604106568,
          0.7818381394772317,
          0.47532496228524435,
          -0.8274720991535782,
          -0.9284276067853057,
          -1.488251013296298,
          0.23396954153909585,
          1.869180554136494,
          -0.27883637077933304,
          -0.49624437594324633,
          0.879061425460165,
          0.019113394365269577,
          1.1757641619276693,
          0.5894504709946624,
          1.4571618706876532,
          0.2106774240345165,
          -1.2182225650030216,
          -0.26967153456414256,
          0.8386234979200884,
          -1.1357835340401106,
          0.8926944889147607,
          -0.30968190234772086,
          1.0517072919721753,
          -1.2292761269220487,
          0.1429175250658092,
          -0.20868482281688108,
          0.5809020967712989,
          -1.1356002159648928,
          0.5996902800483412,
          1.7939424342799457,
          0.5131548974217541,
          1.172634706569258,
          -0.5766421668040401,
          0.46792076906214874,
          0.9969095439213087,
          0.21079364926988753,
          -1.306177547922756,
          -0.9305224274786199,
          0.4682250885871653,
          0.9693097901681132,
          -2.422557021111485,
          0.7858934649760749,
          -0.42506148315700365,
          -1.1776687308011278,
          2.2897119366258867,
          -0.7217004741651094,
          -0.9737110269480089,
          0.4190362375628981,
          -0.7391331202884779,
          -0.5555335418005726,
          -0.6785442909794438,
          -0.5230462779813413,
          -0.19618762434273726,
          -1.020057265171055,
          1.381583295856783,
          -1.3195078598361525,
          0.11768444018206939,
          0.07088724711071444,
          -0.41152734532531077,
          -0.2144863229665085,
          0.3000765406875,
          0.6506309442988503,
          0.8406330967821201,
          0.6551793622147913,
          -1.0321856810764007,
          0.5340585373125538,
          -0.062237136294529594,
          0.2250207871795296,
          0.8894595124404172,
          1.3538895386143526,
          0.2817394146169772,
          1.2786671214167356,
          -0.33824826463402663,
          1.1999423130980735,
          0.04203995852535922,
          1.149306256216227,
          1.641525664697918,
          -0.6463223417336121
         ],
         "xaxis": "x",
         "yaxis": "y"
        },
        {
         "line": {
          "color": "rgba(128, 128, 128, 1.0)",
          "dash": "solid",
          "shape": "linear",
          "width": 1.3
         },
         "marker": {
          "size": 2,
          "symbol": "circle"
         },
         "mode": "markers",
         "name": "A",
         "text": "",
         "type": "scatter",
         "x": [
          1.8124925870160997,
          1.086663682175712,
          -1.8953243258357049,
          -0.392843436166962,
          -0.1567169632575485,
          0.9645413080533394,
          0.17939239711442306,
          -0.5596859964104648,
          0.08895987969414001,
          1.2410834269061197,
          -0.16635960086585302,
          -0.2693807178383773,
          0.8616972888977513,
          -0.32162793172586895,
          -0.7263427607658054,
          0.19433049801394328,
          0.9230331246428911,
          1.6738866616294028,
          2.844028514290566,
          0.08124111784770374,
          1.559763934272282,
          -0.028424724115640336,
          -1.5978583981740588,
          1.3928576720947006,
          2.0229086490252826,
          -1.7694810175837032,
          0.048379614153000024,
          -1.079273422471972,
          1.2672551795759603,
          -0.1387742179814284,
          0.17791343334287685,
          -0.16720070633069986,
          -0.10054709814906158,
          -0.4045908852076268,
          0.12613317418414827,
          -0.5705034300132444,
          0.46209916749023333,
          0.4246966632128942,
          -0.8374278258285641,
          -0.9638366983275459,
          0.976890575946419,
          0.7835331653136482,
          2.033276023577144,
          1.1199398530052502,
          0.41138271732725634,
          1.0078069220383363,
          -1.17204783089823,
          -0.030259256831799808,
          -0.0725649072425263,
          -1.4986111479891409,
          0.6024912562451382,
          -0.34153690368730827,
          -1.015779510613287,
          0.6290209644622186,
          1.063457337554401,
          0.836723127079669,
          0.15820480216977437,
          -1.5203659349823258,
          -0.8072700824714942,
          0.4091445040915564,
          0.11572276858949519,
          -0.7164543939959533,
          -0.07286098502404578,
          0.38153643710956087,
          0.8543380617745421,
          -0.1165213944519551,
          0.6319713589030436,
          -1.724235407313587,
          0.386413105368971,
          -0.2386928216312317,
          0.732732670662475,
          -0.24461445087908382,
          -0.15065292063607347,
          1.5751534559338005,
          -1.5582891131847143,
          -0.18228298191894451,
          -0.41116032632912836,
          -0.17708445099528772,
          0.24337163271237103,
          1.192683688423048,
          0.9782283130777022,
          0.24352349186539524,
          -0.9532991377363603,
          -0.6462511604959087,
          0.7085017132965485,
          -2.1084373382894226,
          -0.5809716735247753,
          0.8850207737297211,
          0.246091165930676,
          -0.503503699045387,
          -2.0346014589949073,
          0.7399600548898199,
          0.867255339032245,
          2.6404520588474565,
          -0.4100752894175069,
          0.8762080237341998,
          0.07387253745176947,
          0.05732143006845413,
          0.4586850385176115,
          0.8508544486089744
         ],
         "xaxis": "x2",
         "y": [
          -0.5893247467893137,
          0.06357799381554469,
          0.3335160921609745,
          0.3243661733043439,
          0.6787084891857187,
          -0.8798125623521266,
          -0.061710317783818004,
          -0.6900260083396907,
          -1.0522257446491912,
          0.2590016072445179,
          1.122478052572237,
          -0.30449682024732316,
          2.267454273919806,
          1.123114298512772,
          -0.6257724174399768,
          1.701367743435107,
          -0.26754379725565747,
          0.3003012512826872,
          -0.3777573284785868,
          -0.49072235963782135,
          0.47438039624374584,
          -0.9607355212592849,
          -0.01448730604106568,
          0.7818381394772317,
          0.47532496228524435,
          -0.8274720991535782,
          -0.9284276067853057,
          -1.488251013296298,
          0.23396954153909585,
          1.869180554136494,
          -0.27883637077933304,
          -0.49624437594324633,
          0.879061425460165,
          0.019113394365269577,
          1.1757641619276693,
          0.5894504709946624,
          1.4571618706876532,
          0.2106774240345165,
          -1.2182225650030216,
          -0.26967153456414256,
          0.8386234979200884,
          -1.1357835340401106,
          0.8926944889147607,
          -0.30968190234772086,
          1.0517072919721753,
          -1.2292761269220487,
          0.1429175250658092,
          -0.20868482281688108,
          0.5809020967712989,
          -1.1356002159648928,
          0.5996902800483412,
          1.7939424342799457,
          0.5131548974217541,
          1.172634706569258,
          -0.5766421668040401,
          0.46792076906214874,
          0.9969095439213087,
          0.21079364926988753,
          -1.306177547922756,
          -0.9305224274786199,
          0.4682250885871653,
          0.9693097901681132,
          -2.422557021111485,
          0.7858934649760749,
          -0.42506148315700365,
          -1.1776687308011278,
          2.2897119366258867,
          -0.7217004741651094,
          -0.9737110269480089,
          0.4190362375628981,
          -0.7391331202884779,
          -0.5555335418005726,
          -0.6785442909794438,
          -0.5230462779813413,
          -0.19618762434273726,
          -1.020057265171055,
          1.381583295856783,
          -1.3195078598361525,
          0.11768444018206939,
          0.07088724711071444,
          -0.41152734532531077,
          -0.2144863229665085,
          0.3000765406875,
          0.6506309442988503,
          0.8406330967821201,
          0.6551793622147913,
          -1.0321856810764007,
          0.5340585373125538,
          -0.062237136294529594,
          0.2250207871795296,
          0.8894595124404172,
          1.3538895386143526,
          0.2817394146169772,
          1.2786671214167356,
          -0.33824826463402663,
          1.1999423130980735,
          0.04203995852535922,
          1.149306256216227,
          1.641525664697918,
          -0.6463223417336121
         ],
         "yaxis": "y2"
        },
        {
         "line": {
          "color": "rgba(128, 128, 128, 1.0)",
          "dash": "solid",
          "shape": "linear",
          "width": 1.3
         },
         "marker": {
          "size": 2,
          "symbol": "circle"
         },
         "mode": "markers",
         "name": "A",
         "text": "",
         "type": "scatter",
         "x": [
          -0.5887201252080634,
          0.7019925031583143,
          -0.12152814849423052,
          -1.2708438572364291,
          1.005385839304346,
          -0.9984428692265944,
          1.4321629049952669,
          -1.0560767907795185,
          -0.6562327117597355,
          -0.3950371209300445,
          -0.6369083886879076,
          0.16740259901346027,
          -1.197787967906911,
          -0.5757438379751361,
          -0.9660314149290065,
          -1.280312500419322,
          0.44919005132260154,
          0.9912354246161327,
          -0.22665091004576998,
          2.00195641786289,
          0.6521292871423648,
          -0.5858611758478834,
          -0.2026706703994717,
          -1.1400881200028743,
          -1.6598845111368843,
          -0.3821632649493528,
          0.40015268984340935,
          -0.24779955580087326,
          -0.22014964502210926,
          1.9826019378014421,
          -2.078964493043121,
          0.8232357228810001,
          -0.3410786708737788,
          0.2326250073562358,
          0.017721847740962565,
          0.06476185482905336,
          1.0856823558781863,
          -1.1863410497481561,
          -0.47395933534119455,
          0.42867872806233165,
          -0.9792302166465338,
          -0.3188004167296261,
          -1.6634411913351508,
          -0.1536391932935441,
          0.37680087031661724,
          -0.1622649507322113,
          -1.0233161895393332,
          -0.6374744254895608,
          -0.38932829571389926,
          0.28352499938728154,
          -0.17052285870812525,
          0.4544231814922744,
          0.6279385675513667,
          -0.29750956972512393,
          -0.9990886330259056,
          -1.432305886084423,
          1.7747315663056045,
          -0.6129901984631514,
          -1.5192985319482608,
          -1.02953724278035,
          0.2749969544641621,
          0.6089404947881051,
          -0.5657258936149782,
          0.1609301397325709,
          -1.1185766191933202,
          0.030218582595458777,
          0.22818071274274482,
          -0.20154169940218186,
          -0.9382400070283291,
          -0.5407653160901239,
          0.03399791994361127,
          -0.1263932664606678,
          -1.9991012100750234,
          -1.3281070200509209,
          -1.266527572614642,
          -0.6590304660948538,
          -0.6038314944169267,
          -0.5209931216875565,
          -1.0875536589229868,
          0.2676600363445982,
          0.28953881801923137,
          -1.0598877555791468,
          0.3971970716706394,
          -0.5126785695240577,
          -0.9797066698706884,
          -1.3088625219990708,
          -1.421869401564566,
          0.48265096872024776,
          0.7482127746603067,
          -2.133104588348111,
          -1.8710169084754382,
          0.11792796320970941,
          -0.6321380743549365,
          0.5961568308307523,
          1.11352599149512,
          -1.3852210078477463,
          -0.23836650898361234,
          0.35990007706698574,
          -2.4756749550769053,
          0.1865725722569815
         ],
         "xaxis": "x3",
         "y": [
          -0.5893247467893137,
          0.06357799381554469,
          0.3335160921609745,
          0.3243661733043439,
          0.6787084891857187,
          -0.8798125623521266,
          -0.061710317783818004,
          -0.6900260083396907,
          -1.0522257446491912,
          0.2590016072445179,
          1.122478052572237,
          -0.30449682024732316,
          2.267454273919806,
          1.123114298512772,
          -0.6257724174399768,
          1.701367743435107,
          -0.26754379725565747,
          0.3003012512826872,
          -0.3777573284785868,
          -0.49072235963782135,
          0.47438039624374584,
          -0.9607355212592849,
          -0.01448730604106568,
          0.7818381394772317,
          0.47532496228524435,
          -0.8274720991535782,
          -0.9284276067853057,
          -1.488251013296298,
          0.23396954153909585,
          1.869180554136494,
          -0.27883637077933304,
          -0.49624437594324633,
          0.879061425460165,
          0.019113394365269577,
          1.1757641619276693,
          0.5894504709946624,
          1.4571618706876532,
          0.2106774240345165,
          -1.2182225650030216,
          -0.26967153456414256,
          0.8386234979200884,
          -1.1357835340401106,
          0.8926944889147607,
          -0.30968190234772086,
          1.0517072919721753,
          -1.2292761269220487,
          0.1429175250658092,
          -0.20868482281688108,
          0.5809020967712989,
          -1.1356002159648928,
          0.5996902800483412,
          1.7939424342799457,
          0.5131548974217541,
          1.172634706569258,
          -0.5766421668040401,
          0.46792076906214874,
          0.9969095439213087,
          0.21079364926988753,
          -1.306177547922756,
          -0.9305224274786199,
          0.4682250885871653,
          0.9693097901681132,
          -2.422557021111485,
          0.7858934649760749,
          -0.42506148315700365,
          -1.1776687308011278,
          2.2897119366258867,
          -0.7217004741651094,
          -0.9737110269480089,
          0.4190362375628981,
          -0.7391331202884779,
          -0.5555335418005726,
          -0.6785442909794438,
          -0.5230462779813413,
          -0.19618762434273726,
          -1.020057265171055,
          1.381583295856783,
          -1.3195078598361525,
          0.11768444018206939,
          0.07088724711071444,
          -0.41152734532531077,
          -0.2144863229665085,
          0.3000765406875,
          0.6506309442988503,
          0.8406330967821201,
          0.6551793622147913,
          -1.0321856810764007,
          0.5340585373125538,
          -0.062237136294529594,
          0.2250207871795296,
          0.8894595124404172,
          1.3538895386143526,
          0.2817394146169772,
          1.2786671214167356,
          -0.33824826463402663,
          1.1999423130980735,
          0.04203995852535922,
          1.149306256216227,
          1.641525664697918,
          -0.6463223417336121
         ],
         "yaxis": "y3"
        },
        {
         "line": {
          "color": "rgba(128, 128, 128, 1.0)",
          "dash": "solid",
          "shape": "linear",
          "width": 1.3
         },
         "marker": {
          "size": 2,
          "symbol": "circle"
         },
         "mode": "markers",
         "name": "A",
         "text": "",
         "type": "scatter",
         "x": [
          0.3132413364996825,
          0.5164174556087842,
          -1.7447372673773398,
          -0.528880172889918,
          1.033665036725101,
          0.873311394994029,
          0.8249908464050247,
          0.9273397491692893,
          -0.8215058131985827,
          -0.8338394535403043,
          0.6593856425722231,
          0.606812543064322,
          1.0366572251911874,
          -0.1838123154502142,
          -0.20255865641686507,
          -0.21478677434427987,
          0.42683648089814025,
          0.8075809913991108,
          3.588713411113252,
          -0.23269749284998376,
          1.1458371773320664,
          0.15350908534039004,
          -0.09355790030975901,
          -2.1551973689769155,
          0.6341354055616454,
          -1.3269834908993567,
          1.357070496588174,
          -0.863944691468353,
          -0.32596706926126623,
          -1.0305917008899146,
          -1.924646040143175,
          1.2923917923983734,
          1.9237844815778715,
          -0.48887692696949653,
          -0.5799400968574776,
          -1.8084695250653529,
          0.34915227891884415,
          0.021587918287322816,
          1.8738783065307074,
          -2.0586680039229046,
          -0.2924245775655203,
          -0.8470645847823713,
          0.45056001836452403,
          0.6348733493561158,
          -0.05420891092805153,
          1.4918185827662416,
          -1.124726844622321,
          -1.160276889128454,
          -1.815885096838446,
          0.15342969039819218,
          1.550598326829556,
          0.2197474501683362,
          -0.8128773277477808,
          0.6372434340238345,
          0.5706402164732105,
          -0.7959502516548398,
          0.7114564128194969,
          -0.381733380041855,
          -0.8762451254574802,
          0.39495110511007064,
          0.0009804939368298273,
          1.0761618317249724,
          0.18466593097894565,
          -1.3431239241579576,
          0.6410572260021555,
          -1.776934017171851,
          -1.8652013021519074,
          -0.11037286401511258,
          0.49461982191473397,
          0.2159836931037541,
          -0.9894954037552692,
          1.0296888720181843,
          0.004919324642563422,
          1.573193852011606,
          -0.014839678786844444,
          -0.950094388676654,
          0.8885889188498369,
          0.2486231614394077,
          2.265740662571898,
          -1.6061175371701175,
          -0.8861363719746421,
          0.053462340071665095,
          0.0556482498375347,
          0.5318168459142504,
          -0.8798981290139644,
          0.5742427858202375,
          -1.3527934392569503,
          1.4531258907979674,
          -0.5192312520648216,
          0.03303622891287528,
          0.757101307601849,
          -0.607351686021069,
          -1.4141927512221015,
          -0.6679557973217564,
          2.6669129852176447,
          -0.29655987552981844,
          -0.6393450954746018,
          -0.3442074457638253,
          -2.5294642240008076,
          1.6447753012195332
         ],
         "xaxis": "x4",
         "y": [
          -0.5893247467893137,
          0.06357799381554469,
          0.3335160921609745,
          0.3243661733043439,
          0.6787084891857187,
          -0.8798125623521266,
          -0.061710317783818004,
          -0.6900260083396907,
          -1.0522257446491912,
          0.2590016072445179,
          1.122478052572237,
          -0.30449682024732316,
          2.267454273919806,
          1.123114298512772,
          -0.6257724174399768,
          1.701367743435107,
          -0.26754379725565747,
          0.3003012512826872,
          -0.3777573284785868,
          -0.49072235963782135,
          0.47438039624374584,
          -0.9607355212592849,
          -0.01448730604106568,
          0.7818381394772317,
          0.47532496228524435,
          -0.8274720991535782,
          -0.9284276067853057,
          -1.488251013296298,
          0.23396954153909585,
          1.869180554136494,
          -0.27883637077933304,
          -0.49624437594324633,
          0.879061425460165,
          0.019113394365269577,
          1.1757641619276693,
          0.5894504709946624,
          1.4571618706876532,
          0.2106774240345165,
          -1.2182225650030216,
          -0.26967153456414256,
          0.8386234979200884,
          -1.1357835340401106,
          0.8926944889147607,
          -0.30968190234772086,
          1.0517072919721753,
          -1.2292761269220487,
          0.1429175250658092,
          -0.20868482281688108,
          0.5809020967712989,
          -1.1356002159648928,
          0.5996902800483412,
          1.7939424342799457,
          0.5131548974217541,
          1.172634706569258,
          -0.5766421668040401,
          0.46792076906214874,
          0.9969095439213087,
          0.21079364926988753,
          -1.306177547922756,
          -0.9305224274786199,
          0.4682250885871653,
          0.9693097901681132,
          -2.422557021111485,
          0.7858934649760749,
          -0.42506148315700365,
          -1.1776687308011278,
          2.2897119366258867,
          -0.7217004741651094,
          -0.9737110269480089,
          0.4190362375628981,
          -0.7391331202884779,
          -0.5555335418005726,
          -0.6785442909794438,
          -0.5230462779813413,
          -0.19618762434273726,
          -1.020057265171055,
          1.381583295856783,
          -1.3195078598361525,
          0.11768444018206939,
          0.07088724711071444,
          -0.41152734532531077,
          -0.2144863229665085,
          0.3000765406875,
          0.6506309442988503,
          0.8406330967821201,
          0.6551793622147913,
          -1.0321856810764007,
          0.5340585373125538,
          -0.062237136294529594,
          0.2250207871795296,
          0.8894595124404172,
          1.3538895386143526,
          0.2817394146169772,
          1.2786671214167356,
          -0.33824826463402663,
          1.1999423130980735,
          0.04203995852535922,
          1.149306256216227,
          1.641525664697918,
          -0.6463223417336121
         ],
         "yaxis": "y4"
        },
        {
         "line": {
          "color": "rgba(128, 128, 128, 1.0)",
          "dash": "solid",
          "shape": "linear",
          "width": 1.3
         },
         "marker": {
          "size": 2,
          "symbol": "circle"
         },
         "mode": "markers",
         "name": "B",
         "text": "",
         "type": "scatter",
         "x": [
          -0.5893247467893137,
          0.06357799381554469,
          0.3335160921609745,
          0.3243661733043439,
          0.6787084891857187,
          -0.8798125623521266,
          -0.061710317783818004,
          -0.6900260083396907,
          -1.0522257446491912,
          0.2590016072445179,
          1.122478052572237,
          -0.30449682024732316,
          2.267454273919806,
          1.123114298512772,
          -0.6257724174399768,
          1.701367743435107,
          -0.26754379725565747,
          0.3003012512826872,
          -0.3777573284785868,
          -0.49072235963782135,
          0.47438039624374584,
          -0.9607355212592849,
          -0.01448730604106568,
          0.7818381394772317,
          0.47532496228524435,
          -0.8274720991535782,
          -0.9284276067853057,
          -1.488251013296298,
          0.23396954153909585,
          1.869180554136494,
          -0.27883637077933304,
          -0.49624437594324633,
          0.879061425460165,
          0.019113394365269577,
          1.1757641619276693,
          0.5894504709946624,
          1.4571618706876532,
          0.2106774240345165,
          -1.2182225650030216,
          -0.26967153456414256,
          0.8386234979200884,
          -1.1357835340401106,
          0.8926944889147607,
          -0.30968190234772086,
          1.0517072919721753,
          -1.2292761269220487,
          0.1429175250658092,
          -0.20868482281688108,
          0.5809020967712989,
          -1.1356002159648928,
          0.5996902800483412,
          1.7939424342799457,
          0.5131548974217541,
          1.172634706569258,
          -0.5766421668040401,
          0.46792076906214874,
          0.9969095439213087,
          0.21079364926988753,
          -1.306177547922756,
          -0.9305224274786199,
          0.4682250885871653,
          0.9693097901681132,
          -2.422557021111485,
          0.7858934649760749,
          -0.42506148315700365,
          -1.1776687308011278,
          2.2897119366258867,
          -0.7217004741651094,
          -0.9737110269480089,
          0.4190362375628981,
          -0.7391331202884779,
          -0.5555335418005726,
          -0.6785442909794438,
          -0.5230462779813413,
          -0.19618762434273726,
          -1.020057265171055,
          1.381583295856783,
          -1.3195078598361525,
          0.11768444018206939,
          0.07088724711071444,
          -0.41152734532531077,
          -0.2144863229665085,
          0.3000765406875,
          0.6506309442988503,
          0.8406330967821201,
          0.6551793622147913,
          -1.0321856810764007,
          0.5340585373125538,
          -0.062237136294529594,
          0.2250207871795296,
          0.8894595124404172,
          1.3538895386143526,
          0.2817394146169772,
          1.2786671214167356,
          -0.33824826463402663,
          1.1999423130980735,
          0.04203995852535922,
          1.149306256216227,
          1.641525664697918,
          -0.6463223417336121
         ],
         "xaxis": "x5",
         "y": [
          1.8124925870160997,
          1.086663682175712,
          -1.8953243258357049,
          -0.392843436166962,
          -0.1567169632575485,
          0.9645413080533394,
          0.17939239711442306,
          -0.5596859964104648,
          0.08895987969414001,
          1.2410834269061197,
          -0.16635960086585302,
          -0.2693807178383773,
          0.8616972888977513,
          -0.32162793172586895,
          -0.7263427607658054,
          0.19433049801394328,
          0.9230331246428911,
          1.6738866616294028,
          2.844028514290566,
          0.08124111784770374,
          1.559763934272282,
          -0.028424724115640336,
          -1.5978583981740588,
          1.3928576720947006,
          2.0229086490252826,
          -1.7694810175837032,
          0.048379614153000024,
          -1.079273422471972,
          1.2672551795759603,
          -0.1387742179814284,
          0.17791343334287685,
          -0.16720070633069986,
          -0.10054709814906158,
          -0.4045908852076268,
          0.12613317418414827,
          -0.5705034300132444,
          0.46209916749023333,
          0.4246966632128942,
          -0.8374278258285641,
          -0.9638366983275459,
          0.976890575946419,
          0.7835331653136482,
          2.033276023577144,
          1.1199398530052502,
          0.41138271732725634,
          1.0078069220383363,
          -1.17204783089823,
          -0.030259256831799808,
          -0.0725649072425263,
          -1.4986111479891409,
          0.6024912562451382,
          -0.34153690368730827,
          -1.015779510613287,
          0.6290209644622186,
          1.063457337554401,
          0.836723127079669,
          0.15820480216977437,
          -1.5203659349823258,
          -0.8072700824714942,
          0.4091445040915564,
          0.11572276858949519,
          -0.7164543939959533,
          -0.07286098502404578,
          0.38153643710956087,
          0.8543380617745421,
          -0.1165213944519551,
          0.6319713589030436,
          -1.724235407313587,
          0.386413105368971,
          -0.2386928216312317,
          0.732732670662475,
          -0.24461445087908382,
          -0.15065292063607347,
          1.5751534559338005,
          -1.5582891131847143,
          -0.18228298191894451,
          -0.41116032632912836,
          -0.17708445099528772,
          0.24337163271237103,
          1.192683688423048,
          0.9782283130777022,
          0.24352349186539524,
          -0.9532991377363603,
          -0.6462511604959087,
          0.7085017132965485,
          -2.1084373382894226,
          -0.5809716735247753,
          0.8850207737297211,
          0.246091165930676,
          -0.503503699045387,
          -2.0346014589949073,
          0.7399600548898199,
          0.867255339032245,
          2.6404520588474565,
          -0.4100752894175069,
          0.8762080237341998,
          0.07387253745176947,
          0.05732143006845413,
          0.4586850385176115,
          0.8508544486089744
         ],
         "yaxis": "y5"
        },
        {
         "histfunc": "count",
         "histnorm": "",
         "marker": {
          "color": "rgba(55, 128, 191, 1.0)",
          "line": {
           "color": "#4D5663",
           "width": 1.3
          }
         },
         "name": "B",
         "nbinsx": 10,
         "opacity": 0.8,
         "orientation": "v",
         "type": "histogram",
         "x": [
          1.8124925870160997,
          1.086663682175712,
          -1.8953243258357049,
          -0.392843436166962,
          -0.1567169632575485,
          0.9645413080533394,
          0.17939239711442306,
          -0.5596859964104648,
          0.08895987969414001,
          1.2410834269061197,
          -0.16635960086585302,
          -0.2693807178383773,
          0.8616972888977513,
          -0.32162793172586895,
          -0.7263427607658054,
          0.19433049801394328,
          0.9230331246428911,
          1.6738866616294028,
          2.844028514290566,
          0.08124111784770374,
          1.559763934272282,
          -0.028424724115640336,
          -1.5978583981740588,
          1.3928576720947006,
          2.0229086490252826,
          -1.7694810175837032,
          0.048379614153000024,
          -1.079273422471972,
          1.2672551795759603,
          -0.1387742179814284,
          0.17791343334287685,
          -0.16720070633069986,
          -0.10054709814906158,
          -0.4045908852076268,
          0.12613317418414827,
          -0.5705034300132444,
          0.46209916749023333,
          0.4246966632128942,
          -0.8374278258285641,
          -0.9638366983275459,
          0.976890575946419,
          0.7835331653136482,
          2.033276023577144,
          1.1199398530052502,
          0.41138271732725634,
          1.0078069220383363,
          -1.17204783089823,
          -0.030259256831799808,
          -0.0725649072425263,
          -1.4986111479891409,
          0.6024912562451382,
          -0.34153690368730827,
          -1.015779510613287,
          0.6290209644622186,
          1.063457337554401,
          0.836723127079669,
          0.15820480216977437,
          -1.5203659349823258,
          -0.8072700824714942,
          0.4091445040915564,
          0.11572276858949519,
          -0.7164543939959533,
          -0.07286098502404578,
          0.38153643710956087,
          0.8543380617745421,
          -0.1165213944519551,
          0.6319713589030436,
          -1.724235407313587,
          0.386413105368971,
          -0.2386928216312317,
          0.732732670662475,
          -0.24461445087908382,
          -0.15065292063607347,
          1.5751534559338005,
          -1.5582891131847143,
          -0.18228298191894451,
          -0.41116032632912836,
          -0.17708445099528772,
          0.24337163271237103,
          1.192683688423048,
          0.9782283130777022,
          0.24352349186539524,
          -0.9532991377363603,
          -0.6462511604959087,
          0.7085017132965485,
          -2.1084373382894226,
          -0.5809716735247753,
          0.8850207737297211,
          0.246091165930676,
          -0.503503699045387,
          -2.0346014589949073,
          0.7399600548898199,
          0.867255339032245,
          2.6404520588474565,
          -0.4100752894175069,
          0.8762080237341998,
          0.07387253745176947,
          0.05732143006845413,
          0.4586850385176115,
          0.8508544486089744
         ],
         "xaxis": "x6",
         "yaxis": "y6"
        },
        {
         "line": {
          "color": "rgba(128, 128, 128, 1.0)",
          "dash": "solid",
          "shape": "linear",
          "width": 1.3
         },
         "marker": {
          "size": 2,
          "symbol": "circle"
         },
         "mode": "markers",
         "name": "B",
         "text": "",
         "type": "scatter",
         "x": [
          -0.5887201252080634,
          0.7019925031583143,
          -0.12152814849423052,
          -1.2708438572364291,
          1.005385839304346,
          -0.9984428692265944,
          1.4321629049952669,
          -1.0560767907795185,
          -0.6562327117597355,
          -0.3950371209300445,
          -0.6369083886879076,
          0.16740259901346027,
          -1.197787967906911,
          -0.5757438379751361,
          -0.9660314149290065,
          -1.280312500419322,
          0.44919005132260154,
          0.9912354246161327,
          -0.22665091004576998,
          2.00195641786289,
          0.6521292871423648,
          -0.5858611758478834,
          -0.2026706703994717,
          -1.1400881200028743,
          -1.6598845111368843,
          -0.3821632649493528,
          0.40015268984340935,
          -0.24779955580087326,
          -0.22014964502210926,
          1.9826019378014421,
          -2.078964493043121,
          0.8232357228810001,
          -0.3410786708737788,
          0.2326250073562358,
          0.017721847740962565,
          0.06476185482905336,
          1.0856823558781863,
          -1.1863410497481561,
          -0.47395933534119455,
          0.42867872806233165,
          -0.9792302166465338,
          -0.3188004167296261,
          -1.6634411913351508,
          -0.1536391932935441,
          0.37680087031661724,
          -0.1622649507322113,
          -1.0233161895393332,
          -0.6374744254895608,
          -0.38932829571389926,
          0.28352499938728154,
          -0.17052285870812525,
          0.4544231814922744,
          0.6279385675513667,
          -0.29750956972512393,
          -0.9990886330259056,
          -1.432305886084423,
          1.7747315663056045,
          -0.6129901984631514,
          -1.5192985319482608,
          -1.02953724278035,
          0.2749969544641621,
          0.6089404947881051,
          -0.5657258936149782,
          0.1609301397325709,
          -1.1185766191933202,
          0.030218582595458777,
          0.22818071274274482,
          -0.20154169940218186,
          -0.9382400070283291,
          -0.5407653160901239,
          0.03399791994361127,
          -0.1263932664606678,
          -1.9991012100750234,
          -1.3281070200509209,
          -1.266527572614642,
          -0.6590304660948538,
          -0.6038314944169267,
          -0.5209931216875565,
          -1.0875536589229868,
          0.2676600363445982,
          0.28953881801923137,
          -1.0598877555791468,
          0.3971970716706394,
          -0.5126785695240577,
          -0.9797066698706884,
          -1.3088625219990708,
          -1.421869401564566,
          0.48265096872024776,
          0.7482127746603067,
          -2.133104588348111,
          -1.8710169084754382,
          0.11792796320970941,
          -0.6321380743549365,
          0.5961568308307523,
          1.11352599149512,
          -1.3852210078477463,
          -0.23836650898361234,
          0.35990007706698574,
          -2.4756749550769053,
          0.1865725722569815
         ],
         "xaxis": "x7",
         "y": [
          1.8124925870160997,
          1.086663682175712,
          -1.8953243258357049,
          -0.392843436166962,
          -0.1567169632575485,
          0.9645413080533394,
          0.17939239711442306,
          -0.5596859964104648,
          0.08895987969414001,
          1.2410834269061197,
          -0.16635960086585302,
          -0.2693807178383773,
          0.8616972888977513,
          -0.32162793172586895,
          -0.7263427607658054,
          0.19433049801394328,
          0.9230331246428911,
          1.6738866616294028,
          2.844028514290566,
          0.08124111784770374,
          1.559763934272282,
          -0.028424724115640336,
          -1.5978583981740588,
          1.3928576720947006,
          2.0229086490252826,
          -1.7694810175837032,
          0.048379614153000024,
          -1.079273422471972,
          1.2672551795759603,
          -0.1387742179814284,
          0.17791343334287685,
          -0.16720070633069986,
          -0.10054709814906158,
          -0.4045908852076268,
          0.12613317418414827,
          -0.5705034300132444,
          0.46209916749023333,
          0.4246966632128942,
          -0.8374278258285641,
          -0.9638366983275459,
          0.976890575946419,
          0.7835331653136482,
          2.033276023577144,
          1.1199398530052502,
          0.41138271732725634,
          1.0078069220383363,
          -1.17204783089823,
          -0.030259256831799808,
          -0.0725649072425263,
          -1.4986111479891409,
          0.6024912562451382,
          -0.34153690368730827,
          -1.015779510613287,
          0.6290209644622186,
          1.063457337554401,
          0.836723127079669,
          0.15820480216977437,
          -1.5203659349823258,
          -0.8072700824714942,
          0.4091445040915564,
          0.11572276858949519,
          -0.7164543939959533,
          -0.07286098502404578,
          0.38153643710956087,
          0.8543380617745421,
          -0.1165213944519551,
          0.6319713589030436,
          -1.724235407313587,
          0.386413105368971,
          -0.2386928216312317,
          0.732732670662475,
          -0.24461445087908382,
          -0.15065292063607347,
          1.5751534559338005,
          -1.5582891131847143,
          -0.18228298191894451,
          -0.41116032632912836,
          -0.17708445099528772,
          0.24337163271237103,
          1.192683688423048,
          0.9782283130777022,
          0.24352349186539524,
          -0.9532991377363603,
          -0.6462511604959087,
          0.7085017132965485,
          -2.1084373382894226,
          -0.5809716735247753,
          0.8850207737297211,
          0.246091165930676,
          -0.503503699045387,
          -2.0346014589949073,
          0.7399600548898199,
          0.867255339032245,
          2.6404520588474565,
          -0.4100752894175069,
          0.8762080237341998,
          0.07387253745176947,
          0.05732143006845413,
          0.4586850385176115,
          0.8508544486089744
         ],
         "yaxis": "y7"
        },
        {
         "line": {
          "color": "rgba(128, 128, 128, 1.0)",
          "dash": "solid",
          "shape": "linear",
          "width": 1.3
         },
         "marker": {
          "size": 2,
          "symbol": "circle"
         },
         "mode": "markers",
         "name": "B",
         "text": "",
         "type": "scatter",
         "x": [
          0.3132413364996825,
          0.5164174556087842,
          -1.7447372673773398,
          -0.528880172889918,
          1.033665036725101,
          0.873311394994029,
          0.8249908464050247,
          0.9273397491692893,
          -0.8215058131985827,
          -0.8338394535403043,
          0.6593856425722231,
          0.606812543064322,
          1.0366572251911874,
          -0.1838123154502142,
          -0.20255865641686507,
          -0.21478677434427987,
          0.42683648089814025,
          0.8075809913991108,
          3.588713411113252,
          -0.23269749284998376,
          1.1458371773320664,
          0.15350908534039004,
          -0.09355790030975901,
          -2.1551973689769155,
          0.6341354055616454,
          -1.3269834908993567,
          1.357070496588174,
          -0.863944691468353,
          -0.32596706926126623,
          -1.0305917008899146,
          -1.924646040143175,
          1.2923917923983734,
          1.9237844815778715,
          -0.48887692696949653,
          -0.5799400968574776,
          -1.8084695250653529,
          0.34915227891884415,
          0.021587918287322816,
          1.8738783065307074,
          -2.0586680039229046,
          -0.2924245775655203,
          -0.8470645847823713,
          0.45056001836452403,
          0.6348733493561158,
          -0.05420891092805153,
          1.4918185827662416,
          -1.124726844622321,
          -1.160276889128454,
          -1.815885096838446,
          0.15342969039819218,
          1.550598326829556,
          0.2197474501683362,
          -0.8128773277477808,
          0.6372434340238345,
          0.5706402164732105,
          -0.7959502516548398,
          0.7114564128194969,
          -0.381733380041855,
          -0.8762451254574802,
          0.39495110511007064,
          0.0009804939368298273,
          1.0761618317249724,
          0.18466593097894565,
          -1.3431239241579576,
          0.6410572260021555,
          -1.776934017171851,
          -1.8652013021519074,
          -0.11037286401511258,
          0.49461982191473397,
          0.2159836931037541,
          -0.9894954037552692,
          1.0296888720181843,
          0.004919324642563422,
          1.573193852011606,
          -0.014839678786844444,
          -0.950094388676654,
          0.8885889188498369,
          0.2486231614394077,
          2.265740662571898,
          -1.6061175371701175,
          -0.8861363719746421,
          0.053462340071665095,
          0.0556482498375347,
          0.5318168459142504,
          -0.8798981290139644,
          0.5742427858202375,
          -1.3527934392569503,
          1.4531258907979674,
          -0.5192312520648216,
          0.03303622891287528,
          0.757101307601849,
          -0.607351686021069,
          -1.4141927512221015,
          -0.6679557973217564,
          2.6669129852176447,
          -0.29655987552981844,
          -0.6393450954746018,
          -0.3442074457638253,
          -2.5294642240008076,
          1.6447753012195332
         ],
         "xaxis": "x8",
         "y": [
          1.8124925870160997,
          1.086663682175712,
          -1.8953243258357049,
          -0.392843436166962,
          -0.1567169632575485,
          0.9645413080533394,
          0.17939239711442306,
          -0.5596859964104648,
          0.08895987969414001,
          1.2410834269061197,
          -0.16635960086585302,
          -0.2693807178383773,
          0.8616972888977513,
          -0.32162793172586895,
          -0.7263427607658054,
          0.19433049801394328,
          0.9230331246428911,
          1.6738866616294028,
          2.844028514290566,
          0.08124111784770374,
          1.559763934272282,
          -0.028424724115640336,
          -1.5978583981740588,
          1.3928576720947006,
          2.0229086490252826,
          -1.7694810175837032,
          0.048379614153000024,
          -1.079273422471972,
          1.2672551795759603,
          -0.1387742179814284,
          0.17791343334287685,
          -0.16720070633069986,
          -0.10054709814906158,
          -0.4045908852076268,
          0.12613317418414827,
          -0.5705034300132444,
          0.46209916749023333,
          0.4246966632128942,
          -0.8374278258285641,
          -0.9638366983275459,
          0.976890575946419,
          0.7835331653136482,
          2.033276023577144,
          1.1199398530052502,
          0.41138271732725634,
          1.0078069220383363,
          -1.17204783089823,
          -0.030259256831799808,
          -0.0725649072425263,
          -1.4986111479891409,
          0.6024912562451382,
          -0.34153690368730827,
          -1.015779510613287,
          0.6290209644622186,
          1.063457337554401,
          0.836723127079669,
          0.15820480216977437,
          -1.5203659349823258,
          -0.8072700824714942,
          0.4091445040915564,
          0.11572276858949519,
          -0.7164543939959533,
          -0.07286098502404578,
          0.38153643710956087,
          0.8543380617745421,
          -0.1165213944519551,
          0.6319713589030436,
          -1.724235407313587,
          0.386413105368971,
          -0.2386928216312317,
          0.732732670662475,
          -0.24461445087908382,
          -0.15065292063607347,
          1.5751534559338005,
          -1.5582891131847143,
          -0.18228298191894451,
          -0.41116032632912836,
          -0.17708445099528772,
          0.24337163271237103,
          1.192683688423048,
          0.9782283130777022,
          0.24352349186539524,
          -0.9532991377363603,
          -0.6462511604959087,
          0.7085017132965485,
          -2.1084373382894226,
          -0.5809716735247753,
          0.8850207737297211,
          0.246091165930676,
          -0.503503699045387,
          -2.0346014589949073,
          0.7399600548898199,
          0.867255339032245,
          2.6404520588474565,
          -0.4100752894175069,
          0.8762080237341998,
          0.07387253745176947,
          0.05732143006845413,
          0.4586850385176115,
          0.8508544486089744
         ],
         "yaxis": "y8"
        },
        {
         "line": {
          "color": "rgba(128, 128, 128, 1.0)",
          "dash": "solid",
          "shape": "linear",
          "width": 1.3
         },
         "marker": {
          "size": 2,
          "symbol": "circle"
         },
         "mode": "markers",
         "name": "C",
         "text": "",
         "type": "scatter",
         "x": [
          -0.5893247467893137,
          0.06357799381554469,
          0.3335160921609745,
          0.3243661733043439,
          0.6787084891857187,
          -0.8798125623521266,
          -0.061710317783818004,
          -0.6900260083396907,
          -1.0522257446491912,
          0.2590016072445179,
          1.122478052572237,
          -0.30449682024732316,
          2.267454273919806,
          1.123114298512772,
          -0.6257724174399768,
          1.701367743435107,
          -0.26754379725565747,
          0.3003012512826872,
          -0.3777573284785868,
          -0.49072235963782135,
          0.47438039624374584,
          -0.9607355212592849,
          -0.01448730604106568,
          0.7818381394772317,
          0.47532496228524435,
          -0.8274720991535782,
          -0.9284276067853057,
          -1.488251013296298,
          0.23396954153909585,
          1.869180554136494,
          -0.27883637077933304,
          -0.49624437594324633,
          0.879061425460165,
          0.019113394365269577,
          1.1757641619276693,
          0.5894504709946624,
          1.4571618706876532,
          0.2106774240345165,
          -1.2182225650030216,
          -0.26967153456414256,
          0.8386234979200884,
          -1.1357835340401106,
          0.8926944889147607,
          -0.30968190234772086,
          1.0517072919721753,
          -1.2292761269220487,
          0.1429175250658092,
          -0.20868482281688108,
          0.5809020967712989,
          -1.1356002159648928,
          0.5996902800483412,
          1.7939424342799457,
          0.5131548974217541,
          1.172634706569258,
          -0.5766421668040401,
          0.46792076906214874,
          0.9969095439213087,
          0.21079364926988753,
          -1.306177547922756,
          -0.9305224274786199,
          0.4682250885871653,
          0.9693097901681132,
          -2.422557021111485,
          0.7858934649760749,
          -0.42506148315700365,
          -1.1776687308011278,
          2.2897119366258867,
          -0.7217004741651094,
          -0.9737110269480089,
          0.4190362375628981,
          -0.7391331202884779,
          -0.5555335418005726,
          -0.6785442909794438,
          -0.5230462779813413,
          -0.19618762434273726,
          -1.020057265171055,
          1.381583295856783,
          -1.3195078598361525,
          0.11768444018206939,
          0.07088724711071444,
          -0.41152734532531077,
          -0.2144863229665085,
          0.3000765406875,
          0.6506309442988503,
          0.8406330967821201,
          0.6551793622147913,
          -1.0321856810764007,
          0.5340585373125538,
          -0.062237136294529594,
          0.2250207871795296,
          0.8894595124404172,
          1.3538895386143526,
          0.2817394146169772,
          1.2786671214167356,
          -0.33824826463402663,
          1.1999423130980735,
          0.04203995852535922,
          1.149306256216227,
          1.641525664697918,
          -0.6463223417336121
         ],
         "xaxis": "x9",
         "y": [
          -0.5887201252080634,
          0.7019925031583143,
          -0.12152814849423052,
          -1.2708438572364291,
          1.005385839304346,
          -0.9984428692265944,
          1.4321629049952669,
          -1.0560767907795185,
          -0.6562327117597355,
          -0.3950371209300445,
          -0.6369083886879076,
          0.16740259901346027,
          -1.197787967906911,
          -0.5757438379751361,
          -0.9660314149290065,
          -1.280312500419322,
          0.44919005132260154,
          0.9912354246161327,
          -0.22665091004576998,
          2.00195641786289,
          0.6521292871423648,
          -0.5858611758478834,
          -0.2026706703994717,
          -1.1400881200028743,
          -1.6598845111368843,
          -0.3821632649493528,
          0.40015268984340935,
          -0.24779955580087326,
          -0.22014964502210926,
          1.9826019378014421,
          -2.078964493043121,
          0.8232357228810001,
          -0.3410786708737788,
          0.2326250073562358,
          0.017721847740962565,
          0.06476185482905336,
          1.0856823558781863,
          -1.1863410497481561,
          -0.47395933534119455,
          0.42867872806233165,
          -0.9792302166465338,
          -0.3188004167296261,
          -1.6634411913351508,
          -0.1536391932935441,
          0.37680087031661724,
          -0.1622649507322113,
          -1.0233161895393332,
          -0.6374744254895608,
          -0.38932829571389926,
          0.28352499938728154,
          -0.17052285870812525,
          0.4544231814922744,
          0.6279385675513667,
          -0.29750956972512393,
          -0.9990886330259056,
          -1.432305886084423,
          1.7747315663056045,
          -0.6129901984631514,
          -1.5192985319482608,
          -1.02953724278035,
          0.2749969544641621,
          0.6089404947881051,
          -0.5657258936149782,
          0.1609301397325709,
          -1.1185766191933202,
          0.030218582595458777,
          0.22818071274274482,
          -0.20154169940218186,
          -0.9382400070283291,
          -0.5407653160901239,
          0.03399791994361127,
          -0.1263932664606678,
          -1.9991012100750234,
          -1.3281070200509209,
          -1.266527572614642,
          -0.6590304660948538,
          -0.6038314944169267,
          -0.5209931216875565,
          -1.0875536589229868,
          0.2676600363445982,
          0.28953881801923137,
          -1.0598877555791468,
          0.3971970716706394,
          -0.5126785695240577,
          -0.9797066698706884,
          -1.3088625219990708,
          -1.421869401564566,
          0.48265096872024776,
          0.7482127746603067,
          -2.133104588348111,
          -1.8710169084754382,
          0.11792796320970941,
          -0.6321380743549365,
          0.5961568308307523,
          1.11352599149512,
          -1.3852210078477463,
          -0.23836650898361234,
          0.35990007706698574,
          -2.4756749550769053,
          0.1865725722569815
         ],
         "yaxis": "y9"
        },
        {
         "line": {
          "color": "rgba(128, 128, 128, 1.0)",
          "dash": "solid",
          "shape": "linear",
          "width": 1.3
         },
         "marker": {
          "size": 2,
          "symbol": "circle"
         },
         "mode": "markers",
         "name": "C",
         "text": "",
         "type": "scatter",
         "x": [
          1.8124925870160997,
          1.086663682175712,
          -1.8953243258357049,
          -0.392843436166962,
          -0.1567169632575485,
          0.9645413080533394,
          0.17939239711442306,
          -0.5596859964104648,
          0.08895987969414001,
          1.2410834269061197,
          -0.16635960086585302,
          -0.2693807178383773,
          0.8616972888977513,
          -0.32162793172586895,
          -0.7263427607658054,
          0.19433049801394328,
          0.9230331246428911,
          1.6738866616294028,
          2.844028514290566,
          0.08124111784770374,
          1.559763934272282,
          -0.028424724115640336,
          -1.5978583981740588,
          1.3928576720947006,
          2.0229086490252826,
          -1.7694810175837032,
          0.048379614153000024,
          -1.079273422471972,
          1.2672551795759603,
          -0.1387742179814284,
          0.17791343334287685,
          -0.16720070633069986,
          -0.10054709814906158,
          -0.4045908852076268,
          0.12613317418414827,
          -0.5705034300132444,
          0.46209916749023333,
          0.4246966632128942,
          -0.8374278258285641,
          -0.9638366983275459,
          0.976890575946419,
          0.7835331653136482,
          2.033276023577144,
          1.1199398530052502,
          0.41138271732725634,
          1.0078069220383363,
          -1.17204783089823,
          -0.030259256831799808,
          -0.0725649072425263,
          -1.4986111479891409,
          0.6024912562451382,
          -0.34153690368730827,
          -1.015779510613287,
          0.6290209644622186,
          1.063457337554401,
          0.836723127079669,
          0.15820480216977437,
          -1.5203659349823258,
          -0.8072700824714942,
          0.4091445040915564,
          0.11572276858949519,
          -0.7164543939959533,
          -0.07286098502404578,
          0.38153643710956087,
          0.8543380617745421,
          -0.1165213944519551,
          0.6319713589030436,
          -1.724235407313587,
          0.386413105368971,
          -0.2386928216312317,
          0.732732670662475,
          -0.24461445087908382,
          -0.15065292063607347,
          1.5751534559338005,
          -1.5582891131847143,
          -0.18228298191894451,
          -0.41116032632912836,
          -0.17708445099528772,
          0.24337163271237103,
          1.192683688423048,
          0.9782283130777022,
          0.24352349186539524,
          -0.9532991377363603,
          -0.6462511604959087,
          0.7085017132965485,
          -2.1084373382894226,
          -0.5809716735247753,
          0.8850207737297211,
          0.246091165930676,
          -0.503503699045387,
          -2.0346014589949073,
          0.7399600548898199,
          0.867255339032245,
          2.6404520588474565,
          -0.4100752894175069,
          0.8762080237341998,
          0.07387253745176947,
          0.05732143006845413,
          0.4586850385176115,
          0.8508544486089744
         ],
         "xaxis": "x10",
         "y": [
          -0.5887201252080634,
          0.7019925031583143,
          -0.12152814849423052,
          -1.2708438572364291,
          1.005385839304346,
          -0.9984428692265944,
          1.4321629049952669,
          -1.0560767907795185,
          -0.6562327117597355,
          -0.3950371209300445,
          -0.6369083886879076,
          0.16740259901346027,
          -1.197787967906911,
          -0.5757438379751361,
          -0.9660314149290065,
          -1.280312500419322,
          0.44919005132260154,
          0.9912354246161327,
          -0.22665091004576998,
          2.00195641786289,
          0.6521292871423648,
          -0.5858611758478834,
          -0.2026706703994717,
          -1.1400881200028743,
          -1.6598845111368843,
          -0.3821632649493528,
          0.40015268984340935,
          -0.24779955580087326,
          -0.22014964502210926,
          1.9826019378014421,
          -2.078964493043121,
          0.8232357228810001,
          -0.3410786708737788,
          0.2326250073562358,
          0.017721847740962565,
          0.06476185482905336,
          1.0856823558781863,
          -1.1863410497481561,
          -0.47395933534119455,
          0.42867872806233165,
          -0.9792302166465338,
          -0.3188004167296261,
          -1.6634411913351508,
          -0.1536391932935441,
          0.37680087031661724,
          -0.1622649507322113,
          -1.0233161895393332,
          -0.6374744254895608,
          -0.38932829571389926,
          0.28352499938728154,
          -0.17052285870812525,
          0.4544231814922744,
          0.6279385675513667,
          -0.29750956972512393,
          -0.9990886330259056,
          -1.432305886084423,
          1.7747315663056045,
          -0.6129901984631514,
          -1.5192985319482608,
          -1.02953724278035,
          0.2749969544641621,
          0.6089404947881051,
          -0.5657258936149782,
          0.1609301397325709,
          -1.1185766191933202,
          0.030218582595458777,
          0.22818071274274482,
          -0.20154169940218186,
          -0.9382400070283291,
          -0.5407653160901239,
          0.03399791994361127,
          -0.1263932664606678,
          -1.9991012100750234,
          -1.3281070200509209,
          -1.266527572614642,
          -0.6590304660948538,
          -0.6038314944169267,
          -0.5209931216875565,
          -1.0875536589229868,
          0.2676600363445982,
          0.28953881801923137,
          -1.0598877555791468,
          0.3971970716706394,
          -0.5126785695240577,
          -0.9797066698706884,
          -1.3088625219990708,
          -1.421869401564566,
          0.48265096872024776,
          0.7482127746603067,
          -2.133104588348111,
          -1.8710169084754382,
          0.11792796320970941,
          -0.6321380743549365,
          0.5961568308307523,
          1.11352599149512,
          -1.3852210078477463,
          -0.23836650898361234,
          0.35990007706698574,
          -2.4756749550769053,
          0.1865725722569815
         ],
         "yaxis": "y10"
        },
        {
         "histfunc": "count",
         "histnorm": "",
         "marker": {
          "color": "rgba(50, 171, 96, 1.0)",
          "line": {
           "color": "#4D5663",
           "width": 1.3
          }
         },
         "name": "C",
         "nbinsx": 10,
         "opacity": 0.8,
         "orientation": "v",
         "type": "histogram",
         "x": [
          -0.5887201252080634,
          0.7019925031583143,
          -0.12152814849423052,
          -1.2708438572364291,
          1.005385839304346,
          -0.9984428692265944,
          1.4321629049952669,
          -1.0560767907795185,
          -0.6562327117597355,
          -0.3950371209300445,
          -0.6369083886879076,
          0.16740259901346027,
          -1.197787967906911,
          -0.5757438379751361,
          -0.9660314149290065,
          -1.280312500419322,
          0.44919005132260154,
          0.9912354246161327,
          -0.22665091004576998,
          2.00195641786289,
          0.6521292871423648,
          -0.5858611758478834,
          -0.2026706703994717,
          -1.1400881200028743,
          -1.6598845111368843,
          -0.3821632649493528,
          0.40015268984340935,
          -0.24779955580087326,
          -0.22014964502210926,
          1.9826019378014421,
          -2.078964493043121,
          0.8232357228810001,
          -0.3410786708737788,
          0.2326250073562358,
          0.017721847740962565,
          0.06476185482905336,
          1.0856823558781863,
          -1.1863410497481561,
          -0.47395933534119455,
          0.42867872806233165,
          -0.9792302166465338,
          -0.3188004167296261,
          -1.6634411913351508,
          -0.1536391932935441,
          0.37680087031661724,
          -0.1622649507322113,
          -1.0233161895393332,
          -0.6374744254895608,
          -0.38932829571389926,
          0.28352499938728154,
          -0.17052285870812525,
          0.4544231814922744,
          0.6279385675513667,
          -0.29750956972512393,
          -0.9990886330259056,
          -1.432305886084423,
          1.7747315663056045,
          -0.6129901984631514,
          -1.5192985319482608,
          -1.02953724278035,
          0.2749969544641621,
          0.6089404947881051,
          -0.5657258936149782,
          0.1609301397325709,
          -1.1185766191933202,
          0.030218582595458777,
          0.22818071274274482,
          -0.20154169940218186,
          -0.9382400070283291,
          -0.5407653160901239,
          0.03399791994361127,
          -0.1263932664606678,
          -1.9991012100750234,
          -1.3281070200509209,
          -1.266527572614642,
          -0.6590304660948538,
          -0.6038314944169267,
          -0.5209931216875565,
          -1.0875536589229868,
          0.2676600363445982,
          0.28953881801923137,
          -1.0598877555791468,
          0.3971970716706394,
          -0.5126785695240577,
          -0.9797066698706884,
          -1.3088625219990708,
          -1.421869401564566,
          0.48265096872024776,
          0.7482127746603067,
          -2.133104588348111,
          -1.8710169084754382,
          0.11792796320970941,
          -0.6321380743549365,
          0.5961568308307523,
          1.11352599149512,
          -1.3852210078477463,
          -0.23836650898361234,
          0.35990007706698574,
          -2.4756749550769053,
          0.1865725722569815
         ],
         "xaxis": "x11",
         "yaxis": "y11"
        },
        {
         "line": {
          "color": "rgba(128, 128, 128, 1.0)",
          "dash": "solid",
          "shape": "linear",
          "width": 1.3
         },
         "marker": {
          "size": 2,
          "symbol": "circle"
         },
         "mode": "markers",
         "name": "C",
         "text": "",
         "type": "scatter",
         "x": [
          0.3132413364996825,
          0.5164174556087842,
          -1.7447372673773398,
          -0.528880172889918,
          1.033665036725101,
          0.873311394994029,
          0.8249908464050247,
          0.9273397491692893,
          -0.8215058131985827,
          -0.8338394535403043,
          0.6593856425722231,
          0.606812543064322,
          1.0366572251911874,
          -0.1838123154502142,
          -0.20255865641686507,
          -0.21478677434427987,
          0.42683648089814025,
          0.8075809913991108,
          3.588713411113252,
          -0.23269749284998376,
          1.1458371773320664,
          0.15350908534039004,
          -0.09355790030975901,
          -2.1551973689769155,
          0.6341354055616454,
          -1.3269834908993567,
          1.357070496588174,
          -0.863944691468353,
          -0.32596706926126623,
          -1.0305917008899146,
          -1.924646040143175,
          1.2923917923983734,
          1.9237844815778715,
          -0.48887692696949653,
          -0.5799400968574776,
          -1.8084695250653529,
          0.34915227891884415,
          0.021587918287322816,
          1.8738783065307074,
          -2.0586680039229046,
          -0.2924245775655203,
          -0.8470645847823713,
          0.45056001836452403,
          0.6348733493561158,
          -0.05420891092805153,
          1.4918185827662416,
          -1.124726844622321,
          -1.160276889128454,
          -1.815885096838446,
          0.15342969039819218,
          1.550598326829556,
          0.2197474501683362,
          -0.8128773277477808,
          0.6372434340238345,
          0.5706402164732105,
          -0.7959502516548398,
          0.7114564128194969,
          -0.381733380041855,
          -0.8762451254574802,
          0.39495110511007064,
          0.0009804939368298273,
          1.0761618317249724,
          0.18466593097894565,
          -1.3431239241579576,
          0.6410572260021555,
          -1.776934017171851,
          -1.8652013021519074,
          -0.11037286401511258,
          0.49461982191473397,
          0.2159836931037541,
          -0.9894954037552692,
          1.0296888720181843,
          0.004919324642563422,
          1.573193852011606,
          -0.014839678786844444,
          -0.950094388676654,
          0.8885889188498369,
          0.2486231614394077,
          2.265740662571898,
          -1.6061175371701175,
          -0.8861363719746421,
          0.053462340071665095,
          0.0556482498375347,
          0.5318168459142504,
          -0.8798981290139644,
          0.5742427858202375,
          -1.3527934392569503,
          1.4531258907979674,
          -0.5192312520648216,
          0.03303622891287528,
          0.757101307601849,
          -0.607351686021069,
          -1.4141927512221015,
          -0.6679557973217564,
          2.6669129852176447,
          -0.29655987552981844,
          -0.6393450954746018,
          -0.3442074457638253,
          -2.5294642240008076,
          1.6447753012195332
         ],
         "xaxis": "x12",
         "y": [
          -0.5887201252080634,
          0.7019925031583143,
          -0.12152814849423052,
          -1.2708438572364291,
          1.005385839304346,
          -0.9984428692265944,
          1.4321629049952669,
          -1.0560767907795185,
          -0.6562327117597355,
          -0.3950371209300445,
          -0.6369083886879076,
          0.16740259901346027,
          -1.197787967906911,
          -0.5757438379751361,
          -0.9660314149290065,
          -1.280312500419322,
          0.44919005132260154,
          0.9912354246161327,
          -0.22665091004576998,
          2.00195641786289,
          0.6521292871423648,
          -0.5858611758478834,
          -0.2026706703994717,
          -1.1400881200028743,
          -1.6598845111368843,
          -0.3821632649493528,
          0.40015268984340935,
          -0.24779955580087326,
          -0.22014964502210926,
          1.9826019378014421,
          -2.078964493043121,
          0.8232357228810001,
          -0.3410786708737788,
          0.2326250073562358,
          0.017721847740962565,
          0.06476185482905336,
          1.0856823558781863,
          -1.1863410497481561,
          -0.47395933534119455,
          0.42867872806233165,
          -0.9792302166465338,
          -0.3188004167296261,
          -1.6634411913351508,
          -0.1536391932935441,
          0.37680087031661724,
          -0.1622649507322113,
          -1.0233161895393332,
          -0.6374744254895608,
          -0.38932829571389926,
          0.28352499938728154,
          -0.17052285870812525,
          0.4544231814922744,
          0.6279385675513667,
          -0.29750956972512393,
          -0.9990886330259056,
          -1.432305886084423,
          1.7747315663056045,
          -0.6129901984631514,
          -1.5192985319482608,
          -1.02953724278035,
          0.2749969544641621,
          0.6089404947881051,
          -0.5657258936149782,
          0.1609301397325709,
          -1.1185766191933202,
          0.030218582595458777,
          0.22818071274274482,
          -0.20154169940218186,
          -0.9382400070283291,
          -0.5407653160901239,
          0.03399791994361127,
          -0.1263932664606678,
          -1.9991012100750234,
          -1.3281070200509209,
          -1.266527572614642,
          -0.6590304660948538,
          -0.6038314944169267,
          -0.5209931216875565,
          -1.0875536589229868,
          0.2676600363445982,
          0.28953881801923137,
          -1.0598877555791468,
          0.3971970716706394,
          -0.5126785695240577,
          -0.9797066698706884,
          -1.3088625219990708,
          -1.421869401564566,
          0.48265096872024776,
          0.7482127746603067,
          -2.133104588348111,
          -1.8710169084754382,
          0.11792796320970941,
          -0.6321380743549365,
          0.5961568308307523,
          1.11352599149512,
          -1.3852210078477463,
          -0.23836650898361234,
          0.35990007706698574,
          -2.4756749550769053,
          0.1865725722569815
         ],
         "yaxis": "y12"
        },
        {
         "line": {
          "color": "rgba(128, 128, 128, 1.0)",
          "dash": "solid",
          "shape": "linear",
          "width": 1.3
         },
         "marker": {
          "size": 2,
          "symbol": "circle"
         },
         "mode": "markers",
         "name": "D",
         "text": "",
         "type": "scatter",
         "x": [
          -0.5893247467893137,
          0.06357799381554469,
          0.3335160921609745,
          0.3243661733043439,
          0.6787084891857187,
          -0.8798125623521266,
          -0.061710317783818004,
          -0.6900260083396907,
          -1.0522257446491912,
          0.2590016072445179,
          1.122478052572237,
          -0.30449682024732316,
          2.267454273919806,
          1.123114298512772,
          -0.6257724174399768,
          1.701367743435107,
          -0.26754379725565747,
          0.3003012512826872,
          -0.3777573284785868,
          -0.49072235963782135,
          0.47438039624374584,
          -0.9607355212592849,
          -0.01448730604106568,
          0.7818381394772317,
          0.47532496228524435,
          -0.8274720991535782,
          -0.9284276067853057,
          -1.488251013296298,
          0.23396954153909585,
          1.869180554136494,
          -0.27883637077933304,
          -0.49624437594324633,
          0.879061425460165,
          0.019113394365269577,
          1.1757641619276693,
          0.5894504709946624,
          1.4571618706876532,
          0.2106774240345165,
          -1.2182225650030216,
          -0.26967153456414256,
          0.8386234979200884,
          -1.1357835340401106,
          0.8926944889147607,
          -0.30968190234772086,
          1.0517072919721753,
          -1.2292761269220487,
          0.1429175250658092,
          -0.20868482281688108,
          0.5809020967712989,
          -1.1356002159648928,
          0.5996902800483412,
          1.7939424342799457,
          0.5131548974217541,
          1.172634706569258,
          -0.5766421668040401,
          0.46792076906214874,
          0.9969095439213087,
          0.21079364926988753,
          -1.306177547922756,
          -0.9305224274786199,
          0.4682250885871653,
          0.9693097901681132,
          -2.422557021111485,
          0.7858934649760749,
          -0.42506148315700365,
          -1.1776687308011278,
          2.2897119366258867,
          -0.7217004741651094,
          -0.9737110269480089,
          0.4190362375628981,
          -0.7391331202884779,
          -0.5555335418005726,
          -0.6785442909794438,
          -0.5230462779813413,
          -0.19618762434273726,
          -1.020057265171055,
          1.381583295856783,
          -1.3195078598361525,
          0.11768444018206939,
          0.07088724711071444,
          -0.41152734532531077,
          -0.2144863229665085,
          0.3000765406875,
          0.6506309442988503,
          0.8406330967821201,
          0.6551793622147913,
          -1.0321856810764007,
          0.5340585373125538,
          -0.062237136294529594,
          0.2250207871795296,
          0.8894595124404172,
          1.3538895386143526,
          0.2817394146169772,
          1.2786671214167356,
          -0.33824826463402663,
          1.1999423130980735,
          0.04203995852535922,
          1.149306256216227,
          1.641525664697918,
          -0.6463223417336121
         ],
         "xaxis": "x13",
         "y": [
          0.3132413364996825,
          0.5164174556087842,
          -1.7447372673773398,
          -0.528880172889918,
          1.033665036725101,
          0.873311394994029,
          0.8249908464050247,
          0.9273397491692893,
          -0.8215058131985827,
          -0.8338394535403043,
          0.6593856425722231,
          0.606812543064322,
          1.0366572251911874,
          -0.1838123154502142,
          -0.20255865641686507,
          -0.21478677434427987,
          0.42683648089814025,
          0.8075809913991108,
          3.588713411113252,
          -0.23269749284998376,
          1.1458371773320664,
          0.15350908534039004,
          -0.09355790030975901,
          -2.1551973689769155,
          0.6341354055616454,
          -1.3269834908993567,
          1.357070496588174,
          -0.863944691468353,
          -0.32596706926126623,
          -1.0305917008899146,
          -1.924646040143175,
          1.2923917923983734,
          1.9237844815778715,
          -0.48887692696949653,
          -0.5799400968574776,
          -1.8084695250653529,
          0.34915227891884415,
          0.021587918287322816,
          1.8738783065307074,
          -2.0586680039229046,
          -0.2924245775655203,
          -0.8470645847823713,
          0.45056001836452403,
          0.6348733493561158,
          -0.05420891092805153,
          1.4918185827662416,
          -1.124726844622321,
          -1.160276889128454,
          -1.815885096838446,
          0.15342969039819218,
          1.550598326829556,
          0.2197474501683362,
          -0.8128773277477808,
          0.6372434340238345,
          0.5706402164732105,
          -0.7959502516548398,
          0.7114564128194969,
          -0.381733380041855,
          -0.8762451254574802,
          0.39495110511007064,
          0.0009804939368298273,
          1.0761618317249724,
          0.18466593097894565,
          -1.3431239241579576,
          0.6410572260021555,
          -1.776934017171851,
          -1.8652013021519074,
          -0.11037286401511258,
          0.49461982191473397,
          0.2159836931037541,
          -0.9894954037552692,
          1.0296888720181843,
          0.004919324642563422,
          1.573193852011606,
          -0.014839678786844444,
          -0.950094388676654,
          0.8885889188498369,
          0.2486231614394077,
          2.265740662571898,
          -1.6061175371701175,
          -0.8861363719746421,
          0.053462340071665095,
          0.0556482498375347,
          0.5318168459142504,
          -0.8798981290139644,
          0.5742427858202375,
          -1.3527934392569503,
          1.4531258907979674,
          -0.5192312520648216,
          0.03303622891287528,
          0.757101307601849,
          -0.607351686021069,
          -1.4141927512221015,
          -0.6679557973217564,
          2.6669129852176447,
          -0.29655987552981844,
          -0.6393450954746018,
          -0.3442074457638253,
          -2.5294642240008076,
          1.6447753012195332
         ],
         "yaxis": "y13"
        },
        {
         "line": {
          "color": "rgba(128, 128, 128, 1.0)",
          "dash": "solid",
          "shape": "linear",
          "width": 1.3
         },
         "marker": {
          "size": 2,
          "symbol": "circle"
         },
         "mode": "markers",
         "name": "D",
         "text": "",
         "type": "scatter",
         "x": [
          1.8124925870160997,
          1.086663682175712,
          -1.8953243258357049,
          -0.392843436166962,
          -0.1567169632575485,
          0.9645413080533394,
          0.17939239711442306,
          -0.5596859964104648,
          0.08895987969414001,
          1.2410834269061197,
          -0.16635960086585302,
          -0.2693807178383773,
          0.8616972888977513,
          -0.32162793172586895,
          -0.7263427607658054,
          0.19433049801394328,
          0.9230331246428911,
          1.6738866616294028,
          2.844028514290566,
          0.08124111784770374,
          1.559763934272282,
          -0.028424724115640336,
          -1.5978583981740588,
          1.3928576720947006,
          2.0229086490252826,
          -1.7694810175837032,
          0.048379614153000024,
          -1.079273422471972,
          1.2672551795759603,
          -0.1387742179814284,
          0.17791343334287685,
          -0.16720070633069986,
          -0.10054709814906158,
          -0.4045908852076268,
          0.12613317418414827,
          -0.5705034300132444,
          0.46209916749023333,
          0.4246966632128942,
          -0.8374278258285641,
          -0.9638366983275459,
          0.976890575946419,
          0.7835331653136482,
          2.033276023577144,
          1.1199398530052502,
          0.41138271732725634,
          1.0078069220383363,
          -1.17204783089823,
          -0.030259256831799808,
          -0.0725649072425263,
          -1.4986111479891409,
          0.6024912562451382,
          -0.34153690368730827,
          -1.015779510613287,
          0.6290209644622186,
          1.063457337554401,
          0.836723127079669,
          0.15820480216977437,
          -1.5203659349823258,
          -0.8072700824714942,
          0.4091445040915564,
          0.11572276858949519,
          -0.7164543939959533,
          -0.07286098502404578,
          0.38153643710956087,
          0.8543380617745421,
          -0.1165213944519551,
          0.6319713589030436,
          -1.724235407313587,
          0.386413105368971,
          -0.2386928216312317,
          0.732732670662475,
          -0.24461445087908382,
          -0.15065292063607347,
          1.5751534559338005,
          -1.5582891131847143,
          -0.18228298191894451,
          -0.41116032632912836,
          -0.17708445099528772,
          0.24337163271237103,
          1.192683688423048,
          0.9782283130777022,
          0.24352349186539524,
          -0.9532991377363603,
          -0.6462511604959087,
          0.7085017132965485,
          -2.1084373382894226,
          -0.5809716735247753,
          0.8850207737297211,
          0.246091165930676,
          -0.503503699045387,
          -2.0346014589949073,
          0.7399600548898199,
          0.867255339032245,
          2.6404520588474565,
          -0.4100752894175069,
          0.8762080237341998,
          0.07387253745176947,
          0.05732143006845413,
          0.4586850385176115,
          0.8508544486089744
         ],
         "xaxis": "x14",
         "y": [
          0.3132413364996825,
          0.5164174556087842,
          -1.7447372673773398,
          -0.528880172889918,
          1.033665036725101,
          0.873311394994029,
          0.8249908464050247,
          0.9273397491692893,
          -0.8215058131985827,
          -0.8338394535403043,
          0.6593856425722231,
          0.606812543064322,
          1.0366572251911874,
          -0.1838123154502142,
          -0.20255865641686507,
          -0.21478677434427987,
          0.42683648089814025,
          0.8075809913991108,
          3.588713411113252,
          -0.23269749284998376,
          1.1458371773320664,
          0.15350908534039004,
          -0.09355790030975901,
          -2.1551973689769155,
          0.6341354055616454,
          -1.3269834908993567,
          1.357070496588174,
          -0.863944691468353,
          -0.32596706926126623,
          -1.0305917008899146,
          -1.924646040143175,
          1.2923917923983734,
          1.9237844815778715,
          -0.48887692696949653,
          -0.5799400968574776,
          -1.8084695250653529,
          0.34915227891884415,
          0.021587918287322816,
          1.8738783065307074,
          -2.0586680039229046,
          -0.2924245775655203,
          -0.8470645847823713,
          0.45056001836452403,
          0.6348733493561158,
          -0.05420891092805153,
          1.4918185827662416,
          -1.124726844622321,
          -1.160276889128454,
          -1.815885096838446,
          0.15342969039819218,
          1.550598326829556,
          0.2197474501683362,
          -0.8128773277477808,
          0.6372434340238345,
          0.5706402164732105,
          -0.7959502516548398,
          0.7114564128194969,
          -0.381733380041855,
          -0.8762451254574802,
          0.39495110511007064,
          0.0009804939368298273,
          1.0761618317249724,
          0.18466593097894565,
          -1.3431239241579576,
          0.6410572260021555,
          -1.776934017171851,
          -1.8652013021519074,
          -0.11037286401511258,
          0.49461982191473397,
          0.2159836931037541,
          -0.9894954037552692,
          1.0296888720181843,
          0.004919324642563422,
          1.573193852011606,
          -0.014839678786844444,
          -0.950094388676654,
          0.8885889188498369,
          0.2486231614394077,
          2.265740662571898,
          -1.6061175371701175,
          -0.8861363719746421,
          0.053462340071665095,
          0.0556482498375347,
          0.5318168459142504,
          -0.8798981290139644,
          0.5742427858202375,
          -1.3527934392569503,
          1.4531258907979674,
          -0.5192312520648216,
          0.03303622891287528,
          0.757101307601849,
          -0.607351686021069,
          -1.4141927512221015,
          -0.6679557973217564,
          2.6669129852176447,
          -0.29655987552981844,
          -0.6393450954746018,
          -0.3442074457638253,
          -2.5294642240008076,
          1.6447753012195332
         ],
         "yaxis": "y14"
        },
        {
         "line": {
          "color": "rgba(128, 128, 128, 1.0)",
          "dash": "solid",
          "shape": "linear",
          "width": 1.3
         },
         "marker": {
          "size": 2,
          "symbol": "circle"
         },
         "mode": "markers",
         "name": "D",
         "text": "",
         "type": "scatter",
         "x": [
          -0.5887201252080634,
          0.7019925031583143,
          -0.12152814849423052,
          -1.2708438572364291,
          1.005385839304346,
          -0.9984428692265944,
          1.4321629049952669,
          -1.0560767907795185,
          -0.6562327117597355,
          -0.3950371209300445,
          -0.6369083886879076,
          0.16740259901346027,
          -1.197787967906911,
          -0.5757438379751361,
          -0.9660314149290065,
          -1.280312500419322,
          0.44919005132260154,
          0.9912354246161327,
          -0.22665091004576998,
          2.00195641786289,
          0.6521292871423648,
          -0.5858611758478834,
          -0.2026706703994717,
          -1.1400881200028743,
          -1.6598845111368843,
          -0.3821632649493528,
          0.40015268984340935,
          -0.24779955580087326,
          -0.22014964502210926,
          1.9826019378014421,
          -2.078964493043121,
          0.8232357228810001,
          -0.3410786708737788,
          0.2326250073562358,
          0.017721847740962565,
          0.06476185482905336,
          1.0856823558781863,
          -1.1863410497481561,
          -0.47395933534119455,
          0.42867872806233165,
          -0.9792302166465338,
          -0.3188004167296261,
          -1.6634411913351508,
          -0.1536391932935441,
          0.37680087031661724,
          -0.1622649507322113,
          -1.0233161895393332,
          -0.6374744254895608,
          -0.38932829571389926,
          0.28352499938728154,
          -0.17052285870812525,
          0.4544231814922744,
          0.6279385675513667,
          -0.29750956972512393,
          -0.9990886330259056,
          -1.432305886084423,
          1.7747315663056045,
          -0.6129901984631514,
          -1.5192985319482608,
          -1.02953724278035,
          0.2749969544641621,
          0.6089404947881051,
          -0.5657258936149782,
          0.1609301397325709,
          -1.1185766191933202,
          0.030218582595458777,
          0.22818071274274482,
          -0.20154169940218186,
          -0.9382400070283291,
          -0.5407653160901239,
          0.03399791994361127,
          -0.1263932664606678,
          -1.9991012100750234,
          -1.3281070200509209,
          -1.266527572614642,
          -0.6590304660948538,
          -0.6038314944169267,
          -0.5209931216875565,
          -1.0875536589229868,
          0.2676600363445982,
          0.28953881801923137,
          -1.0598877555791468,
          0.3971970716706394,
          -0.5126785695240577,
          -0.9797066698706884,
          -1.3088625219990708,
          -1.421869401564566,
          0.48265096872024776,
          0.7482127746603067,
          -2.133104588348111,
          -1.8710169084754382,
          0.11792796320970941,
          -0.6321380743549365,
          0.5961568308307523,
          1.11352599149512,
          -1.3852210078477463,
          -0.23836650898361234,
          0.35990007706698574,
          -2.4756749550769053,
          0.1865725722569815
         ],
         "xaxis": "x15",
         "y": [
          0.3132413364996825,
          0.5164174556087842,
          -1.7447372673773398,
          -0.528880172889918,
          1.033665036725101,
          0.873311394994029,
          0.8249908464050247,
          0.9273397491692893,
          -0.8215058131985827,
          -0.8338394535403043,
          0.6593856425722231,
          0.606812543064322,
          1.0366572251911874,
          -0.1838123154502142,
          -0.20255865641686507,
          -0.21478677434427987,
          0.42683648089814025,
          0.8075809913991108,
          3.588713411113252,
          -0.23269749284998376,
          1.1458371773320664,
          0.15350908534039004,
          -0.09355790030975901,
          -2.1551973689769155,
          0.6341354055616454,
          -1.3269834908993567,
          1.357070496588174,
          -0.863944691468353,
          -0.32596706926126623,
          -1.0305917008899146,
          -1.924646040143175,
          1.2923917923983734,
          1.9237844815778715,
          -0.48887692696949653,
          -0.5799400968574776,
          -1.8084695250653529,
          0.34915227891884415,
          0.021587918287322816,
          1.8738783065307074,
          -2.0586680039229046,
          -0.2924245775655203,
          -0.8470645847823713,
          0.45056001836452403,
          0.6348733493561158,
          -0.05420891092805153,
          1.4918185827662416,
          -1.124726844622321,
          -1.160276889128454,
          -1.815885096838446,
          0.15342969039819218,
          1.550598326829556,
          0.2197474501683362,
          -0.8128773277477808,
          0.6372434340238345,
          0.5706402164732105,
          -0.7959502516548398,
          0.7114564128194969,
          -0.381733380041855,
          -0.8762451254574802,
          0.39495110511007064,
          0.0009804939368298273,
          1.0761618317249724,
          0.18466593097894565,
          -1.3431239241579576,
          0.6410572260021555,
          -1.776934017171851,
          -1.8652013021519074,
          -0.11037286401511258,
          0.49461982191473397,
          0.2159836931037541,
          -0.9894954037552692,
          1.0296888720181843,
          0.004919324642563422,
          1.573193852011606,
          -0.014839678786844444,
          -0.950094388676654,
          0.8885889188498369,
          0.2486231614394077,
          2.265740662571898,
          -1.6061175371701175,
          -0.8861363719746421,
          0.053462340071665095,
          0.0556482498375347,
          0.5318168459142504,
          -0.8798981290139644,
          0.5742427858202375,
          -1.3527934392569503,
          1.4531258907979674,
          -0.5192312520648216,
          0.03303622891287528,
          0.757101307601849,
          -0.607351686021069,
          -1.4141927512221015,
          -0.6679557973217564,
          2.6669129852176447,
          -0.29655987552981844,
          -0.6393450954746018,
          -0.3442074457638253,
          -2.5294642240008076,
          1.6447753012195332
         ],
         "yaxis": "y15"
        },
        {
         "histfunc": "count",
         "histnorm": "",
         "marker": {
          "color": "rgba(128, 0, 128, 1.0)",
          "line": {
           "color": "#4D5663",
           "width": 1.3
          }
         },
         "name": "D",
         "nbinsx": 10,
         "opacity": 0.8,
         "orientation": "v",
         "type": "histogram",
         "x": [
          0.3132413364996825,
          0.5164174556087842,
          -1.7447372673773398,
          -0.528880172889918,
          1.033665036725101,
          0.873311394994029,
          0.8249908464050247,
          0.9273397491692893,
          -0.8215058131985827,
          -0.8338394535403043,
          0.6593856425722231,
          0.606812543064322,
          1.0366572251911874,
          -0.1838123154502142,
          -0.20255865641686507,
          -0.21478677434427987,
          0.42683648089814025,
          0.8075809913991108,
          3.588713411113252,
          -0.23269749284998376,
          1.1458371773320664,
          0.15350908534039004,
          -0.09355790030975901,
          -2.1551973689769155,
          0.6341354055616454,
          -1.3269834908993567,
          1.357070496588174,
          -0.863944691468353,
          -0.32596706926126623,
          -1.0305917008899146,
          -1.924646040143175,
          1.2923917923983734,
          1.9237844815778715,
          -0.48887692696949653,
          -0.5799400968574776,
          -1.8084695250653529,
          0.34915227891884415,
          0.021587918287322816,
          1.8738783065307074,
          -2.0586680039229046,
          -0.2924245775655203,
          -0.8470645847823713,
          0.45056001836452403,
          0.6348733493561158,
          -0.05420891092805153,
          1.4918185827662416,
          -1.124726844622321,
          -1.160276889128454,
          -1.815885096838446,
          0.15342969039819218,
          1.550598326829556,
          0.2197474501683362,
          -0.8128773277477808,
          0.6372434340238345,
          0.5706402164732105,
          -0.7959502516548398,
          0.7114564128194969,
          -0.381733380041855,
          -0.8762451254574802,
          0.39495110511007064,
          0.0009804939368298273,
          1.0761618317249724,
          0.18466593097894565,
          -1.3431239241579576,
          0.6410572260021555,
          -1.776934017171851,
          -1.8652013021519074,
          -0.11037286401511258,
          0.49461982191473397,
          0.2159836931037541,
          -0.9894954037552692,
          1.0296888720181843,
          0.004919324642563422,
          1.573193852011606,
          -0.014839678786844444,
          -0.950094388676654,
          0.8885889188498369,
          0.2486231614394077,
          2.265740662571898,
          -1.6061175371701175,
          -0.8861363719746421,
          0.053462340071665095,
          0.0556482498375347,
          0.5318168459142504,
          -0.8798981290139644,
          0.5742427858202375,
          -1.3527934392569503,
          1.4531258907979674,
          -0.5192312520648216,
          0.03303622891287528,
          0.757101307601849,
          -0.607351686021069,
          -1.4141927512221015,
          -0.6679557973217564,
          2.6669129852176447,
          -0.29655987552981844,
          -0.6393450954746018,
          -0.3442074457638253,
          -2.5294642240008076,
          1.6447753012195332
         ],
         "xaxis": "x16",
         "yaxis": "y16"
        }
       ],
       "layout": {
        "bargap": 0.02,
        "legend": {
         "bgcolor": "#F5F6F9",
         "font": {
          "color": "#4D5663"
         }
        },
        "paper_bgcolor": "#F5F6F9",
        "plot_bgcolor": "#F5F6F9",
        "showlegend": false,
        "template": {
         "data": {
          "bar": [
           {
            "error_x": {
             "color": "#2a3f5f"
            },
            "error_y": {
             "color": "#2a3f5f"
            },
            "marker": {
             "line": {
              "color": "#E5ECF6",
              "width": 0.5
             },
             "pattern": {
              "fillmode": "overlay",
              "size": 10,
              "solidity": 0.2
             }
            },
            "type": "bar"
           }
          ],
          "barpolar": [
           {
            "marker": {
             "line": {
              "color": "#E5ECF6",
              "width": 0.5
             },
             "pattern": {
              "fillmode": "overlay",
              "size": 10,
              "solidity": 0.2
             }
            },
            "type": "barpolar"
           }
          ],
          "carpet": [
           {
            "aaxis": {
             "endlinecolor": "#2a3f5f",
             "gridcolor": "white",
             "linecolor": "white",
             "minorgridcolor": "white",
             "startlinecolor": "#2a3f5f"
            },
            "baxis": {
             "endlinecolor": "#2a3f5f",
             "gridcolor": "white",
             "linecolor": "white",
             "minorgridcolor": "white",
             "startlinecolor": "#2a3f5f"
            },
            "type": "carpet"
           }
          ],
          "choropleth": [
           {
            "colorbar": {
             "outlinewidth": 0,
             "ticks": ""
            },
            "type": "choropleth"
           }
          ],
          "contour": [
           {
            "colorbar": {
             "outlinewidth": 0,
             "ticks": ""
            },
            "colorscale": [
             [
              0,
              "#0d0887"
             ],
             [
              0.1111111111111111,
              "#46039f"
             ],
             [
              0.2222222222222222,
              "#7201a8"
             ],
             [
              0.3333333333333333,
              "#9c179e"
             ],
             [
              0.4444444444444444,
              "#bd3786"
             ],
             [
              0.5555555555555556,
              "#d8576b"
             ],
             [
              0.6666666666666666,
              "#ed7953"
             ],
             [
              0.7777777777777778,
              "#fb9f3a"
             ],
             [
              0.8888888888888888,
              "#fdca26"
             ],
             [
              1,
              "#f0f921"
             ]
            ],
            "type": "contour"
           }
          ],
          "contourcarpet": [
           {
            "colorbar": {
             "outlinewidth": 0,
             "ticks": ""
            },
            "type": "contourcarpet"
           }
          ],
          "heatmap": [
           {
            "colorbar": {
             "outlinewidth": 0,
             "ticks": ""
            },
            "colorscale": [
             [
              0,
              "#0d0887"
             ],
             [
              0.1111111111111111,
              "#46039f"
             ],
             [
              0.2222222222222222,
              "#7201a8"
             ],
             [
              0.3333333333333333,
              "#9c179e"
             ],
             [
              0.4444444444444444,
              "#bd3786"
             ],
             [
              0.5555555555555556,
              "#d8576b"
             ],
             [
              0.6666666666666666,
              "#ed7953"
             ],
             [
              0.7777777777777778,
              "#fb9f3a"
             ],
             [
              0.8888888888888888,
              "#fdca26"
             ],
             [
              1,
              "#f0f921"
             ]
            ],
            "type": "heatmap"
           }
          ],
          "heatmapgl": [
           {
            "colorbar": {
             "outlinewidth": 0,
             "ticks": ""
            },
            "colorscale": [
             [
              0,
              "#0d0887"
             ],
             [
              0.1111111111111111,
              "#46039f"
             ],
             [
              0.2222222222222222,
              "#7201a8"
             ],
             [
              0.3333333333333333,
              "#9c179e"
             ],
             [
              0.4444444444444444,
              "#bd3786"
             ],
             [
              0.5555555555555556,
              "#d8576b"
             ],
             [
              0.6666666666666666,
              "#ed7953"
             ],
             [
              0.7777777777777778,
              "#fb9f3a"
             ],
             [
              0.8888888888888888,
              "#fdca26"
             ],
             [
              1,
              "#f0f921"
             ]
            ],
            "type": "heatmapgl"
           }
          ],
          "histogram": [
           {
            "marker": {
             "pattern": {
              "fillmode": "overlay",
              "size": 10,
              "solidity": 0.2
             }
            },
            "type": "histogram"
           }
          ],
          "histogram2d": [
           {
            "colorbar": {
             "outlinewidth": 0,
             "ticks": ""
            },
            "colorscale": [
             [
              0,
              "#0d0887"
             ],
             [
              0.1111111111111111,
              "#46039f"
             ],
             [
              0.2222222222222222,
              "#7201a8"
             ],
             [
              0.3333333333333333,
              "#9c179e"
             ],
             [
              0.4444444444444444,
              "#bd3786"
             ],
             [
              0.5555555555555556,
              "#d8576b"
             ],
             [
              0.6666666666666666,
              "#ed7953"
             ],
             [
              0.7777777777777778,
              "#fb9f3a"
             ],
             [
              0.8888888888888888,
              "#fdca26"
             ],
             [
              1,
              "#f0f921"
             ]
            ],
            "type": "histogram2d"
           }
          ],
          "histogram2dcontour": [
           {
            "colorbar": {
             "outlinewidth": 0,
             "ticks": ""
            },
            "colorscale": [
             [
              0,
              "#0d0887"
             ],
             [
              0.1111111111111111,
              "#46039f"
             ],
             [
              0.2222222222222222,
              "#7201a8"
             ],
             [
              0.3333333333333333,
              "#9c179e"
             ],
             [
              0.4444444444444444,
              "#bd3786"
             ],
             [
              0.5555555555555556,
              "#d8576b"
             ],
             [
              0.6666666666666666,
              "#ed7953"
             ],
             [
              0.7777777777777778,
              "#fb9f3a"
             ],
             [
              0.8888888888888888,
              "#fdca26"
             ],
             [
              1,
              "#f0f921"
             ]
            ],
            "type": "histogram2dcontour"
           }
          ],
          "mesh3d": [
           {
            "colorbar": {
             "outlinewidth": 0,
             "ticks": ""
            },
            "type": "mesh3d"
           }
          ],
          "parcoords": [
           {
            "line": {
             "colorbar": {
              "outlinewidth": 0,
              "ticks": ""
             }
            },
            "type": "parcoords"
           }
          ],
          "pie": [
           {
            "automargin": true,
            "type": "pie"
           }
          ],
          "scatter": [
           {
            "fillpattern": {
             "fillmode": "overlay",
             "size": 10,
             "solidity": 0.2
            },
            "type": "scatter"
           }
          ],
          "scatter3d": [
           {
            "line": {
             "colorbar": {
              "outlinewidth": 0,
              "ticks": ""
             }
            },
            "marker": {
             "colorbar": {
              "outlinewidth": 0,
              "ticks": ""
             }
            },
            "type": "scatter3d"
           }
          ],
          "scattercarpet": [
           {
            "marker": {
             "colorbar": {
              "outlinewidth": 0,
              "ticks": ""
             }
            },
            "type": "scattercarpet"
           }
          ],
          "scattergeo": [
           {
            "marker": {
             "colorbar": {
              "outlinewidth": 0,
              "ticks": ""
             }
            },
            "type": "scattergeo"
           }
          ],
          "scattergl": [
           {
            "marker": {
             "colorbar": {
              "outlinewidth": 0,
              "ticks": ""
             }
            },
            "type": "scattergl"
           }
          ],
          "scattermapbox": [
           {
            "marker": {
             "colorbar": {
              "outlinewidth": 0,
              "ticks": ""
             }
            },
            "type": "scattermapbox"
           }
          ],
          "scatterpolar": [
           {
            "marker": {
             "colorbar": {
              "outlinewidth": 0,
              "ticks": ""
             }
            },
            "type": "scatterpolar"
           }
          ],
          "scatterpolargl": [
           {
            "marker": {
             "colorbar": {
              "outlinewidth": 0,
              "ticks": ""
             }
            },
            "type": "scatterpolargl"
           }
          ],
          "scatterternary": [
           {
            "marker": {
             "colorbar": {
              "outlinewidth": 0,
              "ticks": ""
             }
            },
            "type": "scatterternary"
           }
          ],
          "surface": [
           {
            "colorbar": {
             "outlinewidth": 0,
             "ticks": ""
            },
            "colorscale": [
             [
              0,
              "#0d0887"
             ],
             [
              0.1111111111111111,
              "#46039f"
             ],
             [
              0.2222222222222222,
              "#7201a8"
             ],
             [
              0.3333333333333333,
              "#9c179e"
             ],
             [
              0.4444444444444444,
              "#bd3786"
             ],
             [
              0.5555555555555556,
              "#d8576b"
             ],
             [
              0.6666666666666666,
              "#ed7953"
             ],
             [
              0.7777777777777778,
              "#fb9f3a"
             ],
             [
              0.8888888888888888,
              "#fdca26"
             ],
             [
              1,
              "#f0f921"
             ]
            ],
            "type": "surface"
           }
          ],
          "table": [
           {
            "cells": {
             "fill": {
              "color": "#EBF0F8"
             },
             "line": {
              "color": "white"
             }
            },
            "header": {
             "fill": {
              "color": "#C8D4E3"
             },
             "line": {
              "color": "white"
             }
            },
            "type": "table"
           }
          ]
         },
         "layout": {
          "annotationdefaults": {
           "arrowcolor": "#2a3f5f",
           "arrowhead": 0,
           "arrowwidth": 1
          },
          "autotypenumbers": "strict",
          "coloraxis": {
           "colorbar": {
            "outlinewidth": 0,
            "ticks": ""
           }
          },
          "colorscale": {
           "diverging": [
            [
             0,
             "#8e0152"
            ],
            [
             0.1,
             "#c51b7d"
            ],
            [
             0.2,
             "#de77ae"
            ],
            [
             0.3,
             "#f1b6da"
            ],
            [
             0.4,
             "#fde0ef"
            ],
            [
             0.5,
             "#f7f7f7"
            ],
            [
             0.6,
             "#e6f5d0"
            ],
            [
             0.7,
             "#b8e186"
            ],
            [
             0.8,
             "#7fbc41"
            ],
            [
             0.9,
             "#4d9221"
            ],
            [
             1,
             "#276419"
            ]
           ],
           "sequential": [
            [
             0,
             "#0d0887"
            ],
            [
             0.1111111111111111,
             "#46039f"
            ],
            [
             0.2222222222222222,
             "#7201a8"
            ],
            [
             0.3333333333333333,
             "#9c179e"
            ],
            [
             0.4444444444444444,
             "#bd3786"
            ],
            [
             0.5555555555555556,
             "#d8576b"
            ],
            [
             0.6666666666666666,
             "#ed7953"
            ],
            [
             0.7777777777777778,
             "#fb9f3a"
            ],
            [
             0.8888888888888888,
             "#fdca26"
            ],
            [
             1,
             "#f0f921"
            ]
           ],
           "sequentialminus": [
            [
             0,
             "#0d0887"
            ],
            [
             0.1111111111111111,
             "#46039f"
            ],
            [
             0.2222222222222222,
             "#7201a8"
            ],
            [
             0.3333333333333333,
             "#9c179e"
            ],
            [
             0.4444444444444444,
             "#bd3786"
            ],
            [
             0.5555555555555556,
             "#d8576b"
            ],
            [
             0.6666666666666666,
             "#ed7953"
            ],
            [
             0.7777777777777778,
             "#fb9f3a"
            ],
            [
             0.8888888888888888,
             "#fdca26"
            ],
            [
             1,
             "#f0f921"
            ]
           ]
          },
          "colorway": [
           "#636efa",
           "#EF553B",
           "#00cc96",
           "#ab63fa",
           "#FFA15A",
           "#19d3f3",
           "#FF6692",
           "#B6E880",
           "#FF97FF",
           "#FECB52"
          ],
          "font": {
           "color": "#2a3f5f"
          },
          "geo": {
           "bgcolor": "white",
           "lakecolor": "white",
           "landcolor": "#E5ECF6",
           "showlakes": true,
           "showland": true,
           "subunitcolor": "white"
          },
          "hoverlabel": {
           "align": "left"
          },
          "hovermode": "closest",
          "mapbox": {
           "style": "light"
          },
          "paper_bgcolor": "white",
          "plot_bgcolor": "#E5ECF6",
          "polar": {
           "angularaxis": {
            "gridcolor": "white",
            "linecolor": "white",
            "ticks": ""
           },
           "bgcolor": "#E5ECF6",
           "radialaxis": {
            "gridcolor": "white",
            "linecolor": "white",
            "ticks": ""
           }
          },
          "scene": {
           "xaxis": {
            "backgroundcolor": "#E5ECF6",
            "gridcolor": "white",
            "gridwidth": 2,
            "linecolor": "white",
            "showbackground": true,
            "ticks": "",
            "zerolinecolor": "white"
           },
           "yaxis": {
            "backgroundcolor": "#E5ECF6",
            "gridcolor": "white",
            "gridwidth": 2,
            "linecolor": "white",
            "showbackground": true,
            "ticks": "",
            "zerolinecolor": "white"
           },
           "zaxis": {
            "backgroundcolor": "#E5ECF6",
            "gridcolor": "white",
            "gridwidth": 2,
            "linecolor": "white",
            "showbackground": true,
            "ticks": "",
            "zerolinecolor": "white"
           }
          },
          "shapedefaults": {
           "line": {
            "color": "#2a3f5f"
           }
          },
          "ternary": {
           "aaxis": {
            "gridcolor": "white",
            "linecolor": "white",
            "ticks": ""
           },
           "baxis": {
            "gridcolor": "white",
            "linecolor": "white",
            "ticks": ""
           },
           "bgcolor": "#E5ECF6",
           "caxis": {
            "gridcolor": "white",
            "linecolor": "white",
            "ticks": ""
           }
          },
          "title": {
           "x": 0.05
          },
          "xaxis": {
           "automargin": true,
           "gridcolor": "white",
           "linecolor": "white",
           "ticks": "",
           "title": {
            "standoff": 15
           },
           "zerolinecolor": "white",
           "zerolinewidth": 2
          },
          "yaxis": {
           "automargin": true,
           "gridcolor": "white",
           "linecolor": "white",
           "ticks": "",
           "title": {
            "standoff": 15
           },
           "zerolinecolor": "white",
           "zerolinewidth": 2
          }
         }
        },
        "title": {
         "font": {
          "color": "#4D5663"
         }
        },
        "xaxis": {
         "anchor": "y",
         "domain": [
          0,
          0.2125
         ],
         "gridcolor": "#E1E5ED",
         "showgrid": false,
         "tickfont": {
          "color": "#4D5663"
         },
         "title": {
          "font": {
           "color": "#4D5663"
          },
          "text": ""
         },
         "zerolinecolor": "#E1E5ED"
        },
        "xaxis10": {
         "anchor": "y10",
         "domain": [
          0.2625,
          0.475
         ],
         "gridcolor": "#E1E5ED",
         "showgrid": false,
         "tickfont": {
          "color": "#4D5663"
         },
         "title": {
          "font": {
           "color": "#4D5663"
          },
          "text": ""
         },
         "zerolinecolor": "#E1E5ED"
        },
        "xaxis11": {
         "anchor": "y11",
         "domain": [
          0.525,
          0.7375
         ],
         "gridcolor": "#E1E5ED",
         "showgrid": false,
         "tickfont": {
          "color": "#4D5663"
         },
         "title": {
          "font": {
           "color": "#4D5663"
          },
          "text": ""
         },
         "zerolinecolor": "#E1E5ED"
        },
        "xaxis12": {
         "anchor": "y12",
         "domain": [
          0.7875,
          1
         ],
         "gridcolor": "#E1E5ED",
         "showgrid": false,
         "tickfont": {
          "color": "#4D5663"
         },
         "title": {
          "font": {
           "color": "#4D5663"
          },
          "text": ""
         },
         "zerolinecolor": "#E1E5ED"
        },
        "xaxis13": {
         "anchor": "y13",
         "domain": [
          0,
          0.2125
         ],
         "gridcolor": "#E1E5ED",
         "showgrid": false,
         "tickfont": {
          "color": "#4D5663"
         },
         "title": {
          "font": {
           "color": "#4D5663"
          },
          "text": ""
         },
         "zerolinecolor": "#E1E5ED"
        },
        "xaxis14": {
         "anchor": "y14",
         "domain": [
          0.2625,
          0.475
         ],
         "gridcolor": "#E1E5ED",
         "showgrid": false,
         "tickfont": {
          "color": "#4D5663"
         },
         "title": {
          "font": {
           "color": "#4D5663"
          },
          "text": ""
         },
         "zerolinecolor": "#E1E5ED"
        },
        "xaxis15": {
         "anchor": "y15",
         "domain": [
          0.525,
          0.7375
         ],
         "gridcolor": "#E1E5ED",
         "showgrid": false,
         "tickfont": {
          "color": "#4D5663"
         },
         "title": {
          "font": {
           "color": "#4D5663"
          },
          "text": ""
         },
         "zerolinecolor": "#E1E5ED"
        },
        "xaxis16": {
         "anchor": "y16",
         "domain": [
          0.7875,
          1
         ],
         "gridcolor": "#E1E5ED",
         "showgrid": false,
         "tickfont": {
          "color": "#4D5663"
         },
         "title": {
          "font": {
           "color": "#4D5663"
          },
          "text": ""
         },
         "zerolinecolor": "#E1E5ED"
        },
        "xaxis2": {
         "anchor": "y2",
         "domain": [
          0.2625,
          0.475
         ],
         "gridcolor": "#E1E5ED",
         "showgrid": false,
         "tickfont": {
          "color": "#4D5663"
         },
         "title": {
          "font": {
           "color": "#4D5663"
          },
          "text": ""
         },
         "zerolinecolor": "#E1E5ED"
        },
        "xaxis3": {
         "anchor": "y3",
         "domain": [
          0.525,
          0.7375
         ],
         "gridcolor": "#E1E5ED",
         "showgrid": false,
         "tickfont": {
          "color": "#4D5663"
         },
         "title": {
          "font": {
           "color": "#4D5663"
          },
          "text": ""
         },
         "zerolinecolor": "#E1E5ED"
        },
        "xaxis4": {
         "anchor": "y4",
         "domain": [
          0.7875,
          1
         ],
         "gridcolor": "#E1E5ED",
         "showgrid": false,
         "tickfont": {
          "color": "#4D5663"
         },
         "title": {
          "font": {
           "color": "#4D5663"
          },
          "text": ""
         },
         "zerolinecolor": "#E1E5ED"
        },
        "xaxis5": {
         "anchor": "y5",
         "domain": [
          0,
          0.2125
         ],
         "gridcolor": "#E1E5ED",
         "showgrid": false,
         "tickfont": {
          "color": "#4D5663"
         },
         "title": {
          "font": {
           "color": "#4D5663"
          },
          "text": ""
         },
         "zerolinecolor": "#E1E5ED"
        },
        "xaxis6": {
         "anchor": "y6",
         "domain": [
          0.2625,
          0.475
         ],
         "gridcolor": "#E1E5ED",
         "showgrid": false,
         "tickfont": {
          "color": "#4D5663"
         },
         "title": {
          "font": {
           "color": "#4D5663"
          },
          "text": ""
         },
         "zerolinecolor": "#E1E5ED"
        },
        "xaxis7": {
         "anchor": "y7",
         "domain": [
          0.525,
          0.7375
         ],
         "gridcolor": "#E1E5ED",
         "showgrid": false,
         "tickfont": {
          "color": "#4D5663"
         },
         "title": {
          "font": {
           "color": "#4D5663"
          },
          "text": ""
         },
         "zerolinecolor": "#E1E5ED"
        },
        "xaxis8": {
         "anchor": "y8",
         "domain": [
          0.7875,
          1
         ],
         "gridcolor": "#E1E5ED",
         "showgrid": false,
         "tickfont": {
          "color": "#4D5663"
         },
         "title": {
          "font": {
           "color": "#4D5663"
          },
          "text": ""
         },
         "zerolinecolor": "#E1E5ED"
        },
        "xaxis9": {
         "anchor": "y9",
         "domain": [
          0,
          0.2125
         ],
         "gridcolor": "#E1E5ED",
         "showgrid": false,
         "tickfont": {
          "color": "#4D5663"
         },
         "title": {
          "font": {
           "color": "#4D5663"
          },
          "text": ""
         },
         "zerolinecolor": "#E1E5ED"
        },
        "yaxis": {
         "anchor": "x",
         "domain": [
          0.8025,
          1
         ],
         "gridcolor": "#E1E5ED",
         "showgrid": false,
         "tickfont": {
          "color": "#4D5663"
         },
         "title": {
          "font": {
           "color": "#4D5663"
          },
          "text": ""
         },
         "zerolinecolor": "#E1E5ED"
        },
        "yaxis10": {
         "anchor": "x10",
         "domain": [
          0.2675,
          0.465
         ],
         "gridcolor": "#E1E5ED",
         "showgrid": false,
         "tickfont": {
          "color": "#4D5663"
         },
         "title": {
          "font": {
           "color": "#4D5663"
          },
          "text": ""
         },
         "zerolinecolor": "#E1E5ED"
        },
        "yaxis11": {
         "anchor": "x11",
         "domain": [
          0.2675,
          0.465
         ],
         "gridcolor": "#E1E5ED",
         "showgrid": false,
         "tickfont": {
          "color": "#4D5663"
         },
         "title": {
          "font": {
           "color": "#4D5663"
          },
          "text": ""
         },
         "zerolinecolor": "#E1E5ED"
        },
        "yaxis12": {
         "anchor": "x12",
         "domain": [
          0.2675,
          0.465
         ],
         "gridcolor": "#E1E5ED",
         "showgrid": false,
         "tickfont": {
          "color": "#4D5663"
         },
         "title": {
          "font": {
           "color": "#4D5663"
          },
          "text": ""
         },
         "zerolinecolor": "#E1E5ED"
        },
        "yaxis13": {
         "anchor": "x13",
         "domain": [
          0,
          0.1975
         ],
         "gridcolor": "#E1E5ED",
         "showgrid": false,
         "tickfont": {
          "color": "#4D5663"
         },
         "title": {
          "font": {
           "color": "#4D5663"
          },
          "text": ""
         },
         "zerolinecolor": "#E1E5ED"
        },
        "yaxis14": {
         "anchor": "x14",
         "domain": [
          0,
          0.1975
         ],
         "gridcolor": "#E1E5ED",
         "showgrid": false,
         "tickfont": {
          "color": "#4D5663"
         },
         "title": {
          "font": {
           "color": "#4D5663"
          },
          "text": ""
         },
         "zerolinecolor": "#E1E5ED"
        },
        "yaxis15": {
         "anchor": "x15",
         "domain": [
          0,
          0.1975
         ],
         "gridcolor": "#E1E5ED",
         "showgrid": false,
         "tickfont": {
          "color": "#4D5663"
         },
         "title": {
          "font": {
           "color": "#4D5663"
          },
          "text": ""
         },
         "zerolinecolor": "#E1E5ED"
        },
        "yaxis16": {
         "anchor": "x16",
         "domain": [
          0,
          0.1975
         ],
         "gridcolor": "#E1E5ED",
         "showgrid": false,
         "tickfont": {
          "color": "#4D5663"
         },
         "title": {
          "font": {
           "color": "#4D5663"
          },
          "text": ""
         },
         "zerolinecolor": "#E1E5ED"
        },
        "yaxis2": {
         "anchor": "x2",
         "domain": [
          0.8025,
          1
         ],
         "gridcolor": "#E1E5ED",
         "showgrid": false,
         "tickfont": {
          "color": "#4D5663"
         },
         "title": {
          "font": {
           "color": "#4D5663"
          },
          "text": ""
         },
         "zerolinecolor": "#E1E5ED"
        },
        "yaxis3": {
         "anchor": "x3",
         "domain": [
          0.8025,
          1
         ],
         "gridcolor": "#E1E5ED",
         "showgrid": false,
         "tickfont": {
          "color": "#4D5663"
         },
         "title": {
          "font": {
           "color": "#4D5663"
          },
          "text": ""
         },
         "zerolinecolor": "#E1E5ED"
        },
        "yaxis4": {
         "anchor": "x4",
         "domain": [
          0.8025,
          1
         ],
         "gridcolor": "#E1E5ED",
         "showgrid": false,
         "tickfont": {
          "color": "#4D5663"
         },
         "title": {
          "font": {
           "color": "#4D5663"
          },
          "text": ""
         },
         "zerolinecolor": "#E1E5ED"
        },
        "yaxis5": {
         "anchor": "x5",
         "domain": [
          0.535,
          0.7325
         ],
         "gridcolor": "#E1E5ED",
         "showgrid": false,
         "tickfont": {
          "color": "#4D5663"
         },
         "title": {
          "font": {
           "color": "#4D5663"
          },
          "text": ""
         },
         "zerolinecolor": "#E1E5ED"
        },
        "yaxis6": {
         "anchor": "x6",
         "domain": [
          0.535,
          0.7325
         ],
         "gridcolor": "#E1E5ED",
         "showgrid": false,
         "tickfont": {
          "color": "#4D5663"
         },
         "title": {
          "font": {
           "color": "#4D5663"
          },
          "text": ""
         },
         "zerolinecolor": "#E1E5ED"
        },
        "yaxis7": {
         "anchor": "x7",
         "domain": [
          0.535,
          0.7325
         ],
         "gridcolor": "#E1E5ED",
         "showgrid": false,
         "tickfont": {
          "color": "#4D5663"
         },
         "title": {
          "font": {
           "color": "#4D5663"
          },
          "text": ""
         },
         "zerolinecolor": "#E1E5ED"
        },
        "yaxis8": {
         "anchor": "x8",
         "domain": [
          0.535,
          0.7325
         ],
         "gridcolor": "#E1E5ED",
         "showgrid": false,
         "tickfont": {
          "color": "#4D5663"
         },
         "title": {
          "font": {
           "color": "#4D5663"
          },
          "text": ""
         },
         "zerolinecolor": "#E1E5ED"
        },
        "yaxis9": {
         "anchor": "x9",
         "domain": [
          0.2675,
          0.465
         ],
         "gridcolor": "#E1E5ED",
         "showgrid": false,
         "tickfont": {
          "color": "#4D5663"
         },
         "title": {
          "font": {
           "color": "#4D5663"
          },
          "text": ""
         },
         "zerolinecolor": "#E1E5ED"
        }
       }
      },
      "text/html": [
       "<div>                            <div id=\"a8c2e57c-c34d-414a-b232-a321a97f2102\" class=\"plotly-graph-div\" style=\"height:525px; width:100%;\"></div>            <script type=\"text/javascript\">                require([\"plotly\"], function(Plotly) {                    window.PLOTLYENV=window.PLOTLYENV || {};\n",
       "                    window.PLOTLYENV.BASE_URL='https://plot.ly';                                    if (document.getElementById(\"a8c2e57c-c34d-414a-b232-a321a97f2102\")) {                    Plotly.newPlot(                        \"a8c2e57c-c34d-414a-b232-a321a97f2102\",                        [{\"histfunc\":\"count\",\"histnorm\":\"\",\"marker\":{\"color\":\"rgba(255, 153, 51, 1.0)\",\"line\":{\"color\":\"#4D5663\",\"width\":1.3}},\"name\":\"A\",\"nbinsx\":10,\"opacity\":0.8,\"orientation\":\"v\",\"x\":[-0.5893247467893137,0.06357799381554469,0.3335160921609745,0.3243661733043439,0.6787084891857187,-0.8798125623521266,-0.061710317783818004,-0.6900260083396907,-1.0522257446491912,0.2590016072445179,1.122478052572237,-0.30449682024732316,2.267454273919806,1.123114298512772,-0.6257724174399768,1.701367743435107,-0.26754379725565747,0.3003012512826872,-0.3777573284785868,-0.49072235963782135,0.47438039624374584,-0.9607355212592849,-0.01448730604106568,0.7818381394772317,0.47532496228524435,-0.8274720991535782,-0.9284276067853057,-1.488251013296298,0.23396954153909585,1.869180554136494,-0.27883637077933304,-0.49624437594324633,0.879061425460165,0.019113394365269577,1.1757641619276693,0.5894504709946624,1.4571618706876532,0.2106774240345165,-1.2182225650030216,-0.26967153456414256,0.8386234979200884,-1.1357835340401106,0.8926944889147607,-0.30968190234772086,1.0517072919721753,-1.2292761269220487,0.1429175250658092,-0.20868482281688108,0.5809020967712989,-1.1356002159648928,0.5996902800483412,1.7939424342799457,0.5131548974217541,1.172634706569258,-0.5766421668040401,0.46792076906214874,0.9969095439213087,0.21079364926988753,-1.306177547922756,-0.9305224274786199,0.4682250885871653,0.9693097901681132,-2.422557021111485,0.7858934649760749,-0.42506148315700365,-1.1776687308011278,2.2897119366258867,-0.7217004741651094,-0.9737110269480089,0.4190362375628981,-0.7391331202884779,-0.5555335418005726,-0.6785442909794438,-0.5230462779813413,-0.19618762434273726,-1.020057265171055,1.381583295856783,-1.3195078598361525,0.11768444018206939,0.07088724711071444,-0.41152734532531077,-0.2144863229665085,0.3000765406875,0.6506309442988503,0.8406330967821201,0.6551793622147913,-1.0321856810764007,0.5340585373125538,-0.062237136294529594,0.2250207871795296,0.8894595124404172,1.3538895386143526,0.2817394146169772,1.2786671214167356,-0.33824826463402663,1.1999423130980735,0.04203995852535922,1.149306256216227,1.641525664697918,-0.6463223417336121],\"xaxis\":\"x\",\"yaxis\":\"y\",\"type\":\"histogram\"},{\"line\":{\"color\":\"rgba(128, 128, 128, 1.0)\",\"dash\":\"solid\",\"shape\":\"linear\",\"width\":1.3},\"marker\":{\"size\":2,\"symbol\":\"circle\"},\"mode\":\"markers\",\"name\":\"A\",\"text\":\"\",\"x\":[1.8124925870160997,1.086663682175712,-1.8953243258357049,-0.392843436166962,-0.1567169632575485,0.9645413080533394,0.17939239711442306,-0.5596859964104648,0.08895987969414001,1.2410834269061197,-0.16635960086585302,-0.2693807178383773,0.8616972888977513,-0.32162793172586895,-0.7263427607658054,0.19433049801394328,0.9230331246428911,1.6738866616294028,2.844028514290566,0.08124111784770374,1.559763934272282,-0.028424724115640336,-1.5978583981740588,1.3928576720947006,2.0229086490252826,-1.7694810175837032,0.048379614153000024,-1.079273422471972,1.2672551795759603,-0.1387742179814284,0.17791343334287685,-0.16720070633069986,-0.10054709814906158,-0.4045908852076268,0.12613317418414827,-0.5705034300132444,0.46209916749023333,0.4246966632128942,-0.8374278258285641,-0.9638366983275459,0.976890575946419,0.7835331653136482,2.033276023577144,1.1199398530052502,0.41138271732725634,1.0078069220383363,-1.17204783089823,-0.030259256831799808,-0.0725649072425263,-1.4986111479891409,0.6024912562451382,-0.34153690368730827,-1.015779510613287,0.6290209644622186,1.063457337554401,0.836723127079669,0.15820480216977437,-1.5203659349823258,-0.8072700824714942,0.4091445040915564,0.11572276858949519,-0.7164543939959533,-0.07286098502404578,0.38153643710956087,0.8543380617745421,-0.1165213944519551,0.6319713589030436,-1.724235407313587,0.386413105368971,-0.2386928216312317,0.732732670662475,-0.24461445087908382,-0.15065292063607347,1.5751534559338005,-1.5582891131847143,-0.18228298191894451,-0.41116032632912836,-0.17708445099528772,0.24337163271237103,1.192683688423048,0.9782283130777022,0.24352349186539524,-0.9532991377363603,-0.6462511604959087,0.7085017132965485,-2.1084373382894226,-0.5809716735247753,0.8850207737297211,0.246091165930676,-0.503503699045387,-2.0346014589949073,0.7399600548898199,0.867255339032245,2.6404520588474565,-0.4100752894175069,0.8762080237341998,0.07387253745176947,0.05732143006845413,0.4586850385176115,0.8508544486089744],\"xaxis\":\"x2\",\"y\":[-0.5893247467893137,0.06357799381554469,0.3335160921609745,0.3243661733043439,0.6787084891857187,-0.8798125623521266,-0.061710317783818004,-0.6900260083396907,-1.0522257446491912,0.2590016072445179,1.122478052572237,-0.30449682024732316,2.267454273919806,1.123114298512772,-0.6257724174399768,1.701367743435107,-0.26754379725565747,0.3003012512826872,-0.3777573284785868,-0.49072235963782135,0.47438039624374584,-0.9607355212592849,-0.01448730604106568,0.7818381394772317,0.47532496228524435,-0.8274720991535782,-0.9284276067853057,-1.488251013296298,0.23396954153909585,1.869180554136494,-0.27883637077933304,-0.49624437594324633,0.879061425460165,0.019113394365269577,1.1757641619276693,0.5894504709946624,1.4571618706876532,0.2106774240345165,-1.2182225650030216,-0.26967153456414256,0.8386234979200884,-1.1357835340401106,0.8926944889147607,-0.30968190234772086,1.0517072919721753,-1.2292761269220487,0.1429175250658092,-0.20868482281688108,0.5809020967712989,-1.1356002159648928,0.5996902800483412,1.7939424342799457,0.5131548974217541,1.172634706569258,-0.5766421668040401,0.46792076906214874,0.9969095439213087,0.21079364926988753,-1.306177547922756,-0.9305224274786199,0.4682250885871653,0.9693097901681132,-2.422557021111485,0.7858934649760749,-0.42506148315700365,-1.1776687308011278,2.2897119366258867,-0.7217004741651094,-0.9737110269480089,0.4190362375628981,-0.7391331202884779,-0.5555335418005726,-0.6785442909794438,-0.5230462779813413,-0.19618762434273726,-1.020057265171055,1.381583295856783,-1.3195078598361525,0.11768444018206939,0.07088724711071444,-0.41152734532531077,-0.2144863229665085,0.3000765406875,0.6506309442988503,0.8406330967821201,0.6551793622147913,-1.0321856810764007,0.5340585373125538,-0.062237136294529594,0.2250207871795296,0.8894595124404172,1.3538895386143526,0.2817394146169772,1.2786671214167356,-0.33824826463402663,1.1999423130980735,0.04203995852535922,1.149306256216227,1.641525664697918,-0.6463223417336121],\"yaxis\":\"y2\",\"type\":\"scatter\"},{\"line\":{\"color\":\"rgba(128, 128, 128, 1.0)\",\"dash\":\"solid\",\"shape\":\"linear\",\"width\":1.3},\"marker\":{\"size\":2,\"symbol\":\"circle\"},\"mode\":\"markers\",\"name\":\"A\",\"text\":\"\",\"x\":[-0.5887201252080634,0.7019925031583143,-0.12152814849423052,-1.2708438572364291,1.005385839304346,-0.9984428692265944,1.4321629049952669,-1.0560767907795185,-0.6562327117597355,-0.3950371209300445,-0.6369083886879076,0.16740259901346027,-1.197787967906911,-0.5757438379751361,-0.9660314149290065,-1.280312500419322,0.44919005132260154,0.9912354246161327,-0.22665091004576998,2.00195641786289,0.6521292871423648,-0.5858611758478834,-0.2026706703994717,-1.1400881200028743,-1.6598845111368843,-0.3821632649493528,0.40015268984340935,-0.24779955580087326,-0.22014964502210926,1.9826019378014421,-2.078964493043121,0.8232357228810001,-0.3410786708737788,0.2326250073562358,0.017721847740962565,0.06476185482905336,1.0856823558781863,-1.1863410497481561,-0.47395933534119455,0.42867872806233165,-0.9792302166465338,-0.3188004167296261,-1.6634411913351508,-0.1536391932935441,0.37680087031661724,-0.1622649507322113,-1.0233161895393332,-0.6374744254895608,-0.38932829571389926,0.28352499938728154,-0.17052285870812525,0.4544231814922744,0.6279385675513667,-0.29750956972512393,-0.9990886330259056,-1.432305886084423,1.7747315663056045,-0.6129901984631514,-1.5192985319482608,-1.02953724278035,0.2749969544641621,0.6089404947881051,-0.5657258936149782,0.1609301397325709,-1.1185766191933202,0.030218582595458777,0.22818071274274482,-0.20154169940218186,-0.9382400070283291,-0.5407653160901239,0.03399791994361127,-0.1263932664606678,-1.9991012100750234,-1.3281070200509209,-1.266527572614642,-0.6590304660948538,-0.6038314944169267,-0.5209931216875565,-1.0875536589229868,0.2676600363445982,0.28953881801923137,-1.0598877555791468,0.3971970716706394,-0.5126785695240577,-0.9797066698706884,-1.3088625219990708,-1.421869401564566,0.48265096872024776,0.7482127746603067,-2.133104588348111,-1.8710169084754382,0.11792796320970941,-0.6321380743549365,0.5961568308307523,1.11352599149512,-1.3852210078477463,-0.23836650898361234,0.35990007706698574,-2.4756749550769053,0.1865725722569815],\"xaxis\":\"x3\",\"y\":[-0.5893247467893137,0.06357799381554469,0.3335160921609745,0.3243661733043439,0.6787084891857187,-0.8798125623521266,-0.061710317783818004,-0.6900260083396907,-1.0522257446491912,0.2590016072445179,1.122478052572237,-0.30449682024732316,2.267454273919806,1.123114298512772,-0.6257724174399768,1.701367743435107,-0.26754379725565747,0.3003012512826872,-0.3777573284785868,-0.49072235963782135,0.47438039624374584,-0.9607355212592849,-0.01448730604106568,0.7818381394772317,0.47532496228524435,-0.8274720991535782,-0.9284276067853057,-1.488251013296298,0.23396954153909585,1.869180554136494,-0.27883637077933304,-0.49624437594324633,0.879061425460165,0.019113394365269577,1.1757641619276693,0.5894504709946624,1.4571618706876532,0.2106774240345165,-1.2182225650030216,-0.26967153456414256,0.8386234979200884,-1.1357835340401106,0.8926944889147607,-0.30968190234772086,1.0517072919721753,-1.2292761269220487,0.1429175250658092,-0.20868482281688108,0.5809020967712989,-1.1356002159648928,0.5996902800483412,1.7939424342799457,0.5131548974217541,1.172634706569258,-0.5766421668040401,0.46792076906214874,0.9969095439213087,0.21079364926988753,-1.306177547922756,-0.9305224274786199,0.4682250885871653,0.9693097901681132,-2.422557021111485,0.7858934649760749,-0.42506148315700365,-1.1776687308011278,2.2897119366258867,-0.7217004741651094,-0.9737110269480089,0.4190362375628981,-0.7391331202884779,-0.5555335418005726,-0.6785442909794438,-0.5230462779813413,-0.19618762434273726,-1.020057265171055,1.381583295856783,-1.3195078598361525,0.11768444018206939,0.07088724711071444,-0.41152734532531077,-0.2144863229665085,0.3000765406875,0.6506309442988503,0.8406330967821201,0.6551793622147913,-1.0321856810764007,0.5340585373125538,-0.062237136294529594,0.2250207871795296,0.8894595124404172,1.3538895386143526,0.2817394146169772,1.2786671214167356,-0.33824826463402663,1.1999423130980735,0.04203995852535922,1.149306256216227,1.641525664697918,-0.6463223417336121],\"yaxis\":\"y3\",\"type\":\"scatter\"},{\"line\":{\"color\":\"rgba(128, 128, 128, 1.0)\",\"dash\":\"solid\",\"shape\":\"linear\",\"width\":1.3},\"marker\":{\"size\":2,\"symbol\":\"circle\"},\"mode\":\"markers\",\"name\":\"A\",\"text\":\"\",\"x\":[0.3132413364996825,0.5164174556087842,-1.7447372673773398,-0.528880172889918,1.033665036725101,0.873311394994029,0.8249908464050247,0.9273397491692893,-0.8215058131985827,-0.8338394535403043,0.6593856425722231,0.606812543064322,1.0366572251911874,-0.1838123154502142,-0.20255865641686507,-0.21478677434427987,0.42683648089814025,0.8075809913991108,3.588713411113252,-0.23269749284998376,1.1458371773320664,0.15350908534039004,-0.09355790030975901,-2.1551973689769155,0.6341354055616454,-1.3269834908993567,1.357070496588174,-0.863944691468353,-0.32596706926126623,-1.0305917008899146,-1.924646040143175,1.2923917923983734,1.9237844815778715,-0.48887692696949653,-0.5799400968574776,-1.8084695250653529,0.34915227891884415,0.021587918287322816,1.8738783065307074,-2.0586680039229046,-0.2924245775655203,-0.8470645847823713,0.45056001836452403,0.6348733493561158,-0.05420891092805153,1.4918185827662416,-1.124726844622321,-1.160276889128454,-1.815885096838446,0.15342969039819218,1.550598326829556,0.2197474501683362,-0.8128773277477808,0.6372434340238345,0.5706402164732105,-0.7959502516548398,0.7114564128194969,-0.381733380041855,-0.8762451254574802,0.39495110511007064,0.0009804939368298273,1.0761618317249724,0.18466593097894565,-1.3431239241579576,0.6410572260021555,-1.776934017171851,-1.8652013021519074,-0.11037286401511258,0.49461982191473397,0.2159836931037541,-0.9894954037552692,1.0296888720181843,0.004919324642563422,1.573193852011606,-0.014839678786844444,-0.950094388676654,0.8885889188498369,0.2486231614394077,2.265740662571898,-1.6061175371701175,-0.8861363719746421,0.053462340071665095,0.0556482498375347,0.5318168459142504,-0.8798981290139644,0.5742427858202375,-1.3527934392569503,1.4531258907979674,-0.5192312520648216,0.03303622891287528,0.757101307601849,-0.607351686021069,-1.4141927512221015,-0.6679557973217564,2.6669129852176447,-0.29655987552981844,-0.6393450954746018,-0.3442074457638253,-2.5294642240008076,1.6447753012195332],\"xaxis\":\"x4\",\"y\":[-0.5893247467893137,0.06357799381554469,0.3335160921609745,0.3243661733043439,0.6787084891857187,-0.8798125623521266,-0.061710317783818004,-0.6900260083396907,-1.0522257446491912,0.2590016072445179,1.122478052572237,-0.30449682024732316,2.267454273919806,1.123114298512772,-0.6257724174399768,1.701367743435107,-0.26754379725565747,0.3003012512826872,-0.3777573284785868,-0.49072235963782135,0.47438039624374584,-0.9607355212592849,-0.01448730604106568,0.7818381394772317,0.47532496228524435,-0.8274720991535782,-0.9284276067853057,-1.488251013296298,0.23396954153909585,1.869180554136494,-0.27883637077933304,-0.49624437594324633,0.879061425460165,0.019113394365269577,1.1757641619276693,0.5894504709946624,1.4571618706876532,0.2106774240345165,-1.2182225650030216,-0.26967153456414256,0.8386234979200884,-1.1357835340401106,0.8926944889147607,-0.30968190234772086,1.0517072919721753,-1.2292761269220487,0.1429175250658092,-0.20868482281688108,0.5809020967712989,-1.1356002159648928,0.5996902800483412,1.7939424342799457,0.5131548974217541,1.172634706569258,-0.5766421668040401,0.46792076906214874,0.9969095439213087,0.21079364926988753,-1.306177547922756,-0.9305224274786199,0.4682250885871653,0.9693097901681132,-2.422557021111485,0.7858934649760749,-0.42506148315700365,-1.1776687308011278,2.2897119366258867,-0.7217004741651094,-0.9737110269480089,0.4190362375628981,-0.7391331202884779,-0.5555335418005726,-0.6785442909794438,-0.5230462779813413,-0.19618762434273726,-1.020057265171055,1.381583295856783,-1.3195078598361525,0.11768444018206939,0.07088724711071444,-0.41152734532531077,-0.2144863229665085,0.3000765406875,0.6506309442988503,0.8406330967821201,0.6551793622147913,-1.0321856810764007,0.5340585373125538,-0.062237136294529594,0.2250207871795296,0.8894595124404172,1.3538895386143526,0.2817394146169772,1.2786671214167356,-0.33824826463402663,1.1999423130980735,0.04203995852535922,1.149306256216227,1.641525664697918,-0.6463223417336121],\"yaxis\":\"y4\",\"type\":\"scatter\"},{\"line\":{\"color\":\"rgba(128, 128, 128, 1.0)\",\"dash\":\"solid\",\"shape\":\"linear\",\"width\":1.3},\"marker\":{\"size\":2,\"symbol\":\"circle\"},\"mode\":\"markers\",\"name\":\"B\",\"text\":\"\",\"x\":[-0.5893247467893137,0.06357799381554469,0.3335160921609745,0.3243661733043439,0.6787084891857187,-0.8798125623521266,-0.061710317783818004,-0.6900260083396907,-1.0522257446491912,0.2590016072445179,1.122478052572237,-0.30449682024732316,2.267454273919806,1.123114298512772,-0.6257724174399768,1.701367743435107,-0.26754379725565747,0.3003012512826872,-0.3777573284785868,-0.49072235963782135,0.47438039624374584,-0.9607355212592849,-0.01448730604106568,0.7818381394772317,0.47532496228524435,-0.8274720991535782,-0.9284276067853057,-1.488251013296298,0.23396954153909585,1.869180554136494,-0.27883637077933304,-0.49624437594324633,0.879061425460165,0.019113394365269577,1.1757641619276693,0.5894504709946624,1.4571618706876532,0.2106774240345165,-1.2182225650030216,-0.26967153456414256,0.8386234979200884,-1.1357835340401106,0.8926944889147607,-0.30968190234772086,1.0517072919721753,-1.2292761269220487,0.1429175250658092,-0.20868482281688108,0.5809020967712989,-1.1356002159648928,0.5996902800483412,1.7939424342799457,0.5131548974217541,1.172634706569258,-0.5766421668040401,0.46792076906214874,0.9969095439213087,0.21079364926988753,-1.306177547922756,-0.9305224274786199,0.4682250885871653,0.9693097901681132,-2.422557021111485,0.7858934649760749,-0.42506148315700365,-1.1776687308011278,2.2897119366258867,-0.7217004741651094,-0.9737110269480089,0.4190362375628981,-0.7391331202884779,-0.5555335418005726,-0.6785442909794438,-0.5230462779813413,-0.19618762434273726,-1.020057265171055,1.381583295856783,-1.3195078598361525,0.11768444018206939,0.07088724711071444,-0.41152734532531077,-0.2144863229665085,0.3000765406875,0.6506309442988503,0.8406330967821201,0.6551793622147913,-1.0321856810764007,0.5340585373125538,-0.062237136294529594,0.2250207871795296,0.8894595124404172,1.3538895386143526,0.2817394146169772,1.2786671214167356,-0.33824826463402663,1.1999423130980735,0.04203995852535922,1.149306256216227,1.641525664697918,-0.6463223417336121],\"xaxis\":\"x5\",\"y\":[1.8124925870160997,1.086663682175712,-1.8953243258357049,-0.392843436166962,-0.1567169632575485,0.9645413080533394,0.17939239711442306,-0.5596859964104648,0.08895987969414001,1.2410834269061197,-0.16635960086585302,-0.2693807178383773,0.8616972888977513,-0.32162793172586895,-0.7263427607658054,0.19433049801394328,0.9230331246428911,1.6738866616294028,2.844028514290566,0.08124111784770374,1.559763934272282,-0.028424724115640336,-1.5978583981740588,1.3928576720947006,2.0229086490252826,-1.7694810175837032,0.048379614153000024,-1.079273422471972,1.2672551795759603,-0.1387742179814284,0.17791343334287685,-0.16720070633069986,-0.10054709814906158,-0.4045908852076268,0.12613317418414827,-0.5705034300132444,0.46209916749023333,0.4246966632128942,-0.8374278258285641,-0.9638366983275459,0.976890575946419,0.7835331653136482,2.033276023577144,1.1199398530052502,0.41138271732725634,1.0078069220383363,-1.17204783089823,-0.030259256831799808,-0.0725649072425263,-1.4986111479891409,0.6024912562451382,-0.34153690368730827,-1.015779510613287,0.6290209644622186,1.063457337554401,0.836723127079669,0.15820480216977437,-1.5203659349823258,-0.8072700824714942,0.4091445040915564,0.11572276858949519,-0.7164543939959533,-0.07286098502404578,0.38153643710956087,0.8543380617745421,-0.1165213944519551,0.6319713589030436,-1.724235407313587,0.386413105368971,-0.2386928216312317,0.732732670662475,-0.24461445087908382,-0.15065292063607347,1.5751534559338005,-1.5582891131847143,-0.18228298191894451,-0.41116032632912836,-0.17708445099528772,0.24337163271237103,1.192683688423048,0.9782283130777022,0.24352349186539524,-0.9532991377363603,-0.6462511604959087,0.7085017132965485,-2.1084373382894226,-0.5809716735247753,0.8850207737297211,0.246091165930676,-0.503503699045387,-2.0346014589949073,0.7399600548898199,0.867255339032245,2.6404520588474565,-0.4100752894175069,0.8762080237341998,0.07387253745176947,0.05732143006845413,0.4586850385176115,0.8508544486089744],\"yaxis\":\"y5\",\"type\":\"scatter\"},{\"histfunc\":\"count\",\"histnorm\":\"\",\"marker\":{\"color\":\"rgba(55, 128, 191, 1.0)\",\"line\":{\"color\":\"#4D5663\",\"width\":1.3}},\"name\":\"B\",\"nbinsx\":10,\"opacity\":0.8,\"orientation\":\"v\",\"x\":[1.8124925870160997,1.086663682175712,-1.8953243258357049,-0.392843436166962,-0.1567169632575485,0.9645413080533394,0.17939239711442306,-0.5596859964104648,0.08895987969414001,1.2410834269061197,-0.16635960086585302,-0.2693807178383773,0.8616972888977513,-0.32162793172586895,-0.7263427607658054,0.19433049801394328,0.9230331246428911,1.6738866616294028,2.844028514290566,0.08124111784770374,1.559763934272282,-0.028424724115640336,-1.5978583981740588,1.3928576720947006,2.0229086490252826,-1.7694810175837032,0.048379614153000024,-1.079273422471972,1.2672551795759603,-0.1387742179814284,0.17791343334287685,-0.16720070633069986,-0.10054709814906158,-0.4045908852076268,0.12613317418414827,-0.5705034300132444,0.46209916749023333,0.4246966632128942,-0.8374278258285641,-0.9638366983275459,0.976890575946419,0.7835331653136482,2.033276023577144,1.1199398530052502,0.41138271732725634,1.0078069220383363,-1.17204783089823,-0.030259256831799808,-0.0725649072425263,-1.4986111479891409,0.6024912562451382,-0.34153690368730827,-1.015779510613287,0.6290209644622186,1.063457337554401,0.836723127079669,0.15820480216977437,-1.5203659349823258,-0.8072700824714942,0.4091445040915564,0.11572276858949519,-0.7164543939959533,-0.07286098502404578,0.38153643710956087,0.8543380617745421,-0.1165213944519551,0.6319713589030436,-1.724235407313587,0.386413105368971,-0.2386928216312317,0.732732670662475,-0.24461445087908382,-0.15065292063607347,1.5751534559338005,-1.5582891131847143,-0.18228298191894451,-0.41116032632912836,-0.17708445099528772,0.24337163271237103,1.192683688423048,0.9782283130777022,0.24352349186539524,-0.9532991377363603,-0.6462511604959087,0.7085017132965485,-2.1084373382894226,-0.5809716735247753,0.8850207737297211,0.246091165930676,-0.503503699045387,-2.0346014589949073,0.7399600548898199,0.867255339032245,2.6404520588474565,-0.4100752894175069,0.8762080237341998,0.07387253745176947,0.05732143006845413,0.4586850385176115,0.8508544486089744],\"xaxis\":\"x6\",\"yaxis\":\"y6\",\"type\":\"histogram\"},{\"line\":{\"color\":\"rgba(128, 128, 128, 1.0)\",\"dash\":\"solid\",\"shape\":\"linear\",\"width\":1.3},\"marker\":{\"size\":2,\"symbol\":\"circle\"},\"mode\":\"markers\",\"name\":\"B\",\"text\":\"\",\"x\":[-0.5887201252080634,0.7019925031583143,-0.12152814849423052,-1.2708438572364291,1.005385839304346,-0.9984428692265944,1.4321629049952669,-1.0560767907795185,-0.6562327117597355,-0.3950371209300445,-0.6369083886879076,0.16740259901346027,-1.197787967906911,-0.5757438379751361,-0.9660314149290065,-1.280312500419322,0.44919005132260154,0.9912354246161327,-0.22665091004576998,2.00195641786289,0.6521292871423648,-0.5858611758478834,-0.2026706703994717,-1.1400881200028743,-1.6598845111368843,-0.3821632649493528,0.40015268984340935,-0.24779955580087326,-0.22014964502210926,1.9826019378014421,-2.078964493043121,0.8232357228810001,-0.3410786708737788,0.2326250073562358,0.017721847740962565,0.06476185482905336,1.0856823558781863,-1.1863410497481561,-0.47395933534119455,0.42867872806233165,-0.9792302166465338,-0.3188004167296261,-1.6634411913351508,-0.1536391932935441,0.37680087031661724,-0.1622649507322113,-1.0233161895393332,-0.6374744254895608,-0.38932829571389926,0.28352499938728154,-0.17052285870812525,0.4544231814922744,0.6279385675513667,-0.29750956972512393,-0.9990886330259056,-1.432305886084423,1.7747315663056045,-0.6129901984631514,-1.5192985319482608,-1.02953724278035,0.2749969544641621,0.6089404947881051,-0.5657258936149782,0.1609301397325709,-1.1185766191933202,0.030218582595458777,0.22818071274274482,-0.20154169940218186,-0.9382400070283291,-0.5407653160901239,0.03399791994361127,-0.1263932664606678,-1.9991012100750234,-1.3281070200509209,-1.266527572614642,-0.6590304660948538,-0.6038314944169267,-0.5209931216875565,-1.0875536589229868,0.2676600363445982,0.28953881801923137,-1.0598877555791468,0.3971970716706394,-0.5126785695240577,-0.9797066698706884,-1.3088625219990708,-1.421869401564566,0.48265096872024776,0.7482127746603067,-2.133104588348111,-1.8710169084754382,0.11792796320970941,-0.6321380743549365,0.5961568308307523,1.11352599149512,-1.3852210078477463,-0.23836650898361234,0.35990007706698574,-2.4756749550769053,0.1865725722569815],\"xaxis\":\"x7\",\"y\":[1.8124925870160997,1.086663682175712,-1.8953243258357049,-0.392843436166962,-0.1567169632575485,0.9645413080533394,0.17939239711442306,-0.5596859964104648,0.08895987969414001,1.2410834269061197,-0.16635960086585302,-0.2693807178383773,0.8616972888977513,-0.32162793172586895,-0.7263427607658054,0.19433049801394328,0.9230331246428911,1.6738866616294028,2.844028514290566,0.08124111784770374,1.559763934272282,-0.028424724115640336,-1.5978583981740588,1.3928576720947006,2.0229086490252826,-1.7694810175837032,0.048379614153000024,-1.079273422471972,1.2672551795759603,-0.1387742179814284,0.17791343334287685,-0.16720070633069986,-0.10054709814906158,-0.4045908852076268,0.12613317418414827,-0.5705034300132444,0.46209916749023333,0.4246966632128942,-0.8374278258285641,-0.9638366983275459,0.976890575946419,0.7835331653136482,2.033276023577144,1.1199398530052502,0.41138271732725634,1.0078069220383363,-1.17204783089823,-0.030259256831799808,-0.0725649072425263,-1.4986111479891409,0.6024912562451382,-0.34153690368730827,-1.015779510613287,0.6290209644622186,1.063457337554401,0.836723127079669,0.15820480216977437,-1.5203659349823258,-0.8072700824714942,0.4091445040915564,0.11572276858949519,-0.7164543939959533,-0.07286098502404578,0.38153643710956087,0.8543380617745421,-0.1165213944519551,0.6319713589030436,-1.724235407313587,0.386413105368971,-0.2386928216312317,0.732732670662475,-0.24461445087908382,-0.15065292063607347,1.5751534559338005,-1.5582891131847143,-0.18228298191894451,-0.41116032632912836,-0.17708445099528772,0.24337163271237103,1.192683688423048,0.9782283130777022,0.24352349186539524,-0.9532991377363603,-0.6462511604959087,0.7085017132965485,-2.1084373382894226,-0.5809716735247753,0.8850207737297211,0.246091165930676,-0.503503699045387,-2.0346014589949073,0.7399600548898199,0.867255339032245,2.6404520588474565,-0.4100752894175069,0.8762080237341998,0.07387253745176947,0.05732143006845413,0.4586850385176115,0.8508544486089744],\"yaxis\":\"y7\",\"type\":\"scatter\"},{\"line\":{\"color\":\"rgba(128, 128, 128, 1.0)\",\"dash\":\"solid\",\"shape\":\"linear\",\"width\":1.3},\"marker\":{\"size\":2,\"symbol\":\"circle\"},\"mode\":\"markers\",\"name\":\"B\",\"text\":\"\",\"x\":[0.3132413364996825,0.5164174556087842,-1.7447372673773398,-0.528880172889918,1.033665036725101,0.873311394994029,0.8249908464050247,0.9273397491692893,-0.8215058131985827,-0.8338394535403043,0.6593856425722231,0.606812543064322,1.0366572251911874,-0.1838123154502142,-0.20255865641686507,-0.21478677434427987,0.42683648089814025,0.8075809913991108,3.588713411113252,-0.23269749284998376,1.1458371773320664,0.15350908534039004,-0.09355790030975901,-2.1551973689769155,0.6341354055616454,-1.3269834908993567,1.357070496588174,-0.863944691468353,-0.32596706926126623,-1.0305917008899146,-1.924646040143175,1.2923917923983734,1.9237844815778715,-0.48887692696949653,-0.5799400968574776,-1.8084695250653529,0.34915227891884415,0.021587918287322816,1.8738783065307074,-2.0586680039229046,-0.2924245775655203,-0.8470645847823713,0.45056001836452403,0.6348733493561158,-0.05420891092805153,1.4918185827662416,-1.124726844622321,-1.160276889128454,-1.815885096838446,0.15342969039819218,1.550598326829556,0.2197474501683362,-0.8128773277477808,0.6372434340238345,0.5706402164732105,-0.7959502516548398,0.7114564128194969,-0.381733380041855,-0.8762451254574802,0.39495110511007064,0.0009804939368298273,1.0761618317249724,0.18466593097894565,-1.3431239241579576,0.6410572260021555,-1.776934017171851,-1.8652013021519074,-0.11037286401511258,0.49461982191473397,0.2159836931037541,-0.9894954037552692,1.0296888720181843,0.004919324642563422,1.573193852011606,-0.014839678786844444,-0.950094388676654,0.8885889188498369,0.2486231614394077,2.265740662571898,-1.6061175371701175,-0.8861363719746421,0.053462340071665095,0.0556482498375347,0.5318168459142504,-0.8798981290139644,0.5742427858202375,-1.3527934392569503,1.4531258907979674,-0.5192312520648216,0.03303622891287528,0.757101307601849,-0.607351686021069,-1.4141927512221015,-0.6679557973217564,2.6669129852176447,-0.29655987552981844,-0.6393450954746018,-0.3442074457638253,-2.5294642240008076,1.6447753012195332],\"xaxis\":\"x8\",\"y\":[1.8124925870160997,1.086663682175712,-1.8953243258357049,-0.392843436166962,-0.1567169632575485,0.9645413080533394,0.17939239711442306,-0.5596859964104648,0.08895987969414001,1.2410834269061197,-0.16635960086585302,-0.2693807178383773,0.8616972888977513,-0.32162793172586895,-0.7263427607658054,0.19433049801394328,0.9230331246428911,1.6738866616294028,2.844028514290566,0.08124111784770374,1.559763934272282,-0.028424724115640336,-1.5978583981740588,1.3928576720947006,2.0229086490252826,-1.7694810175837032,0.048379614153000024,-1.079273422471972,1.2672551795759603,-0.1387742179814284,0.17791343334287685,-0.16720070633069986,-0.10054709814906158,-0.4045908852076268,0.12613317418414827,-0.5705034300132444,0.46209916749023333,0.4246966632128942,-0.8374278258285641,-0.9638366983275459,0.976890575946419,0.7835331653136482,2.033276023577144,1.1199398530052502,0.41138271732725634,1.0078069220383363,-1.17204783089823,-0.030259256831799808,-0.0725649072425263,-1.4986111479891409,0.6024912562451382,-0.34153690368730827,-1.015779510613287,0.6290209644622186,1.063457337554401,0.836723127079669,0.15820480216977437,-1.5203659349823258,-0.8072700824714942,0.4091445040915564,0.11572276858949519,-0.7164543939959533,-0.07286098502404578,0.38153643710956087,0.8543380617745421,-0.1165213944519551,0.6319713589030436,-1.724235407313587,0.386413105368971,-0.2386928216312317,0.732732670662475,-0.24461445087908382,-0.15065292063607347,1.5751534559338005,-1.5582891131847143,-0.18228298191894451,-0.41116032632912836,-0.17708445099528772,0.24337163271237103,1.192683688423048,0.9782283130777022,0.24352349186539524,-0.9532991377363603,-0.6462511604959087,0.7085017132965485,-2.1084373382894226,-0.5809716735247753,0.8850207737297211,0.246091165930676,-0.503503699045387,-2.0346014589949073,0.7399600548898199,0.867255339032245,2.6404520588474565,-0.4100752894175069,0.8762080237341998,0.07387253745176947,0.05732143006845413,0.4586850385176115,0.8508544486089744],\"yaxis\":\"y8\",\"type\":\"scatter\"},{\"line\":{\"color\":\"rgba(128, 128, 128, 1.0)\",\"dash\":\"solid\",\"shape\":\"linear\",\"width\":1.3},\"marker\":{\"size\":2,\"symbol\":\"circle\"},\"mode\":\"markers\",\"name\":\"C\",\"text\":\"\",\"x\":[-0.5893247467893137,0.06357799381554469,0.3335160921609745,0.3243661733043439,0.6787084891857187,-0.8798125623521266,-0.061710317783818004,-0.6900260083396907,-1.0522257446491912,0.2590016072445179,1.122478052572237,-0.30449682024732316,2.267454273919806,1.123114298512772,-0.6257724174399768,1.701367743435107,-0.26754379725565747,0.3003012512826872,-0.3777573284785868,-0.49072235963782135,0.47438039624374584,-0.9607355212592849,-0.01448730604106568,0.7818381394772317,0.47532496228524435,-0.8274720991535782,-0.9284276067853057,-1.488251013296298,0.23396954153909585,1.869180554136494,-0.27883637077933304,-0.49624437594324633,0.879061425460165,0.019113394365269577,1.1757641619276693,0.5894504709946624,1.4571618706876532,0.2106774240345165,-1.2182225650030216,-0.26967153456414256,0.8386234979200884,-1.1357835340401106,0.8926944889147607,-0.30968190234772086,1.0517072919721753,-1.2292761269220487,0.1429175250658092,-0.20868482281688108,0.5809020967712989,-1.1356002159648928,0.5996902800483412,1.7939424342799457,0.5131548974217541,1.172634706569258,-0.5766421668040401,0.46792076906214874,0.9969095439213087,0.21079364926988753,-1.306177547922756,-0.9305224274786199,0.4682250885871653,0.9693097901681132,-2.422557021111485,0.7858934649760749,-0.42506148315700365,-1.1776687308011278,2.2897119366258867,-0.7217004741651094,-0.9737110269480089,0.4190362375628981,-0.7391331202884779,-0.5555335418005726,-0.6785442909794438,-0.5230462779813413,-0.19618762434273726,-1.020057265171055,1.381583295856783,-1.3195078598361525,0.11768444018206939,0.07088724711071444,-0.41152734532531077,-0.2144863229665085,0.3000765406875,0.6506309442988503,0.8406330967821201,0.6551793622147913,-1.0321856810764007,0.5340585373125538,-0.062237136294529594,0.2250207871795296,0.8894595124404172,1.3538895386143526,0.2817394146169772,1.2786671214167356,-0.33824826463402663,1.1999423130980735,0.04203995852535922,1.149306256216227,1.641525664697918,-0.6463223417336121],\"xaxis\":\"x9\",\"y\":[-0.5887201252080634,0.7019925031583143,-0.12152814849423052,-1.2708438572364291,1.005385839304346,-0.9984428692265944,1.4321629049952669,-1.0560767907795185,-0.6562327117597355,-0.3950371209300445,-0.6369083886879076,0.16740259901346027,-1.197787967906911,-0.5757438379751361,-0.9660314149290065,-1.280312500419322,0.44919005132260154,0.9912354246161327,-0.22665091004576998,2.00195641786289,0.6521292871423648,-0.5858611758478834,-0.2026706703994717,-1.1400881200028743,-1.6598845111368843,-0.3821632649493528,0.40015268984340935,-0.24779955580087326,-0.22014964502210926,1.9826019378014421,-2.078964493043121,0.8232357228810001,-0.3410786708737788,0.2326250073562358,0.017721847740962565,0.06476185482905336,1.0856823558781863,-1.1863410497481561,-0.47395933534119455,0.42867872806233165,-0.9792302166465338,-0.3188004167296261,-1.6634411913351508,-0.1536391932935441,0.37680087031661724,-0.1622649507322113,-1.0233161895393332,-0.6374744254895608,-0.38932829571389926,0.28352499938728154,-0.17052285870812525,0.4544231814922744,0.6279385675513667,-0.29750956972512393,-0.9990886330259056,-1.432305886084423,1.7747315663056045,-0.6129901984631514,-1.5192985319482608,-1.02953724278035,0.2749969544641621,0.6089404947881051,-0.5657258936149782,0.1609301397325709,-1.1185766191933202,0.030218582595458777,0.22818071274274482,-0.20154169940218186,-0.9382400070283291,-0.5407653160901239,0.03399791994361127,-0.1263932664606678,-1.9991012100750234,-1.3281070200509209,-1.266527572614642,-0.6590304660948538,-0.6038314944169267,-0.5209931216875565,-1.0875536589229868,0.2676600363445982,0.28953881801923137,-1.0598877555791468,0.3971970716706394,-0.5126785695240577,-0.9797066698706884,-1.3088625219990708,-1.421869401564566,0.48265096872024776,0.7482127746603067,-2.133104588348111,-1.8710169084754382,0.11792796320970941,-0.6321380743549365,0.5961568308307523,1.11352599149512,-1.3852210078477463,-0.23836650898361234,0.35990007706698574,-2.4756749550769053,0.1865725722569815],\"yaxis\":\"y9\",\"type\":\"scatter\"},{\"line\":{\"color\":\"rgba(128, 128, 128, 1.0)\",\"dash\":\"solid\",\"shape\":\"linear\",\"width\":1.3},\"marker\":{\"size\":2,\"symbol\":\"circle\"},\"mode\":\"markers\",\"name\":\"C\",\"text\":\"\",\"x\":[1.8124925870160997,1.086663682175712,-1.8953243258357049,-0.392843436166962,-0.1567169632575485,0.9645413080533394,0.17939239711442306,-0.5596859964104648,0.08895987969414001,1.2410834269061197,-0.16635960086585302,-0.2693807178383773,0.8616972888977513,-0.32162793172586895,-0.7263427607658054,0.19433049801394328,0.9230331246428911,1.6738866616294028,2.844028514290566,0.08124111784770374,1.559763934272282,-0.028424724115640336,-1.5978583981740588,1.3928576720947006,2.0229086490252826,-1.7694810175837032,0.048379614153000024,-1.079273422471972,1.2672551795759603,-0.1387742179814284,0.17791343334287685,-0.16720070633069986,-0.10054709814906158,-0.4045908852076268,0.12613317418414827,-0.5705034300132444,0.46209916749023333,0.4246966632128942,-0.8374278258285641,-0.9638366983275459,0.976890575946419,0.7835331653136482,2.033276023577144,1.1199398530052502,0.41138271732725634,1.0078069220383363,-1.17204783089823,-0.030259256831799808,-0.0725649072425263,-1.4986111479891409,0.6024912562451382,-0.34153690368730827,-1.015779510613287,0.6290209644622186,1.063457337554401,0.836723127079669,0.15820480216977437,-1.5203659349823258,-0.8072700824714942,0.4091445040915564,0.11572276858949519,-0.7164543939959533,-0.07286098502404578,0.38153643710956087,0.8543380617745421,-0.1165213944519551,0.6319713589030436,-1.724235407313587,0.386413105368971,-0.2386928216312317,0.732732670662475,-0.24461445087908382,-0.15065292063607347,1.5751534559338005,-1.5582891131847143,-0.18228298191894451,-0.41116032632912836,-0.17708445099528772,0.24337163271237103,1.192683688423048,0.9782283130777022,0.24352349186539524,-0.9532991377363603,-0.6462511604959087,0.7085017132965485,-2.1084373382894226,-0.5809716735247753,0.8850207737297211,0.246091165930676,-0.503503699045387,-2.0346014589949073,0.7399600548898199,0.867255339032245,2.6404520588474565,-0.4100752894175069,0.8762080237341998,0.07387253745176947,0.05732143006845413,0.4586850385176115,0.8508544486089744],\"xaxis\":\"x10\",\"y\":[-0.5887201252080634,0.7019925031583143,-0.12152814849423052,-1.2708438572364291,1.005385839304346,-0.9984428692265944,1.4321629049952669,-1.0560767907795185,-0.6562327117597355,-0.3950371209300445,-0.6369083886879076,0.16740259901346027,-1.197787967906911,-0.5757438379751361,-0.9660314149290065,-1.280312500419322,0.44919005132260154,0.9912354246161327,-0.22665091004576998,2.00195641786289,0.6521292871423648,-0.5858611758478834,-0.2026706703994717,-1.1400881200028743,-1.6598845111368843,-0.3821632649493528,0.40015268984340935,-0.24779955580087326,-0.22014964502210926,1.9826019378014421,-2.078964493043121,0.8232357228810001,-0.3410786708737788,0.2326250073562358,0.017721847740962565,0.06476185482905336,1.0856823558781863,-1.1863410497481561,-0.47395933534119455,0.42867872806233165,-0.9792302166465338,-0.3188004167296261,-1.6634411913351508,-0.1536391932935441,0.37680087031661724,-0.1622649507322113,-1.0233161895393332,-0.6374744254895608,-0.38932829571389926,0.28352499938728154,-0.17052285870812525,0.4544231814922744,0.6279385675513667,-0.29750956972512393,-0.9990886330259056,-1.432305886084423,1.7747315663056045,-0.6129901984631514,-1.5192985319482608,-1.02953724278035,0.2749969544641621,0.6089404947881051,-0.5657258936149782,0.1609301397325709,-1.1185766191933202,0.030218582595458777,0.22818071274274482,-0.20154169940218186,-0.9382400070283291,-0.5407653160901239,0.03399791994361127,-0.1263932664606678,-1.9991012100750234,-1.3281070200509209,-1.266527572614642,-0.6590304660948538,-0.6038314944169267,-0.5209931216875565,-1.0875536589229868,0.2676600363445982,0.28953881801923137,-1.0598877555791468,0.3971970716706394,-0.5126785695240577,-0.9797066698706884,-1.3088625219990708,-1.421869401564566,0.48265096872024776,0.7482127746603067,-2.133104588348111,-1.8710169084754382,0.11792796320970941,-0.6321380743549365,0.5961568308307523,1.11352599149512,-1.3852210078477463,-0.23836650898361234,0.35990007706698574,-2.4756749550769053,0.1865725722569815],\"yaxis\":\"y10\",\"type\":\"scatter\"},{\"histfunc\":\"count\",\"histnorm\":\"\",\"marker\":{\"color\":\"rgba(50, 171, 96, 1.0)\",\"line\":{\"color\":\"#4D5663\",\"width\":1.3}},\"name\":\"C\",\"nbinsx\":10,\"opacity\":0.8,\"orientation\":\"v\",\"x\":[-0.5887201252080634,0.7019925031583143,-0.12152814849423052,-1.2708438572364291,1.005385839304346,-0.9984428692265944,1.4321629049952669,-1.0560767907795185,-0.6562327117597355,-0.3950371209300445,-0.6369083886879076,0.16740259901346027,-1.197787967906911,-0.5757438379751361,-0.9660314149290065,-1.280312500419322,0.44919005132260154,0.9912354246161327,-0.22665091004576998,2.00195641786289,0.6521292871423648,-0.5858611758478834,-0.2026706703994717,-1.1400881200028743,-1.6598845111368843,-0.3821632649493528,0.40015268984340935,-0.24779955580087326,-0.22014964502210926,1.9826019378014421,-2.078964493043121,0.8232357228810001,-0.3410786708737788,0.2326250073562358,0.017721847740962565,0.06476185482905336,1.0856823558781863,-1.1863410497481561,-0.47395933534119455,0.42867872806233165,-0.9792302166465338,-0.3188004167296261,-1.6634411913351508,-0.1536391932935441,0.37680087031661724,-0.1622649507322113,-1.0233161895393332,-0.6374744254895608,-0.38932829571389926,0.28352499938728154,-0.17052285870812525,0.4544231814922744,0.6279385675513667,-0.29750956972512393,-0.9990886330259056,-1.432305886084423,1.7747315663056045,-0.6129901984631514,-1.5192985319482608,-1.02953724278035,0.2749969544641621,0.6089404947881051,-0.5657258936149782,0.1609301397325709,-1.1185766191933202,0.030218582595458777,0.22818071274274482,-0.20154169940218186,-0.9382400070283291,-0.5407653160901239,0.03399791994361127,-0.1263932664606678,-1.9991012100750234,-1.3281070200509209,-1.266527572614642,-0.6590304660948538,-0.6038314944169267,-0.5209931216875565,-1.0875536589229868,0.2676600363445982,0.28953881801923137,-1.0598877555791468,0.3971970716706394,-0.5126785695240577,-0.9797066698706884,-1.3088625219990708,-1.421869401564566,0.48265096872024776,0.7482127746603067,-2.133104588348111,-1.8710169084754382,0.11792796320970941,-0.6321380743549365,0.5961568308307523,1.11352599149512,-1.3852210078477463,-0.23836650898361234,0.35990007706698574,-2.4756749550769053,0.1865725722569815],\"xaxis\":\"x11\",\"yaxis\":\"y11\",\"type\":\"histogram\"},{\"line\":{\"color\":\"rgba(128, 128, 128, 1.0)\",\"dash\":\"solid\",\"shape\":\"linear\",\"width\":1.3},\"marker\":{\"size\":2,\"symbol\":\"circle\"},\"mode\":\"markers\",\"name\":\"C\",\"text\":\"\",\"x\":[0.3132413364996825,0.5164174556087842,-1.7447372673773398,-0.528880172889918,1.033665036725101,0.873311394994029,0.8249908464050247,0.9273397491692893,-0.8215058131985827,-0.8338394535403043,0.6593856425722231,0.606812543064322,1.0366572251911874,-0.1838123154502142,-0.20255865641686507,-0.21478677434427987,0.42683648089814025,0.8075809913991108,3.588713411113252,-0.23269749284998376,1.1458371773320664,0.15350908534039004,-0.09355790030975901,-2.1551973689769155,0.6341354055616454,-1.3269834908993567,1.357070496588174,-0.863944691468353,-0.32596706926126623,-1.0305917008899146,-1.924646040143175,1.2923917923983734,1.9237844815778715,-0.48887692696949653,-0.5799400968574776,-1.8084695250653529,0.34915227891884415,0.021587918287322816,1.8738783065307074,-2.0586680039229046,-0.2924245775655203,-0.8470645847823713,0.45056001836452403,0.6348733493561158,-0.05420891092805153,1.4918185827662416,-1.124726844622321,-1.160276889128454,-1.815885096838446,0.15342969039819218,1.550598326829556,0.2197474501683362,-0.8128773277477808,0.6372434340238345,0.5706402164732105,-0.7959502516548398,0.7114564128194969,-0.381733380041855,-0.8762451254574802,0.39495110511007064,0.0009804939368298273,1.0761618317249724,0.18466593097894565,-1.3431239241579576,0.6410572260021555,-1.776934017171851,-1.8652013021519074,-0.11037286401511258,0.49461982191473397,0.2159836931037541,-0.9894954037552692,1.0296888720181843,0.004919324642563422,1.573193852011606,-0.014839678786844444,-0.950094388676654,0.8885889188498369,0.2486231614394077,2.265740662571898,-1.6061175371701175,-0.8861363719746421,0.053462340071665095,0.0556482498375347,0.5318168459142504,-0.8798981290139644,0.5742427858202375,-1.3527934392569503,1.4531258907979674,-0.5192312520648216,0.03303622891287528,0.757101307601849,-0.607351686021069,-1.4141927512221015,-0.6679557973217564,2.6669129852176447,-0.29655987552981844,-0.6393450954746018,-0.3442074457638253,-2.5294642240008076,1.6447753012195332],\"xaxis\":\"x12\",\"y\":[-0.5887201252080634,0.7019925031583143,-0.12152814849423052,-1.2708438572364291,1.005385839304346,-0.9984428692265944,1.4321629049952669,-1.0560767907795185,-0.6562327117597355,-0.3950371209300445,-0.6369083886879076,0.16740259901346027,-1.197787967906911,-0.5757438379751361,-0.9660314149290065,-1.280312500419322,0.44919005132260154,0.9912354246161327,-0.22665091004576998,2.00195641786289,0.6521292871423648,-0.5858611758478834,-0.2026706703994717,-1.1400881200028743,-1.6598845111368843,-0.3821632649493528,0.40015268984340935,-0.24779955580087326,-0.22014964502210926,1.9826019378014421,-2.078964493043121,0.8232357228810001,-0.3410786708737788,0.2326250073562358,0.017721847740962565,0.06476185482905336,1.0856823558781863,-1.1863410497481561,-0.47395933534119455,0.42867872806233165,-0.9792302166465338,-0.3188004167296261,-1.6634411913351508,-0.1536391932935441,0.37680087031661724,-0.1622649507322113,-1.0233161895393332,-0.6374744254895608,-0.38932829571389926,0.28352499938728154,-0.17052285870812525,0.4544231814922744,0.6279385675513667,-0.29750956972512393,-0.9990886330259056,-1.432305886084423,1.7747315663056045,-0.6129901984631514,-1.5192985319482608,-1.02953724278035,0.2749969544641621,0.6089404947881051,-0.5657258936149782,0.1609301397325709,-1.1185766191933202,0.030218582595458777,0.22818071274274482,-0.20154169940218186,-0.9382400070283291,-0.5407653160901239,0.03399791994361127,-0.1263932664606678,-1.9991012100750234,-1.3281070200509209,-1.266527572614642,-0.6590304660948538,-0.6038314944169267,-0.5209931216875565,-1.0875536589229868,0.2676600363445982,0.28953881801923137,-1.0598877555791468,0.3971970716706394,-0.5126785695240577,-0.9797066698706884,-1.3088625219990708,-1.421869401564566,0.48265096872024776,0.7482127746603067,-2.133104588348111,-1.8710169084754382,0.11792796320970941,-0.6321380743549365,0.5961568308307523,1.11352599149512,-1.3852210078477463,-0.23836650898361234,0.35990007706698574,-2.4756749550769053,0.1865725722569815],\"yaxis\":\"y12\",\"type\":\"scatter\"},{\"line\":{\"color\":\"rgba(128, 128, 128, 1.0)\",\"dash\":\"solid\",\"shape\":\"linear\",\"width\":1.3},\"marker\":{\"size\":2,\"symbol\":\"circle\"},\"mode\":\"markers\",\"name\":\"D\",\"text\":\"\",\"x\":[-0.5893247467893137,0.06357799381554469,0.3335160921609745,0.3243661733043439,0.6787084891857187,-0.8798125623521266,-0.061710317783818004,-0.6900260083396907,-1.0522257446491912,0.2590016072445179,1.122478052572237,-0.30449682024732316,2.267454273919806,1.123114298512772,-0.6257724174399768,1.701367743435107,-0.26754379725565747,0.3003012512826872,-0.3777573284785868,-0.49072235963782135,0.47438039624374584,-0.9607355212592849,-0.01448730604106568,0.7818381394772317,0.47532496228524435,-0.8274720991535782,-0.9284276067853057,-1.488251013296298,0.23396954153909585,1.869180554136494,-0.27883637077933304,-0.49624437594324633,0.879061425460165,0.019113394365269577,1.1757641619276693,0.5894504709946624,1.4571618706876532,0.2106774240345165,-1.2182225650030216,-0.26967153456414256,0.8386234979200884,-1.1357835340401106,0.8926944889147607,-0.30968190234772086,1.0517072919721753,-1.2292761269220487,0.1429175250658092,-0.20868482281688108,0.5809020967712989,-1.1356002159648928,0.5996902800483412,1.7939424342799457,0.5131548974217541,1.172634706569258,-0.5766421668040401,0.46792076906214874,0.9969095439213087,0.21079364926988753,-1.306177547922756,-0.9305224274786199,0.4682250885871653,0.9693097901681132,-2.422557021111485,0.7858934649760749,-0.42506148315700365,-1.1776687308011278,2.2897119366258867,-0.7217004741651094,-0.9737110269480089,0.4190362375628981,-0.7391331202884779,-0.5555335418005726,-0.6785442909794438,-0.5230462779813413,-0.19618762434273726,-1.020057265171055,1.381583295856783,-1.3195078598361525,0.11768444018206939,0.07088724711071444,-0.41152734532531077,-0.2144863229665085,0.3000765406875,0.6506309442988503,0.8406330967821201,0.6551793622147913,-1.0321856810764007,0.5340585373125538,-0.062237136294529594,0.2250207871795296,0.8894595124404172,1.3538895386143526,0.2817394146169772,1.2786671214167356,-0.33824826463402663,1.1999423130980735,0.04203995852535922,1.149306256216227,1.641525664697918,-0.6463223417336121],\"xaxis\":\"x13\",\"y\":[0.3132413364996825,0.5164174556087842,-1.7447372673773398,-0.528880172889918,1.033665036725101,0.873311394994029,0.8249908464050247,0.9273397491692893,-0.8215058131985827,-0.8338394535403043,0.6593856425722231,0.606812543064322,1.0366572251911874,-0.1838123154502142,-0.20255865641686507,-0.21478677434427987,0.42683648089814025,0.8075809913991108,3.588713411113252,-0.23269749284998376,1.1458371773320664,0.15350908534039004,-0.09355790030975901,-2.1551973689769155,0.6341354055616454,-1.3269834908993567,1.357070496588174,-0.863944691468353,-0.32596706926126623,-1.0305917008899146,-1.924646040143175,1.2923917923983734,1.9237844815778715,-0.48887692696949653,-0.5799400968574776,-1.8084695250653529,0.34915227891884415,0.021587918287322816,1.8738783065307074,-2.0586680039229046,-0.2924245775655203,-0.8470645847823713,0.45056001836452403,0.6348733493561158,-0.05420891092805153,1.4918185827662416,-1.124726844622321,-1.160276889128454,-1.815885096838446,0.15342969039819218,1.550598326829556,0.2197474501683362,-0.8128773277477808,0.6372434340238345,0.5706402164732105,-0.7959502516548398,0.7114564128194969,-0.381733380041855,-0.8762451254574802,0.39495110511007064,0.0009804939368298273,1.0761618317249724,0.18466593097894565,-1.3431239241579576,0.6410572260021555,-1.776934017171851,-1.8652013021519074,-0.11037286401511258,0.49461982191473397,0.2159836931037541,-0.9894954037552692,1.0296888720181843,0.004919324642563422,1.573193852011606,-0.014839678786844444,-0.950094388676654,0.8885889188498369,0.2486231614394077,2.265740662571898,-1.6061175371701175,-0.8861363719746421,0.053462340071665095,0.0556482498375347,0.5318168459142504,-0.8798981290139644,0.5742427858202375,-1.3527934392569503,1.4531258907979674,-0.5192312520648216,0.03303622891287528,0.757101307601849,-0.607351686021069,-1.4141927512221015,-0.6679557973217564,2.6669129852176447,-0.29655987552981844,-0.6393450954746018,-0.3442074457638253,-2.5294642240008076,1.6447753012195332],\"yaxis\":\"y13\",\"type\":\"scatter\"},{\"line\":{\"color\":\"rgba(128, 128, 128, 1.0)\",\"dash\":\"solid\",\"shape\":\"linear\",\"width\":1.3},\"marker\":{\"size\":2,\"symbol\":\"circle\"},\"mode\":\"markers\",\"name\":\"D\",\"text\":\"\",\"x\":[1.8124925870160997,1.086663682175712,-1.8953243258357049,-0.392843436166962,-0.1567169632575485,0.9645413080533394,0.17939239711442306,-0.5596859964104648,0.08895987969414001,1.2410834269061197,-0.16635960086585302,-0.2693807178383773,0.8616972888977513,-0.32162793172586895,-0.7263427607658054,0.19433049801394328,0.9230331246428911,1.6738866616294028,2.844028514290566,0.08124111784770374,1.559763934272282,-0.028424724115640336,-1.5978583981740588,1.3928576720947006,2.0229086490252826,-1.7694810175837032,0.048379614153000024,-1.079273422471972,1.2672551795759603,-0.1387742179814284,0.17791343334287685,-0.16720070633069986,-0.10054709814906158,-0.4045908852076268,0.12613317418414827,-0.5705034300132444,0.46209916749023333,0.4246966632128942,-0.8374278258285641,-0.9638366983275459,0.976890575946419,0.7835331653136482,2.033276023577144,1.1199398530052502,0.41138271732725634,1.0078069220383363,-1.17204783089823,-0.030259256831799808,-0.0725649072425263,-1.4986111479891409,0.6024912562451382,-0.34153690368730827,-1.015779510613287,0.6290209644622186,1.063457337554401,0.836723127079669,0.15820480216977437,-1.5203659349823258,-0.8072700824714942,0.4091445040915564,0.11572276858949519,-0.7164543939959533,-0.07286098502404578,0.38153643710956087,0.8543380617745421,-0.1165213944519551,0.6319713589030436,-1.724235407313587,0.386413105368971,-0.2386928216312317,0.732732670662475,-0.24461445087908382,-0.15065292063607347,1.5751534559338005,-1.5582891131847143,-0.18228298191894451,-0.41116032632912836,-0.17708445099528772,0.24337163271237103,1.192683688423048,0.9782283130777022,0.24352349186539524,-0.9532991377363603,-0.6462511604959087,0.7085017132965485,-2.1084373382894226,-0.5809716735247753,0.8850207737297211,0.246091165930676,-0.503503699045387,-2.0346014589949073,0.7399600548898199,0.867255339032245,2.6404520588474565,-0.4100752894175069,0.8762080237341998,0.07387253745176947,0.05732143006845413,0.4586850385176115,0.8508544486089744],\"xaxis\":\"x14\",\"y\":[0.3132413364996825,0.5164174556087842,-1.7447372673773398,-0.528880172889918,1.033665036725101,0.873311394994029,0.8249908464050247,0.9273397491692893,-0.8215058131985827,-0.8338394535403043,0.6593856425722231,0.606812543064322,1.0366572251911874,-0.1838123154502142,-0.20255865641686507,-0.21478677434427987,0.42683648089814025,0.8075809913991108,3.588713411113252,-0.23269749284998376,1.1458371773320664,0.15350908534039004,-0.09355790030975901,-2.1551973689769155,0.6341354055616454,-1.3269834908993567,1.357070496588174,-0.863944691468353,-0.32596706926126623,-1.0305917008899146,-1.924646040143175,1.2923917923983734,1.9237844815778715,-0.48887692696949653,-0.5799400968574776,-1.8084695250653529,0.34915227891884415,0.021587918287322816,1.8738783065307074,-2.0586680039229046,-0.2924245775655203,-0.8470645847823713,0.45056001836452403,0.6348733493561158,-0.05420891092805153,1.4918185827662416,-1.124726844622321,-1.160276889128454,-1.815885096838446,0.15342969039819218,1.550598326829556,0.2197474501683362,-0.8128773277477808,0.6372434340238345,0.5706402164732105,-0.7959502516548398,0.7114564128194969,-0.381733380041855,-0.8762451254574802,0.39495110511007064,0.0009804939368298273,1.0761618317249724,0.18466593097894565,-1.3431239241579576,0.6410572260021555,-1.776934017171851,-1.8652013021519074,-0.11037286401511258,0.49461982191473397,0.2159836931037541,-0.9894954037552692,1.0296888720181843,0.004919324642563422,1.573193852011606,-0.014839678786844444,-0.950094388676654,0.8885889188498369,0.2486231614394077,2.265740662571898,-1.6061175371701175,-0.8861363719746421,0.053462340071665095,0.0556482498375347,0.5318168459142504,-0.8798981290139644,0.5742427858202375,-1.3527934392569503,1.4531258907979674,-0.5192312520648216,0.03303622891287528,0.757101307601849,-0.607351686021069,-1.4141927512221015,-0.6679557973217564,2.6669129852176447,-0.29655987552981844,-0.6393450954746018,-0.3442074457638253,-2.5294642240008076,1.6447753012195332],\"yaxis\":\"y14\",\"type\":\"scatter\"},{\"line\":{\"color\":\"rgba(128, 128, 128, 1.0)\",\"dash\":\"solid\",\"shape\":\"linear\",\"width\":1.3},\"marker\":{\"size\":2,\"symbol\":\"circle\"},\"mode\":\"markers\",\"name\":\"D\",\"text\":\"\",\"x\":[-0.5887201252080634,0.7019925031583143,-0.12152814849423052,-1.2708438572364291,1.005385839304346,-0.9984428692265944,1.4321629049952669,-1.0560767907795185,-0.6562327117597355,-0.3950371209300445,-0.6369083886879076,0.16740259901346027,-1.197787967906911,-0.5757438379751361,-0.9660314149290065,-1.280312500419322,0.44919005132260154,0.9912354246161327,-0.22665091004576998,2.00195641786289,0.6521292871423648,-0.5858611758478834,-0.2026706703994717,-1.1400881200028743,-1.6598845111368843,-0.3821632649493528,0.40015268984340935,-0.24779955580087326,-0.22014964502210926,1.9826019378014421,-2.078964493043121,0.8232357228810001,-0.3410786708737788,0.2326250073562358,0.017721847740962565,0.06476185482905336,1.0856823558781863,-1.1863410497481561,-0.47395933534119455,0.42867872806233165,-0.9792302166465338,-0.3188004167296261,-1.6634411913351508,-0.1536391932935441,0.37680087031661724,-0.1622649507322113,-1.0233161895393332,-0.6374744254895608,-0.38932829571389926,0.28352499938728154,-0.17052285870812525,0.4544231814922744,0.6279385675513667,-0.29750956972512393,-0.9990886330259056,-1.432305886084423,1.7747315663056045,-0.6129901984631514,-1.5192985319482608,-1.02953724278035,0.2749969544641621,0.6089404947881051,-0.5657258936149782,0.1609301397325709,-1.1185766191933202,0.030218582595458777,0.22818071274274482,-0.20154169940218186,-0.9382400070283291,-0.5407653160901239,0.03399791994361127,-0.1263932664606678,-1.9991012100750234,-1.3281070200509209,-1.266527572614642,-0.6590304660948538,-0.6038314944169267,-0.5209931216875565,-1.0875536589229868,0.2676600363445982,0.28953881801923137,-1.0598877555791468,0.3971970716706394,-0.5126785695240577,-0.9797066698706884,-1.3088625219990708,-1.421869401564566,0.48265096872024776,0.7482127746603067,-2.133104588348111,-1.8710169084754382,0.11792796320970941,-0.6321380743549365,0.5961568308307523,1.11352599149512,-1.3852210078477463,-0.23836650898361234,0.35990007706698574,-2.4756749550769053,0.1865725722569815],\"xaxis\":\"x15\",\"y\":[0.3132413364996825,0.5164174556087842,-1.7447372673773398,-0.528880172889918,1.033665036725101,0.873311394994029,0.8249908464050247,0.9273397491692893,-0.8215058131985827,-0.8338394535403043,0.6593856425722231,0.606812543064322,1.0366572251911874,-0.1838123154502142,-0.20255865641686507,-0.21478677434427987,0.42683648089814025,0.8075809913991108,3.588713411113252,-0.23269749284998376,1.1458371773320664,0.15350908534039004,-0.09355790030975901,-2.1551973689769155,0.6341354055616454,-1.3269834908993567,1.357070496588174,-0.863944691468353,-0.32596706926126623,-1.0305917008899146,-1.924646040143175,1.2923917923983734,1.9237844815778715,-0.48887692696949653,-0.5799400968574776,-1.8084695250653529,0.34915227891884415,0.021587918287322816,1.8738783065307074,-2.0586680039229046,-0.2924245775655203,-0.8470645847823713,0.45056001836452403,0.6348733493561158,-0.05420891092805153,1.4918185827662416,-1.124726844622321,-1.160276889128454,-1.815885096838446,0.15342969039819218,1.550598326829556,0.2197474501683362,-0.8128773277477808,0.6372434340238345,0.5706402164732105,-0.7959502516548398,0.7114564128194969,-0.381733380041855,-0.8762451254574802,0.39495110511007064,0.0009804939368298273,1.0761618317249724,0.18466593097894565,-1.3431239241579576,0.6410572260021555,-1.776934017171851,-1.8652013021519074,-0.11037286401511258,0.49461982191473397,0.2159836931037541,-0.9894954037552692,1.0296888720181843,0.004919324642563422,1.573193852011606,-0.014839678786844444,-0.950094388676654,0.8885889188498369,0.2486231614394077,2.265740662571898,-1.6061175371701175,-0.8861363719746421,0.053462340071665095,0.0556482498375347,0.5318168459142504,-0.8798981290139644,0.5742427858202375,-1.3527934392569503,1.4531258907979674,-0.5192312520648216,0.03303622891287528,0.757101307601849,-0.607351686021069,-1.4141927512221015,-0.6679557973217564,2.6669129852176447,-0.29655987552981844,-0.6393450954746018,-0.3442074457638253,-2.5294642240008076,1.6447753012195332],\"yaxis\":\"y15\",\"type\":\"scatter\"},{\"histfunc\":\"count\",\"histnorm\":\"\",\"marker\":{\"color\":\"rgba(128, 0, 128, 1.0)\",\"line\":{\"color\":\"#4D5663\",\"width\":1.3}},\"name\":\"D\",\"nbinsx\":10,\"opacity\":0.8,\"orientation\":\"v\",\"x\":[0.3132413364996825,0.5164174556087842,-1.7447372673773398,-0.528880172889918,1.033665036725101,0.873311394994029,0.8249908464050247,0.9273397491692893,-0.8215058131985827,-0.8338394535403043,0.6593856425722231,0.606812543064322,1.0366572251911874,-0.1838123154502142,-0.20255865641686507,-0.21478677434427987,0.42683648089814025,0.8075809913991108,3.588713411113252,-0.23269749284998376,1.1458371773320664,0.15350908534039004,-0.09355790030975901,-2.1551973689769155,0.6341354055616454,-1.3269834908993567,1.357070496588174,-0.863944691468353,-0.32596706926126623,-1.0305917008899146,-1.924646040143175,1.2923917923983734,1.9237844815778715,-0.48887692696949653,-0.5799400968574776,-1.8084695250653529,0.34915227891884415,0.021587918287322816,1.8738783065307074,-2.0586680039229046,-0.2924245775655203,-0.8470645847823713,0.45056001836452403,0.6348733493561158,-0.05420891092805153,1.4918185827662416,-1.124726844622321,-1.160276889128454,-1.815885096838446,0.15342969039819218,1.550598326829556,0.2197474501683362,-0.8128773277477808,0.6372434340238345,0.5706402164732105,-0.7959502516548398,0.7114564128194969,-0.381733380041855,-0.8762451254574802,0.39495110511007064,0.0009804939368298273,1.0761618317249724,0.18466593097894565,-1.3431239241579576,0.6410572260021555,-1.776934017171851,-1.8652013021519074,-0.11037286401511258,0.49461982191473397,0.2159836931037541,-0.9894954037552692,1.0296888720181843,0.004919324642563422,1.573193852011606,-0.014839678786844444,-0.950094388676654,0.8885889188498369,0.2486231614394077,2.265740662571898,-1.6061175371701175,-0.8861363719746421,0.053462340071665095,0.0556482498375347,0.5318168459142504,-0.8798981290139644,0.5742427858202375,-1.3527934392569503,1.4531258907979674,-0.5192312520648216,0.03303622891287528,0.757101307601849,-0.607351686021069,-1.4141927512221015,-0.6679557973217564,2.6669129852176447,-0.29655987552981844,-0.6393450954746018,-0.3442074457638253,-2.5294642240008076,1.6447753012195332],\"xaxis\":\"x16\",\"yaxis\":\"y16\",\"type\":\"histogram\"}],                        {\"bargap\":0.02,\"legend\":{\"bgcolor\":\"#F5F6F9\",\"font\":{\"color\":\"#4D5663\"}},\"paper_bgcolor\":\"#F5F6F9\",\"plot_bgcolor\":\"#F5F6F9\",\"showlegend\":false,\"template\":{\"data\":{\"barpolar\":[{\"marker\":{\"line\":{\"color\":\"#E5ECF6\",\"width\":0.5},\"pattern\":{\"fillmode\":\"overlay\",\"size\":10,\"solidity\":0.2}},\"type\":\"barpolar\"}],\"bar\":[{\"error_x\":{\"color\":\"#2a3f5f\"},\"error_y\":{\"color\":\"#2a3f5f\"},\"marker\":{\"line\":{\"color\":\"#E5ECF6\",\"width\":0.5},\"pattern\":{\"fillmode\":\"overlay\",\"size\":10,\"solidity\":0.2}},\"type\":\"bar\"}],\"carpet\":[{\"aaxis\":{\"endlinecolor\":\"#2a3f5f\",\"gridcolor\":\"white\",\"linecolor\":\"white\",\"minorgridcolor\":\"white\",\"startlinecolor\":\"#2a3f5f\"},\"baxis\":{\"endlinecolor\":\"#2a3f5f\",\"gridcolor\":\"white\",\"linecolor\":\"white\",\"minorgridcolor\":\"white\",\"startlinecolor\":\"#2a3f5f\"},\"type\":\"carpet\"}],\"choropleth\":[{\"colorbar\":{\"outlinewidth\":0,\"ticks\":\"\"},\"type\":\"choropleth\"}],\"contourcarpet\":[{\"colorbar\":{\"outlinewidth\":0,\"ticks\":\"\"},\"type\":\"contourcarpet\"}],\"contour\":[{\"colorbar\":{\"outlinewidth\":0,\"ticks\":\"\"},\"colorscale\":[[0.0,\"#0d0887\"],[0.1111111111111111,\"#46039f\"],[0.2222222222222222,\"#7201a8\"],[0.3333333333333333,\"#9c179e\"],[0.4444444444444444,\"#bd3786\"],[0.5555555555555556,\"#d8576b\"],[0.6666666666666666,\"#ed7953\"],[0.7777777777777778,\"#fb9f3a\"],[0.8888888888888888,\"#fdca26\"],[1.0,\"#f0f921\"]],\"type\":\"contour\"}],\"heatmapgl\":[{\"colorbar\":{\"outlinewidth\":0,\"ticks\":\"\"},\"colorscale\":[[0.0,\"#0d0887\"],[0.1111111111111111,\"#46039f\"],[0.2222222222222222,\"#7201a8\"],[0.3333333333333333,\"#9c179e\"],[0.4444444444444444,\"#bd3786\"],[0.5555555555555556,\"#d8576b\"],[0.6666666666666666,\"#ed7953\"],[0.7777777777777778,\"#fb9f3a\"],[0.8888888888888888,\"#fdca26\"],[1.0,\"#f0f921\"]],\"type\":\"heatmapgl\"}],\"heatmap\":[{\"colorbar\":{\"outlinewidth\":0,\"ticks\":\"\"},\"colorscale\":[[0.0,\"#0d0887\"],[0.1111111111111111,\"#46039f\"],[0.2222222222222222,\"#7201a8\"],[0.3333333333333333,\"#9c179e\"],[0.4444444444444444,\"#bd3786\"],[0.5555555555555556,\"#d8576b\"],[0.6666666666666666,\"#ed7953\"],[0.7777777777777778,\"#fb9f3a\"],[0.8888888888888888,\"#fdca26\"],[1.0,\"#f0f921\"]],\"type\":\"heatmap\"}],\"histogram2dcontour\":[{\"colorbar\":{\"outlinewidth\":0,\"ticks\":\"\"},\"colorscale\":[[0.0,\"#0d0887\"],[0.1111111111111111,\"#46039f\"],[0.2222222222222222,\"#7201a8\"],[0.3333333333333333,\"#9c179e\"],[0.4444444444444444,\"#bd3786\"],[0.5555555555555556,\"#d8576b\"],[0.6666666666666666,\"#ed7953\"],[0.7777777777777778,\"#fb9f3a\"],[0.8888888888888888,\"#fdca26\"],[1.0,\"#f0f921\"]],\"type\":\"histogram2dcontour\"}],\"histogram2d\":[{\"colorbar\":{\"outlinewidth\":0,\"ticks\":\"\"},\"colorscale\":[[0.0,\"#0d0887\"],[0.1111111111111111,\"#46039f\"],[0.2222222222222222,\"#7201a8\"],[0.3333333333333333,\"#9c179e\"],[0.4444444444444444,\"#bd3786\"],[0.5555555555555556,\"#d8576b\"],[0.6666666666666666,\"#ed7953\"],[0.7777777777777778,\"#fb9f3a\"],[0.8888888888888888,\"#fdca26\"],[1.0,\"#f0f921\"]],\"type\":\"histogram2d\"}],\"histogram\":[{\"marker\":{\"pattern\":{\"fillmode\":\"overlay\",\"size\":10,\"solidity\":0.2}},\"type\":\"histogram\"}],\"mesh3d\":[{\"colorbar\":{\"outlinewidth\":0,\"ticks\":\"\"},\"type\":\"mesh3d\"}],\"parcoords\":[{\"line\":{\"colorbar\":{\"outlinewidth\":0,\"ticks\":\"\"}},\"type\":\"parcoords\"}],\"pie\":[{\"automargin\":true,\"type\":\"pie\"}],\"scatter3d\":[{\"line\":{\"colorbar\":{\"outlinewidth\":0,\"ticks\":\"\"}},\"marker\":{\"colorbar\":{\"outlinewidth\":0,\"ticks\":\"\"}},\"type\":\"scatter3d\"}],\"scattercarpet\":[{\"marker\":{\"colorbar\":{\"outlinewidth\":0,\"ticks\":\"\"}},\"type\":\"scattercarpet\"}],\"scattergeo\":[{\"marker\":{\"colorbar\":{\"outlinewidth\":0,\"ticks\":\"\"}},\"type\":\"scattergeo\"}],\"scattergl\":[{\"marker\":{\"colorbar\":{\"outlinewidth\":0,\"ticks\":\"\"}},\"type\":\"scattergl\"}],\"scattermapbox\":[{\"marker\":{\"colorbar\":{\"outlinewidth\":0,\"ticks\":\"\"}},\"type\":\"scattermapbox\"}],\"scatterpolargl\":[{\"marker\":{\"colorbar\":{\"outlinewidth\":0,\"ticks\":\"\"}},\"type\":\"scatterpolargl\"}],\"scatterpolar\":[{\"marker\":{\"colorbar\":{\"outlinewidth\":0,\"ticks\":\"\"}},\"type\":\"scatterpolar\"}],\"scatter\":[{\"fillpattern\":{\"fillmode\":\"overlay\",\"size\":10,\"solidity\":0.2},\"type\":\"scatter\"}],\"scatterternary\":[{\"marker\":{\"colorbar\":{\"outlinewidth\":0,\"ticks\":\"\"}},\"type\":\"scatterternary\"}],\"surface\":[{\"colorbar\":{\"outlinewidth\":0,\"ticks\":\"\"},\"colorscale\":[[0.0,\"#0d0887\"],[0.1111111111111111,\"#46039f\"],[0.2222222222222222,\"#7201a8\"],[0.3333333333333333,\"#9c179e\"],[0.4444444444444444,\"#bd3786\"],[0.5555555555555556,\"#d8576b\"],[0.6666666666666666,\"#ed7953\"],[0.7777777777777778,\"#fb9f3a\"],[0.8888888888888888,\"#fdca26\"],[1.0,\"#f0f921\"]],\"type\":\"surface\"}],\"table\":[{\"cells\":{\"fill\":{\"color\":\"#EBF0F8\"},\"line\":{\"color\":\"white\"}},\"header\":{\"fill\":{\"color\":\"#C8D4E3\"},\"line\":{\"color\":\"white\"}},\"type\":\"table\"}]},\"layout\":{\"annotationdefaults\":{\"arrowcolor\":\"#2a3f5f\",\"arrowhead\":0,\"arrowwidth\":1},\"autotypenumbers\":\"strict\",\"coloraxis\":{\"colorbar\":{\"outlinewidth\":0,\"ticks\":\"\"}},\"colorscale\":{\"diverging\":[[0,\"#8e0152\"],[0.1,\"#c51b7d\"],[0.2,\"#de77ae\"],[0.3,\"#f1b6da\"],[0.4,\"#fde0ef\"],[0.5,\"#f7f7f7\"],[0.6,\"#e6f5d0\"],[0.7,\"#b8e186\"],[0.8,\"#7fbc41\"],[0.9,\"#4d9221\"],[1,\"#276419\"]],\"sequential\":[[0.0,\"#0d0887\"],[0.1111111111111111,\"#46039f\"],[0.2222222222222222,\"#7201a8\"],[0.3333333333333333,\"#9c179e\"],[0.4444444444444444,\"#bd3786\"],[0.5555555555555556,\"#d8576b\"],[0.6666666666666666,\"#ed7953\"],[0.7777777777777778,\"#fb9f3a\"],[0.8888888888888888,\"#fdca26\"],[1.0,\"#f0f921\"]],\"sequentialminus\":[[0.0,\"#0d0887\"],[0.1111111111111111,\"#46039f\"],[0.2222222222222222,\"#7201a8\"],[0.3333333333333333,\"#9c179e\"],[0.4444444444444444,\"#bd3786\"],[0.5555555555555556,\"#d8576b\"],[0.6666666666666666,\"#ed7953\"],[0.7777777777777778,\"#fb9f3a\"],[0.8888888888888888,\"#fdca26\"],[1.0,\"#f0f921\"]]},\"colorway\":[\"#636efa\",\"#EF553B\",\"#00cc96\",\"#ab63fa\",\"#FFA15A\",\"#19d3f3\",\"#FF6692\",\"#B6E880\",\"#FF97FF\",\"#FECB52\"],\"font\":{\"color\":\"#2a3f5f\"},\"geo\":{\"bgcolor\":\"white\",\"lakecolor\":\"white\",\"landcolor\":\"#E5ECF6\",\"showlakes\":true,\"showland\":true,\"subunitcolor\":\"white\"},\"hoverlabel\":{\"align\":\"left\"},\"hovermode\":\"closest\",\"mapbox\":{\"style\":\"light\"},\"paper_bgcolor\":\"white\",\"plot_bgcolor\":\"#E5ECF6\",\"polar\":{\"angularaxis\":{\"gridcolor\":\"white\",\"linecolor\":\"white\",\"ticks\":\"\"},\"bgcolor\":\"#E5ECF6\",\"radialaxis\":{\"gridcolor\":\"white\",\"linecolor\":\"white\",\"ticks\":\"\"}},\"scene\":{\"xaxis\":{\"backgroundcolor\":\"#E5ECF6\",\"gridcolor\":\"white\",\"gridwidth\":2,\"linecolor\":\"white\",\"showbackground\":true,\"ticks\":\"\",\"zerolinecolor\":\"white\"},\"yaxis\":{\"backgroundcolor\":\"#E5ECF6\",\"gridcolor\":\"white\",\"gridwidth\":2,\"linecolor\":\"white\",\"showbackground\":true,\"ticks\":\"\",\"zerolinecolor\":\"white\"},\"zaxis\":{\"backgroundcolor\":\"#E5ECF6\",\"gridcolor\":\"white\",\"gridwidth\":2,\"linecolor\":\"white\",\"showbackground\":true,\"ticks\":\"\",\"zerolinecolor\":\"white\"}},\"shapedefaults\":{\"line\":{\"color\":\"#2a3f5f\"}},\"ternary\":{\"aaxis\":{\"gridcolor\":\"white\",\"linecolor\":\"white\",\"ticks\":\"\"},\"baxis\":{\"gridcolor\":\"white\",\"linecolor\":\"white\",\"ticks\":\"\"},\"bgcolor\":\"#E5ECF6\",\"caxis\":{\"gridcolor\":\"white\",\"linecolor\":\"white\",\"ticks\":\"\"}},\"title\":{\"x\":0.05},\"xaxis\":{\"automargin\":true,\"gridcolor\":\"white\",\"linecolor\":\"white\",\"ticks\":\"\",\"title\":{\"standoff\":15},\"zerolinecolor\":\"white\",\"zerolinewidth\":2},\"yaxis\":{\"automargin\":true,\"gridcolor\":\"white\",\"linecolor\":\"white\",\"ticks\":\"\",\"title\":{\"standoff\":15},\"zerolinecolor\":\"white\",\"zerolinewidth\":2}}},\"title\":{\"font\":{\"color\":\"#4D5663\"}},\"xaxis\":{\"anchor\":\"y\",\"domain\":[0.0,0.2125],\"gridcolor\":\"#E1E5ED\",\"showgrid\":false,\"tickfont\":{\"color\":\"#4D5663\"},\"title\":{\"font\":{\"color\":\"#4D5663\"},\"text\":\"\"},\"zerolinecolor\":\"#E1E5ED\"},\"yaxis\":{\"anchor\":\"x\",\"domain\":[0.8025,1.0],\"gridcolor\":\"#E1E5ED\",\"showgrid\":false,\"tickfont\":{\"color\":\"#4D5663\"},\"title\":{\"font\":{\"color\":\"#4D5663\"},\"text\":\"\"},\"zerolinecolor\":\"#E1E5ED\"},\"xaxis2\":{\"anchor\":\"y2\",\"domain\":[0.2625,0.475],\"gridcolor\":\"#E1E5ED\",\"showgrid\":false,\"tickfont\":{\"color\":\"#4D5663\"},\"title\":{\"font\":{\"color\":\"#4D5663\"},\"text\":\"\"},\"zerolinecolor\":\"#E1E5ED\"},\"yaxis2\":{\"anchor\":\"x2\",\"domain\":[0.8025,1.0],\"gridcolor\":\"#E1E5ED\",\"showgrid\":false,\"tickfont\":{\"color\":\"#4D5663\"},\"title\":{\"font\":{\"color\":\"#4D5663\"},\"text\":\"\"},\"zerolinecolor\":\"#E1E5ED\"},\"xaxis3\":{\"anchor\":\"y3\",\"domain\":[0.525,0.7375],\"gridcolor\":\"#E1E5ED\",\"showgrid\":false,\"tickfont\":{\"color\":\"#4D5663\"},\"title\":{\"font\":{\"color\":\"#4D5663\"},\"text\":\"\"},\"zerolinecolor\":\"#E1E5ED\"},\"yaxis3\":{\"anchor\":\"x3\",\"domain\":[0.8025,1.0],\"gridcolor\":\"#E1E5ED\",\"showgrid\":false,\"tickfont\":{\"color\":\"#4D5663\"},\"title\":{\"font\":{\"color\":\"#4D5663\"},\"text\":\"\"},\"zerolinecolor\":\"#E1E5ED\"},\"xaxis4\":{\"anchor\":\"y4\",\"domain\":[0.7875,1.0],\"gridcolor\":\"#E1E5ED\",\"showgrid\":false,\"tickfont\":{\"color\":\"#4D5663\"},\"title\":{\"font\":{\"color\":\"#4D5663\"},\"text\":\"\"},\"zerolinecolor\":\"#E1E5ED\"},\"yaxis4\":{\"anchor\":\"x4\",\"domain\":[0.8025,1.0],\"gridcolor\":\"#E1E5ED\",\"showgrid\":false,\"tickfont\":{\"color\":\"#4D5663\"},\"title\":{\"font\":{\"color\":\"#4D5663\"},\"text\":\"\"},\"zerolinecolor\":\"#E1E5ED\"},\"xaxis5\":{\"anchor\":\"y5\",\"domain\":[0.0,0.2125],\"gridcolor\":\"#E1E5ED\",\"showgrid\":false,\"tickfont\":{\"color\":\"#4D5663\"},\"title\":{\"font\":{\"color\":\"#4D5663\"},\"text\":\"\"},\"zerolinecolor\":\"#E1E5ED\"},\"yaxis5\":{\"anchor\":\"x5\",\"domain\":[0.535,0.7325],\"gridcolor\":\"#E1E5ED\",\"showgrid\":false,\"tickfont\":{\"color\":\"#4D5663\"},\"title\":{\"font\":{\"color\":\"#4D5663\"},\"text\":\"\"},\"zerolinecolor\":\"#E1E5ED\"},\"xaxis6\":{\"anchor\":\"y6\",\"domain\":[0.2625,0.475],\"gridcolor\":\"#E1E5ED\",\"showgrid\":false,\"tickfont\":{\"color\":\"#4D5663\"},\"title\":{\"font\":{\"color\":\"#4D5663\"},\"text\":\"\"},\"zerolinecolor\":\"#E1E5ED\"},\"yaxis6\":{\"anchor\":\"x6\",\"domain\":[0.535,0.7325],\"gridcolor\":\"#E1E5ED\",\"showgrid\":false,\"tickfont\":{\"color\":\"#4D5663\"},\"title\":{\"font\":{\"color\":\"#4D5663\"},\"text\":\"\"},\"zerolinecolor\":\"#E1E5ED\"},\"xaxis7\":{\"anchor\":\"y7\",\"domain\":[0.525,0.7375],\"gridcolor\":\"#E1E5ED\",\"showgrid\":false,\"tickfont\":{\"color\":\"#4D5663\"},\"title\":{\"font\":{\"color\":\"#4D5663\"},\"text\":\"\"},\"zerolinecolor\":\"#E1E5ED\"},\"yaxis7\":{\"anchor\":\"x7\",\"domain\":[0.535,0.7325],\"gridcolor\":\"#E1E5ED\",\"showgrid\":false,\"tickfont\":{\"color\":\"#4D5663\"},\"title\":{\"font\":{\"color\":\"#4D5663\"},\"text\":\"\"},\"zerolinecolor\":\"#E1E5ED\"},\"xaxis8\":{\"anchor\":\"y8\",\"domain\":[0.7875,1.0],\"gridcolor\":\"#E1E5ED\",\"showgrid\":false,\"tickfont\":{\"color\":\"#4D5663\"},\"title\":{\"font\":{\"color\":\"#4D5663\"},\"text\":\"\"},\"zerolinecolor\":\"#E1E5ED\"},\"yaxis8\":{\"anchor\":\"x8\",\"domain\":[0.535,0.7325],\"gridcolor\":\"#E1E5ED\",\"showgrid\":false,\"tickfont\":{\"color\":\"#4D5663\"},\"title\":{\"font\":{\"color\":\"#4D5663\"},\"text\":\"\"},\"zerolinecolor\":\"#E1E5ED\"},\"xaxis9\":{\"anchor\":\"y9\",\"domain\":[0.0,0.2125],\"gridcolor\":\"#E1E5ED\",\"showgrid\":false,\"tickfont\":{\"color\":\"#4D5663\"},\"title\":{\"font\":{\"color\":\"#4D5663\"},\"text\":\"\"},\"zerolinecolor\":\"#E1E5ED\"},\"yaxis9\":{\"anchor\":\"x9\",\"domain\":[0.2675,0.465],\"gridcolor\":\"#E1E5ED\",\"showgrid\":false,\"tickfont\":{\"color\":\"#4D5663\"},\"title\":{\"font\":{\"color\":\"#4D5663\"},\"text\":\"\"},\"zerolinecolor\":\"#E1E5ED\"},\"xaxis10\":{\"anchor\":\"y10\",\"domain\":[0.2625,0.475],\"gridcolor\":\"#E1E5ED\",\"showgrid\":false,\"tickfont\":{\"color\":\"#4D5663\"},\"title\":{\"font\":{\"color\":\"#4D5663\"},\"text\":\"\"},\"zerolinecolor\":\"#E1E5ED\"},\"yaxis10\":{\"anchor\":\"x10\",\"domain\":[0.2675,0.465],\"gridcolor\":\"#E1E5ED\",\"showgrid\":false,\"tickfont\":{\"color\":\"#4D5663\"},\"title\":{\"font\":{\"color\":\"#4D5663\"},\"text\":\"\"},\"zerolinecolor\":\"#E1E5ED\"},\"xaxis11\":{\"anchor\":\"y11\",\"domain\":[0.525,0.7375],\"gridcolor\":\"#E1E5ED\",\"showgrid\":false,\"tickfont\":{\"color\":\"#4D5663\"},\"title\":{\"font\":{\"color\":\"#4D5663\"},\"text\":\"\"},\"zerolinecolor\":\"#E1E5ED\"},\"yaxis11\":{\"anchor\":\"x11\",\"domain\":[0.2675,0.465],\"gridcolor\":\"#E1E5ED\",\"showgrid\":false,\"tickfont\":{\"color\":\"#4D5663\"},\"title\":{\"font\":{\"color\":\"#4D5663\"},\"text\":\"\"},\"zerolinecolor\":\"#E1E5ED\"},\"xaxis12\":{\"anchor\":\"y12\",\"domain\":[0.7875,1.0],\"gridcolor\":\"#E1E5ED\",\"showgrid\":false,\"tickfont\":{\"color\":\"#4D5663\"},\"title\":{\"font\":{\"color\":\"#4D5663\"},\"text\":\"\"},\"zerolinecolor\":\"#E1E5ED\"},\"yaxis12\":{\"anchor\":\"x12\",\"domain\":[0.2675,0.465],\"gridcolor\":\"#E1E5ED\",\"showgrid\":false,\"tickfont\":{\"color\":\"#4D5663\"},\"title\":{\"font\":{\"color\":\"#4D5663\"},\"text\":\"\"},\"zerolinecolor\":\"#E1E5ED\"},\"xaxis13\":{\"anchor\":\"y13\",\"domain\":[0.0,0.2125],\"gridcolor\":\"#E1E5ED\",\"showgrid\":false,\"tickfont\":{\"color\":\"#4D5663\"},\"title\":{\"font\":{\"color\":\"#4D5663\"},\"text\":\"\"},\"zerolinecolor\":\"#E1E5ED\"},\"yaxis13\":{\"anchor\":\"x13\",\"domain\":[0.0,0.1975],\"gridcolor\":\"#E1E5ED\",\"showgrid\":false,\"tickfont\":{\"color\":\"#4D5663\"},\"title\":{\"font\":{\"color\":\"#4D5663\"},\"text\":\"\"},\"zerolinecolor\":\"#E1E5ED\"},\"xaxis14\":{\"anchor\":\"y14\",\"domain\":[0.2625,0.475],\"gridcolor\":\"#E1E5ED\",\"showgrid\":false,\"tickfont\":{\"color\":\"#4D5663\"},\"title\":{\"font\":{\"color\":\"#4D5663\"},\"text\":\"\"},\"zerolinecolor\":\"#E1E5ED\"},\"yaxis14\":{\"anchor\":\"x14\",\"domain\":[0.0,0.1975],\"gridcolor\":\"#E1E5ED\",\"showgrid\":false,\"tickfont\":{\"color\":\"#4D5663\"},\"title\":{\"font\":{\"color\":\"#4D5663\"},\"text\":\"\"},\"zerolinecolor\":\"#E1E5ED\"},\"xaxis15\":{\"anchor\":\"y15\",\"domain\":[0.525,0.7375],\"gridcolor\":\"#E1E5ED\",\"showgrid\":false,\"tickfont\":{\"color\":\"#4D5663\"},\"title\":{\"font\":{\"color\":\"#4D5663\"},\"text\":\"\"},\"zerolinecolor\":\"#E1E5ED\"},\"yaxis15\":{\"anchor\":\"x15\",\"domain\":[0.0,0.1975],\"gridcolor\":\"#E1E5ED\",\"showgrid\":false,\"tickfont\":{\"color\":\"#4D5663\"},\"title\":{\"font\":{\"color\":\"#4D5663\"},\"text\":\"\"},\"zerolinecolor\":\"#E1E5ED\"},\"xaxis16\":{\"anchor\":\"y16\",\"domain\":[0.7875,1.0],\"gridcolor\":\"#E1E5ED\",\"showgrid\":false,\"tickfont\":{\"color\":\"#4D5663\"},\"title\":{\"font\":{\"color\":\"#4D5663\"},\"text\":\"\"},\"zerolinecolor\":\"#E1E5ED\"},\"yaxis16\":{\"anchor\":\"x16\",\"domain\":[0.0,0.1975],\"gridcolor\":\"#E1E5ED\",\"showgrid\":false,\"tickfont\":{\"color\":\"#4D5663\"},\"title\":{\"font\":{\"color\":\"#4D5663\"},\"text\":\"\"},\"zerolinecolor\":\"#E1E5ED\"}},                        {\"showLink\": true, \"linkText\": \"Export to plot.ly\", \"plotlyServerURL\": \"https://plot.ly\", \"responsive\": true}                    ).then(function(){\n",
       "                            \n",
       "var gd = document.getElementById('a8c2e57c-c34d-414a-b232-a321a97f2102');\n",
       "var x = new MutationObserver(function (mutations, observer) {{\n",
       "        var display = window.getComputedStyle(gd).display;\n",
       "        if (!display || display === 'none') {{\n",
       "            console.log([gd, 'removed!']);\n",
       "            Plotly.purge(gd);\n",
       "            observer.disconnect();\n",
       "        }}\n",
       "}});\n",
       "\n",
       "// Listen for the removal of the full notebook cells\n",
       "var notebookContainer = gd.closest('#notebook-container');\n",
       "if (notebookContainer) {{\n",
       "    x.observe(notebookContainer, {childList: true});\n",
       "}}\n",
       "\n",
       "// Listen for the clearing of the current output cell\n",
       "var outputEl = gd.closest('.output');\n",
       "if (outputEl) {{\n",
       "    x.observe(outputEl, {childList: true});\n",
       "}}\n",
       "\n",
       "                        })                };                });            </script>        </div>"
      ]
     },
     "metadata": {},
     "output_type": "display_data"
    }
   ],
   "source": [
    "df.scatter_matrix()"
   ]
  }
 ],
 "metadata": {
  "kernelspec": {
   "display_name": "Python 3",
   "language": "python",
   "name": "python3"
  },
  "language_info": {
   "codemirror_mode": {
    "name": "ipython",
    "version": 3
   },
   "file_extension": ".py",
   "mimetype": "text/x-python",
   "name": "python",
   "nbconvert_exporter": "python",
   "pygments_lexer": "ipython3",
   "version": "3.12.1"
  }
 },
 "nbformat": 4,
 "nbformat_minor": 2
}
